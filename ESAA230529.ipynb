{
  "nbformat": 4,
  "nbformat_minor": 0,
  "metadata": {
    "colab": {
      "provenance": [],
      "authorship_tag": "ABX9TyM98cNPT9g9vXXyQ4XVYw2I",
      "include_colab_link": true
    },
    "kernelspec": {
      "name": "python3",
      "display_name": "Python 3"
    },
    "language_info": {
      "name": "python"
    }
  },
  "cells": [
    {
      "cell_type": "markdown",
      "metadata": {
        "id": "view-in-github",
        "colab_type": "text"
      },
      "source": [
        "<a href=\"https://colab.research.google.com/github/min207/2023-1-ESAA/blob/main/ESAA230529.ipynb\" target=\"_parent\"><img src=\"https://colab.research.google.com/assets/colab-badge.svg\" alt=\"Open In Colab\"/></a>"
      ]
    },
    {
      "cell_type": "markdown",
      "source": [
        "## **01. 합성곱 신경망**\n",
        "- 합성곱 신경망(CNN): 데이터가 가진 특징들의 패턴을 학습하는 알고리즘으로 컴퓨터 비전 분야에 많이 사용됨\n",
        "  + 이미지 분류, 객체 탐지, 스타일 전이 등\n",
        "\n",
        "----\n",
        "### **1-1. 이미지 표현**\n",
        "- 이미지를 컴퓨터가 이해할 수 있게 하려면 숫자로 표현해야함 \n",
        "  + 0~255 사이의 숫자로 각 픽셀의 화소 값을 나타내는 방식으로 표현 가능\n",
        "  + 0은 검은색, 255는 흰색, 중간은 회색으로 표현\n",
        "  + 화소를 나타내는 숫자는 이미지의 강도를 나타내며, 숫자가 클수록 강한 특성을 가짐\n",
        "\n",
        "----\n",
        "### **1-2. 합성곱**\n",
        "- 합성곱: 입력 이미지에 대하여 일반적으로 정방형 크기를 가지는 커널을 사용하여 입력 이미지에 대한 특성을 추출하는 연산 방법\n",
        "- 특성맵: 합성곱 연산을 통해서 추출된 이미지\n",
        "- 입력 이미지의 좌측 상단부터 커널과 같은 크기를 갖도록 입력 이미지의 일부분에 커널이 겹치도록 투영하여 겹치는 부분에 대해 합성곱 연산 수행\n",
        "\n",
        "----\n",
        "### **1-3. 채널**\n",
        "- 채널: 입력 이미지를 구성하는 2차원 배열의 개수\n",
        "  + 흑백 이미지는 단일 채널\n",
        "  + 컬러 이미지는 R,G,B 총 3개의 채널을 가짐\n",
        "- 입력 이미지가 여러 개의 채널을 갖는 경우, 합성곱 연산을 수행할 때 특성맵의 생성과정을 잘 살펴야함\n",
        "  + 입력 이미지의 채널 개수만큼 커널이 생성되고, 채널마다 하나씩 커널을 적용하여 합성곱 연산 수행\n",
        "  + 입력 이미지의 채널 개수만큼 합성곱 연산된 결과가 생성되고, element-wise 덧셈 연산으로 모두 더해주면 최종 특성맵 생성\n",
        "\n",
        "----\n",
        "### **1-4. 스트라이드**\n",
        "- 스트라이드: 커널이 좌측 상단으로부터 입력 이미지를 기준으로 우측으로 이동하면서 합성곱 연산을 계속 수행하고 특성맵에 결과를 채워나가는 과정에서 이동하는 간격\n",
        "  + 1 또는 2로 설정\n",
        "  + 2로 설정 시 특성맵의 크기가 절반으로 줄어들음\n",
        "- 텐서플로 케라스에서 제공하는 Conv2D ㄹ이어의 strides 매개변수로 지정\n",
        "\n",
        "----\n",
        "### **1-5. 패딩**\n",
        "- 패딩: 추출된 특성맵의 크기가 입력 이미지 대비 줄어들지 않도록 설정하는 값\n",
        "- 일반적으로는 zero-padding을 사용하며, 패딩을 적용한 후 합성곱 연산을 수행하면 특성맵의 크기가 줄어들지 않음\n",
        "- 텐서플로 케라스의 Conv2D 레이어에서 padding = 'same'으로 설정하면 zero-padding 적용 \n",
        "\n",
        "----\n",
        "### **1-6. 특성맵 사이즈**\n",
        "- 패딩과 스트라이드를 적용하고, 입력 데이터와 필터의 크기가 주어졌을 때의 출력 데이터 크기 계산식\n",
        "$$(Output Height, Output Width) = ( (Image Height + 2P - Kernel Height) / S + 1, (Image Width + 2P - Kernel Width) / S + 1 )$$\n",
        "  * Image Height, Image Width : 입력 크기(input size)\n",
        "  * Kernel Height, Kernel Width : 필터 크기(kernel size)\n",
        "  * S : 스트라이드(strides)\n",
        "  * P : 패딩(padding)\n",
        "  * Output Height, Output Width : 출력 크기(output size)\n",
        "\n",
        "----\n",
        "### **1-7. 풀링**\n",
        "- 풀링: 추출된 특성맵에 대해 다운 샘플링하여 이미지의 크기를 축소하는 레이어\n",
        "  + 이미지 축소를 통해 연산량을 감소시키고 과대적합을 방지한다는 장점이 있음\n",
        "\n",
        "\n",
        "\n",
        "----\n",
        "## **02. 간단한 모델 생성**\n",
        "- 케라스 모델을 구성할 때 사용한 mnist 손글씨 데이터셋을 이용해 간단한 구조의 합성곱 신경망 모델 생성 \n",
        "\n",
        "----\n",
        "### **2-1. 데이터 로드 및 전처리**"
      ],
      "metadata": {
        "id": "ndsY8T2C9_Bg"
      }
    },
    {
      "cell_type": "code",
      "execution_count": 2,
      "metadata": {
        "id": "I5n--re58ffP"
      },
      "outputs": [],
      "source": [
        "# tensorflow 모듈 import\n",
        "import tensorflow as tf"
      ]
    },
    {
      "cell_type": "code",
      "source": [
        "# mnist 손글씨 이미지 데이터 로드\n",
        "mnist = tf.keras.datasets.mnist\n",
        "(x_train, y_train),(x_valid, y_valid)=mnist.load_data()\n",
        "\n",
        "print(x_train.shape, y_train.shape)\n",
        "print(x_valid.shape, y_valid.shape)"
      ],
      "metadata": {
        "colab": {
          "base_uri": "https://localhost:8080/"
        },
        "id": "w83WJdyy8wQN",
        "outputId": "e93a36ab-5694-4d59-fba0-812c1d8e51a2"
      },
      "execution_count": 3,
      "outputs": [
        {
          "output_type": "stream",
          "name": "stdout",
          "text": [
            "Downloading data from https://storage.googleapis.com/tensorflow/tf-keras-datasets/mnist.npz\n",
            "11490434/11490434 [==============================] - 1s 0us/step\n",
            "(60000, 28, 28) (60000,)\n",
            "(10000, 28, 28) (10000,)\n"
          ]
        }
      ]
    },
    {
      "cell_type": "code",
      "source": [
        "# 샘플 이미지 출력\n",
        "import matplotlib.pylab as plt\n",
        "\n",
        "def plot_image(data, idx):\n",
        "  plt.figure(figsize=(5,5))\n",
        "  plt.imshow(data[idx], cmap='gray')\n",
        "  plt.axis('off')\n",
        "  plt.show()\n",
        "\n",
        "plot_image(x_train, 0)"
      ],
      "metadata": {
        "colab": {
          "base_uri": "https://localhost:8080/",
          "height": 422
        },
        "id": "ynTKPcRT8xik",
        "outputId": "1810e038-5866-44d3-f63e-8880f7fb186e"
      },
      "execution_count": 4,
      "outputs": [
        {
          "output_type": "display_data",
          "data": {
            "text/plain": [
              "<Figure size 500x500 with 1 Axes>"
            ],
            "image/png": "[encoded data removed]"
          },
          "metadata": {}
        }
      ]
    },
    {
      "cell_type": "code",
      "source": [
        "print(x_train.min(), x_train.max())\n",
        "print(x_valid.min(), x_valid.max())"
      ],
      "metadata": {
        "colab": {
          "base_uri": "https://localhost:8080/"
        },
        "id": "TrQHY38n8yjy",
        "outputId": "7b1f0434-6845-4811-d97f-77f8ac2584f4"
      },
      "execution_count": 5,
      "outputs": [
        {
          "output_type": "stream",
          "name": "stdout",
          "text": [
            "0 255\n",
            "0 255\n"
          ]
        }
      ]
    },
    {
      "cell_type": "markdown",
      "source": [
        "- 이미지 픽셀이 0~255 범위의 숫자로 구성된 것을 확인 "
      ],
      "metadata": {
        "id": "wgGu3bYPBCeg"
      }
    },
    {
      "cell_type": "code",
      "source": [
        "# 정규화(Normalization)\n",
        "x_train = x_train/255.0\n",
        "x_valid=x_valid/255.0\n",
        "\n",
        "print(x_train.min(), x_train.max())\n",
        "print(x_valid.min(), x_valid.max())"
      ],
      "metadata": {
        "colab": {
          "base_uri": "https://localhost:8080/"
        },
        "id": "UYZLPBmT80U_",
        "outputId": "9e2809f0-4dc4-4fe4-9208-512047833609"
      },
      "execution_count": 6,
      "outputs": [
        {
          "output_type": "stream",
          "name": "stdout",
          "text": [
            "0.0 1.0\n",
            "0.0 1.0\n"
          ]
        }
      ]
    },
    {
      "cell_type": "markdown",
      "source": [
        "- 0~1 범위로 스케일 정규화 \n",
        "\n",
        "- mnist 데이터셋은 색상을 나타내는 채널이 1개인 모노 컬러 이미지로 구성되므로 CNN 모델에 주입하기 위해 색상을 나타내는 채널 추가 "
      ],
      "metadata": {
        "id": "xyeu9KpmBGqs"
      }
    },
    {
      "cell_type": "code",
      "source": [
        "# 채널 추가\n",
        "print(x_train.shape, x_valid.shape)\n",
        "\n",
        "x_train_in = x_train[..., tf.newaxis]\n",
        "x_valid_in = x_valid[..., tf.newaxis]\n",
        "\n",
        "print(x_train.shape, x_valid.shape)"
      ],
      "metadata": {
        "colab": {
          "base_uri": "https://localhost:8080/"
        },
        "id": "Opl1_YUW81qE",
        "outputId": "4d57cb63-4216-46cf-a360-f5397c030468"
      },
      "execution_count": 7,
      "outputs": [
        {
          "output_type": "stream",
          "name": "stdout",
          "text": [
            "(60000, 28, 28) (10000, 28, 28)\n",
            "(60000, 28, 28) (10000, 28, 28)\n"
          ]
        }
      ]
    },
    {
      "cell_type": "markdown",
      "source": [
        "----\n",
        "### **2-2. Sequential API로 모델 생성 및 학습**\n",
        "- 합성곱 레이어 1개, 풀링 레이어 1개를 적용하는 간단한 모델 생성\n",
        "- Flatten 층을 추가하여 1차원 배열로 펼침\n",
        "- 합성곱은 Conv2D 레이어를 사용하고, (3, 3) 크기의 서로 다른 32가지 종류의 커널 적용, ReLU 활성화 함수 적용 \n",
        "- 풀링 레이어는 (2, 2) 크기로 최대 풀링 적용\n",
        "- 최종 분류기는 정답 레이블이 10개의 값을 가지므로 10개의 노드 개수를 지정, 활성화 함수로 softmax 적용 "
      ],
      "metadata": {
        "id": "9AUm-F1rBREq"
      }
    },
    {
      "cell_type": "code",
      "source": [
        "# Sequential API를 사용해 샘플 모델 생성\n",
        "model=tf.keras.Sequential([\n",
        "    #Convolution 적용 (32 filters)\n",
        "    tf.keras.layers.Conv2D(32, (3, 3), activation='relu', # (3,3) 크기의 서로 다른 32가지 종류 커널\n",
        "                           input_shape=(28, 28, 1), name='conv'),\n",
        "    #max pooling 적용\n",
        "    tf.keras.layers.MaxPooling2D((2,2), name='pool'),\n",
        "    #classifier 출력층\n",
        "    tf.keras.layers.Flatten(),    # 1차원 배열로 펼쳐준다\n",
        "    tf.keras.layers.Dense(10, activation='softmax')   # 다중 분류 문제\n",
        "])"
      ],
      "metadata": {
        "id": "VkLzGHPo829R"
      },
      "execution_count": 8,
      "outputs": []
    },
    {
      "cell_type": "markdown",
      "source": [
        "- epoch는 10으로 지정"
      ],
      "metadata": {
        "id": "tGuq2egzBuJQ"
      }
    },
    {
      "cell_type": "code",
      "source": [
        "# 모델 컴파일\n",
        "model.compile(optimizer='adam', loss='sparse_categorical_crossentropy', metrics=['accuracy'])\n",
        "\n",
        "# 모델 훈련\n",
        "history=model.fit(x_train_in, y_train, validation_data=(x_valid_in, y_valid), epochs=10)"
      ],
      "metadata": {
        "colab": {
          "base_uri": "https://localhost:8080/"
        },
        "id": "B0ZKU5XT83s1",
        "outputId": "d6042b13-d968-46e5-d19f-4b83a1fc6394"
      },
      "execution_count": 9,
      "outputs": [
        {
          "output_type": "stream",
          "name": "stdout",
          "text": [
            "Epoch 1/10\n",
            "1875/1875 [==============================] - 31s 16ms/step - loss: 0.2122 - accuracy: 0.9392 - val_loss: 0.0905 - val_accuracy: 0.9737\n",
            "Epoch 2/10\n",
            "1875/1875 [==============================] - 32s 17ms/step - loss: 0.0810 - accuracy: 0.9768 - val_loss: 0.0688 - val_accuracy: 0.9773\n",
            "Epoch 3/10\n",
            "1875/1875 [==============================] - 36s 19ms/step - loss: 0.0608 - accuracy: 0.9821 - val_loss: 0.0605 - val_accuracy: 0.9810\n",
            "Epoch 4/10\n",
            "1875/1875 [==============================] - 38s 20ms/step - loss: 0.0505 - accuracy: 0.9848 - val_loss: 0.0578 - val_accuracy: 0.9818\n",
            "Epoch 5/10\n",
            "1875/1875 [==============================] - 34s 18ms/step - loss: 0.0420 - accuracy: 0.9875 - val_loss: 0.0518 - val_accuracy: 0.9824\n",
            "Epoch 6/10\n",
            "1875/1875 [==============================] - 36s 19ms/step - loss: 0.0361 - accuracy: 0.9890 - val_loss: 0.0546 - val_accuracy: 0.9817\n",
            "Epoch 7/10\n",
            "1875/1875 [==============================] - 41s 22ms/step - loss: 0.0305 - accuracy: 0.9908 - val_loss: 0.0628 - val_accuracy: 0.9810\n",
            "Epoch 8/10\n",
            "1875/1875 [==============================] - 37s 20ms/step - loss: 0.0259 - accuracy: 0.9922 - val_loss: 0.0542 - val_accuracy: 0.9825\n",
            "Epoch 9/10\n",
            "1875/1875 [==============================] - 32s 17ms/step - loss: 0.0221 - accuracy: 0.9930 - val_loss: 0.0562 - val_accuracy: 0.9845\n",
            "Epoch 10/10\n",
            "1875/1875 [==============================] - 38s 20ms/step - loss: 0.0186 - accuracy: 0.9944 - val_loss: 0.0603 - val_accuracy: 0.9829\n"
          ]
        }
      ]
    },
    {
      "cell_type": "code",
      "source": [
        "model.evaluate(x_valid_in, y_valid)"
      ],
      "metadata": {
        "colab": {
          "base_uri": "https://localhost:8080/"
        },
        "id": "svQrZPra84ku",
        "outputId": "3ccb14c2-67f6-4638-911a-76c6da4d7a2b"
      },
      "execution_count": 10,
      "outputs": [
        {
          "output_type": "stream",
          "name": "stdout",
          "text": [
            "313/313 [==============================] - 3s 8ms/step - loss: 0.0603 - accuracy: 0.9829\n"
          ]
        },
        {
          "output_type": "execute_result",
          "data": {
            "text/plain": [
              "[0.06034717336297035, 0.9829000234603882]"
            ]
          },
          "metadata": {},
          "execution_count": 10
        }
      ]
    },
    {
      "cell_type": "markdown",
      "source": [
        "- 약 98%의 정확도 "
      ],
      "metadata": {
        "id": "47ZpyJv9Bx2H"
      }
    },
    {
      "cell_type": "code",
      "source": [
        "def plot_loss_acc(history, epoch):\n",
        "  loss, val_loss=history.history['loss'], history.history['val_loss']\n",
        "  acc, val_acc=history.history['accuracy'], history.history['val_accuracy']\n",
        "\n",
        "  fig, axes=plt.subplots(1, 2, figsize=(12, 4))\n",
        "\n",
        "  axes[0].plot(range(1, epoch+1), loss, label='Training')\n",
        "  axes[0].plot(range(1, epoch+1), val_loss, label='Validation')\n",
        "  axes[0].legend(loc='best')\n",
        "  axes[0].set_title('Loss')\n",
        "\n",
        "  axes[1].plot(range(1, epoch+1), loss, label='Training')\n",
        "  axes[1].plot(range(1, epoch+1), val_loss, label='Validation')\n",
        "  axes[1].legend(loc='best')\n",
        "  axes[1].set_title('Accuracy')\n",
        "\n",
        "  plt.show()\n",
        "\n",
        "plot_loss_acc(history, 10)"
      ],
      "metadata": {
        "colab": {
          "base_uri": "https://localhost:8080/",
          "height": 330
        },
        "id": "3qun6cyr86CB",
        "outputId": "b664306d-de34-4e09-b11b-3d4c853857a2"
      },
      "execution_count": 11,
      "outputs": [
        {
          "output_type": "display_data",
          "data": {
            "text/plain": [
              "<Figure size 1200x400 with 2 Axes>"
            ],
            "image/png": "[encoded data removed]"
          },
          "metadata": {}
        }
      ]
    },
    {
      "cell_type": "markdown",
      "source": [
        "- 훈련 결과를 history 객체에 저장\n",
        "- 4 epoch 이후로는 과대적합 \n",
        "\n",
        "----\n",
        "### **2-3. 모델 구조 파악**\n",
        "- 모델 인스턴스에 summary() 메소드를 적용해 모델의 구조 요약\n",
        "  + 레이어의 이름과 출력 텐서의 형태, 파라미터 개수를 알 수 있음 \n",
        "\n",
        "- (28, 28, 1) 형태의 입력 텐서가 Conv2D 거치면서 (26, 26, 32) 형태로 변환\n",
        "  + (3,3) 크기의 합성곱 필터 사용해서 이미지 가로, 세로 크기 2씩 줄어듬\n",
        "  + 서로 다른 32개의 필터 적용해 특성맵 32개 생성\n",
        "  + (2,2) 크기의 풀링 레이어 적용해 이미지 크기 절반으로 줄어듬 \n",
        "  + (13,13,32) 텐서로 변환\n",
        "  + Flatten 층에서 1차원 텐서로 펼쳐 13x13x32원소 갖는 1차원 벡터"
      ],
      "metadata": {
        "id": "grc6277QB1Ah"
      }
    },
    {
      "cell_type": "code",
      "source": [
        "# 모델 구조\n",
        "model.summary()"
      ],
      "metadata": {
        "colab": {
          "base_uri": "https://localhost:8080/"
        },
        "id": "nlzqs3XI87tb",
        "outputId": "142705f7-d575-4279-bc81-39d209764da9"
      },
      "execution_count": 12,
      "outputs": [
        {
          "output_type": "stream",
          "name": "stdout",
          "text": [
            "Model: \"sequential\"\n",
            "_________________________________________________________________\n",
            " Layer (type)                Output Shape              Param #   \n",
            "=================================================================\n",
            " conv (Conv2D)               (None, 26, 26, 32)        320       \n",
            "                                                                 \n",
            " pool (MaxPooling2D)         (None, 13, 13, 32)        0         \n",
            "                                                                 \n",
            " flatten (Flatten)           (None, 5408)              0         \n",
            "                                                                 \n",
            " dense (Dense)               (None, 10)                54090     \n",
            "                                                                 \n",
            "=================================================================\n",
            "Total params: 54,410\n",
            "Trainable params: 54,410\n",
            "Non-trainable params: 0\n",
            "_________________________________________________________________\n"
          ]
        }
      ]
    },
    {
      "cell_type": "code",
      "source": [
        "# 입력 텐서 형태\n",
        "model.input"
      ],
      "metadata": {
        "colab": {
          "base_uri": "https://localhost:8080/"
        },
        "id": "PQlgYH5C88qY",
        "outputId": "1ace4636-ba28-47bf-f844-f88d0103d011"
      },
      "execution_count": 13,
      "outputs": [
        {
          "output_type": "execute_result",
          "data": {
            "text/plain": [
              "<KerasTensor: shape=(None, 28, 28, 1) dtype=float32 (created by layer 'conv_input')>"
            ]
          },
          "metadata": {},
          "execution_count": 13
        }
      ]
    },
    {
      "cell_type": "code",
      "source": [
        "# 출력 텐서 형태\n",
        "model.output"
      ],
      "metadata": {
        "colab": {
          "base_uri": "https://localhost:8080/"
        },
        "id": "328skfRp89tw",
        "outputId": "25445f65-74e4-4e72-a5c8-2dff7e4d8d02"
      },
      "execution_count": 14,
      "outputs": [
        {
          "output_type": "execute_result",
          "data": {
            "text/plain": [
              "<KerasTensor: shape=(None, 10) dtype=float32 (created by layer 'dense')>"
            ]
          },
          "metadata": {},
          "execution_count": 14
        }
      ]
    },
    {
      "cell_type": "code",
      "source": [
        "# 레이어\n",
        "model.layers"
      ],
      "metadata": {
        "colab": {
          "base_uri": "https://localhost:8080/"
        },
        "id": "F7g2RgQ_8-c2",
        "outputId": "0184eb7a-2b0b-4252-9500-2c0a5a311f91"
      },
      "execution_count": 15,
      "outputs": [
        {
          "output_type": "execute_result",
          "data": {
            "text/plain": [
              "[<keras.layers.convolutional.conv2d.Conv2D at 0x7f662b472740>,\n",
              " <keras.layers.pooling.max_pooling2d.MaxPooling2D at 0x7f662b470400>,\n",
              " <keras.layers.reshaping.flatten.Flatten at 0x7f662b471ff0>,\n",
              " <keras.layers.core.dense.Dense at 0x7f66c0965fc0>]"
            ]
          },
          "metadata": {},
          "execution_count": 15
        }
      ]
    },
    {
      "cell_type": "code",
      "source": [
        "# 첫 번째 레이어 선택\n",
        "model.layers[0]"
      ],
      "metadata": {
        "colab": {
          "base_uri": "https://localhost:8080/"
        },
        "id": "Fxfunl8E8_ZM",
        "outputId": "f9240e97-4793-4996-fbbd-a7bce638cbee"
      },
      "execution_count": 16,
      "outputs": [
        {
          "output_type": "execute_result",
          "data": {
            "text/plain": [
              "<keras.layers.convolutional.conv2d.Conv2D at 0x7f662b472740>"
            ]
          },
          "metadata": {},
          "execution_count": 16
        }
      ]
    },
    {
      "cell_type": "code",
      "source": [
        "# 첫 번째 레이어 입력\n",
        "model.layers[0].input"
      ],
      "metadata": {
        "colab": {
          "base_uri": "https://localhost:8080/"
        },
        "id": "uJT1htTn9Aae",
        "outputId": "9ba8ee42-6de4-4d54-f9e5-7d2e8ab26f6c"
      },
      "execution_count": 17,
      "outputs": [
        {
          "output_type": "execute_result",
          "data": {
            "text/plain": [
              "<KerasTensor: shape=(None, 28, 28, 1) dtype=float32 (created by layer 'conv_input')>"
            ]
          },
          "metadata": {},
          "execution_count": 17
        }
      ]
    },
    {
      "cell_type": "code",
      "source": [
        "# 첫 번째 레이어 출력\n",
        "model.layers[0].output"
      ],
      "metadata": {
        "colab": {
          "base_uri": "https://localhost:8080/"
        },
        "id": "bJR-kO-w9BeW",
        "outputId": "1a22d56f-b52e-4cdd-ad78-a21dc757e1f9"
      },
      "execution_count": 18,
      "outputs": [
        {
          "output_type": "execute_result",
          "data": {
            "text/plain": [
              "<KerasTensor: shape=(None, 26, 26, 32) dtype=float32 (created by layer 'conv')>"
            ]
          },
          "metadata": {},
          "execution_count": 18
        }
      ]
    },
    {
      "cell_type": "markdown",
      "source": [
        "- 각 레이어의 가중치 행렬 추출\n",
        "- 2개의 텐서플로 변수 행렬 확인\n",
        "  + 1: 커널 행렬의 가중치\n",
        "  + 2: 커널 행렬의 상수항 "
      ],
      "metadata": {
        "id": "OgRzOtfKCdOM"
      }
    },
    {
      "cell_type": "code",
      "source": [
        "# 첫 번째 레이어 가중치\n",
        "model.layers[0].weights"
      ],
      "metadata": {
        "colab": {
          "base_uri": "https://localhost:8080/"
        },
        "id": "WIhFHKOi9CWf",
        "outputId": "c6a82e78-03eb-4df7-f480-fae96d1ce5df"
      },
      "execution_count": 19,
      "outputs": [
        {
          "output_type": "execute_result",
          "data": {
            "text/plain": [
              "[<tf.Variable 'conv/kernel:0' shape=(3, 3, 1, 32) dtype=float32, numpy=\n",
              " array([[[[ 5.21303713e-01,  4.18226123e-01, -8.45040679e-02,\n",
              "            1.01828730e+00,  1.08761415e-01,  1.14688031e-01,\n",
              "           -5.59736371e-01, -1.10860631e-01,  2.74082478e-02,\n",
              "           -5.94437420e-01,  3.98777127e-01, -8.60449851e-01,\n",
              "            1.89019367e-01,  2.51961380e-01, -4.10575569e-01,\n",
              "            3.73404801e-01,  2.12878942e-01,  2.56815284e-01,\n",
              "           -7.92136669e-01, -1.04402475e-01,  2.26653650e-01,\n",
              "            2.86663681e-01,  8.90246555e-02,  3.43273252e-01,\n",
              "           -4.62276265e-02,  1.48497283e-01, -1.13874745e+00,\n",
              "           -1.40647233e+00, -9.59542394e-02,  6.97168335e-02,\n",
              "           -4.32029545e-01, -1.09078690e-01]],\n",
              " \n",
              "         [[-8.34864751e-02,  1.16052099e-01,  5.28630435e-01,\n",
              "           -2.27978930e-01,  8.73306096e-02, -2.91953593e-01,\n",
              "           -4.01040614e-01,  1.90021783e-01,  4.54210162e-01,\n",
              "           -1.38152435e-01,  2.91882038e-01, -5.67258056e-03,\n",
              "           -2.02893779e-01, -3.45483758e-02, -4.52273674e-02,\n",
              "            6.17744803e-01,  5.19070446e-01,  1.19046956e-01,\n",
              "            5.87470271e-02,  3.85329306e-01, -2.20336810e-01,\n",
              "           -1.88291386e-01, -2.32567877e-01,  1.64633468e-01,\n",
              "            4.17945981e-01,  2.79612213e-01, -3.22799832e-01,\n",
              "           -1.05879056e+00, -2.10087910e-01,  7.43220598e-02,\n",
              "           -3.02190688e-02, -4.14172590e-01]],\n",
              " \n",
              "         [[-1.00687587e+00, -3.81912053e-01, -1.85198426e-01,\n",
              "           -8.72003853e-01,  1.54078528e-01, -2.87836969e-01,\n",
              "            2.16907471e-01,  4.79674011e-01,  6.28280461e-01,\n",
              "            1.40127078e-01, -1.70932114e-01,  2.98489839e-01,\n",
              "           -6.52093828e-01,  1.19352683e-01,  3.49685818e-01,\n",
              "            2.76173919e-01,  5.55448472e-01, -4.71497238e-01,\n",
              "            7.46349394e-01,  2.45231912e-01, -2.94976145e-01,\n",
              "           -2.23992720e-01, -8.54542613e-01, -4.54138756e-01,\n",
              "           -4.61541831e-01, -2.19980180e-01,  3.04977715e-01,\n",
              "           -1.16619611e+00,  3.17885458e-01,  1.63527533e-01,\n",
              "            3.36108565e-01, -1.32706136e-01]]],\n",
              " \n",
              " \n",
              "        [[[ 6.43530309e-01, -1.50249675e-01,  1.76966369e-01,\n",
              "            3.57697964e-01, -9.23390910e-02,  7.89335072e-02,\n",
              "           -5.45144796e-01, -2.06318825e-01, -4.50126082e-01,\n",
              "            2.90086180e-01, -3.07413965e-01,  1.34987533e-01,\n",
              "            2.55364746e-01, -4.39708680e-01, -2.97986597e-01,\n",
              "           -5.05993068e-01, -2.63200343e-01,  1.41538279e-02,\n",
              "           -9.41037238e-01,  4.79909837e-01,  2.33124226e-01,\n",
              "            1.20213330e-01,  3.04720908e-01, -1.74694825e-02,\n",
              "           -1.79863617e-01, -2.00272515e-01, -7.12595880e-01,\n",
              "           -3.96667749e-01, -4.55475092e-01, -2.29478195e-01,\n",
              "            1.36308998e-01, -3.52605522e-01]],\n",
              " \n",
              "         [[-1.19947441e-01, -1.04704827e-01,  4.87958521e-01,\n",
              "           -1.70695710e+00, -7.14250058e-02, -1.35146767e-01,\n",
              "            1.16709255e-01,  2.63574600e-01,  2.12576270e-01,\n",
              "            4.16823715e-01,  7.17780963e-02,  2.10752472e-01,\n",
              "            3.91259968e-01, -6.31906509e-01,  1.35859400e-01,\n",
              "            2.14250937e-01,  9.36537832e-02,  2.59781390e-01,\n",
              "           -4.59644020e-01,  2.45683581e-01,  2.65070081e-01,\n",
              "            3.60201180e-01,  2.26839676e-01,  3.67720425e-02,\n",
              "            5.25568247e-01,  3.89412075e-01,  3.09314489e-01,\n",
              "            6.04691565e-01, -1.57680571e-01,  2.39263728e-01,\n",
              "            3.24783772e-01, -2.42233668e-02]],\n",
              " \n",
              "         [[-6.22176230e-01,  1.15532495e-01, -6.61710680e-01,\n",
              "            6.26953617e-02,  6.13666102e-02, -4.54571664e-01,\n",
              "            5.10524750e-01,  5.95346332e-01,  4.22445506e-01,\n",
              "           -8.47548898e-03, -5.69998659e-03,  1.86555535e-02,\n",
              "            1.71187356e-01, -2.49689758e-01,  2.00314999e-01,\n",
              "           -6.73912585e-01, -4.93790656e-02,  2.18824401e-01,\n",
              "            5.41415036e-01,  1.48900807e-01,  2.50280082e-01,\n",
              "            2.97597051e-01, -4.63869840e-01, -7.58695230e-02,\n",
              "           -4.42024559e-01, -1.40149340e-01,  6.36499286e-01,\n",
              "            1.12730861e-01,  2.92302579e-01, -2.55027354e-01,\n",
              "            2.73927376e-02,  2.59958923e-01]]],\n",
              " \n",
              " \n",
              "        [[[ 5.49304962e-01, -8.93422514e-02,  1.03367746e-01,\n",
              "           -1.02991378e+00,  2.23412499e-01,  2.02927023e-01,\n",
              "            1.55085787e-01, -7.99470067e-01, -8.93166661e-01,\n",
              "           -6.00115769e-02, -1.63188159e-01,  3.89728844e-01,\n",
              "           -3.91663730e-01,  3.77854139e-01,  3.17126751e-01,\n",
              "           -1.08723843e+00, -8.19268465e-01, -3.44914198e-01,\n",
              "           -4.87618804e-01, -4.12351787e-01, -1.47605449e-01,\n",
              "           -2.55358249e-01,  3.57262969e-01, -2.52589852e-01,\n",
              "           -1.82833463e-01, -5.68263948e-01, -9.57821250e-01,\n",
              "            1.55018836e-01,  2.24795248e-02, -2.40759775e-02,\n",
              "            3.82566333e-01,  3.92708242e-01]],\n",
              " \n",
              "         [[ 1.02882594e-01,  1.86191455e-01,  7.80419409e-02,\n",
              "           -2.10194722e-01,  5.96531704e-02,  4.38113719e-01,\n",
              "            4.34853286e-01, -8.05193484e-01, -6.86773300e-01,\n",
              "            4.23194692e-02, -1.20240292e-02, -4.73722816e-04,\n",
              "            1.13017194e-01,  2.89702415e-01,  3.11918259e-01,\n",
              "           -9.66506422e-01, -6.46313369e-01, -1.42310117e-03,\n",
              "           -5.36365092e-01, -7.20027387e-01, -1.55565917e-01,\n",
              "           -2.34758943e-01,  5.42128265e-01,  1.85609415e-01,\n",
              "            3.07874501e-01,  2.84043312e-01,  9.77142006e-02,\n",
              "            5.31327367e-01,  2.78992474e-01,  4.34450954e-01,\n",
              "           -1.59841210e-01,  3.33151996e-01]],\n",
              " \n",
              "         [[-3.89849812e-01,  2.91527808e-01, -6.22044981e-01,\n",
              "            8.86821210e-01,  1.31513521e-01,  2.96624482e-01,\n",
              "            1.15266904e-01, -8.15487504e-01, -4.90365446e-01,\n",
              "           -4.88985330e-01,  4.01765943e-01, -7.29905367e-01,\n",
              "            2.22882137e-01,  2.45974123e-01, -1.29478604e-01,\n",
              "           -1.31138217e+00, -7.36317754e-01,  2.34341502e-01,\n",
              "            3.55677038e-01, -4.01159316e-01,  1.78996399e-01,\n",
              "            1.57796949e-01,  1.36779487e-01,  3.67178887e-01,\n",
              "            2.67878361e-02,  1.53703541e-01,  4.19227391e-01,\n",
              "            3.65903199e-01,  1.86815679e-01, -2.80439019e-01,\n",
              "           -3.43801081e-01, -1.42432237e-02]]]], dtype=float32)>,\n",
              " <tf.Variable 'conv/bias:0' shape=(32,) dtype=float32, numpy=\n",
              " array([-0.10961436, -0.27951258, -0.19202574,  0.0721234 , -0.36001888,\n",
              "        -0.20509955, -0.25447655, -0.00825842, -0.0151883 , -0.11391141,\n",
              "        -0.30619508, -0.02650573, -0.2213883 , -0.04907861, -0.42810372,\n",
              "         0.12312942, -0.05014568, -0.2771612 , -0.03873394, -0.01499485,\n",
              "        -0.2626641 , -0.2504435 , -0.21402146, -0.31665665, -0.160894  ,\n",
              "        -0.19798374, -0.02206693,  0.11432355, -0.3206201 , -0.21299693,\n",
              "        -0.28351736, -0.11896391], dtype=float32)>]"
            ]
          },
          "metadata": {},
          "execution_count": 19
        }
      ]
    },
    {
      "cell_type": "markdown",
      "source": [
        "- 커널 가중치의 shape이 (3, 3, 1, 32): 필터의 크기, 입력층 채널개수, 출력층 채널개수\n",
        "  + 따라서 학습 가능한 파라미터 수는 총 288개 \n",
        "- 상수항 가중치의 shape이 (32,): 출력층 채널 수\n",
        "- 총 학습 가능 파라미터 수는 320개 "
      ],
      "metadata": {
        "id": "L-hlu2zPCoe4"
      }
    },
    {
      "cell_type": "code",
      "source": [
        "# 첫 번째 레이어 커널 가중치\n",
        "model.layers[0].kernel"
      ],
      "metadata": {
        "colab": {
          "base_uri": "https://localhost:8080/"
        },
        "id": "3m96mI-z9DXi",
        "outputId": "d8ba9565-a750-4ce9-8ba3-f02d013a55e4"
      },
      "execution_count": 20,
      "outputs": [
        {
          "output_type": "execute_result",
          "data": {
            "text/plain": [
              "<tf.Variable 'conv/kernel:0' shape=(3, 3, 1, 32) dtype=float32, numpy=\n",
              "array([[[[ 5.21303713e-01,  4.18226123e-01, -8.45040679e-02,\n",
              "           1.01828730e+00,  1.08761415e-01,  1.14688031e-01,\n",
              "          -5.59736371e-01, -1.10860631e-01,  2.74082478e-02,\n",
              "          -5.94437420e-01,  3.98777127e-01, -8.60449851e-01,\n",
              "           1.89019367e-01,  2.51961380e-01, -4.10575569e-01,\n",
              "           3.73404801e-01,  2.12878942e-01,  2.56815284e-01,\n",
              "          -7.92136669e-01, -1.04402475e-01,  2.26653650e-01,\n",
              "           2.86663681e-01,  8.90246555e-02,  3.43273252e-01,\n",
              "          -4.62276265e-02,  1.48497283e-01, -1.13874745e+00,\n",
              "          -1.40647233e+00, -9.59542394e-02,  6.97168335e-02,\n",
              "          -4.32029545e-01, -1.09078690e-01]],\n",
              "\n",
              "        [[-8.34864751e-02,  1.16052099e-01,  5.28630435e-01,\n",
              "          -2.27978930e-01,  8.73306096e-02, -2.91953593e-01,\n",
              "          -4.01040614e-01,  1.90021783e-01,  4.54210162e-01,\n",
              "          -1.38152435e-01,  2.91882038e-01, -5.67258056e-03,\n",
              "          -2.02893779e-01, -3.45483758e-02, -4.52273674e-02,\n",
              "           6.17744803e-01,  5.19070446e-01,  1.19046956e-01,\n",
              "           5.87470271e-02,  3.85329306e-01, -2.20336810e-01,\n",
              "          -1.88291386e-01, -2.32567877e-01,  1.64633468e-01,\n",
              "           4.17945981e-01,  2.79612213e-01, -3.22799832e-01,\n",
              "          -1.05879056e+00, -2.10087910e-01,  7.43220598e-02,\n",
              "          -3.02190688e-02, -4.14172590e-01]],\n",
              "\n",
              "        [[-1.00687587e+00, -3.81912053e-01, -1.85198426e-01,\n",
              "          -8.72003853e-01,  1.54078528e-01, -2.87836969e-01,\n",
              "           2.16907471e-01,  4.79674011e-01,  6.28280461e-01,\n",
              "           1.40127078e-01, -1.70932114e-01,  2.98489839e-01,\n",
              "          -6.52093828e-01,  1.19352683e-01,  3.49685818e-01,\n",
              "           2.76173919e-01,  5.55448472e-01, -4.71497238e-01,\n",
              "           7.46349394e-01,  2.45231912e-01, -2.94976145e-01,\n",
              "          -2.23992720e-01, -8.54542613e-01, -4.54138756e-01,\n",
              "          -4.61541831e-01, -2.19980180e-01,  3.04977715e-01,\n",
              "          -1.16619611e+00,  3.17885458e-01,  1.63527533e-01,\n",
              "           3.36108565e-01, -1.32706136e-01]]],\n",
              "\n",
              "\n",
              "       [[[ 6.43530309e-01, -1.50249675e-01,  1.76966369e-01,\n",
              "           3.57697964e-01, -9.23390910e-02,  7.89335072e-02,\n",
              "          -5.45144796e-01, -2.06318825e-01, -4.50126082e-01,\n",
              "           2.90086180e-01, -3.07413965e-01,  1.34987533e-01,\n",
              "           2.55364746e-01, -4.39708680e-01, -2.97986597e-01,\n",
              "          -5.05993068e-01, -2.63200343e-01,  1.41538279e-02,\n",
              "          -9.41037238e-01,  4.79909837e-01,  2.33124226e-01,\n",
              "           1.20213330e-01,  3.04720908e-01, -1.74694825e-02,\n",
              "          -1.79863617e-01, -2.00272515e-01, -7.12595880e-01,\n",
              "          -3.96667749e-01, -4.55475092e-01, -2.29478195e-01,\n",
              "           1.36308998e-01, -3.52605522e-01]],\n",
              "\n",
              "        [[-1.19947441e-01, -1.04704827e-01,  4.87958521e-01,\n",
              "          -1.70695710e+00, -7.14250058e-02, -1.35146767e-01,\n",
              "           1.16709255e-01,  2.63574600e-01,  2.12576270e-01,\n",
              "           4.16823715e-01,  7.17780963e-02,  2.10752472e-01,\n",
              "           3.91259968e-01, -6.31906509e-01,  1.35859400e-01,\n",
              "           2.14250937e-01,  9.36537832e-02,  2.59781390e-01,\n",
              "          -4.59644020e-01,  2.45683581e-01,  2.65070081e-01,\n",
              "           3.60201180e-01,  2.26839676e-01,  3.67720425e-02,\n",
              "           5.25568247e-01,  3.89412075e-01,  3.09314489e-01,\n",
              "           6.04691565e-01, -1.57680571e-01,  2.39263728e-01,\n",
              "           3.24783772e-01, -2.42233668e-02]],\n",
              "\n",
              "        [[-6.22176230e-01,  1.15532495e-01, -6.61710680e-01,\n",
              "           6.26953617e-02,  6.13666102e-02, -4.54571664e-01,\n",
              "           5.10524750e-01,  5.95346332e-01,  4.22445506e-01,\n",
              "          -8.47548898e-03, -5.69998659e-03,  1.86555535e-02,\n",
              "           1.71187356e-01, -2.49689758e-01,  2.00314999e-01,\n",
              "          -6.73912585e-01, -4.93790656e-02,  2.18824401e-01,\n",
              "           5.41415036e-01,  1.48900807e-01,  2.50280082e-01,\n",
              "           2.97597051e-01, -4.63869840e-01, -7.58695230e-02,\n",
              "          -4.42024559e-01, -1.40149340e-01,  6.36499286e-01,\n",
              "           1.12730861e-01,  2.92302579e-01, -2.55027354e-01,\n",
              "           2.73927376e-02,  2.59958923e-01]]],\n",
              "\n",
              "\n",
              "       [[[ 5.49304962e-01, -8.93422514e-02,  1.03367746e-01,\n",
              "          -1.02991378e+00,  2.23412499e-01,  2.02927023e-01,\n",
              "           1.55085787e-01, -7.99470067e-01, -8.93166661e-01,\n",
              "          -6.00115769e-02, -1.63188159e-01,  3.89728844e-01,\n",
              "          -3.91663730e-01,  3.77854139e-01,  3.17126751e-01,\n",
              "          -1.08723843e+00, -8.19268465e-01, -3.44914198e-01,\n",
              "          -4.87618804e-01, -4.12351787e-01, -1.47605449e-01,\n",
              "          -2.55358249e-01,  3.57262969e-01, -2.52589852e-01,\n",
              "          -1.82833463e-01, -5.68263948e-01, -9.57821250e-01,\n",
              "           1.55018836e-01,  2.24795248e-02, -2.40759775e-02,\n",
              "           3.82566333e-01,  3.92708242e-01]],\n",
              "\n",
              "        [[ 1.02882594e-01,  1.86191455e-01,  7.80419409e-02,\n",
              "          -2.10194722e-01,  5.96531704e-02,  4.38113719e-01,\n",
              "           4.34853286e-01, -8.05193484e-01, -6.86773300e-01,\n",
              "           4.23194692e-02, -1.20240292e-02, -4.73722816e-04,\n",
              "           1.13017194e-01,  2.89702415e-01,  3.11918259e-01,\n",
              "          -9.66506422e-01, -6.46313369e-01, -1.42310117e-03,\n",
              "          -5.36365092e-01, -7.20027387e-01, -1.55565917e-01,\n",
              "          -2.34758943e-01,  5.42128265e-01,  1.85609415e-01,\n",
              "           3.07874501e-01,  2.84043312e-01,  9.77142006e-02,\n",
              "           5.31327367e-01,  2.78992474e-01,  4.34450954e-01,\n",
              "          -1.59841210e-01,  3.33151996e-01]],\n",
              "\n",
              "        [[-3.89849812e-01,  2.91527808e-01, -6.22044981e-01,\n",
              "           8.86821210e-01,  1.31513521e-01,  2.96624482e-01,\n",
              "           1.15266904e-01, -8.15487504e-01, -4.90365446e-01,\n",
              "          -4.88985330e-01,  4.01765943e-01, -7.29905367e-01,\n",
              "           2.22882137e-01,  2.45974123e-01, -1.29478604e-01,\n",
              "          -1.31138217e+00, -7.36317754e-01,  2.34341502e-01,\n",
              "           3.55677038e-01, -4.01159316e-01,  1.78996399e-01,\n",
              "           1.57796949e-01,  1.36779487e-01,  3.67178887e-01,\n",
              "           2.67878361e-02,  1.53703541e-01,  4.19227391e-01,\n",
              "           3.65903199e-01,  1.86815679e-01, -2.80439019e-01,\n",
              "          -3.43801081e-01, -1.42432237e-02]]]], dtype=float32)>"
            ]
          },
          "metadata": {},
          "execution_count": 20
        }
      ]
    },
    {
      "cell_type": "code",
      "source": [
        "# 첫 번째 레이어 bias 가중치\n",
        "model.layers[0].bias"
      ],
      "metadata": {
        "colab": {
          "base_uri": "https://localhost:8080/"
        },
        "id": "UDz9fhSx9Eu1",
        "outputId": "23aa77b2-a1dd-4ebf-9494-1ecd9591a6da"
      },
      "execution_count": 21,
      "outputs": [
        {
          "output_type": "execute_result",
          "data": {
            "text/plain": [
              "<tf.Variable 'conv/bias:0' shape=(32,) dtype=float32, numpy=\n",
              "array([-0.10961436, -0.27951258, -0.19202574,  0.0721234 , -0.36001888,\n",
              "       -0.20509955, -0.25447655, -0.00825842, -0.0151883 , -0.11391141,\n",
              "       -0.30619508, -0.02650573, -0.2213883 , -0.04907861, -0.42810372,\n",
              "        0.12312942, -0.05014568, -0.2771612 , -0.03873394, -0.01499485,\n",
              "       -0.2626641 , -0.2504435 , -0.21402146, -0.31665665, -0.160894  ,\n",
              "       -0.19798374, -0.02206693,  0.11432355, -0.3206201 , -0.21299693,\n",
              "       -0.28351736, -0.11896391], dtype=float32)>"
            ]
          },
          "metadata": {},
          "execution_count": 21
        }
      ]
    },
    {
      "cell_type": "code",
      "source": [
        "# 레이어 이름 사용해 레이어 선택\n",
        "model.get_layer('conv')"
      ],
      "metadata": {
        "colab": {
          "base_uri": "https://localhost:8080/"
        },
        "id": "qapvOlSl9G00",
        "outputId": "4ec9ae5b-b437-4849-ad48-570b34feb099"
      },
      "execution_count": 22,
      "outputs": [
        {
          "output_type": "execute_result",
          "data": {
            "text/plain": [
              "<keras.layers.convolutional.conv2d.Conv2D at 0x7f662b472740>"
            ]
          },
          "metadata": {},
          "execution_count": 22
        }
      ]
    },
    {
      "cell_type": "code",
      "source": [
        "# 샘플 이미지의 레이어별 출력을 리스트에 추가 (첫 번째, 두 번째 레이어)\n",
        "activator = tf.keras.Model(inputs=model.input, \n",
        "                           outputs=[layer.output for layer in model.layers[:2]])\n",
        "activations=activator.predict(x_train_in[0][tf.newaxis, ...])\n",
        "\n",
        "len(activations)"
      ],
      "metadata": {
        "colab": {
          "base_uri": "https://localhost:8080/"
        },
        "id": "vPk8HBCa9Hzg",
        "outputId": "39d7bbdf-5b84-484e-c024-639fd14c35c7"
      },
      "execution_count": 23,
      "outputs": [
        {
          "output_type": "stream",
          "name": "stdout",
          "text": [
            "1/1 [==============================] - 0s 104ms/step\n"
          ]
        },
        {
          "output_type": "execute_result",
          "data": {
            "text/plain": [
              "2"
            ]
          },
          "metadata": {},
          "execution_count": 23
        }
      ]
    },
    {
      "cell_type": "code",
      "source": [
        "# 첫 번재 레이어(conv) 출력층\n",
        "conv_activation=activations[0]\n",
        "conv_activation.shape"
      ],
      "metadata": {
        "colab": {
          "base_uri": "https://localhost:8080/"
        },
        "id": "GzAIsXcc9IhP",
        "outputId": "01305415-018e-400b-ef8e-fc6b704aa369"
      },
      "execution_count": 24,
      "outputs": [
        {
          "output_type": "execute_result",
          "data": {
            "text/plain": [
              "(1, 26, 26, 32)"
            ]
          },
          "metadata": {},
          "execution_count": 24
        }
      ]
    },
    {
      "cell_type": "markdown",
      "source": [
        "- 커널은 입력 이미지로부터 서로 다른 피처를 추출하는 역할 "
      ],
      "metadata": {
        "id": "3ghzFsWrDDDB"
      }
    },
    {
      "cell_type": "code",
      "source": [
        "# Convolution 시각화\n",
        "fig, axes=plt.subplots(4, 8)\n",
        "fig.set_size_inches(10, 5)\n",
        "\n",
        "for i in range(32):\n",
        "  axes[i//8, i%8].matshow(conv_activation[0, :, :, i], cmap='viridis')\n",
        "  axes[i//8, i%8].set_title('kernel %s'%str(i), fontsize=10)\n",
        "  plt.setp(axes[i//8, i%8].get_xticklabels(), visible=False)\n",
        "  plt.setp(axes[i//8, i%8].get_yticklabels(), visible=False)\n",
        "\n",
        "plt.tight_layout()\n",
        "plt.show()"
      ],
      "metadata": {
        "colab": {
          "base_uri": "https://localhost:8080/",
          "height": 440
        },
        "id": "ap-dbWAo9Jg2",
        "outputId": "c7520b6b-fd92-4003-be3a-5a359edcbee6"
      },
      "execution_count": 25,
      "outputs": [
        {
          "output_type": "display_data",
          "data": {
            "text/plain": [
              "<Figure size 1000x500 with 32 Axes>"
            ],
            "image/png": "[encoded data removed]"
          },
          "metadata": {}
        }
      ]
    },
    {
      "cell_type": "code",
      "source": [
        "# 두번째 레이어 pool 출력층\n",
        "pooling_activation=activations[1]\n",
        "print(pooling_activation.shape)"
      ],
      "metadata": {
        "colab": {
          "base_uri": "https://localhost:8080/"
        },
        "id": "tVdlUWzD9KY7",
        "outputId": "e57ca83b-f89b-4fb0-faf0-b157d72f58cd"
      },
      "execution_count": 26,
      "outputs": [
        {
          "output_type": "stream",
          "name": "stdout",
          "text": [
            "(1, 13, 13, 32)\n"
          ]
        }
      ]
    },
    {
      "cell_type": "markdown",
      "source": [
        "- 각 커널별로 출력되는 특성맵 이미지를 시각화하면, 앞서 Conv2D 출력 이미지에 비해 화소 크기가 굵어짐\n",
        "  + 최대 풀링은 인근 픽셀들을 모아ㅓ 최대값으로 고정하기 때문에 픽셀 수는 줄이면서 특징을 더욱 강하게 드러냄 "
      ],
      "metadata": {
        "id": "rV2PdFEYDHzM"
      }
    },
    {
      "cell_type": "code",
      "source": [
        "# 시각화\n",
        "fig, axes=plt.subplots(4, 8)\n",
        "fig.set_size_inches(10, 5)\n",
        "\n",
        "for i in range(32):\n",
        "  axes[i//8, i%8].matshow(pooling_activation[0, :, :, i], cmap='viridis')\n",
        "  axes[i//8, i%8].set_title('kernel %s'%str(i), fontsize=10)\n",
        "  plt.setp(axes[i//8, i%8].get_xticklabels(), visible=False)\n",
        "  plt.setp(axes[i//8, i%8].get_yticklabels(), visible=False)\n",
        "\n",
        "plt.tight_layout()\n",
        "plt.show()"
      ],
      "metadata": {
        "colab": {
          "base_uri": "https://localhost:8080/",
          "height": 440
        },
        "id": "LlSo7VM69LWd",
        "outputId": "973df99b-5be9-4d8a-9c3e-87038432d30d"
      },
      "execution_count": 27,
      "outputs": [
        {
          "output_type": "display_data",
          "data": {
            "text/plain": [
              "<Figure size 1000x500 with 32 Axes>"
            ],
            "image/png": "[encoded data removed]"
          },
          "metadata": {}
        }
      ]
    },
    {
      "cell_type": "markdown",
      "source": [
        "## **03. 복잡한 모델 생성**\n",
        "- 각 레이어 기준으로 다중 입력/출력인 모델 생성\n",
        "\n",
        "----\n",
        "### **3-1. 데이터셋 준비**"
      ],
      "metadata": {
        "id": "sq7Mi-6RDSvM"
      }
    },
    {
      "cell_type": "code",
      "source": [
        "import tensorflow as tf\n",
        "import numpy as np"
      ],
      "metadata": {
        "id": "SFuMNlIt9Mc3"
      },
      "execution_count": 28,
      "outputs": []
    },
    {
      "cell_type": "code",
      "source": [
        "#mnist 손글씨 이미지 데이터 로드\n",
        "mnist=tf.keras.datasets.mnist\n",
        "(x_train, y_train), (x_valid, y_valid)=mnist.load_data()\n",
        "\n",
        "print(x_train.shape, y_train.shape)\n",
        "print(x_valid.shape, y_valid.shape)"
      ],
      "metadata": {
        "colab": {
          "base_uri": "https://localhost:8080/"
        },
        "id": "bfWK1eIO9NI9",
        "outputId": "1f465a43-0519-4642-e831-0229e1f82e6c"
      },
      "execution_count": 29,
      "outputs": [
        {
          "output_type": "stream",
          "name": "stdout",
          "text": [
            "(60000, 28, 28) (60000,)\n",
            "(10000, 28, 28) (10000,)\n"
          ]
        }
      ]
    },
    {
      "cell_type": "markdown",
      "source": [
        "- 숫자를 맞추는 정답 외에 홀수인지 짝수인지 판단하는 정답 새로 추가 "
      ],
      "metadata": {
        "id": "ffWdQlSMDfYe"
      }
    },
    {
      "cell_type": "code",
      "source": [
        "# 새로운 출력 값 배열 생성 (홀수 : 1, 짝수 : 0)\n",
        "y_train_odd=[]\n",
        "for y in y_train:\n",
        "  if y%2==0:\n",
        "    y_train_odd.append(0)\n",
        "  else:\n",
        "    y_train_odd.append(1)\n",
        "\n",
        "y_train_odd=np.array(y_train_odd)\n",
        "y_train_odd.shape"
      ],
      "metadata": {
        "colab": {
          "base_uri": "https://localhost:8080/"
        },
        "id": "dTV7ZK6D9N1r",
        "outputId": "8bd26ebe-8c8a-4417-bee8-8fc9eb4824ab"
      },
      "execution_count": 30,
      "outputs": [
        {
          "output_type": "execute_result",
          "data": {
            "text/plain": [
              "(60000,)"
            ]
          },
          "metadata": {},
          "execution_count": 30
        }
      ]
    },
    {
      "cell_type": "markdown",
      "source": [
        "- 홀짝 여부 정리 확인 "
      ],
      "metadata": {
        "id": "j33jd8fzDmb5"
      }
    },
    {
      "cell_type": "code",
      "source": [
        "print(y_train[:10])\n",
        "print(y_train_odd[:10])"
      ],
      "metadata": {
        "colab": {
          "base_uri": "https://localhost:8080/"
        },
        "id": "8yPKkglH9OtG",
        "outputId": "364e08ae-7a5c-4eec-bd8c-7f05e1b286f7"
      },
      "execution_count": 31,
      "outputs": [
        {
          "output_type": "stream",
          "name": "stdout",
          "text": [
            "[5 0 4 1 9 2 1 3 1 4]\n",
            "[1 0 0 1 1 0 1 1 1 0]\n"
          ]
        }
      ]
    },
    {
      "cell_type": "code",
      "source": [
        "# Validation 데이터셋 처리\n",
        "y_valid_odd=[]\n",
        "for y in y_valid:\n",
        "  if y%2==0:\n",
        "    y_valid_odd.append(0)\n",
        "  else:\n",
        "    y_valid_odd.append(1)\n",
        "\n",
        "y_valid_odd=np.array(y_valid_odd)\n",
        "y_valid_odd.shape"
      ],
      "metadata": {
        "colab": {
          "base_uri": "https://localhost:8080/"
        },
        "id": "UGqVjhcB9PpW",
        "outputId": "a2ea52e6-0c60-4041-b767-5bc00cfb4480"
      },
      "execution_count": 32,
      "outputs": [
        {
          "output_type": "execute_result",
          "data": {
            "text/plain": [
              "(10000,)"
            ]
          },
          "metadata": {},
          "execution_count": 32
        }
      ]
    },
    {
      "cell_type": "markdown",
      "source": [
        "- 입력 이미지 데이터 정규화 후 채널 개수 1로 지정\n",
        "- expand_dims() 함수에 원본 배열을 입력하고, 새롭게 추가하려는 축의 인덱스를 지정하여 해당 인덱스에 새로운 축 추가\n",
        "  + 축의 인덱슬를 -1로 지정하면 새로운 축은 끝에 추가됨\n",
        "  + (60000, 28, 28, 1) 배열로 변환 "
      ],
      "metadata": {
        "id": "AovEfRsEDqEH"
      }
    },
    {
      "cell_type": "code",
      "source": [
        "# 정규화\n",
        "x_train=x_train/255.0\n",
        "x_valid=x_valid/255.0\n",
        "\n",
        "# 채널 추가\n",
        "x_train_in=tf.expand_dims(x_train, -1)\n",
        "x_valid_in=tf.expand_dims(x_valid, -1)\n",
        "\n",
        "print(x_train_in.shape, x_valid_in.shape)"
      ],
      "metadata": {
        "colab": {
          "base_uri": "https://localhost:8080/"
        },
        "id": "bOTysxGK9Q3P",
        "outputId": "15d71bf9-d064-4fc1-ec6a-50e68b0a5df4"
      },
      "execution_count": 33,
      "outputs": [
        {
          "output_type": "stream",
          "name": "stdout",
          "text": [
            "(60000, 28, 28, 1) (10000, 28, 28, 1)\n"
          ]
        }
      ]
    },
    {
      "cell_type": "markdown",
      "source": [
        "### **3-2. Functional API로 다중 입력, 다중 출력 레이어 생성**\n",
        "- inputs의 경우, Conv2D와 Flatten 레이어의 입력으로 사용됨, 즉 2개의 출력을 가짐 "
      ],
      "metadata": {
        "id": "vIL6oJClD4kl"
      }
    },
    {
      "cell_type": "code",
      "source": [
        "# Functional API 를 사용하여 모델 생성\n",
        "\n",
        "inputs=tf.keras.layers.Input(shape=(28, 28, 1))\n",
        "\n",
        "conv=tf.keras.layers.Conv2D(32, (3, 3), activation='relu')(inputs)\n",
        "pool=tf.keras.layers.MaxPooling2D((2,2))(conv)\n",
        "flat=tf.keras.layers.Flatten()(pool)\n",
        "\n",
        "flat_inputs=tf.keras.layers.Flatten()(inputs)\n",
        "concat=tf.keras.layers.Concatenate()([flat, flat_inputs])\n",
        "outputs=tf.keras.layers.Dense(10, activation='softmax')(concat)\n",
        "\n",
        "model=tf.keras.models.Model(inputs=inputs, outputs=outputs)\n",
        "\n",
        "model.summary()"
      ],
      "metadata": {
        "colab": {
          "base_uri": "https://localhost:8080/"
        },
        "id": "jhmBFB9b9R4e",
        "outputId": "40577615-dbfc-4ed7-e83b-7c1895ce4ee5"
      },
      "execution_count": 34,
      "outputs": [
        {
          "output_type": "stream",
          "name": "stdout",
          "text": [
            "Model: \"model_1\"\n",
            "__________________________________________________________________________________________________\n",
            " Layer (type)                   Output Shape         Param #     Connected to                     \n",
            "==================================================================================================\n",
            " input_1 (InputLayer)           [(None, 28, 28, 1)]  0           []                               \n",
            "                                                                                                  \n",
            " conv2d (Conv2D)                (None, 26, 26, 32)   320         ['input_1[0][0]']                \n",
            "                                                                                                  \n",
            " max_pooling2d (MaxPooling2D)   (None, 13, 13, 32)   0           ['conv2d[0][0]']                 \n",
            "                                                                                                  \n",
            " flatten_1 (Flatten)            (None, 5408)         0           ['max_pooling2d[0][0]']          \n",
            "                                                                                                  \n",
            " flatten_2 (Flatten)            (None, 784)          0           ['input_1[0][0]']                \n",
            "                                                                                                  \n",
            " concatenate (Concatenate)      (None, 6192)         0           ['flatten_1[0][0]',              \n",
            "                                                                  'flatten_2[0][0]']              \n",
            "                                                                                                  \n",
            " dense_1 (Dense)                (None, 10)           61930       ['concatenate[0][0]']            \n",
            "                                                                                                  \n",
            "==================================================================================================\n",
            "Total params: 62,250\n",
            "Trainable params: 62,250\n",
            "Non-trainable params: 0\n",
            "__________________________________________________________________________________________________\n"
          ]
        }
      ]
    },
    {
      "cell_type": "markdown",
      "source": [
        "- 입력 레이어가 2개의 출력으로 나눠지고, 마지막 Dense 레이어를 통과하기 전 Concatenate 레이어에서 하나로 합쳐지는 구조를 시각적으로 확인 "
      ],
      "metadata": {
        "id": "27togiv2EFAZ"
      }
    },
    {
      "cell_type": "code",
      "source": [
        "# 모델 구조 출력 및 이미지 파일로 저장\n",
        "tf.keras.utils.plot_model(model, show_shapes=True, show_layer_names=True, to_file='functional_cnn.png')"
      ],
      "metadata": {
        "colab": {
          "base_uri": "https://localhost:8080/",
          "height": 644
        },
        "id": "yYarVCxf9TMV",
        "outputId": "201e52bb-f014-4bef-88f6-08b96784c42a"
      },
      "execution_count": 35,
      "outputs": [
        {
          "output_type": "execute_result",
          "data": {
            "image/png": "[encoded data removed]",
            "text/plain": [
              "<IPython.core.display.Image object>"
            ]
          },
          "metadata": {},
          "execution_count": 35
        }
      ]
    },
    {
      "cell_type": "code",
      "source": [
        "# 모델 컴파일\n",
        "model.compile(optimizer='adam', loss='sparse_categorical_crossentropy', metrics=['accuracy'])\n",
        "\n",
        "# 모델 훈련\n",
        "history=model.fit(x_train_in, y_train, validation_data=(x_valid, y_valid), epochs=10)\n",
        "\n",
        "# 모델 성능\n",
        "val_loss, val_acc=model.evaluate(x_valid_in, y_valid)\n",
        "print(val_loss, val_acc)"
      ],
      "metadata": {
        "colab": {
          "base_uri": "https://localhost:8080/"
        },
        "id": "qunAjlaM9UG_",
        "outputId": "432b69c9-4cdd-4acd-e9da-4c01956a6c06"
      },
      "execution_count": 36,
      "outputs": [
        {
          "output_type": "stream",
          "name": "stdout",
          "text": [
            "Epoch 1/10\n",
            "1875/1875 [==============================] - 39s 20ms/step - loss: 0.2094 - accuracy: 0.9409 - val_loss: 0.1028 - val_accuracy: 0.9690\n",
            "Epoch 2/10\n",
            "1875/1875 [==============================] - 41s 22ms/step - loss: 0.0806 - accuracy: 0.9765 - val_loss: 0.0650 - val_accuracy: 0.9779\n",
            "Epoch 3/10\n",
            "1875/1875 [==============================] - 40s 21ms/step - loss: 0.0605 - accuracy: 0.9817 - val_loss: 0.0562 - val_accuracy: 0.9810\n",
            "Epoch 4/10\n",
            "1875/1875 [==============================] - 39s 21ms/step - loss: 0.0485 - accuracy: 0.9854 - val_loss: 0.0579 - val_accuracy: 0.9820\n",
            "Epoch 5/10\n",
            "1875/1875 [==============================] - 40s 21ms/step - loss: 0.0410 - accuracy: 0.9871 - val_loss: 0.0543 - val_accuracy: 0.9827\n",
            "Epoch 6/10\n",
            "1875/1875 [==============================] - 39s 21ms/step - loss: 0.0341 - accuracy: 0.9891 - val_loss: 0.0589 - val_accuracy: 0.9819\n",
            "Epoch 7/10\n",
            "1875/1875 [==============================] - 38s 21ms/step - loss: 0.0288 - accuracy: 0.9911 - val_loss: 0.0585 - val_accuracy: 0.9823\n",
            "Epoch 8/10\n",
            "1875/1875 [==============================] - 33s 18ms/step - loss: 0.0245 - accuracy: 0.9921 - val_loss: 0.0600 - val_accuracy: 0.9826\n",
            "Epoch 9/10\n",
            "1875/1875 [==============================] - 38s 20ms/step - loss: 0.0207 - accuracy: 0.9937 - val_loss: 0.0687 - val_accuracy: 0.9799\n",
            "Epoch 10/10\n",
            "1875/1875 [==============================] - 38s 20ms/step - loss: 0.0174 - accuracy: 0.9944 - val_loss: 0.0582 - val_accuracy: 0.9845\n",
            "313/313 [==============================] - 3s 8ms/step - loss: 0.0582 - accuracy: 0.9845\n",
            "0.058194078505039215 0.984499990940094\n"
          ]
        }
      ]
    },
    {
      "cell_type": "markdown",
      "source": [
        "### **3-3. 다중 출력 분류 모델**\n",
        "- 숫자를 맞추는 것에 더해 홀짝을 구분하는 서로 다른 분류 문제를 예측하는 다중 출력 모델 생성\n",
        "  + 각기 다른 문제에 맞도록 최종 분류기의 출력 레이어를 2개 만드는 것이 핵심 "
      ],
      "metadata": {
        "id": "WJUuzwbpEM-A"
      }
    },
    {
      "cell_type": "code",
      "source": [
        "# Functional API를 사용해 모델 생성\n",
        "\n",
        "inputs=tf.keras.layers.Input(shape=(28, 28, 1), name='inputs')\n",
        "\n",
        "conv=tf.keras.layers.Conv2D(32, (3, 3), activation='relu', name='conv2d_layer')(inputs)\n",
        "pool=tf.keras.layers.MaxPooling2D((2,2), name='maxpool_layer')(conv)\n",
        "flat=tf.keras.layers.Flatten(name='flatten_layer')(pool)\n",
        "\n",
        "flat_inputs=tf.keras.layers.Flatten()(inputs)\n",
        "concat=tf.keras.layers.Concatenate()([flat, flat_inputs])\n",
        "digit_outputs=tf.keras.layers.Dense(10, activation='softmax', name='digit_dense')(concat)\n",
        "\n",
        "odd_outputs=tf.keras.layers.Dense(1, activation='sigmoid', name='odd_dense')(flat_inputs)\n",
        "\n",
        "model=tf.keras.models.Model(inputs=inputs, outputs=[digit_outputs, odd_outputs])\n",
        "\n",
        "model.summary()"
      ],
      "metadata": {
        "colab": {
          "base_uri": "https://localhost:8080/"
        },
        "id": "oIeQxgOA9VT9",
        "outputId": "c3794abb-bb39-4fc1-f1e3-2ac467099eb6"
      },
      "execution_count": 37,
      "outputs": [
        {
          "output_type": "stream",
          "name": "stdout",
          "text": [
            "Model: \"model_2\"\n",
            "__________________________________________________________________________________________________\n",
            " Layer (type)                   Output Shape         Param #     Connected to                     \n",
            "==================================================================================================\n",
            " inputs (InputLayer)            [(None, 28, 28, 1)]  0           []                               \n",
            "                                                                                                  \n",
            " conv2d_layer (Conv2D)          (None, 26, 26, 32)   320         ['inputs[0][0]']                 \n",
            "                                                                                                  \n",
            " maxpool_layer (MaxPooling2D)   (None, 13, 13, 32)   0           ['conv2d_layer[0][0]']           \n",
            "                                                                                                  \n",
            " flatten_layer (Flatten)        (None, 5408)         0           ['maxpool_layer[0][0]']          \n",
            "                                                                                                  \n",
            " flatten_3 (Flatten)            (None, 784)          0           ['inputs[0][0]']                 \n",
            "                                                                                                  \n",
            " concatenate_1 (Concatenate)    (None, 6192)         0           ['flatten_layer[0][0]',          \n",
            "                                                                  'flatten_3[0][0]']              \n",
            "                                                                                                  \n",
            " digit_dense (Dense)            (None, 10)           61930       ['concatenate_1[0][0]']          \n",
            "                                                                                                  \n",
            " odd_dense (Dense)              (None, 1)            785         ['flatten_3[0][0]']              \n",
            "                                                                                                  \n",
            "==================================================================================================\n",
            "Total params: 63,035\n",
            "Trainable params: 63,035\n",
            "Non-trainable params: 0\n",
            "__________________________________________________________________________________________________\n"
          ]
        }
      ]
    },
    {
      "cell_type": "code",
      "source": [
        "# 모델의 입력과 출력을 나타내는 텐서\n",
        "print(model.input)\n",
        "print(model.output)"
      ],
      "metadata": {
        "colab": {
          "base_uri": "https://localhost:8080/"
        },
        "id": "SInMdrXt9WRi",
        "outputId": "d749b420-4964-41fd-a115-19dd21e1e733"
      },
      "execution_count": 38,
      "outputs": [
        {
          "output_type": "stream",
          "name": "stdout",
          "text": [
            "KerasTensor(type_spec=TensorSpec(shape=(None, 28, 28, 1), dtype=tf.float32, name='inputs'), name='inputs', description=\"created by layer 'inputs'\")\n",
            "[<KerasTensor: shape=(None, 10) dtype=float32 (created by layer 'digit_dense')>, <KerasTensor: shape=(None, 1) dtype=float32 (created by layer 'odd_dense')>]\n"
          ]
        }
      ]
    },
    {
      "cell_type": "markdown",
      "source": [
        "- 입력은 하나이고, 출력은 10개인 텐서와 1개인 텐서로 두 개 확인 "
      ],
      "metadata": {
        "id": "n-zadgwzEcta"
      }
    },
    {
      "cell_type": "code",
      "source": [
        "tf.keras.utils.plot_model(model, show_shapes=True, show_layer_names=True, to_file='multi_output_cnn.png')"
      ],
      "metadata": {
        "colab": {
          "base_uri": "https://localhost:8080/",
          "height": 644
        },
        "id": "fNFgF3wf9Xgr",
        "outputId": "7aac617b-6cd8-4c00-ffdc-906de9a31f87"
      },
      "execution_count": 39,
      "outputs": [
        {
          "output_type": "execute_result",
          "data": {
            "image/png": "[encoded data removed]",
            "text/plain": [
              "<IPython.core.display.Image object>"
            ]
          },
          "metadata": {},
          "execution_count": 39
        }
      ]
    },
    {
      "cell_type": "markdown",
      "source": [
        "- 모델 컴파일 시 각각의 출력 Dense 레이어에 name 속성으로 이름을 지정한 것을 key로 하고, 해당 key에 해당하는 레이어에 적용할 손실함수와 가중치를 딕셔너리 형태로 지정해야함 \n",
        "- fit() 메소드 적용시에도 출력 값을 2개 지정하고, 레이어 이름 속성을 키로 하는 딕셔너리 형태로 각각의 출력에 맞는 정답 배열을 입력 "
      ],
      "metadata": {
        "id": "CVzqtYhlEjIA"
      }
    },
    {
      "cell_type": "code",
      "source": [
        "# 모델 컴파일\n",
        "model.compile(optimizer='adam',\n",
        "              loss={'digit_dense': 'sparse_categorical_crossentropy', \n",
        "                    'odd_dense':'binary_crossentropy'},\n",
        "              loss_weights={'digit_dense':1, 'odd_dense':0.5}, \n",
        "              # loss = 1.0 * sparse_categorical_crossentropy + 0.5 * binary_crossentropy\n",
        "              metrics=['accuracy'])\n",
        "\n",
        "# 모델 훈련\n",
        "history=model.fit({'inputs':x_train_in},\n",
        "                  {'digit_dense':y_train, 'odd_dense':y_train_odd},\n",
        "                   validation_data=({'inputs':x_valid_in}, {'digit_dense':y_valid, 'odd_dense':y_valid_odd}), epochs=10)"
      ],
      "metadata": {
        "colab": {
          "base_uri": "https://localhost:8080/"
        },
        "id": "JXqvYK9H9ZHE",
        "outputId": "fec53884-3e84-4058-fcb8-41bb7cfff7f9"
      },
      "execution_count": 40,
      "outputs": [
        {
          "output_type": "stream",
          "name": "stdout",
          "text": [
            "Epoch 1/10\n",
            "1875/1875 [==============================] - 43s 22ms/step - loss: 0.3749 - digit_dense_loss: 0.2124 - odd_dense_loss: 0.3249 - digit_dense_accuracy: 0.9390 - odd_dense_accuracy: 0.8648 - val_loss: 0.2333 - val_digit_dense_loss: 0.0949 - val_odd_dense_loss: 0.2768 - val_digit_dense_accuracy: 0.9714 - val_odd_dense_accuracy: 0.8875\n",
            "Epoch 2/10\n",
            "1875/1875 [==============================] - 37s 20ms/step - loss: 0.2153 - digit_dense_loss: 0.0795 - odd_dense_loss: 0.2716 - digit_dense_accuracy: 0.9767 - odd_dense_accuracy: 0.8914 - val_loss: 0.2016 - val_digit_dense_loss: 0.0695 - val_odd_dense_loss: 0.2642 - val_digit_dense_accuracy: 0.9771 - val_odd_dense_accuracy: 0.8962\n",
            "Epoch 3/10\n",
            "1875/1875 [==============================] - 43s 23ms/step - loss: 0.1918 - digit_dense_loss: 0.0606 - odd_dense_loss: 0.2626 - digit_dense_accuracy: 0.9819 - odd_dense_accuracy: 0.8954 - val_loss: 0.1884 - val_digit_dense_loss: 0.0588 - val_odd_dense_loss: 0.2591 - val_digit_dense_accuracy: 0.9805 - val_odd_dense_accuracy: 0.8992\n",
            "Epoch 4/10\n",
            "1875/1875 [==============================] - 39s 21ms/step - loss: 0.1795 - digit_dense_loss: 0.0500 - odd_dense_loss: 0.2591 - digit_dense_accuracy: 0.9847 - odd_dense_accuracy: 0.8974 - val_loss: 0.1868 - val_digit_dense_loss: 0.0578 - val_odd_dense_loss: 0.2580 - val_digit_dense_accuracy: 0.9814 - val_odd_dense_accuracy: 0.9001\n",
            "Epoch 5/10\n",
            "1875/1875 [==============================] - 41s 22ms/step - loss: 0.1712 - digit_dense_loss: 0.0427 - odd_dense_loss: 0.2569 - digit_dense_accuracy: 0.9874 - odd_dense_accuracy: 0.8992 - val_loss: 0.1808 - val_digit_dense_loss: 0.0524 - val_odd_dense_loss: 0.2568 - val_digit_dense_accuracy: 0.9834 - val_odd_dense_accuracy: 0.9004\n",
            "Epoch 6/10\n",
            "1875/1875 [==============================] - 41s 22ms/step - loss: 0.1631 - digit_dense_loss: 0.0353 - odd_dense_loss: 0.2555 - digit_dense_accuracy: 0.9893 - odd_dense_accuracy: 0.8997 - val_loss: 0.1854 - val_digit_dense_loss: 0.0577 - val_odd_dense_loss: 0.2554 - val_digit_dense_accuracy: 0.9829 - val_odd_dense_accuracy: 0.9041\n",
            "Epoch 7/10\n",
            "1875/1875 [==============================] - 37s 20ms/step - loss: 0.1574 - digit_dense_loss: 0.0299 - odd_dense_loss: 0.2550 - digit_dense_accuracy: 0.9905 - odd_dense_accuracy: 0.9000 - val_loss: 0.1800 - val_digit_dense_loss: 0.0522 - val_odd_dense_loss: 0.2555 - val_digit_dense_accuracy: 0.9837 - val_odd_dense_accuracy: 0.9024\n",
            "Epoch 8/10\n",
            "1875/1875 [==============================] - 39s 21ms/step - loss: 0.1524 - digit_dense_loss: 0.0253 - odd_dense_loss: 0.2542 - digit_dense_accuracy: 0.9919 - odd_dense_accuracy: 0.9003 - val_loss: 0.1813 - val_digit_dense_loss: 0.0535 - val_odd_dense_loss: 0.2555 - val_digit_dense_accuracy: 0.9827 - val_odd_dense_accuracy: 0.9033\n",
            "Epoch 9/10\n",
            "1875/1875 [==============================] - 38s 20ms/step - loss: 0.1484 - digit_dense_loss: 0.0215 - odd_dense_loss: 0.2539 - digit_dense_accuracy: 0.9931 - odd_dense_accuracy: 0.9014 - val_loss: 0.1878 - val_digit_dense_loss: 0.0602 - val_odd_dense_loss: 0.2553 - val_digit_dense_accuracy: 0.9829 - val_odd_dense_accuracy: 0.9023\n",
            "Epoch 10/10\n",
            "1875/1875 [==============================] - 34s 18ms/step - loss: 0.1443 - digit_dense_loss: 0.0177 - odd_dense_loss: 0.2531 - digit_dense_accuracy: 0.9945 - odd_dense_accuracy: 0.9014 - val_loss: 0.1889 - val_digit_dense_loss: 0.0605 - val_odd_dense_loss: 0.2568 - val_digit_dense_accuracy: 0.9826 - val_odd_dense_accuracy: 0.9015\n"
          ]
        }
      ]
    },
    {
      "cell_type": "code",
      "source": [
        "# 모델 성능\n",
        "model.evaluate({'inputs':x_valid_in}, {'digit_dense':y_valid, 'odd_dense':y_valid_odd})"
      ],
      "metadata": {
        "colab": {
          "base_uri": "https://localhost:8080/"
        },
        "id": "3Fdfpzw39abX",
        "outputId": "45885bcb-7be5-4c18-b15f-c7a388c531f1"
      },
      "execution_count": 41,
      "outputs": [
        {
          "output_type": "stream",
          "name": "stdout",
          "text": [
            "313/313 [==============================] - 3s 8ms/step - loss: 0.1889 - digit_dense_loss: 0.0605 - odd_dense_loss: 0.2568 - digit_dense_accuracy: 0.9826 - odd_dense_accuracy: 0.9015\n"
          ]
        },
        {
          "output_type": "execute_result",
          "data": {
            "text/plain": [
              "[0.18885169923305511,\n",
              " 0.06046166270971298,\n",
              " 0.2567802369594574,\n",
              " 0.9825999736785889,\n",
              " 0.9014999866485596]"
            ]
          },
          "metadata": {},
          "execution_count": 41
        }
      ]
    },
    {
      "cell_type": "markdown",
      "source": [
        "- 약 90%의 정확도 "
      ],
      "metadata": {
        "id": "f-mafVsGE1X9"
      }
    },
    {
      "cell_type": "code",
      "source": [
        "# 샘플 이미지 출력\n",
        "import matplotlib.pylab as plt\n",
        "\n",
        "def plot_image(data, idx):\n",
        "  plt.figure(figsize=(5,5))\n",
        "  plt.imshow(data[idx])\n",
        "  plt.axis('off')\n",
        "  plt.show()\n",
        "\n",
        "plot_image(x_valid, 0)"
      ],
      "metadata": {
        "colab": {
          "base_uri": "https://localhost:8080/",
          "height": 422
        },
        "id": "-08I2LJU9bvK",
        "outputId": "9b1cbb04-cc7a-41c6-ba1e-03fbc0784083"
      },
      "execution_count": 42,
      "outputs": [
        {
          "output_type": "display_data",
          "data": {
            "text/plain": [
              "<Figure size 500x500 with 1 Axes>"
            ],
            "image/png": "[encoded data removed]"
          },
          "metadata": {}
        }
      ]
    },
    {
      "cell_type": "code",
      "source": [
        "digit_preds, odd_preds=model.predict(x_valid_in)\n",
        "print(digit_preds[0])\n",
        "print(odd_preds[0])"
      ],
      "metadata": {
        "colab": {
          "base_uri": "https://localhost:8080/"
        },
        "id": "8_OBFYZ69crk",
        "outputId": "a5166a14-cfa9-4d8b-ff53-d050ab87aad3"
      },
      "execution_count": 43,
      "outputs": [
        {
          "output_type": "stream",
          "name": "stdout",
          "text": [
            "313/313 [==============================] - 2s 7ms/step\n",
            "[1.1051489e-12 2.1754026e-10 5.3448139e-09 7.3476275e-07 1.1746407e-11\n",
            " 9.9228286e-13 1.5962178e-19 9.9999911e-01 2.2774946e-10 7.1473956e-08]\n",
            "[0.999603]\n"
          ]
        }
      ]
    },
    {
      "cell_type": "markdown",
      "source": [
        "- argmax 함수를 이용해 예측 확률 실제 정답 레이블로 변환\n",
        "  + 7로 예측 "
      ],
      "metadata": {
        "id": "DzGwNsCFE6Fg"
      }
    },
    {
      "cell_type": "code",
      "source": [
        "digit_labels=np.argmax(digit_preds, axis=1)\n",
        "digit_labels[0:10]"
      ],
      "metadata": {
        "colab": {
          "base_uri": "https://localhost:8080/"
        },
        "id": "eptkmuZt9d0p",
        "outputId": "0ac522d3-7f43-405a-9f12-2742b0cee828"
      },
      "execution_count": 44,
      "outputs": [
        {
          "output_type": "execute_result",
          "data": {
            "text/plain": [
              "array([7, 2, 1, 0, 4, 1, 4, 9, 6, 9])"
            ]
          },
          "metadata": {},
          "execution_count": 44
        }
      ]
    },
    {
      "cell_type": "markdown",
      "source": [
        "- 홀짝 여부에 대한 예측 레이블 출력\n",
        "  + 홀수는 1, 짝수는 0으로 정확하게 분류"
      ],
      "metadata": {
        "id": "iLtdBreCE_2N"
      }
    },
    {
      "cell_type": "code",
      "source": [
        "odd_labels=(odd_preds>0.5).astype(np.int).reshape(1, -1)[0]\n",
        "odd_labels[0:10]"
      ],
      "metadata": {
        "colab": {
          "base_uri": "https://localhost:8080/"
        },
        "id": "qoKwx_In9etX",
        "outputId": "3f753ab1-f2d6-4cb0-8774-2df2621e4ef6"
      },
      "execution_count": 45,
      "outputs": [
        {
          "output_type": "stream",
          "name": "stderr",
          "text": [
            "<ipython-input-45-b68f671b10f9>:1: DeprecationWarning: `np.int` is a deprecated alias for the builtin `int`. To silence this warning, use `int` by itself. Doing this will not modify any behavior and is safe. When replacing `np.int`, you may wish to use e.g. `np.int64` or `np.int32` to specify the precision. If you wish to review your current use, check the release note link for additional information.\n",
            "Deprecated in NumPy 1.20; for more details and guidance: https://numpy.org/devdocs/release/1.20.0-notes.html#deprecations\n",
            "  odd_labels=(odd_preds>0.5).astype(np.int).reshape(1, -1)[0]\n"
          ]
        },
        {
          "output_type": "execute_result",
          "data": {
            "text/plain": [
              "array([1, 0, 1, 0, 0, 1, 0, 1, 1, 1])"
            ]
          },
          "metadata": {},
          "execution_count": 45
        }
      ]
    },
    {
      "cell_type": "markdown",
      "source": [
        "### **전이 학습**\n",
        "- 전이 학습: 앞서 훈련한 모델의 일부를 가져와서 그대로 사용하고, 최종 출력층만 새롭게 추가하여 모델을 재구성하는 것 \n",
        "\n",
        "- 앞에서 학습한 모델에서 입력 레이어부터 flatten_layer라는 name 속성을 갖는 Flatten 층까지 해당하는 부분을 따로 추출하여 base_model 객체 생성\n",
        "  + (28, 28, 1) 이미지를 받아 5408개의 피처로 특징을 추출/출력하는 모델 "
      ],
      "metadata": {
        "id": "ING2jQXvFFZK"
      }
    },
    {
      "cell_type": "code",
      "source": [
        "# 앞의 모델에서 flatten_layer 출력을 추출\n",
        "base_model_output=model.get_layer('flatten_layer').output\n",
        "\n",
        "# 앞의 출력을 출력으로 하는 모델 정의\n",
        "base_model=tf.keras.models.Model(inputs=model.input, outputs=base_model_output, name='base')\n",
        "base_model.summary()"
      ],
      "metadata": {
        "colab": {
          "base_uri": "https://localhost:8080/"
        },
        "id": "pBZgMwi-9fd0",
        "outputId": "27fc33f1-d594-46e1-8f74-a1eac429fef0"
      },
      "execution_count": 46,
      "outputs": [
        {
          "output_type": "stream",
          "name": "stdout",
          "text": [
            "Model: \"base\"\n",
            "_________________________________________________________________\n",
            " Layer (type)                Output Shape              Param #   \n",
            "=================================================================\n",
            " inputs (InputLayer)         [(None, 28, 28, 1)]       0         \n",
            "                                                                 \n",
            " conv2d_layer (Conv2D)       (None, 26, 26, 32)        320       \n",
            "                                                                 \n",
            " maxpool_layer (MaxPooling2D  (None, 13, 13, 32)       0         \n",
            " )                                                               \n",
            "                                                                 \n",
            " flatten_layer (Flatten)     (None, 5408)              0         \n",
            "                                                                 \n",
            "=================================================================\n",
            "Total params: 320\n",
            "Trainable params: 320\n",
            "Non-trainable params: 0\n",
            "_________________________________________________________________\n"
          ]
        }
      ]
    },
    {
      "cell_type": "code",
      "source": [
        "tf.keras.utils.plot_model(base_model, show_shapes=True, show_layer_names=True, to_file='base_model.png')"
      ],
      "metadata": {
        "colab": {
          "base_uri": "https://localhost:8080/",
          "height": 422
        },
        "id": "gJoetn1N9ge2",
        "outputId": "3688a308-a500-4745-a48e-17a5e21d3a0c"
      },
      "execution_count": 47,
      "outputs": [
        {
          "output_type": "execute_result",
          "data": {
            "image/png": "[encoded data removed]",
            "text/plain": [
              "<IPython.core.display.Image object>"
            ]
          },
          "metadata": {},
          "execution_count": 47
        }
      ]
    },
    {
      "cell_type": "markdown",
      "source": [
        "- base_model을 레이어로 추가하고 최종 분류기 역할을 하는 Dense 레이어를 새롭게 이어서 추가 "
      ],
      "metadata": {
        "id": "DLXQt2dXFdGc"
      }
    },
    {
      "cell_type": "code",
      "source": [
        "# Sequential API 적용\n",
        "digit_model=tf.keras.Sequential([\n",
        "    base_model, tf.keras.layers.Dense(10, activation='softmax')\n",
        "])\n",
        "digit_model.summary()"
      ],
      "metadata": {
        "colab": {
          "base_uri": "https://localhost:8080/"
        },
        "id": "GpD9Zyoy9hZ9",
        "outputId": "cd263a34-6e2c-40e0-9f81-a82b10f2c30f"
      },
      "execution_count": 48,
      "outputs": [
        {
          "output_type": "stream",
          "name": "stdout",
          "text": [
            "Model: \"sequential_1\"\n",
            "_________________________________________________________________\n",
            " Layer (type)                Output Shape              Param #   \n",
            "=================================================================\n",
            " base (Functional)           (None, 5408)              320       \n",
            "                                                                 \n",
            " dense_2 (Dense)             (None, 10)                54090     \n",
            "                                                                 \n",
            "=================================================================\n",
            "Total params: 54,410\n",
            "Trainable params: 54,410\n",
            "Non-trainable params: 0\n",
            "_________________________________________________________________\n"
          ]
        }
      ]
    },
    {
      "cell_type": "markdown",
      "source": [
        "- 최종적으로 노드 10개를 가진 분류기 역할을 하는 Dense 레이어 추가된 것을 확인 "
      ],
      "metadata": {
        "id": "PilH1WWZFjqq"
      }
    },
    {
      "cell_type": "code",
      "source": [
        "tf.keras.utils.plot_model(digit_model, show_shapes=True, show_layer_names=True, to_file='digit_model.png')"
      ],
      "metadata": {
        "colab": {
          "base_uri": "https://localhost:8080/",
          "height": 312
        },
        "id": "jh2fdTeN9iUM",
        "outputId": "272a5141-c0a4-461b-cb46-305a9789931c"
      },
      "execution_count": 49,
      "outputs": [
        {
          "output_type": "execute_result",
          "data": {
            "image/png": "[encoded data removed]",
            "text/plain": [
              "<IPython.core.display.Image object>"
            ]
          },
          "metadata": {},
          "execution_count": 49
        }
      ]
    },
    {
      "cell_type": "code",
      "source": [
        "# 모델 컴파일\n",
        "digit_model.compile(optimizer='adam', loss='sparse_categorical_crossentropy', metrics=['accuracy'])\n",
        "\n",
        "# 모델 훈련\n",
        "history=digit_model.fit(x_train_in, y_train, validation_data=(x_valid_in, y_valid), epochs=10)"
      ],
      "metadata": {
        "colab": {
          "base_uri": "https://localhost:8080/"
        },
        "id": "AWK7oUl19jT7",
        "outputId": "2764ce56-ded6-4605-e5e4-ccfc8c1d2668"
      },
      "execution_count": 50,
      "outputs": [
        {
          "output_type": "stream",
          "name": "stdout",
          "text": [
            "Epoch 1/10\n",
            "1875/1875 [==============================] - 35s 19ms/step - loss: 0.1320 - accuracy: 0.9625 - val_loss: 0.0665 - val_accuracy: 0.9783\n",
            "Epoch 2/10\n",
            "1875/1875 [==============================] - 32s 17ms/step - loss: 0.0579 - accuracy: 0.9829 - val_loss: 0.0572 - val_accuracy: 0.9810\n",
            "Epoch 3/10\n",
            "1875/1875 [==============================] - 36s 19ms/step - loss: 0.0449 - accuracy: 0.9864 - val_loss: 0.0492 - val_accuracy: 0.9841\n",
            "Epoch 4/10\n",
            "1875/1875 [==============================] - 37s 20ms/step - loss: 0.0358 - accuracy: 0.9887 - val_loss: 0.0519 - val_accuracy: 0.9833\n",
            "Epoch 5/10\n",
            "1875/1875 [==============================] - 38s 20ms/step - loss: 0.0295 - accuracy: 0.9910 - val_loss: 0.0485 - val_accuracy: 0.9841\n",
            "Epoch 6/10\n",
            "1875/1875 [==============================] - 32s 17ms/step - loss: 0.0247 - accuracy: 0.9921 - val_loss: 0.0513 - val_accuracy: 0.9836\n",
            "Epoch 7/10\n",
            "1875/1875 [==============================] - 35s 19ms/step - loss: 0.0207 - accuracy: 0.9938 - val_loss: 0.0530 - val_accuracy: 0.9837\n",
            "Epoch 8/10\n",
            "1875/1875 [==============================] - 41s 22ms/step - loss: 0.0168 - accuracy: 0.9951 - val_loss: 0.0536 - val_accuracy: 0.9839\n",
            "Epoch 9/10\n",
            "1875/1875 [==============================] - 38s 20ms/step - loss: 0.0140 - accuracy: 0.9959 - val_loss: 0.0632 - val_accuracy: 0.9822\n",
            "Epoch 10/10\n",
            "1875/1875 [==============================] - 40s 22ms/step - loss: 0.0121 - accuracy: 0.9965 - val_loss: 0.0571 - val_accuracy: 0.9839\n"
          ]
        }
      ]
    },
    {
      "cell_type": "markdown",
      "source": [
        "- 98.3%의 정확도를 보임 \n",
        "\n",
        "- 모델 인스턴스는 trainable 속성을 가짐 > False로 지정시 파라미터 값 고정 "
      ],
      "metadata": {
        "id": "SRGZXOvnFogB"
      }
    },
    {
      "cell_type": "code",
      "source": [
        "# 베이스 모델의 가중치 고정 (Freeze Model)\n",
        "\n",
        "base_model_frozen=tf.keras.models.Model(inputs=model.input, outputs=base_model_output, name='base_frozen')\n",
        "base_model_frozen.trainable=False\n",
        "base_model_frozen.summary()"
      ],
      "metadata": {
        "colab": {
          "base_uri": "https://localhost:8080/"
        },
        "id": "0MGMZZZq9kU9",
        "outputId": "8983ef1e-2030-48f3-a1a7-c7611a1d440d"
      },
      "execution_count": 51,
      "outputs": [
        {
          "output_type": "stream",
          "name": "stdout",
          "text": [
            "Model: \"base_frozen\"\n",
            "_________________________________________________________________\n",
            " Layer (type)                Output Shape              Param #   \n",
            "=================================================================\n",
            " inputs (InputLayer)         [(None, 28, 28, 1)]       0         \n",
            "                                                                 \n",
            " conv2d_layer (Conv2D)       (None, 26, 26, 32)        320       \n",
            "                                                                 \n",
            " maxpool_layer (MaxPooling2D  (None, 13, 13, 32)       0         \n",
            " )                                                               \n",
            "                                                                 \n",
            " flatten_layer (Flatten)     (None, 5408)              0         \n",
            "                                                                 \n",
            "=================================================================\n",
            "Total params: 320\n",
            "Trainable params: 0\n",
            "Non-trainable params: 320\n",
            "_________________________________________________________________\n"
          ]
        }
      ]
    },
    {
      "cell_type": "markdown",
      "source": [
        "- 파라미터를 고정한 base_model_input 모델과 새로운 분류기 역할을 하는 Dense 레이어를 Functional API를 적용하여 구성 "
      ],
      "metadata": {
        "id": "Y0KsAnacF0Hb"
      }
    },
    {
      "cell_type": "code",
      "source": [
        "# Functional API 적용\n",
        "dense_output=tf.keras.layers.Dense(10, activation='softmax')(base_model_frozen.output)\n",
        "digit_model_frozen=tf.keras.models.Model(inputs=base_model_frozen.input, outputs=dense_output)\n",
        "digit_model_frozen.summary()"
      ],
      "metadata": {
        "colab": {
          "base_uri": "https://localhost:8080/"
        },
        "id": "uruSZEll9lgp",
        "outputId": "22db1852-8977-4141-86f7-30818a8d2fd5"
      },
      "execution_count": 52,
      "outputs": [
        {
          "output_type": "stream",
          "name": "stdout",
          "text": [
            "Model: \"model_3\"\n",
            "_________________________________________________________________\n",
            " Layer (type)                Output Shape              Param #   \n",
            "=================================================================\n",
            " inputs (InputLayer)         [(None, 28, 28, 1)]       0         \n",
            "                                                                 \n",
            " conv2d_layer (Conv2D)       (None, 26, 26, 32)        320       \n",
            "                                                                 \n",
            " maxpool_layer (MaxPooling2D  (None, 13, 13, 32)       0         \n",
            " )                                                               \n",
            "                                                                 \n",
            " flatten_layer (Flatten)     (None, 5408)              0         \n",
            "                                                                 \n",
            " dense_3 (Dense)             (None, 10)                54090     \n",
            "                                                                 \n",
            "=================================================================\n",
            "Total params: 54,410\n",
            "Trainable params: 54,090\n",
            "Non-trainable params: 320\n",
            "_________________________________________________________________\n"
          ]
        }
      ]
    },
    {
      "cell_type": "code",
      "source": [
        "# 모델 컴파일\n",
        "digit_model_frozen.compile(optimizer='adam', loss='sparse_categorical_crossentropy', metrics=['accuracy'])\n",
        "\n",
        "# 모델 훈련\n",
        "history=digit_model_frozen.fit(x_train_in, y_train, validation_data=(x_valid_in, y_valid), epochs=10)"
      ],
      "metadata": {
        "colab": {
          "base_uri": "https://localhost:8080/"
        },
        "id": "JD18RJ0-9mY8",
        "outputId": "b47339d9-452d-470a-a3a2-910fd76e3482"
      },
      "execution_count": 53,
      "outputs": [
        {
          "output_type": "stream",
          "name": "stdout",
          "text": [
            "Epoch 1/10\n",
            "1875/1875 [==============================] - 17s 9ms/step - loss: 0.1177 - accuracy: 0.9685 - val_loss: 0.0591 - val_accuracy: 0.9832\n",
            "Epoch 2/10\n",
            "1875/1875 [==============================] - 16s 8ms/step - loss: 0.0494 - accuracy: 0.9853 - val_loss: 0.0548 - val_accuracy: 0.9823\n",
            "Epoch 3/10\n",
            "1875/1875 [==============================] - 18s 10ms/step - loss: 0.0368 - accuracy: 0.9889 - val_loss: 0.0512 - val_accuracy: 0.9838\n",
            "Epoch 4/10\n",
            "1875/1875 [==============================] - 17s 9ms/step - loss: 0.0282 - accuracy: 0.9917 - val_loss: 0.0503 - val_accuracy: 0.9845\n",
            "Epoch 5/10\n",
            "1875/1875 [==============================] - 18s 9ms/step - loss: 0.0229 - accuracy: 0.9930 - val_loss: 0.0533 - val_accuracy: 0.9837\n",
            "Epoch 6/10\n",
            "1875/1875 [==============================] - 18s 9ms/step - loss: 0.0188 - accuracy: 0.9943 - val_loss: 0.0520 - val_accuracy: 0.9846\n",
            "Epoch 7/10\n",
            "1875/1875 [==============================] - 14s 8ms/step - loss: 0.0162 - accuracy: 0.9949 - val_loss: 0.0527 - val_accuracy: 0.9844\n",
            "Epoch 8/10\n",
            "1875/1875 [==============================] - 17s 9ms/step - loss: 0.0128 - accuracy: 0.9961 - val_loss: 0.0539 - val_accuracy: 0.9838\n",
            "Epoch 9/10\n",
            "1875/1875 [==============================] - 19s 10ms/step - loss: 0.0110 - accuracy: 0.9968 - val_loss: 0.0601 - val_accuracy: 0.9834\n",
            "Epoch 10/10\n",
            "1875/1875 [==============================] - 17s 9ms/step - loss: 0.0088 - accuracy: 0.9978 - val_loss: 0.0598 - val_accuracy: 0.9835\n"
          ]
        }
      ]
    },
    {
      "cell_type": "markdown",
      "source": [
        "- 모델 전체가 아니라 특정 레이어를 지정하여 파라미터가 업데이트 되지 않도록 고정 "
      ],
      "metadata": {
        "id": "2ZU9I0JoF7LE"
      }
    },
    {
      "cell_type": "code",
      "source": [
        "# 베이스 모델의 Conv2D 레이어의 가중치만 고정 (Freeze Layer)\n",
        "\n",
        "base_model_frozen2=tf.keras.models.Model(inputs=model.input, outputs=base_model_output, name='base_frozen2')\n",
        "base_model_frozen2.get_layer('conv2d_layer').trainable=False\n",
        "base_model_frozen2.summary()"
      ],
      "metadata": {
        "colab": {
          "base_uri": "https://localhost:8080/"
        },
        "id": "0UXJYjmt9nSm",
        "outputId": "c140786d-9f9f-43fe-c8b4-2859fcfa63d7"
      },
      "execution_count": 54,
      "outputs": [
        {
          "output_type": "stream",
          "name": "stdout",
          "text": [
            "Model: \"base_frozen2\"\n",
            "_________________________________________________________________\n",
            " Layer (type)                Output Shape              Param #   \n",
            "=================================================================\n",
            " inputs (InputLayer)         [(None, 28, 28, 1)]       0         \n",
            "                                                                 \n",
            " conv2d_layer (Conv2D)       (None, 26, 26, 32)        320       \n",
            "                                                                 \n",
            " maxpool_layer (MaxPooling2D  (None, 13, 13, 32)       0         \n",
            " )                                                               \n",
            "                                                                 \n",
            " flatten_layer (Flatten)     (None, 5408)              0         \n",
            "                                                                 \n",
            "=================================================================\n",
            "Total params: 320\n",
            "Trainable params: 0\n",
            "Non-trainable params: 320\n",
            "_________________________________________________________________\n"
          ]
        }
      ]
    },
    {
      "cell_type": "markdown",
      "source": [
        "- 새로운 분류기 역할을 하는 Dense 레이어 연결하여 모델 구성 "
      ],
      "metadata": {
        "id": "LhUwJEKzF_dw"
      }
    },
    {
      "cell_type": "code",
      "source": [
        "# Functional API 적용\n",
        "dense_output2=tf.keras.layers.Dense(10, activation='softmax')(base_model_frozen2.output)\n",
        "digit_model_frozen2=tf.keras.models.Model(inputs=base_model_frozen2.input, outputs=dense_output2)\n",
        "digit_model_frozen2.summary()"
      ],
      "metadata": {
        "colab": {
          "base_uri": "https://localhost:8080/"
        },
        "id": "-fHGajUa9oSj",
        "outputId": "c72dd96f-9ea7-43c1-900a-66f59d3abc27"
      },
      "execution_count": 55,
      "outputs": [
        {
          "output_type": "stream",
          "name": "stdout",
          "text": [
            "Model: \"model_4\"\n",
            "_________________________________________________________________\n",
            " Layer (type)                Output Shape              Param #   \n",
            "=================================================================\n",
            " inputs (InputLayer)         [(None, 28, 28, 1)]       0         \n",
            "                                                                 \n",
            " conv2d_layer (Conv2D)       (None, 26, 26, 32)        320       \n",
            "                                                                 \n",
            " maxpool_layer (MaxPooling2D  (None, 13, 13, 32)       0         \n",
            " )                                                               \n",
            "                                                                 \n",
            " flatten_layer (Flatten)     (None, 5408)              0         \n",
            "                                                                 \n",
            " dense_4 (Dense)             (None, 10)                54090     \n",
            "                                                                 \n",
            "=================================================================\n",
            "Total params: 54,410\n",
            "Trainable params: 54,090\n",
            "Non-trainable params: 320\n",
            "_________________________________________________________________\n"
          ]
        }
      ]
    },
    {
      "cell_type": "code",
      "source": [
        "# 모델 컴파일\n",
        "digit_model_frozen2.compile(optimizer='adam', loss='sparse_categorical_crossentropy', metrics=['accuracy'])\n",
        "\n",
        "# 모델 훈련\n",
        "history=digit_model_frozen2.fit(x_train_in, y_train, validation_data=(x_valid_in, y_valid), epochs=10)"
      ],
      "metadata": {
        "colab": {
          "base_uri": "https://localhost:8080/"
        },
        "id": "346kReAu9pOp",
        "outputId": "b6e58eef-2305-43d6-b04c-27b6a10329b0"
      },
      "execution_count": 56,
      "outputs": [
        {
          "output_type": "stream",
          "name": "stdout",
          "text": [
            "Epoch 1/10\n",
            "1875/1875 [==============================] - 19s 10ms/step - loss: 0.1176 - accuracy: 0.9684 - val_loss: 0.0573 - val_accuracy: 0.9815\n",
            "Epoch 2/10\n",
            "1875/1875 [==============================] - 15s 8ms/step - loss: 0.0494 - accuracy: 0.9854 - val_loss: 0.0512 - val_accuracy: 0.9842\n",
            "Epoch 3/10\n",
            "1875/1875 [==============================] - 17s 9ms/step - loss: 0.0367 - accuracy: 0.9884 - val_loss: 0.0576 - val_accuracy: 0.9833\n",
            "Epoch 4/10\n",
            "1875/1875 [==============================] - 18s 9ms/step - loss: 0.0274 - accuracy: 0.9916 - val_loss: 0.0454 - val_accuracy: 0.9849\n",
            "Epoch 5/10\n",
            "1875/1875 [==============================] - 18s 10ms/step - loss: 0.0232 - accuracy: 0.9926 - val_loss: 0.0520 - val_accuracy: 0.9846\n",
            "Epoch 6/10\n",
            "1875/1875 [==============================] - 17s 9ms/step - loss: 0.0184 - accuracy: 0.9945 - val_loss: 0.0492 - val_accuracy: 0.9850\n",
            "Epoch 7/10\n",
            "1875/1875 [==============================] - 16s 8ms/step - loss: 0.0153 - accuracy: 0.9956 - val_loss: 0.0608 - val_accuracy: 0.9824\n",
            "Epoch 8/10\n",
            "1875/1875 [==============================] - 14s 7ms/step - loss: 0.0129 - accuracy: 0.9963 - val_loss: 0.0619 - val_accuracy: 0.9833\n",
            "Epoch 9/10\n",
            "1875/1875 [==============================] - 18s 9ms/step - loss: 0.0107 - accuracy: 0.9970 - val_loss: 0.0547 - val_accuracy: 0.9848\n",
            "Epoch 10/10\n",
            "1875/1875 [==============================] - 18s 9ms/step - loss: 0.0093 - accuracy: 0.9973 - val_loss: 0.0627 - val_accuracy: 0.9840\n"
          ]
        }
      ]
    }
  ]
}