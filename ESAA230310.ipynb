{
  "nbformat": 4,
  "nbformat_minor": 0,
  "metadata": {
    "colab": {
      "provenance": [],
      "authorship_tag": "ABX9TyPbLitC30rciqclWiVS4a60",
      "include_colab_link": true
    },
    "kernelspec": {
      "name": "python3",
      "display_name": "Python 3"
    },
    "language_info": {
      "name": "python"
    }
  },
  "cells": [
    {
      "cell_type": "markdown",
      "metadata": {
        "id": "view-in-github",
        "colab_type": "text"
      },
      "source": [
        "<a href=\"https://colab.research.google.com/github/min207/2023-1-ESAA/blob/main/ESAA230310.ipynb\" target=\"_parent\"><img src=\"https://colab.research.google.com/assets/colab-badge.svg\" alt=\"Open In Colab\"/></a>"
      ]
    },
    {
      "cell_type": "markdown",
      "source": [
        "## **CH03. 분류**\n",
        "----------------------------\n",
        "### **3.1 MNIST**\n",
        "- MNIST: 고등학생과 미국 인구조사국 직원들이 손으로 쓴 70,000개의 작은 숫자 이미지를 모은 데이터셋, 레이블 o"
      ],
      "metadata": {
        "id": "uCh4rQ13Dt-E"
      }
    },
    {
      "cell_type": "code",
      "execution_count": 41,
      "metadata": {
        "colab": {
          "base_uri": "https://localhost:8080/"
        },
        "id": "BCj26XXT-P0P",
        "outputId": "24cb15ac-d45e-4218-fc63-e1eb1765ec07"
      },
      "outputs": [
        {
          "output_type": "stream",
          "name": "stderr",
          "text": [
            "/usr/local/lib/python3.9/dist-packages/sklearn/datasets/_openml.py:932: FutureWarning: The default value of `parser` will change from `'liac-arff'` to `'auto'` in 1.4. You can set `parser='auto'` to silence this warning. Therefore, an `ImportError` will be raised from 1.4 if the dataset is dense and pandas is not installed. Note that the pandas parser may return different data types. See the Notes Section in fetch_openml's API doc for details.\n",
            "  warn(\n"
          ]
        },
        {
          "output_type": "execute_result",
          "data": {
            "text/plain": [
              "dict_keys(['data', 'target', 'frame', 'categories', 'feature_names', 'target_names', 'DESCR', 'details', 'url'])"
            ]
          },
          "metadata": {},
          "execution_count": 41
        }
      ],
      "source": [
        "import numpy as np\n",
        "import pandas as pd\n",
        "\n",
        "# 데이터셋 불러오기\n",
        "from sklearn.datasets import fetch_openml\n",
        "mnist = fetch_openml('mnist_784', version = 1, as_frame = False) # as_frame 인자 추가해야 X[0]에서 key error 안남\n",
        "mnist.keys()"
      ]
    },
    {
      "cell_type": "markdown",
      "source": [
        "> 사이킷런에서 읽어들인 데이터셋은 일반적으로 비슷한 딕셔너리 구조를 가짐\n",
        "  - 데이서텟을 설명하는 DESCR 키\n",
        "  - 샘플이 하나의 행, 특성이 하나의 열로 구성된 배열을 가진 data 키\n",
        "  - 레이블 배열을 담은 target 키"
      ],
      "metadata": {
        "id": "S3AFGDPDEjwn"
      }
    },
    {
      "cell_type": "code",
      "source": [
        "X, y = mnist[\"data\"], mnist[\"target\"]\n",
        "print(X.shape, y.shape)"
      ],
      "metadata": {
        "colab": {
          "base_uri": "https://localhost:8080/"
        },
        "id": "Q37TYtAdEjSA",
        "outputId": "2721791d-388f-4dfc-f630-02fd7d67aad6"
      },
      "execution_count": 42,
      "outputs": [
        {
          "output_type": "stream",
          "name": "stdout",
          "text": [
            "(70000, 784) (70000,)\n"
          ]
        }
      ]
    },
    {
      "cell_type": "markdown",
      "source": [
        "> 이미지는 70,000개, 그리고 각 이미지에는 784개의 특성이 존재 (이미지는 28*28 픽셀)\n",
        "- 개개의 특성은 0 ~ 255로 흰색부터 검은색까지의 픽셀 강도를 의미"
      ],
      "metadata": {
        "id": "eFMHFhbEE-Mi"
      }
    },
    {
      "cell_type": "code",
      "source": [
        "import matplotlib as mpl\n",
        "import matplotlib.pyplot as plt\n",
        "\n",
        "some_digit = X[0] # 이미지 지정 후 확인인\n",
        "some_digit_image = some_digit.reshape(28, 28)\n",
        "\n",
        "plt.imshow(some_digit_image, cmap=\"binary\")\n",
        "plt.axis(\"off\")\n",
        "plt.show()"
      ],
      "metadata": {
        "colab": {
          "base_uri": "https://localhost:8080/",
          "height": 248
        },
        "id": "rj8Ec0KkE9Fg",
        "outputId": "a3130014-efd1-4c65-86a7-657b36c31f44"
      },
      "execution_count": 43,
      "outputs": [
        {
          "output_type": "display_data",
          "data": {
            "text/plain": [
              "<Figure size 432x288 with 1 Axes>"
            ],
            "image/png": "[encoded data removed]"
          },
          "metadata": {
            "needs_background": "light"
          }
        }
      ]
    },
    {
      "cell_type": "code",
      "source": [
        "y[0] # 실제 레이블 확인"
      ],
      "metadata": {
        "colab": {
          "base_uri": "https://localhost:8080/",
          "height": 35
        },
        "id": "gq6vyfmNFfRI",
        "outputId": "8ffae21c-5872-41c1-e89b-8693af4a1e6b"
      },
      "execution_count": 44,
      "outputs": [
        {
          "output_type": "execute_result",
          "data": {
            "text/plain": [
              "'5'"
            ],
            "application/vnd.google.colaboratory.intrinsic+json": {
              "type": "string"
            }
          },
          "metadata": {},
          "execution_count": 44
        }
      ]
    },
    {
      "cell_type": "code",
      "source": [
        "y = y.astype(np.uint8) # 문자열 -> 정수 변환"
      ],
      "metadata": {
        "id": "Zu1iKAzXHENN"
      },
      "execution_count": 45,
      "outputs": []
    },
    {
      "cell_type": "markdown",
      "source": [
        "** 주의할 점: 데이터 조사 전 테스트 세트를 별도로 떼어놓아야함. MNIST 데이터셋은 훈련 세트(60,000)와 테스트 세트(10,000)로 구성\n",
        "\n",
        "\n",
        "- 데이터셋을 섞는 것을 통해 비슷한 샘플이 연이어 나타나 학습 알고리즘의 성능이 나빠지는 것을 방지"
      ],
      "metadata": {
        "id": "BhBXiVxjHR1l"
      }
    },
    {
      "cell_type": "code",
      "source": [
        "X_train, X_test, y_train, y_test = X[:60000], X[60000:], y[:60000], y[60000:]"
      ],
      "metadata": {
        "id": "WyFz7k-IHLP0"
      },
      "execution_count": 46,
      "outputs": []
    },
    {
      "cell_type": "markdown",
      "source": [
        "-----------------------\n",
        "\n",
        "### **3.2 이진 분류기 훈련**\n",
        "\n",
        "- 이진 분류기: 하나의 숫자를 식별하는 것처럼(ex. 5인 것과 5가 아닌 것) 두 개의 클래스를 구분"
      ],
      "metadata": {
        "id": "RbXEwucKH2n0"
      }
    },
    {
      "cell_type": "code",
      "source": [
        "# 타깃 벡터 생성\n",
        "y_train_5 = (y_train == 5) # 5는 True고, 다른 숫자는 모두 False\n",
        "y_test_5 = (y_test == 5)"
      ],
      "metadata": {
        "id": "_rxwdxi-Hqd9"
      },
      "execution_count": 47,
      "outputs": []
    },
    {
      "cell_type": "markdown",
      "source": [
        "> 사이킷런의 SGDClassifier 클래스를 사용해 확률적 경사 하강법(SGD) 분류기로 훈련\n",
        "  - 매우 큰 데이터셋을 효율적으로 처리 가능\n",
        "    + SGD는 한 번에 하나씩 훈련 샘플을 독립적으로 처리하기 때문"
      ],
      "metadata": {
        "id": "cUqCKIX9IXMk"
      }
    },
    {
      "cell_type": "code",
      "source": [
        "from sklearn.linear_model import SGDClassifier\n",
        "\n",
        "sgd_clf = SGDClassifier(random_state=42)\n",
        "sgd_clf.fit(X_train, y_train_5)"
      ],
      "metadata": {
        "colab": {
          "base_uri": "https://localhost:8080/",
          "height": 75
        },
        "id": "_DD_GvX9IW9l",
        "outputId": "de878762-252d-49d3-8806-fcbf3382acaa"
      },
      "execution_count": 48,
      "outputs": [
        {
          "output_type": "execute_result",
          "data": {
            "text/plain": [
              "SGDClassifier(random_state=42)"
            ],
            "text/html": [
              "<style>#sk-container-id-2 {color: black;background-color: white;}#sk-container-id-2 pre{padding: 0;}#sk-container-id-2 div.sk-toggleable {background-color: white;}#sk-container-id-2 label.sk-toggleable__label {cursor: pointer;display: block;width: 100%;margin-bottom: 0;padding: 0.3em;box-sizing: border-box;text-align: center;}#sk-container-id-2 label.sk-toggleable__label-arrow:before {content: \"▸\";float: left;margin-right: 0.25em;color: #696969;}#sk-container-id-2 label.sk-toggleable__label-arrow:hover:before {color: black;}#sk-container-id-2 div.sk-estimator:hover label.sk-toggleable__label-arrow:before {color: black;}#sk-container-id-2 div.sk-toggleable__content {max-height: 0;max-width: 0;overflow: hidden;text-align: left;background-color: #f0f8ff;}#sk-container-id-2 div.sk-toggleable__content pre {margin: 0.2em;color: black;border-radius: 0.25em;background-color: #f0f8ff;}#sk-container-id-2 input.sk-toggleable__control:checked~div.sk-toggleable__content {max-height: 200px;max-width: 100%;overflow: auto;}#sk-container-id-2 input.sk-toggleable__control:checked~label.sk-toggleable__label-arrow:before {content: \"▾\";}#sk-container-id-2 div.sk-estimator input.sk-toggleable__control:checked~label.sk-toggleable__label {background-color: #d4ebff;}#sk-container-id-2 div.sk-label input.sk-toggleable__control:checked~label.sk-toggleable__label {background-color: #d4ebff;}#sk-container-id-2 input.sk-hidden--visually {border: 0;clip: rect(1px 1px 1px 1px);clip: rect(1px, 1px, 1px, 1px);height: 1px;margin: -1px;overflow: hidden;padding: 0;position: absolute;width: 1px;}#sk-container-id-2 div.sk-estimator {font-family: monospace;background-color: #f0f8ff;border: 1px dotted black;border-radius: 0.25em;box-sizing: border-box;margin-bottom: 0.5em;}#sk-container-id-2 div.sk-estimator:hover {background-color: #d4ebff;}#sk-container-id-2 div.sk-parallel-item::after {content: \"\";width: 100%;border-bottom: 1px solid gray;flex-grow: 1;}#sk-container-id-2 div.sk-label:hover label.sk-toggleable__label {background-color: #d4ebff;}#sk-container-id-2 div.sk-serial::before {content: \"\";position: absolute;border-left: 1px solid gray;box-sizing: border-box;top: 0;bottom: 0;left: 50%;z-index: 0;}#sk-container-id-2 div.sk-serial {display: flex;flex-direction: column;align-items: center;background-color: white;padding-right: 0.2em;padding-left: 0.2em;position: relative;}#sk-container-id-2 div.sk-item {position: relative;z-index: 1;}#sk-container-id-2 div.sk-parallel {display: flex;align-items: stretch;justify-content: center;background-color: white;position: relative;}#sk-container-id-2 div.sk-item::before, #sk-container-id-2 div.sk-parallel-item::before {content: \"\";position: absolute;border-left: 1px solid gray;box-sizing: border-box;top: 0;bottom: 0;left: 50%;z-index: -1;}#sk-container-id-2 div.sk-parallel-item {display: flex;flex-direction: column;z-index: 1;position: relative;background-color: white;}#sk-container-id-2 div.sk-parallel-item:first-child::after {align-self: flex-end;width: 50%;}#sk-container-id-2 div.sk-parallel-item:last-child::after {align-self: flex-start;width: 50%;}#sk-container-id-2 div.sk-parallel-item:only-child::after {width: 0;}#sk-container-id-2 div.sk-dashed-wrapped {border: 1px dashed gray;margin: 0 0.4em 0.5em 0.4em;box-sizing: border-box;padding-bottom: 0.4em;background-color: white;}#sk-container-id-2 div.sk-label label {font-family: monospace;font-weight: bold;display: inline-block;line-height: 1.2em;}#sk-container-id-2 div.sk-label-container {text-align: center;}#sk-container-id-2 div.sk-container {/* jupyter's `normalize.less` sets `[hidden] { display: none; }` but bootstrap.min.css set `[hidden] { display: none !important; }` so we also need the `!important` here to be able to override the default hidden behavior on the sphinx rendered scikit-learn.org. See: https://github.com/scikit-learn/scikit-learn/issues/21755 */display: inline-block !important;position: relative;}#sk-container-id-2 div.sk-text-repr-fallback {display: none;}</style><div id=\"sk-container-id-2\" class=\"sk-top-container\"><div class=\"sk-text-repr-fallback\"><pre>SGDClassifier(random_state=42)</pre><b>In a Jupyter environment, please rerun this cell to show the HTML representation or trust the notebook. <br />On GitHub, the HTML representation is unable to render, please try loading this page with nbviewer.org.</b></div><div class=\"sk-container\" hidden><div class=\"sk-item\"><div class=\"sk-estimator sk-toggleable\"><input class=\"sk-toggleable__control sk-hidden--visually\" id=\"sk-estimator-id-2\" type=\"checkbox\" checked><label for=\"sk-estimator-id-2\" class=\"sk-toggleable__label sk-toggleable__label-arrow\">SGDClassifier</label><div class=\"sk-toggleable__content\"><pre>SGDClassifier(random_state=42)</pre></div></div></div></div></div>"
            ]
          },
          "metadata": {},
          "execution_count": 48
        }
      ]
    },
    {
      "cell_type": "code",
      "source": [
        "# 모델을 통해 숫자 5 이미지 감지\n",
        "sgd_clf.predict([some_digit])"
      ],
      "metadata": {
        "colab": {
          "base_uri": "https://localhost:8080/"
        },
        "id": "ANCcE0-bIyjQ",
        "outputId": "50aa6e61-6fe5-467e-9c27-e33972ae7a67"
      },
      "execution_count": 49,
      "outputs": [
        {
          "output_type": "execute_result",
          "data": {
            "text/plain": [
              "array([ True])"
            ]
          },
          "metadata": {},
          "execution_count": 49
        }
      ]
    },
    {
      "cell_type": "markdown",
      "source": [
        "> 위에서 지정한 이미지가 5를 나타낸다고 맞게 추측\n",
        "\n",
        "--------------------------\n",
        "\n",
        "### **3.3 성능 측정**\n",
        "\n",
        "#### 3.3.1 교차 검증을 사용한 정확도 측정\n",
        "- 교차 검증 과정을 더 많이 제어할 필요가 있는 경우, 교차 검증 기능을 직접 구현"
      ],
      "metadata": {
        "id": "g28dy3DOJELV"
      }
    },
    {
      "cell_type": "code",
      "source": [
        "# 사이킷런의 cross_val_score()과 비슷한 작업을 수행/출력하는 코드\n",
        "from sklearn.model_selection import StratifiedKFold\n",
        "from sklearn.base import clone\n",
        "\n",
        "skfolds = StratifiedKFold(n_splits=3, random_state=42, shuffle=True) # error가 떠서 shuffle = True 설정\n",
        "\n",
        "for train_index, test_index in skfolds.split(X_train, y_train_5):\n",
        "    clone_clf = clone(sgd_clf)\n",
        "    X_train_folds = X_train[train_index]\n",
        "    y_train_folds = y_train_5[train_index]\n",
        "    X_test_fold = X_train[test_index]\n",
        "    y_test_fold = y_train_5[test_index]\n",
        "\n",
        "    clone_clf.fit(X_train_folds, y_train_folds)\n",
        "    y_pred = clone_clf.predict(X_test_fold)\n",
        "    n_correct = sum(y_pred == y_test_fold)\n",
        "    print(n_correct / len(y_pred))"
      ],
      "metadata": {
        "colab": {
          "base_uri": "https://localhost:8080/"
        },
        "id": "oc59HtQdJDRz",
        "outputId": "0c517552-af5a-4cc1-d450-22021979640e"
      },
      "execution_count": 50,
      "outputs": [
        {
          "output_type": "stream",
          "name": "stdout",
          "text": [
            "0.9669\n",
            "0.91625\n",
            "0.96785\n"
          ]
        }
      ]
    },
    {
      "cell_type": "markdown",
      "source": [
        "> StratifiedKFold는 클래스별 비율이 유지되도록 폴드를 만들기 위해 계층적 샘플링 수행/ 분류기 객체를 복제하여 훈련/예측 후 올바른 예측의 수를 세어 정확한 예측의 비율 출력"
      ],
      "metadata": {
        "id": "GFXVxL-VJ7OO"
      }
    },
    {
      "cell_type": "code",
      "source": [
        "# cross_val_score()를 이용해 모델 성능 평가\n",
        "from sklearn.model_selection import cross_val_score\n",
        "cross_val_score(sgd_clf, X_train, y_train_5, cv=3, scoring=\"accuracy\")"
      ],
      "metadata": {
        "colab": {
          "base_uri": "https://localhost:8080/"
        },
        "id": "g9KOnvhuKK8_",
        "outputId": "b82afb40-f222-4f0e-8035-c3f00c0703ba"
      },
      "execution_count": 51,
      "outputs": [
        {
          "output_type": "execute_result",
          "data": {
            "text/plain": [
              "array([0.95035, 0.96035, 0.9604 ])"
            ]
          },
          "metadata": {},
          "execution_count": 51
        }
      ]
    },
    {
      "cell_type": "markdown",
      "source": [
        "> 모든 교차 검증 폴드에 대한 정확도가 95% 이상 >> 모든 이미지를 '5 아님' 클래스로 분류하는 더미 분류기와 비교"
      ],
      "metadata": {
        "id": "e5ANriVRKcTK"
      }
    },
    {
      "cell_type": "code",
      "source": [
        "from sklearn.base import BaseEstimator\n",
        "\n",
        "class Never5Classifier(BaseEstimator):\n",
        "    def fit(self, X, y=None):\n",
        "        pass\n",
        "    def predict(self, X):\n",
        "        return np.zeros((len(X), 1), dtype=bool)\n",
        "\n",
        "# 모델의 정확도 추측\n",
        "never_5_clf = Never5Classifier()\n",
        "cross_val_score(never_5_clf, X_train, y_train_5, cv=3, scoring=\"accuracy\")"
      ],
      "metadata": {
        "colab": {
          "base_uri": "https://localhost:8080/"
        },
        "id": "syB9w5oIKaE4",
        "outputId": "39b157cd-18ad-4c0b-944c-00d31b264b25"
      },
      "execution_count": 52,
      "outputs": [
        {
          "output_type": "execute_result",
          "data": {
            "text/plain": [
              "array([0.91125, 0.90855, 0.90915])"
            ]
          },
          "metadata": {},
          "execution_count": 52
        }
      ]
    },
    {
      "cell_type": "markdown",
      "source": [
        "> 모두 정확도 90% 이상 >> 이미지의 약 10% 정도만 숫자 5인 불균형한 데이터셋이기 때문\n",
        "  - 따라서 정확도를 분류기의 성능 측정 지표로 적합하지 않음\n",
        "    + 특히 불균형한 데이터셋인 경우\n",
        "\n",
        "\n",
        "\n",
        "#### 3.3.2 오차 행렬\n",
        "- 오차 행렬: 클래스 A의 샘플이 클래스 B로 분류된 횟수를 세는 것\n",
        "- 오차 행렬을 만들기 위해서는 실제 타깃과 비교할 예측값이 필요: cross_val_predict() 함수 사용 "
      ],
      "metadata": {
        "id": "GxEv7AvRK2Rt"
      }
    },
    {
      "cell_type": "code",
      "source": [
        "from sklearn.model_selection import cross_val_predict\n",
        "\n",
        "y_train_pred = cross_val_predict(sgd_clf, X_train, y_train_5, cv=3)"
      ],
      "metadata": {
        "id": "7h9qIJr_K11f"
      },
      "execution_count": 53,
      "outputs": []
    },
    {
      "cell_type": "markdown",
      "source": [
        "> k-겹 교차 검증을 수행하지만 평가 점수 반환x, 각 테스트 폴드에서 얻은 예측 반환\n",
        "- confusion_matrix() 함수를 통해 오차 행렬 생성"
      ],
      "metadata": {
        "id": "Wc7N6hTNLkfi"
      }
    },
    {
      "cell_type": "code",
      "source": [
        "from sklearn.metrics import confusion_matrix\n",
        "confusion_matrix(y_train_5, y_train_pred)"
      ],
      "metadata": {
        "colab": {
          "base_uri": "https://localhost:8080/"
        },
        "id": "tYkYhs1jLjH0",
        "outputId": "fd955611-8a22-4215-925c-578619140fc1"
      },
      "execution_count": 54,
      "outputs": [
        {
          "output_type": "execute_result",
          "data": {
            "text/plain": [
              "array([[53892,   687],\n",
              "       [ 1891,  3530]])"
            ]
          },
          "metadata": {},
          "execution_count": 54
        }
      ]
    },
    {
      "cell_type": "markdown",
      "source": [
        "> - 오차 행렬의 행은 실제 클래스, 열은 예측한 클래스를 나타냄\n",
        "    + 첫번째 행: 음성 클래스(negative class) / 두번째 행: 양성 클래스(positive class)\n",
        "    + TN: 53,057 / '5 아님'으로 정확하게 분류\n",
        "    + FP: 1,522 / '5'로 잘못 분류\n",
        "    + FN: 1,325 / '5 아님'으로 잘못 분류\n",
        "    + TP: 4,096 / '5'로 정확하게 분류"
      ],
      "metadata": {
        "id": "-Xv7fpbxL1wB"
      }
    },
    {
      "cell_type": "code",
      "source": [
        "y_train_perfect_predictions = y_train_5 # 완벽한 분류기일 경우\n",
        "confusion_matrix(y_train_5, y_train_perfect_predictions)"
      ],
      "metadata": {
        "colab": {
          "base_uri": "https://localhost:8080/"
        },
        "id": "UKpltpJQL0up",
        "outputId": "94fff382-c3fa-4ec4-e551-9e7e5eada59e"
      },
      "execution_count": 55,
      "outputs": [
        {
          "output_type": "execute_result",
          "data": {
            "text/plain": [
              "array([[54579,     0],\n",
              "       [    0,  5421]])"
            ]
          },
          "metadata": {},
          "execution_count": 55
        }
      ]
    },
    {
      "cell_type": "markdown",
      "source": [
        "> 오차 행렬보다 더 요약된 지표가 필요할 경우 정밀도, 재현율 사용 가능\n",
        "- 정밀도(precision): 양성 예측의 정확도\n",
        "$$ precision= \\frac{TP}{TP+FP}$$\n",
        "- 재현율(recall): 분류기가 정확하게 감지한 양성 샘플의 비율, 정밀도와 상호 보완적으로 함께 사용\n",
        "  + 민감도(sensitivity), 진짜 양성 비율(true positive rate, TPR)과 동일어\n",
        "$$ recall = \\frac{TP}{TP+FN}$$\n",
        "\n",
        "\n",
        "#### 3.3.3 정밀도와 재현율"
      ],
      "metadata": {
        "id": "1SpIDI0rMxTO"
      }
    },
    {
      "cell_type": "code",
      "source": [
        "from sklearn.metrics import precision_score, recall_score\n",
        "print(precision_score(y_train_5, y_train_pred), # 정밀도 계산, == 4096 / (4096 + 1522)\n",
        "recall_score(y_train_5, y_train_pred)) # 정밀도 계산 , == 4096 / (4096 + 1325)"
      ],
      "metadata": {
        "colab": {
          "base_uri": "https://localhost:8080/"
        },
        "id": "1L6vb1DlMuTp",
        "outputId": "dac17b70-bbb7-47b1-e6eb-8fe1ccb2e2e0"
      },
      "execution_count": 56,
      "outputs": [
        {
          "output_type": "stream",
          "name": "stdout",
          "text": [
            "0.8370879772350012 0.6511713705958311\n"
          ]
        }
      ]
    },
    {
      "cell_type": "markdown",
      "source": [
        "> 5로 판별된 이미지 중 83.7%만 정확, 전체 숫자 5 중 65.1%만 감지\n",
        "- F1 score: 정밀도와 재현율의 조화 평균(정밀도와 재현율을 하나의 숫자로 만든 것)\n",
        "  + 두 분류기를 비교할 때 유용\n",
        "  + 사이킷런의 f1_score() 함수를 통해 계산 가능\n",
        "$$ F_1 = \\frac{2}{\\frac{1}{정밀도} + \\frac{1}{재현율}} = 2 \\times \\frac{정밀도 \\times 재현율}{정밀도 + 재현율} = \\frac{TP}{TP + \\frac{FN + FP}{2}}$$"
      ],
      "metadata": {
        "id": "fTRQ0jCuOMXM"
      }
    },
    {
      "cell_type": "code",
      "source": [
        "from sklearn.metrics import f1_score\n",
        "f1_score(y_train_5, y_train_pred)"
      ],
      "metadata": {
        "colab": {
          "base_uri": "https://localhost:8080/"
        },
        "id": "PWA174vxOAyl",
        "outputId": "0e4bb0a8-ae79-4c55-b62b-a511e078d3cb"
      },
      "execution_count": 57,
      "outputs": [
        {
          "output_type": "execute_result",
          "data": {
            "text/plain": [
              "0.7325171197343846"
            ]
          },
          "metadata": {},
          "execution_count": 57
        }
      ]
    },
    {
      "cell_type": "markdown",
      "source": [
        "> - 정밀도와 재현율이 비슷한 분류기는 F1 score가 높음\n",
        "    + 그러나 상황에 따라 정밀도, 재현율의 중요도가 다르기 때문에 무조건 F1 score가 높아야만 하는 것은 아님\n",
        "  - 정밀도와 재현율이 동시에 높은 것은 불가능: **정밀도/재현율 트레이드오프**\n",
        "\n",
        "\n",
        "\n",
        "  #### 3.3.4 정밀도/재현율 트레이드오프\n",
        "  - SGDClassifier은 결정 함수(decision function)을 사용하여 각 샘플의 점수를 계산 >> 점수가 임곗값보다 클 경우 샘플을 양성 클래스에 할당\n",
        "  - 결정 임곗값(decision threshold)를 높이면 재현율이 낮아지고 정밀도가 높아짐\n",
        "  - 사이킷런에서 임곗값을 직접 지정 불가능하지만, 예측에 사용한 점수 확인은 가능: decision_function() 메서드 사용"
      ],
      "metadata": {
        "id": "7A7RgAlnOtMG"
      }
    },
    {
      "cell_type": "code",
      "source": [
        "y_scores = sgd_clf.decision_function([some_digit])\n",
        "y_scores"
      ],
      "metadata": {
        "colab": {
          "base_uri": "https://localhost:8080/"
        },
        "id": "v5HkJk32Or4Z",
        "outputId": "df6b8727-5c96-44cf-ca35-93d70475b68d"
      },
      "execution_count": 58,
      "outputs": [
        {
          "output_type": "execute_result",
          "data": {
            "text/plain": [
              "array([2164.22030239])"
            ]
          },
          "metadata": {},
          "execution_count": 58
        }
      ]
    },
    {
      "cell_type": "code",
      "source": [
        "threshold = 0\n",
        "y_some_digit_pred = (y_scores > threshold)\n",
        "y_some_digit_pred"
      ],
      "metadata": {
        "colab": {
          "base_uri": "https://localhost:8080/"
        },
        "id": "LJcjwHnBP8LP",
        "outputId": "896f49b7-7bdb-4fe9-fe70-08ec8ac13858"
      },
      "execution_count": 59,
      "outputs": [
        {
          "output_type": "execute_result",
          "data": {
            "text/plain": [
              "array([ True])"
            ]
          },
          "metadata": {},
          "execution_count": 59
        }
      ]
    },
    {
      "cell_type": "markdown",
      "source": [
        "> SGDClassifier의 임곗값이 0이기 때문에 코드는 predict()와 같은 결과(True)를 반환"
      ],
      "metadata": {
        "id": "DNxNIiTAQH6w"
      }
    },
    {
      "cell_type": "code",
      "source": [
        "threshold = 8000\n",
        "y_some_digit_pred = (y_scores>threshold)\n",
        "y_some_digit_pred"
      ],
      "metadata": {
        "colab": {
          "base_uri": "https://localhost:8080/"
        },
        "id": "l7VIs7PjQCr2",
        "outputId": "6959871e-c5c5-410d-b393-09725e40350f"
      },
      "execution_count": 60,
      "outputs": [
        {
          "output_type": "execute_result",
          "data": {
            "text/plain": [
              "array([False])"
            ]
          },
          "metadata": {},
          "execution_count": 60
        }
      ]
    },
    {
      "cell_type": "markdown",
      "source": [
        "> 임곗값을 높이자 False 반환: 임곗값을 높이면 재현율이 감소한다\n",
        "- 적절한 임곗값을 구하기 위해 훈련 세트에 있는 모든 샘플의 점수 계산(결정 점수 반환 지정 필요)"
      ],
      "metadata": {
        "id": "VoueEjRMQSuR"
      }
    },
    {
      "cell_type": "code",
      "source": [
        "y_scores = cross_val_predict(sgd_clf, X_train, y_train_5, cv=3, method=\"decision_function\")"
      ],
      "metadata": {
        "id": "BSa5z1-HQSFN"
      },
      "execution_count": 61,
      "outputs": []
    },
    {
      "cell_type": "markdown",
      "source": [
        "> precision_recall_curve() 함수를 통해 가능한 모든 임곗값에 대한 정밀도와 재현율을 계산 후 시각화 >> 적절한 임곗값 발견"
      ],
      "metadata": {
        "id": "aGWWkGc1QtJx"
      }
    },
    {
      "cell_type": "code",
      "source": [
        "from sklearn.metrics import precision_recall_curve\n",
        "\n",
        "precisions, recalls, thresholds = precision_recall_curve(y_train_5, y_scores)\n",
        "\n",
        "def plot_precision_recall_vs_threshold(precisions, recalls, thresholds):\n",
        "  plt.plot(thresholds, precisions[:-1], \"b--\", label=\"precision\")\n",
        "  plt.plot(thresholds, recalls[:-1], \"g--\", label=\"recall\")\n",
        "  plt.legend(loc=\"center right\", fontsize=10)\n",
        "  plt.xlabel(\"threshold\", fontsize=10)\n",
        "  plt.grid(True)\n",
        "\n",
        "plot_precision_recall_vs_threshold(precisions, recalls, thresholds)\n",
        "plt.show()"
      ],
      "metadata": {
        "colab": {
          "base_uri": "https://localhost:8080/",
          "height": 279
        },
        "id": "2liFKygCQsTa",
        "outputId": "3406d5b6-d953-4390-9afc-84e2fe5f7ba5"
      },
      "execution_count": 62,
      "outputs": [
        {
          "output_type": "display_data",
          "data": {
            "text/plain": [
              "<Figure size 432x288 with 1 Axes>"
            ],
            "image/png": "[encoded data removed]"
          },
          "metadata": {
            "needs_background": "light"
          }
        }
      ]
    },
    {
      "cell_type": "markdown",
      "source": [
        "> 정밀도가 급격하게 줄어드는 하강점 직전을 정밀도/재현율 트레이드오프로 선택하는 것이 좋음"
      ],
      "metadata": {
        "id": "4PB1wd9QSZC9"
      }
    },
    {
      "cell_type": "code",
      "source": [
        "# 정밀도 90% 달성 목표\n",
        "threshold_90_precision = thresholds[np.argmax(precisions >= 0.90)] # ~7816\n",
        "y_train_pred_90 = (y_scores >= threshold_90_precision)\n",
        "print(precision_score(y_train_5, y_train_pred_90), recall_score(y_train_5, y_train_pred_90)) # 정밀도, 재현율 확인"
      ],
      "metadata": {
        "colab": {
          "base_uri": "https://localhost:8080/"
        },
        "id": "TpI-rVzGRZOV",
        "outputId": "89021b96-8f07-4b2f-daac-8e8bf8b9bda0"
      },
      "execution_count": 63,
      "outputs": [
        {
          "output_type": "stream",
          "name": "stdout",
          "text": [
            "0.9000345901072293 0.4799852425751706\n"
          ]
        }
      ]
    },
    {
      "cell_type": "markdown",
      "source": [
        "> 임곗값을 늘려 정밀도를 90% 이상으로 만들었으나, 재현율이 너무 낮은 분류기의 성능은 오히려 낮아짐\n",
        "\n",
        "\n",
        "\n",
        "#### 3.3.5 ROC 곡선\n",
        "- ROC 곡선(수신기 조작 특성 곡선): 이진 분류에서 널리 사용하는 도구로, 거짓 양성 비율(FPR)에 대한 진짜 양성 비율(TPR)의 곡선\n",
        "  + 즉, 민감도(재현율)에 대한 1-특이도(TNR) 그래프"
      ],
      "metadata": {
        "id": "f1Vt4qCGTBWf"
      }
    },
    {
      "cell_type": "code",
      "source": [
        "from sklearn.metrics import roc_curve # ROC 곡선을 그리기 위해 여러 임곗값에서 TRP과 FPR 계산 \n",
        "fpr, tpr, thresholds = roc_curve(y_train_5, y_scores)\n",
        "\n",
        "def plot_roc_curve(fpr, tpr, label=None):\n",
        "  plt.plot(fpr, tpr, linewidth=2, label=label)\n",
        "  plt.plot([0,1], [0,1], 'k--') # 대각 점선\n",
        "  plt.xlabel('FPR', fontsize=10) \n",
        "  plt.ylabel('TPR', fontsize=10)\n",
        "  plt.grid(True)\n",
        "\n",
        "plot_roc_curve(fpr, tpr)\n",
        "plt.show()"
      ],
      "metadata": {
        "colab": {
          "base_uri": "https://localhost:8080/",
          "height": 279
        },
        "id": "yye_SxjoS_wO",
        "outputId": "b40a50ff-9188-434a-f651-12f37b769e45"
      },
      "execution_count": 64,
      "outputs": [
        {
          "output_type": "display_data",
          "data": {
            "text/plain": [
              "<Figure size 432x288 with 1 Axes>"
            ],
            "image/png": "[encoded data removed]"
          },
          "metadata": {
            "needs_background": "light"
          }
        }
      ]
    },
    {
      "cell_type": "markdown",
      "source": [
        "> 재현율(TPR)이 높을수록 분류기가 만드는 FPR이 늘어남 (트레이드오프)\n",
        "- 점선은 완전한 랜덤 분류기의 ROC 곡선을 의미\n",
        "  + 좋은 분류기는 점선에서 최대한 왼쪽 위 모서리로 떨어져 있어야함\n",
        "\n",
        "- 곡선 아래의 면적(AUC)를 측정하여 분류기 비교 가능\n",
        "  + 완벽한 분류기는 ROC의 AUC가 1\n",
        "  + 완전한 랜덤 분류기는 ROC의 AUC가 0.5"
      ],
      "metadata": {
        "id": "dmkgfp9kUbTV"
      }
    },
    {
      "cell_type": "code",
      "source": [
        "from sklearn.metrics import roc_auc_score\n",
        "roc_auc_score(y_train_5, y_scores)"
      ],
      "metadata": {
        "colab": {
          "base_uri": "https://localhost:8080/"
        },
        "id": "5ol-QEjbUY4o",
        "outputId": "8be8b4c2-86c0-4fc9-ea13-ba1c1ebc46f2"
      },
      "execution_count": 65,
      "outputs": [
        {
          "output_type": "execute_result",
          "data": {
            "text/plain": [
              "0.9604938554008616"
            ]
          },
          "metadata": {},
          "execution_count": 65
        }
      ]
    },
    {
      "cell_type": "markdown",
      "source": [
        "> RandomForestClassifier을 훈련시켜 SGDClassifier의 ROC 곡선과 ROC AUC 점수 비교\n",
        "- predict_proba(): 샘플이 주어진 클래스에 속할 확률을 담은 배열을 반환"
      ],
      "metadata": {
        "id": "dMh0QqAeU7l5"
      }
    },
    {
      "cell_type": "code",
      "source": [
        "from sklearn.ensemble import RandomForestClassifier\n",
        "\n",
        "forest_clf = RandomForestClassifier(n_estimators=100, random_state=42)\n",
        "y_probas_forest = cross_val_predict(forest_clf, X_train, y_train_5, cv=3, method=\"predict_proba\")\n",
        "\n",
        "y_scores_forest = y_probas_forest[:, 1] # 양성 클래스에 대한 확률을 점수로 사용\n",
        "fpr_forest, tpr_forest, thresholds_forest = roc_curve(y_train_5,y_scores_forest)"
      ],
      "metadata": {
        "id": "5WCJ3wyzU5Nw"
      },
      "execution_count": 66,
      "outputs": []
    },
    {
      "cell_type": "markdown",
      "source": [
        "> ROC 곡선 시각화 "
      ],
      "metadata": {
        "id": "at5-uH92VWJa"
      }
    },
    {
      "cell_type": "code",
      "source": [
        "plt.plot(fpr, tpr, \"b:\", label=\"SGD\")\n",
        "plot_roc_curve(fpr_forest, tpr_forest, \"Random Forest\")\n",
        "plt.legend(loc=\"lower right\")\n",
        "plt.show()"
      ],
      "metadata": {
        "colab": {
          "base_uri": "https://localhost:8080/",
          "height": 279
        },
        "id": "LU1bY6l0VZYg",
        "outputId": "134e9884-837e-4c6d-c9dd-20c9a9c281d7"
      },
      "execution_count": 67,
      "outputs": [
        {
          "output_type": "display_data",
          "data": {
            "text/plain": [
              "<Figure size 432x288 with 1 Axes>"
            ],
            "image/png": "[encoded data removed]"
          },
          "metadata": {
            "needs_background": "light"
          }
        }
      ]
    },
    {
      "cell_type": "markdown",
      "source": [
        "> RandomForestClassifier의 ROC 곡선이 더 왼쪽 위 모서리와 가까운 것으로 보아 성능이 더 좋음 "
      ],
      "metadata": {
        "id": "tVG3cCc9Vnoc"
      }
    },
    {
      "cell_type": "code",
      "source": [
        "roc_auc_score(y_train_5, y_scores_forest)"
      ],
      "metadata": {
        "colab": {
          "base_uri": "https://localhost:8080/"
        },
        "id": "-mp4bkr2Vu4X",
        "outputId": "c13e938a-e744-4e20-9365-39fd8547b202"
      },
      "execution_count": 68,
      "outputs": [
        {
          "output_type": "execute_result",
          "data": {
            "text/plain": [
              "0.9983436731328145"
            ]
          },
          "metadata": {},
          "execution_count": 68
        }
      ]
    },
    {
      "cell_type": "markdown",
      "source": [
        "> RandomForestClassifier의 ROC AUC 점수가 훨씬 높음\n",
        "- 정밀도와 재현율 점수를 계산하면 99.0%와 86.6%로 나쁘지 않은 성능을 보임\n",
        "\n",
        "\n",
        "-----------------\n",
        "\n",
        "\n",
        "### **3.4 다중 분류**\n",
        "- 다중 분류기(multiclass classifier): 둘 이상의 클래스를 구별하는 분류기\n",
        "  + 이진 분류기를 여러 개 사용해 다중 클래스를 분류 가능\n",
        "\n",
        "- OvR(one-versus-the-rest) 전략: 클래스를 2개 이상 생성후 분류기의 결저 점수 중에서 가장 높은 것을 클래스로 선택\n",
        "  + OvA 전략이라고도 부름\n",
        "\n",
        "- OvO(one-versus-one) 전략: 조합마다 이진 분류기를 훈련시키는 것 > 모든 분류기 통과 후 가장 많이 양성으로 분류된 클래스 선택택\n",
        "  + 클래스가 n개일 때, 필요한 분류기 개수: $n \\times (n-1) /2$\n",
        "  + 따라서 MNIST 문제에서는 45개의 분류기 훈련이 필요\n",
        "\n",
        "- 다중 클래스 분류 작업에 이진 분류 알고리즘을 선택하면 사이킷런이 알고리즘에 따라 자동으로 OvR 또는 OvO를 실행 "
      ],
      "metadata": {
        "id": "B9fGHmxKVzN8"
      }
    },
    {
      "cell_type": "code",
      "source": [
        "from sklearn.svm import SVC\n",
        "svm_clf = SVC()\n",
        "svm_clf.fit(X_train, y_train) # y_train_5 대신 y_train 사용\n",
        "svm_clf.predict([some_digit])"
      ],
      "metadata": {
        "colab": {
          "base_uri": "https://localhost:8080/"
        },
        "id": "6FHoLR6_fUUq",
        "outputId": "f9accfa3-0c5e-4b44-9d0d-b8e07a33f168"
      },
      "execution_count": 69,
      "outputs": [
        {
          "output_type": "execute_result",
          "data": {
            "text/plain": [
              "array([5], dtype=uint8)"
            ]
          },
          "metadata": {},
          "execution_count": 69
        }
      ]
    },
    {
      "cell_type": "markdown",
      "source": [
        "> 5를 구별한 타깃 클래스인 y_train_5 대신 0에서 9까지의 원래 타깃 클래스 y_train 사용"
      ],
      "metadata": {
        "id": "Y4Suriclfhhp"
      }
    },
    {
      "cell_type": "code",
      "source": [
        "some_digit_scores = svm_clf.decision_function([some_digit])\n",
        "some_digit_scores"
      ],
      "metadata": {
        "colab": {
          "base_uri": "https://localhost:8080/"
        },
        "id": "02qNMqW_ff7p",
        "outputId": "82c7a6b0-3c70-409f-a927-c703598d120e"
      },
      "execution_count": 70,
      "outputs": [
        {
          "output_type": "execute_result",
          "data": {
            "text/plain": [
              "array([[ 1.72501977,  2.72809088,  7.2510018 ,  8.3076379 , -0.31087254,\n",
              "         9.3132482 ,  1.70975103,  2.76765202,  6.23049537,  4.84771048]])"
            ]
          },
          "metadata": {},
          "execution_count": 70
        }
      ]
    },
    {
      "cell_type": "markdown",
      "source": [
        "> 클래스 5에 해당하는 값이 가장 높음 "
      ],
      "metadata": {
        "id": "5MNIjGAxg5pu"
      }
    },
    {
      "cell_type": "code",
      "source": [
        "np.argmax(some_digit_scores)"
      ],
      "metadata": {
        "colab": {
          "base_uri": "https://localhost:8080/"
        },
        "id": "SfcBUDrog_s2",
        "outputId": "5f724645-0235-414b-fcea-5ec9356b5b6f"
      },
      "execution_count": 71,
      "outputs": [
        {
          "output_type": "execute_result",
          "data": {
            "text/plain": [
              "5"
            ]
          },
          "metadata": {},
          "execution_count": 71
        }
      ]
    },
    {
      "cell_type": "code",
      "source": [
        "svm_clf.classes_"
      ],
      "metadata": {
        "colab": {
          "base_uri": "https://localhost:8080/"
        },
        "id": "vIJRAEWThErx",
        "outputId": "99d1d3bf-4494-4816-f960-f5782cabaf60"
      },
      "execution_count": 72,
      "outputs": [
        {
          "output_type": "execute_result",
          "data": {
            "text/plain": [
              "array([0, 1, 2, 3, 4, 5, 6, 7, 8, 9], dtype=uint8)"
            ]
          },
          "metadata": {},
          "execution_count": 72
        }
      ]
    },
    {
      "cell_type": "code",
      "source": [
        "svm_clf.classes_[5]"
      ],
      "metadata": {
        "colab": {
          "base_uri": "https://localhost:8080/"
        },
        "id": "I_ULpdhzhG5I",
        "outputId": "38b8412f-5d36-4714-8afe-6965609c0c5f"
      },
      "execution_count": 73,
      "outputs": [
        {
          "output_type": "execute_result",
          "data": {
            "text/plain": [
              "5"
            ]
          },
          "metadata": {},
          "execution_count": 73
        }
      ]
    },
    {
      "cell_type": "markdown",
      "source": [
        "> 사이킷런에서 OvO나 OvR을 사용하게 하기 위해서는 OneVsOneClassifier나 OneVsRestClassifier 사용용"
      ],
      "metadata": {
        "id": "NlZHRJJbg_OK"
      }
    },
    {
      "cell_type": "code",
      "source": [
        "# OvR 전략 사용 다중 분류기\n",
        "from sklearn.multiclass import OneVsRestClassifier\n",
        "ovr_clf = OneVsRestClassifier(SVC())\n",
        "ovr_clf.fit(X_train, y_train)\n",
        "ovr_clf.predict([some_digit])"
      ],
      "metadata": {
        "colab": {
          "base_uri": "https://localhost:8080/"
        },
        "id": "fsrf9NFuhXZW",
        "outputId": "a10924ca-ad41-4095-c01d-871df9bc558a"
      },
      "execution_count": 74,
      "outputs": [
        {
          "output_type": "execute_result",
          "data": {
            "text/plain": [
              "array([5], dtype=uint8)"
            ]
          },
          "metadata": {},
          "execution_count": 74
        }
      ]
    },
    {
      "cell_type": "code",
      "source": [
        "len(ovr_clf.estimators_)"
      ],
      "metadata": {
        "colab": {
          "base_uri": "https://localhost:8080/"
        },
        "id": "Wpc_23Grhq_-",
        "outputId": "f7fae93f-a85c-40fe-844d-23be002c4bc9"
      },
      "execution_count": 75,
      "outputs": [
        {
          "output_type": "execute_result",
          "data": {
            "text/plain": [
              "10"
            ]
          },
          "metadata": {},
          "execution_count": 75
        }
      ]
    },
    {
      "cell_type": "code",
      "source": [
        "# SGDClassifier(또는 RandomForestClassifier) 훈련\n",
        "sgd_clf.fit(X_train, y_train)\n",
        "sgd_clf.predict([some_digit])"
      ],
      "metadata": {
        "colab": {
          "base_uri": "https://localhost:8080/"
        },
        "id": "THN2h8LIhyoY",
        "outputId": "f5866be7-e24c-4f44-ff9c-cde2f9413bf5"
      },
      "execution_count": 76,
      "outputs": [
        {
          "output_type": "execute_result",
          "data": {
            "text/plain": [
              "array([3], dtype=uint8)"
            ]
          },
          "metadata": {},
          "execution_count": 76
        }
      ]
    },
    {
      "cell_type": "markdown",
      "source": [
        "> SGD 분류기는 직접 샘플을 다중 클래스로 분류할 수 있기 때문에 별도의 OvR, OvO 적용 불필요\n",
        "- decision_function() 메서드는 클래스마다 하나의 값 반환환"
      ],
      "metadata": {
        "id": "b7NmvooWhXFk"
      }
    },
    {
      "cell_type": "code",
      "source": [
        "# SGD 분류기가 클래스마다 부여한 점수 확인\n",
        "sgd_clf.decision_function([some_digit])"
      ],
      "metadata": {
        "colab": {
          "base_uri": "https://localhost:8080/"
        },
        "id": "q36b_JLWiGm4",
        "outputId": "9bc3859c-0158-4b23-ccea-efbb3a5647e4"
      },
      "execution_count": 77,
      "outputs": [
        {
          "output_type": "execute_result",
          "data": {
            "text/plain": [
              "array([[-31893.03095419, -34419.69069632,  -9530.63950739,\n",
              "          1823.73154031, -22320.14822878,  -1385.80478895,\n",
              "        -26188.91070951, -16147.51323997,  -4604.35491274,\n",
              "        -12050.767298  ]])"
            ]
          },
          "metadata": {},
          "execution_count": 77
        }
      ]
    },
    {
      "cell_type": "markdown",
      "source": [
        "> 클래스 5의 점수와 다르게 대부부의 점수가 큰 음수: 분류기가 예측 결과에 강한 확신을 보이고 있음\n",
        "\n",
        "- 분류기 평가는 일반적으로 교차 검증 사용용"
      ],
      "metadata": {
        "id": "-iuigf7xiL0s"
      }
    },
    {
      "cell_type": "code",
      "source": [
        "cross_val_score(sgd_clf, X_train, y_train, cv=3, scoring=\"accuracy\")"
      ],
      "metadata": {
        "colab": {
          "base_uri": "https://localhost:8080/"
        },
        "id": "5w2cF3ZEiWyH",
        "outputId": "48c35c6f-1af0-4ddc-d754-b455fc7ff63e"
      },
      "execution_count": 78,
      "outputs": [
        {
          "output_type": "execute_result",
          "data": {
            "text/plain": [
              "array([0.87365, 0.85835, 0.8689 ])"
            ]
          },
          "metadata": {},
          "execution_count": 78
        }
      ]
    },
    {
      "cell_type": "markdown",
      "source": [
        "> 모든 테스트 폴드에서 84% 이상(랜덤 분류기일 경우 10%)\n",
        "- 입력의 스케일 조정을 통해 정확도를 높일 수 있음음"
      ],
      "metadata": {
        "id": "CKdP8r4bidr6"
      }
    },
    {
      "cell_type": "code",
      "source": [
        "from sklearn.preprocessing import StandardScaler\n",
        "scaler = StandardScaler()\n",
        "X_train_scaled = scaler.fit_transform(X_train.astype(np.float64))\n",
        "cross_val_score(sgd_clf, X_train_scaled, y_train, cv=3, scoring=\"accuracy\")"
      ],
      "metadata": {
        "colab": {
          "base_uri": "https://localhost:8080/"
        },
        "id": "l-9ibW3linuU",
        "outputId": "9baf1696-c16b-4015-df16-43aca4390565"
      },
      "execution_count": 80,
      "outputs": [
        {
          "output_type": "execute_result",
          "data": {
            "text/plain": [
              "array([0.8983, 0.891 , 0.9018])"
            ]
          },
          "metadata": {},
          "execution_count": 80
        }
      ]
    },
    {
      "cell_type": "markdown",
      "source": [
        "------------------------------\n",
        "### **3.5 에러 분석**\n",
        "실제 프로젝트의 경우 여러 모델을 시도 후 가장 좋은 모델을 몇 개 선정하여 튜닝 진행을 통해 성능을 높임\n",
        "- 에러의 종류 분석을 통해 성능 향상 가능\n",
        "  + 오차 행렬을 살펴보기기"
      ],
      "metadata": {
        "id": "ENqUoSVZi5B7"
      }
    },
    {
      "cell_type": "code",
      "source": [
        "y_train_pred = cross_val_predict(sgd_clf, X_train_scaled, y_train, cv=3)\n",
        "conf_mx = confusion_matrix(y_train, y_train_pred)\n",
        "conf_mx"
      ],
      "metadata": {
        "colab": {
          "base_uri": "https://localhost:8080/"
        },
        "id": "nkHqAImXlVG_",
        "outputId": "21e7690c-ea59-477e-9cc4-1bf7b6c69fc1"
      },
      "execution_count": 81,
      "outputs": [
        {
          "output_type": "execute_result",
          "data": {
            "text/plain": [
              "array([[5577,    0,   22,    5,    8,   43,   36,    6,  225,    1],\n",
              "       [   0, 6400,   37,   24,    4,   44,    4,    7,  212,   10],\n",
              "       [  27,   27, 5220,   92,   73,   27,   67,   36,  378,   11],\n",
              "       [  22,   17,  117, 5227,    2,  203,   27,   40,  403,   73],\n",
              "       [  12,   14,   41,    9, 5182,   12,   34,   27,  347,  164],\n",
              "       [  27,   15,   30,  168,   53, 4444,   75,   14,  535,   60],\n",
              "       [  30,   15,   42,    3,   44,   97, 5552,    3,  131,    1],\n",
              "       [  21,   10,   51,   30,   49,   12,    3, 5684,  195,  210],\n",
              "       [  17,   63,   48,   86,    3,  126,   25,   10, 5429,   44],\n",
              "       [  25,   18,   30,   64,  118,   36,    1,  179,  371, 5107]])"
            ]
          },
          "metadata": {},
          "execution_count": 81
        }
      ]
    },
    {
      "cell_type": "code",
      "source": [
        "# 오차 행렬 시각화\n",
        "plt.matshow(conf_mx, cmap=plt.cm.gray)\n",
        "plt.show()"
      ],
      "metadata": {
        "id": "McHJNFqHjZbh",
        "colab": {
          "base_uri": "https://localhost:8080/",
          "height": 275
        },
        "outputId": "9e9c2520-3c0a-44ab-ae38-351a6343f930"
      },
      "execution_count": 82,
      "outputs": [
        {
          "output_type": "display_data",
          "data": {
            "text/plain": [
              "<Figure size 288x288 with 1 Axes>"
            ],
            "image/png": "[encoded data removed]"
          },
          "metadata": {
            "needs_background": "light"
          }
        }
      ]
    },
    {
      "cell_type": "markdown",
      "source": [
        "> 대부분의 이미지가 올바르게 분류되었음을 나타내는 주대각선에 있으므로 성능이 좋아보임\n",
        "- 숫자 5가 다른 숫자보다 조금 더 어두워보임: 숫자 5의 이미지가 적거나 / 숫자 5를 다른 숫자만큼 잘 분류하지 못함을 의미\n",
        "  + 그래프의 에러 부분에 초점: 오차 행렬의 각 값을 클래스의 이미지 개수로 나누어 에러 비율 비교(에러 개수 사용 x)"
      ],
      "metadata": {
        "id": "B5DOLO-Ujf89"
      }
    },
    {
      "cell_type": "code",
      "source": [
        "row_sums = conf_mx.sum(axis=1, keepdims=True)\n",
        "norm_conf_mx = conf_mx / row_sums"
      ],
      "metadata": {
        "id": "bn7QPSlBoEsG"
      },
      "execution_count": 84,
      "outputs": []
    },
    {
      "cell_type": "code",
      "source": [
        "np.fill_diagonal(norm_conf_mx, 0)\n",
        "plt.matshow(norm_conf_mx, cmap=plt.cm.gray)\n",
        "plt.show()"
      ],
      "metadata": {
        "id": "GcK-3KXbj8ap",
        "colab": {
          "base_uri": "https://localhost:8080/",
          "height": 275
        },
        "outputId": "62f621f1-e024-48fe-9f13-36f300848d20"
      },
      "execution_count": 86,
      "outputs": [
        {
          "output_type": "display_data",
          "data": {
            "text/plain": [
              "<Figure size 288x288 with 1 Axes>"
            ],
            "image/png": "[encoded data removed]"
          },
          "metadata": {
            "needs_background": "light"
          }
        }
      ]
    },
    {
      "cell_type": "markdown",
      "source": [
        "> 분류기의 에러 확인 가능\n",
        "- 행: 실제 클래스 / 열: 예측한 클래스\n",
        "  - 클래스 8 열이 밝으므로 많은 이미지가 8로 잘못 분류되었음을 의미\n",
        "    + 그러나 클래스 8 행은 어두움: 실제 숫자 8은 숫자 8로 잘 분류\n",
        "  - 숫자 3, 5가 서로 많이 혼동되고 있는 것 확인 가능\n",
        "\n",
        "\n",
        "- 오차 행렬 분석을 통해 분류기의 성능 향상 방안에 대한 통찰 가능\n",
        "- 그러나 개개의 에러를 분석하는 것은 어렵고 시간이 오래 걸림\n",
        "  + 예를 들어 숫자 3과 5의 샘플 확인인"
      ],
      "metadata": {
        "id": "k_c_KriokH6W"
      }
    },
    {
      "cell_type": "code",
      "source": [
        "# 숫자 그림을 위한 함수\n",
        "def plot_digits(instances, images_per_row=10, **options):\n",
        "    size = 28\n",
        "    images_per_row = min(len(instances), images_per_row)\n",
        "    # n_rows = ceil(len(instances) / images_per_row) 와 동일\n",
        "    n_rows = (len(instances) - 1) // images_per_row + 1\n",
        "\n",
        "    # 필요하면 그리드 끝을 채우기 위해 빈 이미지를 추가\n",
        "    n_empty = n_rows * images_per_row - len(instances)\n",
        "    padded_instances = np.concatenate([instances, np.zeros((n_empty, size * size))], axis=0)\n",
        "\n",
        "    # 배열의 크기를 바꾸어 28×28 이미지를 담은 그리드로 구성\n",
        "    image_grid = padded_instances.reshape((n_rows, images_per_row, size, size))\n",
        "\n",
        "    # 축 0(이미지 그리드의 수직축)과 2(이미지의 수직축)를 합치고 축 1과 3(두 수평축)을 합침\n",
        "    # 먼저 transpose()를 사용해 결합하려는 축을 옆으로 이동한 다음 합침\n",
        "    big_image = image_grid.transpose(0, 2, 1, 3).reshape(n_rows * size,\n",
        "                                                         images_per_row * size)\n",
        "    # 하나의 큰 이미지를 얻었으므로 출력\n",
        "    plt.imshow(big_image, cmap = mpl.cm.binary, **options)\n",
        "    plt.axis(\"off\")"
      ],
      "metadata": {
        "id": "XGnSVNO-kytH"
      },
      "execution_count": 87,
      "outputs": []
    },
    {
      "cell_type": "code",
      "source": [
        "cl_a, cl_b = 3, 5\n",
        "X_aa = X_train[(y_train == cl_a) & (y_train_pred == cl_a)]\n",
        "X_ab = X_train[(y_train == cl_a) & (y_train_pred == cl_b)]\n",
        "X_ba = X_train[(y_train == cl_b) & (y_train_pred == cl_a)]\n",
        "X_bb = X_train[(y_train == cl_b) & (y_train_pred == cl_b)]\n",
        "\n",
        "plt.figure(figsize=(8,8))\n",
        "plt.subplot(221); plot_digits(X_aa[:25], images_per_row=5)\n",
        "plt.subplot(222); plot_digits(X_ab[:25], images_per_row=5)\n",
        "plt.subplot(223); plot_digits(X_ba[:25], images_per_row=5)\n",
        "plt.subplot(224); plot_digits(X_bb[:25], images_per_row=5)\n",
        "plt.show()"
      ],
      "metadata": {
        "id": "pcvJOKZIk2Gw",
        "colab": {
          "base_uri": "https://localhost:8080/",
          "height": 466
        },
        "outputId": "8ed5e1c3-3658-49a4-b8f3-84afc61e88d8"
      },
      "execution_count": 88,
      "outputs": [
        {
          "output_type": "display_data",
          "data": {
            "text/plain": [
              "<Figure size 576x576 with 4 Axes>"
            ],
            "image/png": "[encoded data removed]"
          },
          "metadata": {
            "needs_background": "light"
          }
        }
      ]
    },
    {
      "cell_type": "markdown",
      "source": [
        "> - 왼쪽의 블록 두 개는 3으로 분류된 이미지, 오른쪽의 블록 두 개는 5로 분류된 이미지\n",
        "    + 선형 모델인 SGDClassifier은 클래스마다 픽셀에 가중치를 할당하고 새로운 이미지에 대해 단순히 픽셀 강도의 가중치 합을 클래스의 점수로 계산하는데, 3과 5는 몇 개의 픽셀만 다르기 떄문에 모델이 쉽게 혼동한 것\n",
        "\n",
        "- 분류기는 이미지의 위치나 회전 방향에 민감하기 때문에, 에러를 줄이기 위해 이미지를 중앙에 위치시키고 회전되어 있지 않도록 전처리하여 해결 가능\n",
        "\n",
        "\n",
        "\n",
        "\n",
        "--------------------------------\n",
        "### **3.6 다중 레이블 분류**\n",
        "\n",
        "분류기가 샘플마다 여러 개의 클래스를 출력해야 하는 경우도 존재 / 얼굴 인식 분류기\n",
        "- 다중 레이블 분류(multilabel classification) 시스템: 여러 개의 이진 꼬리표를 출력하는 분류 시스템"
      ],
      "metadata": {
        "id": "OSiJy9S7k8bd"
      }
    },
    {
      "cell_type": "code",
      "source": [
        "from sklearn.neighbors import KNeighborsClassifier\n",
        "\n",
        "y_train_large = (y_train >= 7)\n",
        "y_train_odd = (y_train % 2 ==1)\n",
        "y_multilabel = np.c_[y_train_large, y_train_odd]\n",
        "\n",
        "knn_clf = KNeighborsClassifier()\n",
        "knn_clf.fit(X_train, y_multilabel)"
      ],
      "metadata": {
        "id": "dw4NYkqClxzE",
        "colab": {
          "base_uri": "https://localhost:8080/",
          "height": 75
        },
        "outputId": "a1bb3a0b-03ac-4694-d836-2e7c88dc4dfb"
      },
      "execution_count": 89,
      "outputs": [
        {
          "output_type": "execute_result",
          "data": {
            "text/plain": [
              "KNeighborsClassifier()"
            ],
            "text/html": [
              "<style>#sk-container-id-3 {color: black;background-color: white;}#sk-container-id-3 pre{padding: 0;}#sk-container-id-3 div.sk-toggleable {background-color: white;}#sk-container-id-3 label.sk-toggleable__label {cursor: pointer;display: block;width: 100%;margin-bottom: 0;padding: 0.3em;box-sizing: border-box;text-align: center;}#sk-container-id-3 label.sk-toggleable__label-arrow:before {content: \"▸\";float: left;margin-right: 0.25em;color: #696969;}#sk-container-id-3 label.sk-toggleable__label-arrow:hover:before {color: black;}#sk-container-id-3 div.sk-estimator:hover label.sk-toggleable__label-arrow:before {color: black;}#sk-container-id-3 div.sk-toggleable__content {max-height: 0;max-width: 0;overflow: hidden;text-align: left;background-color: #f0f8ff;}#sk-container-id-3 div.sk-toggleable__content pre {margin: 0.2em;color: black;border-radius: 0.25em;background-color: #f0f8ff;}#sk-container-id-3 input.sk-toggleable__control:checked~div.sk-toggleable__content {max-height: 200px;max-width: 100%;overflow: auto;}#sk-container-id-3 input.sk-toggleable__control:checked~label.sk-toggleable__label-arrow:before {content: \"▾\";}#sk-container-id-3 div.sk-estimator input.sk-toggleable__control:checked~label.sk-toggleable__label {background-color: #d4ebff;}#sk-container-id-3 div.sk-label input.sk-toggleable__control:checked~label.sk-toggleable__label {background-color: #d4ebff;}#sk-container-id-3 input.sk-hidden--visually {border: 0;clip: rect(1px 1px 1px 1px);clip: rect(1px, 1px, 1px, 1px);height: 1px;margin: -1px;overflow: hidden;padding: 0;position: absolute;width: 1px;}#sk-container-id-3 div.sk-estimator {font-family: monospace;background-color: #f0f8ff;border: 1px dotted black;border-radius: 0.25em;box-sizing: border-box;margin-bottom: 0.5em;}#sk-container-id-3 div.sk-estimator:hover {background-color: #d4ebff;}#sk-container-id-3 div.sk-parallel-item::after {content: \"\";width: 100%;border-bottom: 1px solid gray;flex-grow: 1;}#sk-container-id-3 div.sk-label:hover label.sk-toggleable__label {background-color: #d4ebff;}#sk-container-id-3 div.sk-serial::before {content: \"\";position: absolute;border-left: 1px solid gray;box-sizing: border-box;top: 0;bottom: 0;left: 50%;z-index: 0;}#sk-container-id-3 div.sk-serial {display: flex;flex-direction: column;align-items: center;background-color: white;padding-right: 0.2em;padding-left: 0.2em;position: relative;}#sk-container-id-3 div.sk-item {position: relative;z-index: 1;}#sk-container-id-3 div.sk-parallel {display: flex;align-items: stretch;justify-content: center;background-color: white;position: relative;}#sk-container-id-3 div.sk-item::before, #sk-container-id-3 div.sk-parallel-item::before {content: \"\";position: absolute;border-left: 1px solid gray;box-sizing: border-box;top: 0;bottom: 0;left: 50%;z-index: -1;}#sk-container-id-3 div.sk-parallel-item {display: flex;flex-direction: column;z-index: 1;position: relative;background-color: white;}#sk-container-id-3 div.sk-parallel-item:first-child::after {align-self: flex-end;width: 50%;}#sk-container-id-3 div.sk-parallel-item:last-child::after {align-self: flex-start;width: 50%;}#sk-container-id-3 div.sk-parallel-item:only-child::after {width: 0;}#sk-container-id-3 div.sk-dashed-wrapped {border: 1px dashed gray;margin: 0 0.4em 0.5em 0.4em;box-sizing: border-box;padding-bottom: 0.4em;background-color: white;}#sk-container-id-3 div.sk-label label {font-family: monospace;font-weight: bold;display: inline-block;line-height: 1.2em;}#sk-container-id-3 div.sk-label-container {text-align: center;}#sk-container-id-3 div.sk-container {/* jupyter's `normalize.less` sets `[hidden] { display: none; }` but bootstrap.min.css set `[hidden] { display: none !important; }` so we also need the `!important` here to be able to override the default hidden behavior on the sphinx rendered scikit-learn.org. See: https://github.com/scikit-learn/scikit-learn/issues/21755 */display: inline-block !important;position: relative;}#sk-container-id-3 div.sk-text-repr-fallback {display: none;}</style><div id=\"sk-container-id-3\" class=\"sk-top-container\"><div class=\"sk-text-repr-fallback\"><pre>KNeighborsClassifier()</pre><b>In a Jupyter environment, please rerun this cell to show the HTML representation or trust the notebook. <br />On GitHub, the HTML representation is unable to render, please try loading this page with nbviewer.org.</b></div><div class=\"sk-container\" hidden><div class=\"sk-item\"><div class=\"sk-estimator sk-toggleable\"><input class=\"sk-toggleable__control sk-hidden--visually\" id=\"sk-estimator-id-3\" type=\"checkbox\" checked><label for=\"sk-estimator-id-3\" class=\"sk-toggleable__label sk-toggleable__label-arrow\">KNeighborsClassifier</label><div class=\"sk-toggleable__content\"><pre>KNeighborsClassifier()</pre></div></div></div></div></div>"
            ]
          },
          "metadata": {},
          "execution_count": 89
        }
      ]
    },
    {
      "cell_type": "code",
      "source": [
        "knn_clf.predict([some_digit])"
      ],
      "metadata": {
        "id": "MxZ89xximF5k",
        "colab": {
          "base_uri": "https://localhost:8080/"
        },
        "outputId": "50d3536b-b7d1-464f-ffcb-3d5eae7285c7"
      },
      "execution_count": 90,
      "outputs": [
        {
          "output_type": "execute_result",
          "data": {
            "text/plain": [
              "array([[False,  True]])"
            ]
          },
          "metadata": {},
          "execution_count": 90
        }
      ]
    },
    {
      "cell_type": "code",
      "source": [
        "# 다중 레이블 분류기 평가(F1 score)\n",
        "y_train_knn_pred = cross_val_predict(knn_clf, X_train, y_multilabel, cv=3)\n",
        "f1_score(y_multilabel, y_train_knn_pred, average=\"macro\")"
      ],
      "metadata": {
        "id": "08Kg--9QmJEy",
        "colab": {
          "base_uri": "https://localhost:8080/"
        },
        "outputId": "35629ccd-8fc0-42c8-c20f-8c22b4e7d2a1"
      },
      "execution_count": 91,
      "outputs": [
        {
          "output_type": "execute_result",
          "data": {
            "text/plain": [
              "0.976410265560605"
            ]
          },
          "metadata": {},
          "execution_count": 91
        }
      ]
    },
    {
      "cell_type": "markdown",
      "source": [
        "> 이 코드는 모든 레이블의 가중치가 같다고 가정\n",
        "- 레이블에 클래스의 지지도(support)를 가중치로 지정하는 것도 가능: average=\"weighted\"\n",
        "\n",
        "\n",
        "\n",
        "\n",
        "\n",
        "-------------------\n",
        "\n",
        "### **3.7 다중 출력 분류**\n",
        "- 다중 출력 다중 클래스 분류(multioutput-multiclass classification): 다중 레이블 분류에서 한 레이블이 다중 클래스가 될 수 있도록 일반화한 것, 값을 두 개 이상 가질 수 있음\n",
        "\n",
        "  + 이미지에서 잡음을 제거하는 시스템 생성성"
      ],
      "metadata": {
        "id": "mThILF0xmYDY"
      }
    },
    {
      "cell_type": "code",
      "source": [
        "noise = np.random.randint(0, 100, (len(X_train), 784))\n",
        "X_train_mod = X_train + noise\n",
        "noise = np.random.randint(0, 100, (len(X_test), 784))\n",
        "X_test_mod = X_test + noise\n",
        "y_train_mod = X_train\n",
        "y_test_mod = X_test"
      ],
      "metadata": {
        "id": "t10DEfW8myBY"
      },
      "execution_count": 92,
      "outputs": []
    },
    {
      "cell_type": "markdown",
      "source": [
        "> 테스트 세트에서 이미지 하나 선택 후 이미지를 깨끗하게 변환환"
      ],
      "metadata": {
        "id": "TSCLq8ZJnCt-"
      }
    },
    {
      "cell_type": "code",
      "source": [
        "some_index = 0\n",
        "\n",
        "# 숫자 이미지를 그리는 함수\n",
        "def plot_digit(data):\n",
        "    image = data.reshape(28, 28)\n",
        "    plt.imshow(image, cmap = mpl.cm.binary,\n",
        "               interpolation=\"nearest\")\n",
        "    plt.axis(\"off\")"
      ],
      "metadata": {
        "id": "6ybeR1CUnF5_"
      },
      "execution_count": 93,
      "outputs": []
    },
    {
      "cell_type": "code",
      "source": [
        "knn_clf.fit(X_train_mod, y_train_mod)\n",
        "clean_digit = knn_clf.predict([X_test_mod[some_index]])\n",
        "plot_digit(clean_digit)"
      ],
      "metadata": {
        "id": "xaJ87fDKnLIh",
        "colab": {
          "base_uri": "https://localhost:8080/",
          "height": 248
        },
        "outputId": "c2ec9dea-3665-4fc9-e996-68a04dbb5c33"
      },
      "execution_count": 94,
      "outputs": [
        {
          "output_type": "display_data",
          "data": {
            "text/plain": [
              "<Figure size 432x288 with 1 Axes>"
            ],
            "image/png": "[encoded data removed]"
          },
          "metadata": {
            "needs_background": "light"
          }
        }
      ]
    }
  ]
}