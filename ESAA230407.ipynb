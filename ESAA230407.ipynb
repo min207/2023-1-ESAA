{
  "nbformat": 4,
  "nbformat_minor": 0,
  "metadata": {
    "colab": {
      "provenance": [],
      "authorship_tag": "ABX9TyNCFyXgzjVXlcQTXkufmWcy",
      "include_colab_link": true
    },
    "kernelspec": {
      "name": "python3",
      "display_name": "Python 3"
    },
    "language_info": {
      "name": "python"
    }
  },
  "cells": [
    {
      "cell_type": "markdown",
      "metadata": {
        "id": "view-in-github",
        "colab_type": "text"
      },
      "source": [
        "<a href=\"https://colab.research.google.com/github/min207/2023-1-ESAA/blob/main/ESAA230407.ipynb\" target=\"_parent\"><img src=\"https://colab.research.google.com/assets/colab-badge.svg\" alt=\"Open In Colab\"/></a>"
      ]
    },
    {
      "cell_type": "markdown",
      "source": [
        "## **CH08. 텍스트 분석**\n",
        "\n"
      ],
      "metadata": {
        "id": "RJpp1ZZX9v3x"
      }
    },
    {
      "cell_type": "markdown",
      "source": [
        "### **01. 텍스트 분석 이해**\n",
        "- 텍스트 분석: 비정형 데이터인 텍스트를 분석하는 것\n",
        "  + 텍스트를 머신러닝에 적용하기 위해서는 비정형 텍스트 데이터를 어떻게 피처 형태로 추출하고 추출된 피처에 의미 있는 값을 부여하는가 하는 것이 매우 중요\n",
        "\n",
        "- 단어 기반의 다수의 피처로 추출하고 이 피처에 단어 빈도수와 같은 숫자 값을 부여하여 텍스트를 단어의 조합인 벡터값으로 표현\n",
        "  + `피처 벡터화` 또는 `피처 추출`이라고 함 \n",
        "  + BOW(Bag of Words)와 Word2Vec 방법 사용\n",
        "\n",
        "\n",
        "#### **| 텍스트 분석 수행 프로세스**\n",
        "1. 텍스트 사전 준비 작업(텍스트 전처리): 텍스트를 피처로 만들기 전에 미리 대/소문자 변경, 특수문자 삭제 등의 클렝징 작업, 단어 등의 토큰화 작업, 의미 없는 단어 제거 작업, 어근 추출 등의 텍스트 정규화 작업 수행 \n",
        "\n",
        "2. 피처 벡터화/추출: 사전 준비 작업으로 가공된 텍스트에서 피처를 추출하고 벡터값 할당\n",
        "  + BOW\n",
        "    - Count 기반 벡터화\n",
        "    - TF-IDF 기반 벡터화\n",
        "  + Word2Vec\n",
        "\n",
        "3. ML 모델 수립 및 학습/예측/평가: 피처 벡터화된 데이터 세트에 ML 모델을 적용해 학습/예측/평가 수행 \n",
        "\n",
        "\n",
        "#### **| 파이썬 기반의 NLP, 텍스트 분석 패키지**\n",
        "- 파이썬 기반의 NLP, 텍스트 분석 패키지\n",
        "  + NLTK(Natural Language Toolkit for Python): 파이썬의 가장 대표적인 NLP 패키지\n",
        "    - 방대한 데이터 세트와 서브 모듈을 가지고 있음\n",
        "    - 그러나 수행 속도 측면에서 아쉬운 부분이 있어 실제로 대량 데이터 기반에서는 활용하지 못함\n",
        "  + Gensim: 토픽 모델링 분야에서 가장 두각을 나타내는 패키지\n",
        "    - Word2Vec 구현 등 다양한 신기능 제공\n",
        "    - SpaCy화 함께 가장 많이 사용됨\n",
        "  + SpaCy: 뛰어난 수행 성능으로 최근 가장 주목받는 패키지\n",
        "\n",
        "- 사이킷런은 머신러닝 위주의 라이브러리여서 NLP패키지에 특화된 다양한 라이브러리가 없음"
      ],
      "metadata": {
        "id": "jEeIATKw-bXV"
      }
    },
    {
      "cell_type": "markdown",
      "source": [
        "### **02. 텍스트 사전 준비 작업(텍스트 전처리) - 텍스트 정규화**\n",
        "- 텍스트 정규화: 텍스트를 머신러닝 알고리즘이나 NLP 애플리케이션에 입력 데이터로 사용하리 귀해 다양한 텍스트 데이터의 사전 작업을 수행하는 것 \n",
        "  + 클렌징\n",
        "  + 토큰화\n",
        "  + 필터링/스톱 워드 제거/철자 수정\n",
        "  + Stemming\n",
        "  + Lemmatization\n",
        "\n",
        "\n",
        "#### **| 클렌징**\n",
        "- 분석에 방해가 되는 불필요한 문자, 기호 등을 사전에 제거하는 작업\n",
        "  + HTML, XML 태그나 특정 기호 제거\n",
        "\n",
        "#### **| 텍스트 토큰화**\n",
        "- 문장 토큰화: 문서에 문장을 분리하는 것\n",
        "  + 마침표, 개행문자(\\n) 등 문장의 마지막을 뜻하는 기호에 따라 분리\n",
        "  + 정규 표현식에 따른 문장 토큰화도 가능\n",
        "  + NTLK에서 일반적으로는 `sent_tokenize` 사용"
      ],
      "metadata": {
        "id": "uCwHpymyRRlA"
      }
    },
    {
      "cell_type": "code",
      "source": [
        "from nltk import sent_tokenize\n",
        "import nltk\n",
        "nltk.download('punkt')\n",
        "\n",
        "text_sample = 'The Matrix is everywhere its all around us, here even in this room. \\nYou can see it out your window or on your television. \\nYou feel it when you go to work, or go to church or pay your taxes.'\n",
        "sentences = sent_tokenize(text=text_sample)\n",
        "print(type(sentences), len(sentences))\n",
        "print(sentences)"
      ],
      "metadata": {
        "colab": {
          "base_uri": "https://localhost:8080/"
        },
        "id": "GVI3bZvs960N",
        "outputId": "eb35b467-aeeb-496b-d929-11152e4a95cb"
      },
      "execution_count": 1,
      "outputs": [
        {
          "output_type": "stream",
          "name": "stderr",
          "text": [
            "[nltk_data] Downloading package punkt to /root/nltk_data...\n",
            "[nltk_data]   Unzipping tokenizers/punkt.zip.\n"
          ]
        },
        {
          "output_type": "stream",
          "name": "stdout",
          "text": [
            "<class 'list'> 3\n",
            "['The Matrix is everywhere its all around us, here even in this room.', 'You can see it out your window or on your television.', 'You feel it when you go to work, or go to church or pay your taxes.']\n"
          ]
        }
      ]
    },
    {
      "cell_type": "markdown",
      "source": [
        "> 이때 sent_tokenize()가 반환하는 것은 각각의 문장으로 구성된 list 객체\n",
        "    + 위의 실습의 경우 반환된 list 객체가 3개의 문장으로 구성된 문자열을 가지고 있음 \n",
        "\n",
        "\n",
        "  - 단어 토큰화: 문장에서 단어를 토큰으로 분리하는 것\n",
        "    + 일반적으로 공백, 콤마, 마침표, 개행문자 등으로 단어를 분리\n",
        "    + 정규 표현식을 이용해 다양한 유형으로 토큰화 수행 가능\n",
        "    + 구분자를 이용해 단어를 토큰화할 수 있으므로 Bag of Word와 같이 단어의 순서가 중요하지 않은 경우 문장 토큰화를 사용하지 않고 단어 토큰화만 사용해도 충분함 \n",
        "    + 문장 토큰화는 주로 각 문장이 가지는 시맨틱적인 의미가 중요한 요소로 사용될 때만 수행\n",
        "    + NTLK의 `word_tokenize()` 사용 "
      ],
      "metadata": {
        "id": "gt_Z8BGJYQeH"
      }
    },
    {
      "cell_type": "code",
      "source": [
        "from nltk import word_tokenize\n",
        "\n",
        "sentence = 'The Matrix is everywhere its all around us, here even in this room.'\n",
        "words = word_tokenize(sentence)\n",
        "print(type(words), len(words))\n",
        "print(words)"
      ],
      "metadata": {
        "colab": {
          "base_uri": "https://localhost:8080/"
        },
        "id": "UjQPczDS-Djl",
        "outputId": "85a8b9a7-0d36-4cc3-e6d6-a12e74ae53ed"
      },
      "execution_count": 2,
      "outputs": [
        {
          "output_type": "stream",
          "name": "stdout",
          "text": [
            "<class 'list'> 15\n",
            "['The', 'Matrix', 'is', 'everywhere', 'its', 'all', 'around', 'us', ',', 'here', 'even', 'in', 'this', 'room', '.']\n"
          ]
        }
      ]
    },
    {
      "cell_type": "markdown",
      "source": [
        "- sent_tokenize와 word_tokenize를 조합해 문서의 모든 단어를 토큰화하는 것이 가능 "
      ],
      "metadata": {
        "id": "UNs2zr-UY_VZ"
      }
    },
    {
      "cell_type": "code",
      "source": [
        "from nltk import word_tokenize, sent_tokenize\n",
        "\n",
        "# 여러 개의 문장으로 된 입력 데이터를 문장별로 단어 토큰화하게 만드는 함수 생성\n",
        "def tokenize_text(text):\n",
        "\n",
        "  # 문장별로 분리 토큰\n",
        "  sentences = sent_tokenize(text)\n",
        "  # 분리된 문장별 단어 토큰화\n",
        "  word_tokens = [word_tokenize(sentence) for sentence in sentences]\n",
        "  return word_tokens\n",
        "\n",
        "# 여러 문장에 대해 문장별 단어 토큰화 수행\n",
        "word_tokens = tokenize_text(text_sample)\n",
        "print(type(word_tokens), len(word_tokens))\n",
        "print(word_tokens)"
      ],
      "metadata": {
        "colab": {
          "base_uri": "https://localhost:8080/"
        },
        "id": "vSvR-UG3-E_m",
        "outputId": "d8f11e76-6e23-4410-8f68-724daa46ae8d"
      },
      "execution_count": 3,
      "outputs": [
        {
          "output_type": "stream",
          "name": "stdout",
          "text": [
            "<class 'list'> 3\n",
            "[['The', 'Matrix', 'is', 'everywhere', 'its', 'all', 'around', 'us', ',', 'here', 'even', 'in', 'this', 'room', '.'], ['You', 'can', 'see', 'it', 'out', 'your', 'window', 'or', 'on', 'your', 'television', '.'], ['You', 'feel', 'it', 'when', 'you', 'go', 'to', 'work', ',', 'or', 'go', 'to', 'church', 'or', 'pay', 'your', 'taxes', '.']]\n"
          ]
        }
      ]
    },
    {
      "cell_type": "markdown",
      "source": [
        "> 3개의 문장을 문장별로 먼저 토큰화하였기 때문에 word_tokens 변수는 3개의 리스트 객체를 내포하는 리스트\n",
        "> 각 내포된 개별 리스트 객체는 문장별로 토큰화된 단어요소를 가짐 \n",
        "\n",
        "\n",
        "\n",
        "- 문장을 단어별로 하나씩 토큰화 할 경우 문맥적인 의미는 무시됨\n",
        "  + 이러한 문제를 해결하기 위해 n-gram 도입\n",
        "\n",
        "- n-gram: 연속된 n개의 단어를 하나의 토큰화 단위로 분리하는 것\n",
        "\n",
        "\n",
        "#### **| 스톱 워드 제거**\n",
        "- 스톱 워드(Stop word): 분석에 큰 의미가 없는 단어\n",
        "  + 영어의 is, the, a, will 등 필수 문법 요소이지만 문맥적으로는 의미가 없는 단어\n",
        "  + 이런 경우 빈번하게 텍스트에 나타나므로 사전에 제거하지 않으면 중요한 단어로 인지되는 것을 방지하기 위해 사전에 제거해야함 \n",
        "\n",
        "- 언어별로 스톱 워드가 목록화되어 있어 NLTK의 경우 가장 다양한 언어의 스톱워드를 제공\n",
        "  + NLTK의 stopwords 목록 다운 후 수행 "
      ],
      "metadata": {
        "id": "bgSkzMzOZQUq"
      }
    },
    {
      "cell_type": "code",
      "source": [
        "import nltk\n",
        "nltk.download('stopwords')"
      ],
      "metadata": {
        "colab": {
          "base_uri": "https://localhost:8080/"
        },
        "id": "SFnj_IwF-G0J",
        "outputId": "21ca51b6-8ef4-4318-9088-913188b28184"
      },
      "execution_count": 4,
      "outputs": [
        {
          "output_type": "stream",
          "name": "stderr",
          "text": [
            "[nltk_data] Downloading package stopwords to /root/nltk_data...\n",
            "[nltk_data]   Unzipping corpora/stopwords.zip.\n"
          ]
        },
        {
          "output_type": "execute_result",
          "data": {
            "text/plain": [
              "True"
            ]
          },
          "metadata": {},
          "execution_count": 4
        }
      ]
    },
    {
      "cell_type": "code",
      "source": [
        "print('영어 stop word 개수:', len(nltk.corpus.stopwords.words('english')))\n",
        "print(nltk.corpus.stopwords.words('english')[:20])"
      ],
      "metadata": {
        "colab": {
          "base_uri": "https://localhost:8080/"
        },
        "id": "YGihwaFc-IUr",
        "outputId": "f6fed10e-3b89-4c06-917d-4839af8775fa"
      },
      "execution_count": 5,
      "outputs": [
        {
          "output_type": "stream",
          "name": "stdout",
          "text": [
            "영어 stop word 개수: 179\n",
            "['i', 'me', 'my', 'myself', 'we', 'our', 'ours', 'ourselves', 'you', \"you're\", \"you've\", \"you'll\", \"you'd\", 'your', 'yours', 'yourself', 'yourselves', 'he', 'him', 'his']\n"
          ]
        }
      ]
    },
    {
      "cell_type": "markdown",
      "source": [
        "> 영어의 경우 스톱 워드의 개수가 179개\n",
        "> word_tokens 리스트에 대해서 stopwords를 필터링으로 제거해 의미 있는 단어만 추출 "
      ],
      "metadata": {
        "id": "23cgtu3oaEUk"
      }
    },
    {
      "cell_type": "code",
      "source": [
        "import nltk\n",
        "\n",
        "stopwords = nltk.corpus.stopwords.words('english')\n",
        "all_tokens = []\n",
        "# 위 예제에서 3개의 문장별로 얻은 word_tokens list에 대해 스톱 워드를 제거하는 반복문\n",
        "for sentence in word_tokens:\n",
        "  filtered_words = []\n",
        "  # 개별 문장별로 토큰화된 문장 list에 대해 스톱 워드를 제거하는 반복문\n",
        "  for word in sentence:\n",
        "    # 소문자로 모두 변환\n",
        "    word = word.lower()\n",
        "    # 토큰화된 개별 단어가 스톱 워드의 단어에 포함되지 않으면 word_tokens에 추가\n",
        "    if word not in stopwords:\n",
        "      filtered_words.append(word)\n",
        "    all_tokens.append(filtered_words)\n",
        "\n",
        "print(all_tokens)"
      ],
      "metadata": {
        "colab": {
          "base_uri": "https://localhost:8080/"
        },
        "id": "Ux1CCMKT-JsC",
        "outputId": "7883e195-8bfd-4a43-9839-269560d17974"
      },
      "execution_count": 6,
      "outputs": [
        {
          "output_type": "stream",
          "name": "stdout",
          "text": [
            "[['matrix', 'everywhere', 'around', 'us', ',', 'even', 'room', '.'], ['matrix', 'everywhere', 'around', 'us', ',', 'even', 'room', '.'], ['matrix', 'everywhere', 'around', 'us', ',', 'even', 'room', '.'], ['matrix', 'everywhere', 'around', 'us', ',', 'even', 'room', '.'], ['matrix', 'everywhere', 'around', 'us', ',', 'even', 'room', '.'], ['matrix', 'everywhere', 'around', 'us', ',', 'even', 'room', '.'], ['matrix', 'everywhere', 'around', 'us', ',', 'even', 'room', '.'], ['matrix', 'everywhere', 'around', 'us', ',', 'even', 'room', '.'], ['matrix', 'everywhere', 'around', 'us', ',', 'even', 'room', '.'], ['matrix', 'everywhere', 'around', 'us', ',', 'even', 'room', '.'], ['matrix', 'everywhere', 'around', 'us', ',', 'even', 'room', '.'], ['matrix', 'everywhere', 'around', 'us', ',', 'even', 'room', '.'], ['matrix', 'everywhere', 'around', 'us', ',', 'even', 'room', '.'], ['matrix', 'everywhere', 'around', 'us', ',', 'even', 'room', '.'], ['matrix', 'everywhere', 'around', 'us', ',', 'even', 'room', '.'], ['see', 'window', 'television', '.'], ['see', 'window', 'television', '.'], ['see', 'window', 'television', '.'], ['see', 'window', 'television', '.'], ['see', 'window', 'television', '.'], ['see', 'window', 'television', '.'], ['see', 'window', 'television', '.'], ['see', 'window', 'television', '.'], ['see', 'window', 'television', '.'], ['see', 'window', 'television', '.'], ['see', 'window', 'television', '.'], ['see', 'window', 'television', '.'], ['feel', 'go', 'work', ',', 'go', 'church', 'pay', 'taxes', '.'], ['feel', 'go', 'work', ',', 'go', 'church', 'pay', 'taxes', '.'], ['feel', 'go', 'work', ',', 'go', 'church', 'pay', 'taxes', '.'], ['feel', 'go', 'work', ',', 'go', 'church', 'pay', 'taxes', '.'], ['feel', 'go', 'work', ',', 'go', 'church', 'pay', 'taxes', '.'], ['feel', 'go', 'work', ',', 'go', 'church', 'pay', 'taxes', '.'], ['feel', 'go', 'work', ',', 'go', 'church', 'pay', 'taxes', '.'], ['feel', 'go', 'work', ',', 'go', 'church', 'pay', 'taxes', '.'], ['feel', 'go', 'work', ',', 'go', 'church', 'pay', 'taxes', '.'], ['feel', 'go', 'work', ',', 'go', 'church', 'pay', 'taxes', '.'], ['feel', 'go', 'work', ',', 'go', 'church', 'pay', 'taxes', '.'], ['feel', 'go', 'work', ',', 'go', 'church', 'pay', 'taxes', '.'], ['feel', 'go', 'work', ',', 'go', 'church', 'pay', 'taxes', '.'], ['feel', 'go', 'work', ',', 'go', 'church', 'pay', 'taxes', '.'], ['feel', 'go', 'work', ',', 'go', 'church', 'pay', 'taxes', '.'], ['feel', 'go', 'work', ',', 'go', 'church', 'pay', 'taxes', '.'], ['feel', 'go', 'work', ',', 'go', 'church', 'pay', 'taxes', '.'], ['feel', 'go', 'work', ',', 'go', 'church', 'pay', 'taxes', '.']]\n"
          ]
        }
      ]
    },
    {
      "cell_type": "markdown",
      "source": [
        "> 수행 결과 is, this와 같은 스톱워드가 필터링을 통해 제거된 것을 확인 "
      ],
      "metadata": {
        "id": "sTyBkQrSaaGc"
      }
    },
    {
      "cell_type": "markdown",
      "source": [
        "#### **| Stemming과 Lemmatization**\n",
        "- 문법적 또는 의미적으로 변화하는 단어의 원형을 찾는 것\n",
        "  + Lemmatization이 Stemming보다 정교하며 의미론적인 기반에서 단어의 원형을 찾음\n",
        "  + Stemming은 원형 단어로 변환 시 일반적인 방법을 적용하거나 더 단순화된 방법을 적용해 원래 단어에서 일부 철자가 훼손된 어근 단어를 추출하는 경향이 있음\n",
        "  + Lemmatization은 품사와 같은 문법적인 요소와 더 의미적인 부분을 감안해 정확한 처라로 된 어근 단어를 찾음\n",
        "  + Lemmatization이 Stemming보다 변환에 더 오랜 시간이 걸림\n",
        "\n",
        "- NLTK는 다양한 Stemmer을 제공\n",
        "  + Porter, Lancaster, Snowball Stemmer\n",
        "  + WordNetLemmatizer\n",
        "\n",
        "- LancasterStemmer()와 같이 필요한 Stemmer 객체를 생성한 뒤 이 객체의 stem('단어') 메서드를 호출하면 원하는 '단어'의 Stemming 가능 "
      ],
      "metadata": {
        "id": "rrXJa1OdaeJc"
      }
    },
    {
      "cell_type": "code",
      "source": [
        "from nltk.stem import LancasterStemmer\n",
        "stemmer = LancasterStemmer()\n",
        "\n",
        "print(stemmer.stem('working'), stemmer.stem('works'), stemmer.stem('worked'))\n",
        "print(stemmer.stem('amusing'), stemmer.stem('amuses'), stemmer.stem('amused'))\n",
        "print(stemmer.stem('happier'), stemmer.stem('happiest'))\n",
        "print(stemmer.stem('fancier'), stemmer.stem('fanciest'))"
      ],
      "metadata": {
        "colab": {
          "base_uri": "https://localhost:8080/"
        },
        "id": "8qplDrWm-MXr",
        "outputId": "3719cd00-fdf9-4475-998d-cc74166a50f7"
      },
      "execution_count": 7,
      "outputs": [
        {
          "output_type": "stream",
          "name": "stdout",
          "text": [
            "work work work\n",
            "amus amus amus\n",
            "happy happiest\n",
            "fant fanciest\n"
          ]
        }
      ]
    },
    {
      "cell_type": "markdown",
      "source": [
        "> 단어의 정확한 원형을 찾지 못하고 원형 단어에서 철자가 다른 어근 단어로 인식하는 경우 발생 "
      ],
      "metadata": {
        "id": "6EFcWialblFD"
      }
    },
    {
      "cell_type": "code",
      "source": [
        "from nltk.stem import WordNetLemmatizer\n",
        "import nltk\n",
        "nltk.download('wordnet')\n",
        "\n",
        "lemma = WordNetLemmatizer()\n",
        "print(lemma.lemmatize('amusing', 'v'), lemma.lemmatize('amuses', 'v'), lemma.lemmatize('amused', 'v'))\n",
        "print(lemma.lemmatize('happier', 'a'), lemma.lemmatize('happiest', 'a'))\n",
        "print(lemma.lemmatize('fancier', 'a'), lemma.lemmatize('fanciest', 'a'))"
      ],
      "metadata": {
        "colab": {
          "base_uri": "https://localhost:8080/"
        },
        "id": "4alNMuk7-NU-",
        "outputId": "22014aa9-f3d4-46d4-c7a0-b86a36252dc1"
      },
      "execution_count": 8,
      "outputs": [
        {
          "output_type": "stream",
          "name": "stderr",
          "text": [
            "[nltk_data] Downloading package wordnet to /root/nltk_data...\n"
          ]
        },
        {
          "output_type": "stream",
          "name": "stdout",
          "text": [
            "amuse amuse amuse\n",
            "happy happy\n",
            "fancy fancy\n"
          ]
        }
      ]
    },
    {
      "cell_type": "markdown",
      "source": [
        "> Lemmatization의 경우, 품사를 입력해주어야함\n",
        "> 앞의 Stemmer보다 정확하게 원형 단어 추출 "
      ],
      "metadata": {
        "id": "hEWqdlebbloi"
      }
    },
    {
      "cell_type": "markdown",
      "source": [
        "### **03. Bag of Words = BOW**\n",
        "\n",
        "- Bag of Words: 문서가 가지는 모든 단어(Words)를 문맥이나 순서를 무시하고 일괄적으로 단어에 대해 빈도 값을 부여해 피처 값을 추출하는 모델\n",
        "\n",
        "- 2개의 문장이 있다고 가정하고 이 문장을 단어 수(Word Count)기반으로 피처 추출 \n",
        "  + 'My wife likes to watch baseball games and my daughter likes to watch baseball games too'\n",
        "  + 'My wife likes to play baseball'\n",
        "\n",
        "  1. 문장 1과 문장 2에 있는 모든 단어에서 중복을 제거하고 각 단어를 칼럼 형태로 나열, 그 후 각 단어에 고유의 인덱스 부여\n",
        "  2. 개별 문장에서 해당 단어가 나타나는 횟수(Occurrence)를 각 단어 인덱스에 기재\n",
        "\n",
        "- BOW 모델은 쉽고 빠르게 구축된다는 장점이 있음\n",
        "  + 단순히 단어의 발생 횟수에 기반하지만 예상보다 문서의 특징을 잘 나타내 여러 분야에서 높은 활용도를 보임\n",
        "\n",
        "- BOW 모델의 단점\n",
        "  + 문맥 의미(Semantic Context) 반영 부족\n",
        "  + 희소 행렬 문제\n",
        "\n",
        "\n",
        "#### **| BOW 피처 벡터화**\n",
        "- 피처 벡터화: 텍스트를 입력 데이터로 사용하기 위해 특정 의미를 가지는 숫자형 값인 벡터값으로 변환하는 것\n",
        "\n",
        "- BOW 모델에서 피처 벡터화를 수행한다는 것은 모든 문서에서 모든 단어를 칼럼 형태로 나열하고 각 문서에서 해당 단어의 횟수나 정규화된 빈도를 값으로 부여하는 데이터 세트 모델로 변경하는 것\n",
        "- BOW의 피처 벡터화에는 두 가지 방식이 있음\n",
        "  + 카운트 기반의 벡터화\n",
        "  + TF-IDF(Term Frequency - Inverse Document Frequency) 기반의 벡터화\n",
        "\n",
        "- 카운트 벡터화: 단어 피처에 값을 부여할 때 각 문서에서 해당 단어가 나타나는 횟수를 부여하는 경우\n",
        "  + 카운트 값이 높을수록 중요한 단어로 인식\n",
        "  + 카운트만 부여할 경우 그 문서의 특징을 나타내기보다는 언어의 특성상 문장에서 자주 사용될 수 밖에 없는 단어까지 높은 값을 부여하게 됨\n",
        "- TF-IDF 벡터화: 카운트 벡터화의 문제를 보완하기 위해 사용하는 방법\n",
        "  + 개별 문서에서 자주 나타나는 단어에 높은 가중치를 주되, 모든 문서에서 전반적으로 자주 나타나는 단어에 대해서는 페널티를 주는 방식으로 값을 부여\n",
        "  + 문서의 텍스트가 길고 문서의 개수가 많은 경우, 카운트 기반보다 TF-IDF 기반 벡터화를 사용하는 것이 더 좋은 예측 성능을 보장\n",
        "\n",
        "#### **| 사이킷런의 Count 및 TF-IDF 벡터화 구현: CountVectorizer, TfidfVectorizer**\n",
        "- 사이킷런의 CountVectorizer 클래스: 카운트 기반의 벡터화를 구현\n",
        "  + 피처 벡터화 뿐만 아니라 소문자 일괄 변환, 토큰화, 스톱 워드 필터링 등의 텍스트 전처리도 함께 수행\n",
        "  + 입력 파라미터를 설정해 동작하고 fit(), transform()을 통해 피처 벡터화된 객체를 반환\n",
        "  + 입력 파라미터\n",
        "    - max_df: 너무 높은 빈도수를 가지는 단어 피처를 제외하기 위한 파라미터\n",
        "    - min_df: 너무 낮은 빈도수를 가지는 단어 피처를 제외하기 위한 파라미터\n",
        "    - max_features: 추출하는 피처의 개수 제한(정수형태로 입력)\n",
        "    - stop_words: 'english'로 지정시 영어의 스톱 워드로 지정된 단어는 추출에서 제외\n",
        "    - n_gram_range: 단어 순서를 어느정도 보강하기 위한 n_gram 범위 설정\n",
        "    - analyzer: 피처 추출을 수행한 단위 지정(기본값: 'word')\n",
        "    - token_pattern: 토큰화를 수행하는 정규 표현식 패턴 지정\n",
        "    - tokenizer: 토큰화를 별도의 커스텀 함수로 이용시 적용\n",
        "\n",
        "- CountVectorizer 클래스 사용법\n",
        "  1. 영어의 경우 모든 문자를 소문자로 변경하는 등 전처리 작업 수행\n",
        "  2. 디폴트로 단어 기준으로 n_gram_range를 반영해 각 단어 토큰화\n",
        "  3. 텍스트 정규화 수행\n",
        "    + 이때 스톱워드 필터링을 위해서는 파라미터를 지정해야함\n",
        "    + Stemming이나 Lemmatization과 같은 어근 변화는 직접 지원되지 않으나 tokenizer 파라미터에 커스텀 어근 변환 함수를 적용하여 수행 가능 \n",
        "\n",
        "- TfidfVectorizer 클래스도 동일한 방법으로 사용 가능\n",
        "\n",
        "\n",
        "\n",
        "#### **| BOW 벡터화를 위한 희소 행렬**\n",
        "- 사이킷런의 CountVectorizer/TfidfVectorizer를 이용해 텍스트를 피처 단위로 벡터화해 변환하고 CSR 형태의 희소 행렬 반환\n",
        "  + 난이도 있는 ML 모델을 수립하기 위해서는 희소 행렬의 형태를 알아야함\n",
        "\n",
        "- 희소 행렬: 모든 문서에 있는 단어를 중복을 제거하고 피처로 만들면 일반적으로 수만 개에서 수십만 개의 단어가 만들어지는데, 이때 레코드의 각 문서가 가지는 단어의 수는 제한적이기 때문에 이 행렬의 값은 대부분 0이 차지하게 되고, 이런 행렬을 가리켜 희소 행렬이라고 함\n",
        "\n",
        "- 희소 행렬은 너무 많은 불필요한 0 값이 메모리 공간에 할당되어 메모리 공간이 많이 필요하며, 행렬의 크기가 커서 연산 시에도 액세스를 위한 시간이 많이 소모됨\n",
        "  + COO 형식, CSR 형식을 이용해 적은 메모리 공간을 차지하도록 물리적 변환 수행\n",
        "  + 일반적으로 CSR이 더 뛰어나 많이 사용 \n",
        "\n",
        "#### **| 희소 행렬 - COO 형식**\n",
        "- COO(coordinate:좌표) 형식: 0이 아닌 데이터만 별도의 데이터 배열(array)에 저장하고 그 데이터가 가리키는 행과 열의 위치를 별도의 배열로 저장하는 방식 \n",
        "\n",
        "- 희소 행렬 반환을 위해 주로 Scipy 사용\n",
        "  + 사이파이의 sparse 패키지는 희소 행렬 변환을 위한 다양한 모듈 제공 "
      ],
      "metadata": {
        "id": "GEFFKAu3br82"
      }
    },
    {
      "cell_type": "code",
      "source": [
        "import numpy as np\n",
        "\n",
        "dense = np.array([[3,0,1], [0,2,0]])"
      ],
      "metadata": {
        "id": "vNEMPhcG-Pt0"
      },
      "execution_count": 10,
      "outputs": []
    },
    {
      "cell_type": "markdown",
      "source": [
        "> - 위 밀집 행렬을 사이파이의 coo_matrix 클래스를 이용해 COO 형식의 희소 행렬로 변환\n",
        "> - 0이 아닌 데이터를 별도의 배열 데이터로 만들고, 행 위치 배열과 열 위치 배열을 각각 만든 후 coo_matrix() 내에 생성 파라미터로 입력 "
      ],
      "metadata": {
        "id": "p4YtAjtWgwNB"
      }
    },
    {
      "cell_type": "code",
      "source": [
        "from scipy import sparse\n",
        "\n",
        "# 0이 아닌 데이터 추출\n",
        "data = np.array([3,1,2])\n",
        "\n",
        "# 행 위치와 열 위치를 각각 배열로 생성\n",
        "row_pos = np.array([0,0,1])\n",
        "col_pos = np.array([0,2,1])\n",
        "\n",
        "# sparse 패키지의 coo_matirx를 이용해 COO 형식의 희소 행렬 생성\n",
        "sparse_coo = sparse.coo_matrix((data, (row_pos, col_pos)))"
      ],
      "metadata": {
        "id": "fcofEM0v-Q8s"
      },
      "execution_count": 11,
      "outputs": []
    },
    {
      "cell_type": "markdown",
      "source": [
        "> - sparse_coo는 COO 형식의 희소 행렬 객체 변수\n",
        "> - toarray() 메서드를 이용해 다시 밀집 형태의 행렬로 출력 "
      ],
      "metadata": {
        "id": "mAaPtPW8hB33"
      }
    },
    {
      "cell_type": "code",
      "source": [
        "sparse_coo.toarray()"
      ],
      "metadata": {
        "colab": {
          "base_uri": "https://localhost:8080/"
        },
        "id": "piIB_ZVH-SVj",
        "outputId": "c115710b-f6cf-4207-c31e-6f5babaddfcc"
      },
      "execution_count": 12,
      "outputs": [
        {
          "output_type": "execute_result",
          "data": {
            "text/plain": [
              "array([[3, 0, 1],\n",
              "       [0, 2, 0]])"
            ]
          },
          "metadata": {},
          "execution_count": 12
        }
      ]
    },
    {
      "cell_type": "markdown",
      "source": [
        "> 다시 원래의 데이터 행렬로 추출됨 "
      ],
      "metadata": {
        "id": "kpPAMt9shPWZ"
      }
    },
    {
      "cell_type": "markdown",
      "source": [
        "#### **| 희소 행렬 - CSR 형식**\n",
        "- CSR(Compressed Sparse Row) 형식: COO 형식이 행과 열의 위치를 나타내기 위해서 반복적인 위치 데이터를 사용해야 하는 문제점을 해결한 방식 \n",
        "- 사이파이의 csr_matrix 클래스를 이용해 수행 \n",
        "- 0이 아닌 데이터 배열과 열 위치 배열, 행위치 배열의 고유한 값의 시작 위치 배열을 csr_matrix의 생성 파라미터로 입력 "
      ],
      "metadata": {
        "id": "y8ncKMmthR59"
      }
    },
    {
      "cell_type": "code",
      "source": [
        "from scipy import sparse\n",
        "\n",
        "dense2=np.array([[0,0,1,0,0,5],\n",
        "                 [1,4,0,3,2,5],\n",
        "                 [0,6,0,3,0,0],\n",
        "                 [2,0,0,0,0,0],\n",
        "                 [0,0,0,7,0,8],\n",
        "                 [1,0,0,0,0,0]])\n",
        "\n",
        "# 0이 아닌 데이터 추출\n",
        "data2 = np.array([1,5,1,4,3,2,5,6,3,2,7,8,1])\n",
        "\n",
        "# 행 위치와 열 위치를 각각 array로 생성\n",
        "row_pos = np.array([0,0,1,1,1,1,1,2,2,3,4,4,5])\n",
        "col_pos = np.array([2,5,0,1,3,4,5,1,3,0,3,5,0])\n",
        "\n",
        "# COO 형식으로 변환\n",
        "sparse_coo = sparse.coo_matrix((data2, (row_pos, col_pos)))\n",
        "\n",
        "# 행 위치 배열의 고유한 값의 시작 위치 인덱스를 배열로 생성\n",
        "row_pos_ind = np.array([0,2,7,9,10,12,13])\n",
        "\n",
        "# CSR 형식으로 변환\n",
        "sparse_csr = sparse.csr_matrix((data2, col_pos, row_pos_ind))\n",
        "\n",
        "print('COO 변환된 데이터가 제대로 되었는지 다시 Dense로 출력 확인')\n",
        "print(sparse_coo.toarray())\n",
        "print('CSR 변환된 데이터가 제대로 되었는지 다시 Dense로 출력 확인')\n",
        "print(sparse_csr.toarray())"
      ],
      "metadata": {
        "colab": {
          "base_uri": "https://localhost:8080/"
        },
        "id": "WjjHk9iC-Tk_",
        "outputId": "cb0dd838-253d-4fea-af87-e6627b01615e"
      },
      "execution_count": 13,
      "outputs": [
        {
          "output_type": "stream",
          "name": "stdout",
          "text": [
            "COO 변환된 데이터가 제대로 되었는지 다시 Dense로 출력 확인\n",
            "[[0 0 1 0 0 5]\n",
            " [1 4 0 3 2 5]\n",
            " [0 6 0 3 0 0]\n",
            " [2 0 0 0 0 0]\n",
            " [0 0 0 7 0 8]\n",
            " [1 0 0 0 0 0]]\n",
            "CSR 변환된 데이터가 제대로 되었는지 다시 Dense로 출력 확인\n",
            "[[0 0 1 0 0 5]\n",
            " [1 4 0 3 2 5]\n",
            " [0 6 0 3 0 0]\n",
            " [2 0 0 0 0 0]\n",
            " [0 0 0 7 0 8]\n",
            " [1 0 0 0 0 0]]\n"
          ]
        }
      ]
    },
    {
      "cell_type": "markdown",
      "source": [
        "- 실제 사용 시에는 밀집 행렬을 생성 파라미터로 입력하면 COO나 CSR 희소 행렬로 생성 "
      ],
      "metadata": {
        "id": "qONi9-ieh9ht"
      }
    },
    {
      "cell_type": "code",
      "source": [
        "dense3 = np.array([[0,0,1,0,0,5],\n",
        "                 [1,4,0,3,2,5],\n",
        "                 [0,6,0,3,0,0],\n",
        "                 [2,0,0,0,0,0],\n",
        "                 [0,0,0,7,0,8],\n",
        "                 [1,0,0,0,0,0]])\n",
        "\n",
        "coo = sparse.coo_matrix(dense3)\n",
        "csr = sparse.csr_matrix(dense3)"
      ],
      "metadata": {
        "id": "x8g6gvTQ-Uhk"
      },
      "execution_count": 14,
      "outputs": []
    }
  ]
}