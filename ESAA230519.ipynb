{
  "nbformat": 4,
  "nbformat_minor": 0,
  "metadata": {
    "colab": {
      "provenance": [],
      "authorship_tag": "ABX9TyN8AmxOYiTG5Q3b7DM5Wu9x",
      "include_colab_link": true
    },
    "kernelspec": {
      "name": "python3",
      "display_name": "Python 3"
    },
    "language_info": {
      "name": "python"
    }
  },
  "cells": [
    {
      "cell_type": "markdown",
      "metadata": {
        "id": "view-in-github",
        "colab_type": "text"
      },
      "source": [
        "<a href=\"https://colab.research.google.com/github/min207/2023-1-ESAA/blob/main/ESAA230519.ipynb\" target=\"_parent\"><img src=\"https://colab.research.google.com/assets/colab-badge.svg\" alt=\"Open In Colab\"/></a>"
      ]
    },
    {
      "cell_type": "markdown",
      "source": [
        "## **08. 파이썬 추천 시스템 패키지 - Surprise**\n",
        "\n",
        "----\n",
        "### **| Surprise 패키지 소개**\n",
        "- Surprise: 추천 시스템 구축을 위한 전용 패키지\n",
        "  + conda나 pip를 통해 설치 \n",
        "  + 다양한 추천 알고리즘, 예를 들어 사용자 도는 아이템 기반 최근접 이웃 협업 필터링, SVD, SVD++, NMF 기반의 잠재 요인 협업 필터링을 쉽게 적용해 추천 시스템을 구축할 수 있음\n",
        "  + Surprise의 핵심 API는 사이킷런의 핵심 API와 유사한 API명으로 작성됨"
      ],
      "metadata": {
        "id": "vBE-JtYd1HqV"
      }
    },
    {
      "cell_type": "code",
      "execution_count": 1,
      "metadata": {
        "colab": {
          "base_uri": "https://localhost:8080/"
        },
        "id": "TfliUfe0013T",
        "outputId": "75cfa2ca-9ab7-4935-a76b-bc373c61966c"
      },
      "outputs": [
        {
          "output_type": "stream",
          "name": "stdout",
          "text": [
            "Looking in indexes: https://pypi.org/simple, https://us-python.pkg.dev/colab-wheels/public/simple/\n",
            "Collecting scikit-surprise\n",
            "  Downloading scikit-surprise-1.1.3.tar.gz (771 kB)\n",
            "\u001b[2K     \u001b[90m━━━━━━━━━━━━━━━━━━━━━━━━━━━━━━━━━━━━━━\u001b[0m \u001b[32m772.0/772.0 kB\u001b[0m \u001b[31m11.7 MB/s\u001b[0m eta \u001b[36m0:00:00\u001b[0m\n",
            "\u001b[?25h  Preparing metadata (setup.py) ... \u001b[?25l\u001b[?25hdone\n",
            "Requirement already satisfied: joblib>=1.0.0 in /usr/local/lib/python3.10/dist-packages (from scikit-surprise) (1.2.0)\n",
            "Requirement already satisfied: numpy>=1.17.3 in /usr/local/lib/python3.10/dist-packages (from scikit-surprise) (1.22.4)\n",
            "Requirement already satisfied: scipy>=1.3.2 in /usr/local/lib/python3.10/dist-packages (from scikit-surprise) (1.10.1)\n",
            "Building wheels for collected packages: scikit-surprise\n",
            "  Building wheel for scikit-surprise (setup.py) ... \u001b[?25l\u001b[?25hdone\n",
            "  Created wheel for scikit-surprise: filename=scikit_surprise-1.1.3-cp310-cp310-linux_x86_64.whl size=3095447 sha256=0e1625eb0c4661ba5d71229b4e01722d44299ffd20b366c5bc1d030a9527a245\n",
            "  Stored in directory: /root/.cache/pip/wheels/a5/ca/a8/4e28def53797fdc4363ca4af740db15a9c2f1595ebc51fb445\n",
            "Successfully built scikit-surprise\n",
            "Installing collected packages: scikit-surprise\n",
            "Successfully installed scikit-surprise-1.1.3\n"
          ]
        }
      ],
      "source": [
        "! pip install scikit-surprise"
      ]
    },
    {
      "cell_type": "markdown",
      "source": [
        "----\n",
        "### **| Surprise를 이용한 추천 시스템 구축**"
      ],
      "metadata": {
        "id": "AvNu6lpo4zYb"
      }
    },
    {
      "cell_type": "code",
      "source": [
        "from surprise import SVD\n",
        "from surprise import Dataset\n",
        "from surprise import accuracy\n",
        "from surprise.model_selection import train_test_split"
      ],
      "metadata": {
        "id": "QhfkR-c314rK"
      },
      "execution_count": 2,
      "outputs": []
    },
    {
      "cell_type": "markdown",
      "source": [
        "> - 추천을 위한 데이터 세트 로딩\n",
        "- Surprise에서 데이터 로딩은 Dataset 클래스를 이용해서만 가능\n",
        "- Surprise의 무비렌즈 사이트에서 제공하는 과거 버전의 데이터 세트 불러오는 API 제공 "
      ],
      "metadata": {
        "id": "WdUMslRiCG89"
      }
    },
    {
      "cell_type": "code",
      "source": [
        "data = Dataset.load_builtin('ml-100k')\n",
        "# 수행 시마다 동일하게 데이터를 분할하기 위해 random_state 값 부여\n",
        "trainset, testset = train_test_split(data, test_size=.25, random_state=0)"
      ],
      "metadata": {
        "colab": {
          "base_uri": "https://localhost:8080/"
        },
        "id": "i3nwYgO016VW",
        "outputId": "2223d54b-c7d0-4b33-aad6-8d5f784a9481"
      },
      "execution_count": 3,
      "outputs": [
        {
          "output_type": "stream",
          "name": "stdout",
          "text": [
            "Dataset ml-100k could not be found. Do you want to download it? [Y/n] ㅛ\n",
            "Dataset ml-100k could not be found. Do you want to download it? [Y/n] y\n",
            "Trying to download dataset from https://files.grouplens.org/datasets/movielens/ml-100k.zip...\n",
            "Done! Dataset ml-100k has been saved to /root/.surprise_data/ml-100k\n"
          ]
        }
      ]
    },
    {
      "cell_type": "markdown",
      "source": [
        "> - 과거버전의 데이터 세트로 분리 문자기가 탭 문자\n",
        "- 다운 받은 데이터 파일과 동일하게 로우 레벨의 사용자-아이템 평점 데이터를 그대로 적용해야함\n",
        "\n",
        "\n",
        "\n",
        "\n",
        "- SVD로 잠재 요인 협업 필터링 수행 "
      ],
      "metadata": {
        "id": "ZkVfrPMXD8dK"
      }
    },
    {
      "cell_type": "code",
      "source": [
        "algo = SVD() \n",
        "algo.fit(trainset)"
      ],
      "metadata": {
        "colab": {
          "base_uri": "https://localhost:8080/"
        },
        "id": "K5dAWYCj19Ka",
        "outputId": "8ba095e4-0c88-4ab8-8b10-929a2439de00"
      },
      "execution_count": 4,
      "outputs": [
        {
          "output_type": "execute_result",
          "data": {
            "text/plain": [
              "<surprise.prediction_algorithms.matrix_factorization.SVD at 0x7f0da846f4f0>"
            ]
          },
          "metadata": {},
          "execution_count": 4
        }
      ]
    },
    {
      "cell_type": "markdown",
      "source": [
        "> - 학습된 추천 알고리즘을 기반으로 테스트 데이터 세트에 대해 추천 수행\n",
        "- 추천 예측 메서드는 test(), predict()\n",
        "  + test(): 사용자-아이템 평점 데이터 세트 전체에 대해서 추천을 예측하는 메서드\n",
        "  + predict(): 개별 사용자와 영화에 대한 추천 평점 반환"
      ],
      "metadata": {
        "id": "iZCY_XAeEPgq"
      }
    },
    {
      "cell_type": "code",
      "source": [
        "predictions = algo.test(testset)\n",
        "print('predictions type :', type(predictions), 'size :', len(predictions))\n",
        "print('prediction 결과의 최초 5개 추출')\n",
        "predictions[:5]"
      ],
      "metadata": {
        "colab": {
          "base_uri": "https://localhost:8080/"
        },
        "id": "95jKDBKM1_YM",
        "outputId": "3a1f39d1-318e-4493-dc51-41a71339812e"
      },
      "execution_count": 5,
      "outputs": [
        {
          "output_type": "stream",
          "name": "stdout",
          "text": [
            "predictions type : <class 'list'> size : 25000\n",
            "prediction 결과의 최초 5개 추출\n"
          ]
        },
        {
          "output_type": "execute_result",
          "data": {
            "text/plain": [
              "[Prediction(uid='120', iid='282', r_ui=4.0, est=3.4830043802523236, details={'was_impossible': False}),\n",
              " Prediction(uid='882', iid='291', r_ui=4.0, est=4.196325635676174, details={'was_impossible': False}),\n",
              " Prediction(uid='535', iid='507', r_ui=5.0, est=3.9268591933515173, details={'was_impossible': False}),\n",
              " Prediction(uid='697', iid='244', r_ui=5.0, est=3.5661004500456523, details={'was_impossible': False}),\n",
              " Prediction(uid='751', iid='385', r_ui=4.0, est=3.4821302192833867, details={'was_impossible': False})]"
            ]
          },
          "metadata": {},
          "execution_count": 5
        }
      ]
    },
    {
      "cell_type": "markdown",
      "source": [
        "> - SVD 알고리즘 객체의 test 메서드의 호출 결과는 파이썬 리스트이며 크기는 입력 인자 데이터 세트의 크기와 동일\n",
        "- 내부에 Prediction 객체를 가짐\n",
        "  + Prediction: Surprise 패키지에서 제공하는 데이터 타입, 추천 예측 평점 데이터를 튜플 형태로 가짐\n",
        "  + 로그용으로 데이터를 남기는 데 사용됨\n",
        "  + 'was_impossible'이 True이면 예측값을 생성할 수 없는 데이터라는 의미"
      ],
      "metadata": {
        "id": "IVv9am77EnbG"
      }
    },
    {
      "cell_type": "code",
      "source": [
        "[ (pred.uid, pred.iid, pred.est) for pred in predictions[:3]]"
      ],
      "metadata": {
        "colab": {
          "base_uri": "https://localhost:8080/"
        },
        "id": "YKglFvnJ2A00",
        "outputId": "1ea92f58-3026-438c-f745-b114b198a53c"
      },
      "execution_count": 6,
      "outputs": [
        {
          "output_type": "execute_result",
          "data": {
            "text/plain": [
              "[('120', '282', 3.4830043802523236),\n",
              " ('882', '291', 4.196325635676174),\n",
              " ('535', '507', 3.9268591933515173)]"
            ]
          },
          "metadata": {},
          "execution_count": 6
        }
      ]
    },
    {
      "cell_type": "markdown",
      "source": [
        "> - predict를 이용해 추천 예측 수행: 개별 사용자의 아이템에 대한 추천 평점 예측\n",
        "- 사용자 아이디, 아이템 아이디를 문자열로 입력 "
      ],
      "metadata": {
        "id": "hvxsHRR4FCrk"
      }
    },
    {
      "cell_type": "code",
      "source": [
        "uid = str(196)\n",
        "iid = str(302)\n",
        "pred = algo.predict(uid, iid)\n",
        "print(pred)"
      ],
      "metadata": {
        "colab": {
          "base_uri": "https://localhost:8080/"
        },
        "id": "7YJWR5O42FvR",
        "outputId": "16ea831c-c79c-4d20-cfc0-4ffd74fc7768"
      },
      "execution_count": 7,
      "outputs": [
        {
          "output_type": "stream",
          "name": "stdout",
          "text": [
            "user: 196        item: 302        r_ui = None   est = 4.26   {'was_impossible': False}\n"
          ]
        }
      ]
    },
    {
      "cell_type": "markdown",
      "source": [
        "> - 추천 예측 평점을 est로 반환\n",
        "- 즉, test 메서드는 predict를 반복적으로 수행한 결과\n",
        "\n",
        "\n",
        "\n",
        "- Surprise의 accuracy 모듈은 RMSE, MSE 등의 방법으로 추천 시스테의 성능 평가 정보 제공 "
      ],
      "metadata": {
        "id": "X4RnukQ2FOmy"
      }
    },
    {
      "cell_type": "code",
      "source": [
        "accuracy.rmse(predictions)"
      ],
      "metadata": {
        "colab": {
          "base_uri": "https://localhost:8080/"
        },
        "id": "N_0RG8tx2HW8",
        "outputId": "3e91678c-8708-4235-c804-d187edd65422"
      },
      "execution_count": 8,
      "outputs": [
        {
          "output_type": "stream",
          "name": "stdout",
          "text": [
            "RMSE: 0.9484\n"
          ]
        },
        {
          "output_type": "execute_result",
          "data": {
            "text/plain": [
              "0.9483604706690945"
            ]
          },
          "metadata": {},
          "execution_count": 8
        }
      ]
    },
    {
      "cell_type": "markdown",
      "source": [
        "### **| Surprise 주요 모듈 소개**\n",
        "- Dataset\n",
        "  + user_id, item_id, rating 데이터가 로우 레벨로 된 데이터 세트만 적용 가능\n",
        "  + 칼럼 순서가 반드시 사용자 아이디, 아이템 아이디, 평점 순이어야 함\n",
        "\n",
        "- OS 파일 데이터를 Surpirse 데이터 세트로 로딩\n",
        "  + Dataset.load_from_file API를 이용해 지정된 디렉터리에 있는 사용자-아이템 평점 데이터 로딩\n",
        "  + 로딩되는 데이터 파일에 칼럼명을 가지는 헤더 문자열이 있으면 안됨 "
      ],
      "metadata": {
        "id": "Jpd9JuxzFasZ"
      }
    },
    {
      "cell_type": "code",
      "source": [
        "import pandas as pd\n",
        "\n",
        "ratings = pd.read_csv('ratings.csv')\n",
        "# ratings_noh.csv 파일로 언로드 시 인덱스와 헤더를 모두 제거한 새로운 파일 생성\n",
        "ratings.to_csv('ratings_noh.csv', index=False, header=False)"
      ],
      "metadata": {
        "id": "fh0jPVOM2I3C"
      },
      "execution_count": 9,
      "outputs": []
    },
    {
      "cell_type": "markdown",
      "source": [
        "> - 헤더가 삭제된 새로운 파일 생성\n",
        " - 각 칼럼이 헤더 없이 콤마로만 분리되어 있음: reader 클래스의 생성자에 각 필드의 칼럼명과 칼럼 분리문자, 최소~최대 평점을 입력해 객체 생성 후 데이터 로딩 "
      ],
      "metadata": {
        "id": "76nSHzL-IVtq"
      }
    },
    {
      "cell_type": "code",
      "source": [
        "from surprise import Reader\n",
        "\n",
        "reader = Reader(line_format='user item rating timestamp', sep=',', rating_scale=(0.5, 5))\n",
        "data = Dataset.load_from_file('ratings_noh.csv', reader=reader)"
      ],
      "metadata": {
        "id": "x6YftVhg2MH4"
      },
      "execution_count": 11,
      "outputs": []
    },
    {
      "cell_type": "markdown",
      "source": [
        "> - Reader 클래스의 주요 생성 파라미터\n",
        "    + line_format(string)\n",
        "    + sep(char)\n",
        "    + rating_scale(tuple, optional)\n",
        "\n",
        "\n",
        "\n",
        "- SVD 행렬 분해 기법을 이용해 추천 예측 수행\n",
        "  + 잠재 요인 크기 K 값을 나타내는 파라미터인 n_factors를 50으로 설정하여 학습 후 테스트 데이터 세트 적용\n",
        "  + 그 후 예측/실제 평점 데이터를 RMSE로 평가 "
      ],
      "metadata": {
        "id": "DBo_kS20IspJ"
      }
    },
    {
      "cell_type": "code",
      "source": [
        "trainset, testset = train_test_split(data, test_size=0.25, random_state=0)\n",
        "\n",
        "# 수행 시마다 동일한 결과를 도출하기 위해 random_state 설정\n",
        "algo = SVD(n_factors=50, random_state=0)\n",
        "\n",
        "# 학습 데이터 세트로 학습하고 테스트 데이터 세트로 평점 예측 후 RMSE 평가\n",
        "algo.fit(trainset)\n",
        "predictions = algo.test(testset)\n",
        "accuracy.rmse(predictions)"
      ],
      "metadata": {
        "colab": {
          "base_uri": "https://localhost:8080/"
        },
        "id": "8pN9jJOl2Op6",
        "outputId": "83dd4879-1c24-4c45-fb2b-1fe3e6a66b6c"
      },
      "execution_count": 12,
      "outputs": [
        {
          "output_type": "stream",
          "name": "stdout",
          "text": [
            "RMSE: 0.8682\n"
          ]
        },
        {
          "output_type": "execute_result",
          "data": {
            "text/plain": [
              "0.8681952927143516"
            ]
          },
          "metadata": {},
          "execution_count": 12
        }
      ]
    },
    {
      "cell_type": "markdown",
      "source": [
        "- 판다스 DataFrame에서 Surprise 데이터 세트로 로딩 \n",
        "  + Dataset.load_from_df()를 이용\n",
        "  + 마찬가지로 사용자 아이디, 아이템 아이디, 평점 칼럼 순서를 지켜야함 "
      ],
      "metadata": {
        "id": "b9BhkitOJOkf"
      }
    },
    {
      "cell_type": "code",
      "source": [
        "import pandas as pd\n",
        "from surprise import Reader, Dataset\n",
        "\n",
        "ratings = pd.read_csv('ratings.csv')\n",
        "reader = Reader(rating_scale=(0.5, 5.0))\n",
        "\n",
        "# ratings DataFrame에서 칼럼은 사용자 아이디, 아이템 아이디, 평점 순서를 지켜야 합니다\n",
        "data = Dataset.load_from_df(ratings[['userId', 'movieId', 'rating']], reader)\n",
        "trainset, testset = train_test_split(data, test_size=0.25, random_state=0)\n",
        "\n",
        "algo = SVD(n_factors=50, random_state=0)\n",
        "algo.fit(trainset)\n",
        "predictions = algo.test(testset)\n",
        "accuracy.rmse(predictions)"
      ],
      "metadata": {
        "colab": {
          "base_uri": "https://localhost:8080/"
        },
        "id": "cmo2MZaZ2REp",
        "outputId": "d8f53f29-1bae-4dd5-f3cd-b3d9aafda5b7"
      },
      "execution_count": 13,
      "outputs": [
        {
          "output_type": "stream",
          "name": "stdout",
          "text": [
            "RMSE: 0.8682\n"
          ]
        },
        {
          "output_type": "execute_result",
          "data": {
            "text/plain": [
              "0.8681952927143516"
            ]
          },
          "metadata": {},
          "execution_count": 13
        }
      ]
    },
    {
      "cell_type": "markdown",
      "source": [
        "### **| Surprise 추천 알고리즘 클래스**\n",
        "- 추천 예측을 위해 자주 사용되는 추천 알고리즘 클래스\n",
        "  + SVD\n",
        "  + KNNBasic\n",
        "  + BaselineOnly\n",
        "\n",
        "- Surprise SVD의 비용함수는 사용자 베이스라인 편향성을 감안한 평점 예측에 Regularization을 적용한 것 \n",
        "\n",
        "- SVD 클래스의 입력 파라미터\n",
        "  + n_factors\n",
        "  + n_epochs\n",
        "  + biasd(bool)\n",
        "\n",
        "- SVD++ 알고리즘의 RMSE, MAE 성적이 가장 좋지만 상대적으로 시간이 너무 오래 걸려 데이터가 조금만 더 커져도 사용하기 어려움\n",
        "- SVD와 k-NN Baseline의 성능 평가 수치가 가장 좋음\n",
        "  + Baseline: 개인이 평점을 부여하는 성향을 반영해 평점을 계산하는 방식 \n",
        "\n",
        "### **| 베이스라인 평점**\n",
        "- 개인의 성향을 반영해 아이템 평가에 편향성 요소를 반영하여 평점을 부과하는 것\n",
        "  + 전체 평균 평점 + 사용자 편향 점수 + 아이템 편향 점수\n",
        "\n",
        "### **| 교차 검증과 하이퍼 파라미터 튜닝**\n",
        "- Surprise는 교차 검증과 하이퍼 파라미터 튜닝을 위해 사이킷런과 유사한 cross_validate()와 GridSearchCV 클래스 제공\n",
        "  + surprise.model_selection 모듈 내에 존재하며, 폴드된 데이터 세트의 개수와 성능 측정 방법을 명시해 교차 검증 수행 \n",
        "  + 인자로 알고리즘 객체, 데이터, 성능 평가 방법, 폴드 데이터 세트 개수 입력 "
      ],
      "metadata": {
        "id": "uipopTmAJp5P"
      }
    },
    {
      "cell_type": "code",
      "source": [
        "from surprise.model_selection import cross_validate\n",
        "\n",
        "# 판다스 DataFrame에서 Surprise 데이터 세트로 데이터 로딩\n",
        "ratings = pd.read_csv('ratings.csv')\n",
        "reader = Reader(rating_scale=(0.5, 5.0))\n",
        "data = Dataset.load_from_df(ratings[['userId', 'movieId', 'rating']], reader)\n",
        "\n",
        "algo = SVD(random_state=0)\n",
        "cross_validate(algo, data, measures=['RMSE', 'MAE'], cv=5, verbose=True)"
      ],
      "metadata": {
        "colab": {
          "base_uri": "https://localhost:8080/"
        },
        "id": "1XNiMaT42Tbn",
        "outputId": "bd6f79e5-4aea-4a3e-d37b-0a320236a296"
      },
      "execution_count": 14,
      "outputs": [
        {
          "output_type": "stream",
          "name": "stdout",
          "text": [
            "Evaluating RMSE, MAE of algorithm SVD on 5 split(s).\n",
            "\n",
            "                  Fold 1  Fold 2  Fold 3  Fold 4  Fold 5  Mean    Std     \n",
            "RMSE (testset)    0.8708  0.8707  0.8745  0.8773  0.8759  0.8738  0.0027  \n",
            "MAE (testset)     0.6707  0.6693  0.6722  0.6715  0.6725  0.6712  0.0012  \n",
            "Fit time          1.34    1.40    2.20    2.05    3.37    2.07    0.74    \n",
            "Test time         0.12    0.27    0.20    0.22    0.25    0.21    0.05    \n"
          ]
        },
        {
          "output_type": "execute_result",
          "data": {
            "text/plain": [
              "{'test_rmse': array([0.87080597, 0.87065633, 0.87447292, 0.87730159, 0.87589612]),\n",
              " 'test_mae': array([0.67073441, 0.66926881, 0.67216531, 0.67150453, 0.67251571]),\n",
              " 'fit_time': (1.335892677307129,\n",
              "  1.3974175453186035,\n",
              "  2.200138568878174,\n",
              "  2.0464694499969482,\n",
              "  3.3711040019989014),\n",
              " 'test_time': (0.12497925758361816,\n",
              "  0.271726131439209,\n",
              "  0.20223331451416016,\n",
              "  0.21807456016540527,\n",
              "  0.24524784088134766)}"
            ]
          },
          "metadata": {},
          "execution_count": 14
        }
      ]
    },
    {
      "cell_type": "markdown",
      "source": [
        "> - 폴드별 성능 평가 수치와 전체 폴드의 평균 성능 평가 수치를 함께 보여줌\n",
        "\n",
        "\n",
        "- GridSearchCV도 교차 검증을 통한 하이퍼 파라미터 최적화 수행\n",
        "- n_epochs와 SVD 잠재요인 K의 크기를 지정하는 n_factors 튜닝 "
      ],
      "metadata": {
        "id": "H_UA3PMgM3xw"
      }
    },
    {
      "cell_type": "code",
      "source": [
        "from surprise.model_selection import GridSearchCV\n",
        "\n",
        "# 최적화할 파라미터를 딕셔너리 형태로 지정\n",
        "param_grid = {'n_epochs':[20, 40, 60],\n",
        "            'n_factors':[50, 100, 200]}\n",
        "\n",
        "# CV를 3개 폴드 세트로 지정, 성능 평가를 rmse, mse로 수행하도록 GridSearchCV 구성\n",
        "gs = GridSearchCV(SVD, param_grid, measures=['rmse', 'mae'], cv=3)\n",
        "gs.fit(data)\n",
        "\n",
        "# 최고 RMSE evaluation 점수와 그때의 하이퍼 파라미터\n",
        "print(gs.best_score['rmse'])\n",
        "print(gs.best_params['rmse'])"
      ],
      "metadata": {
        "colab": {
          "base_uri": "https://localhost:8080/"
        },
        "id": "QFQsLrvB2Vj8",
        "outputId": "83d762c8-b779-4935-b3d8-912f803e9117"
      },
      "execution_count": 15,
      "outputs": [
        {
          "output_type": "stream",
          "name": "stdout",
          "text": [
            "0.8767188271152314\n",
            "{'n_epochs': 20, 'n_factors': 50}\n"
          ]
        }
      ]
    },
    {
      "cell_type": "markdown",
      "source": [
        "### **| Surprise를 이용한 개인화 영화 추천 시스템 구축**\n",
        "- 학습/테스트 데이터로 분리하지 않고 전체를 학습 데이터로 사용\n",
        "  + 그러나 TrainSet 클래스 객체로 변환하지 않으면 fit()을 통해 학습 불가\n",
        "  + DatasetAutoFolds 클래스를 이용해 해결 "
      ],
      "metadata": {
        "id": "Y_Uy-rsINSDl"
      }
    },
    {
      "cell_type": "code",
      "source": [
        "# 분리하지 않고 데이터 사용시 오류\n",
        "\n",
        "#data=Dataset.load_from_df(ratings[['userId', 'movieId', 'rating']], reader)\n",
        "#algo=SVD(n_factors=50, random_state=0)\n",
        "#algo.fit(data)"
      ],
      "metadata": {
        "id": "XF9vxx8t2YOZ"
      },
      "execution_count": 17,
      "outputs": []
    },
    {
      "cell_type": "code",
      "source": [
        "from surprise.dataset import DatasetAutoFolds\n",
        "\n",
        "reader = Reader(line_format='user item rating timestamp', sep=',', rating_scale=(0.5, 5))\n",
        "# DatasetAutoFolds 클래스를 ratings_noh.csv 파일 기반으로 생성\n",
        "data_folds = DatasetAutoFolds(ratings_file='ratings_noh.csv', reader=reader)\n",
        "\n",
        "# 전체 데이터를 학습 데이터로 생성함\n",
        "trainset = data_folds.build_full_trainset()"
      ],
      "metadata": {
        "id": "jNBLwzCw2Zz9"
      },
      "execution_count": 18,
      "outputs": []
    },
    {
      "cell_type": "markdown",
      "source": [
        "> - SVD로 학습 수행 "
      ],
      "metadata": {
        "id": "g7H3gD99N8ge"
      }
    },
    {
      "cell_type": "code",
      "source": [
        "algo = SVD(n_epochs=20, n_factors=50, random_state=0)\n",
        "algo.fit(trainset)"
      ],
      "metadata": {
        "colab": {
          "base_uri": "https://localhost:8080/"
        },
        "id": "RRxoEqKd2bhX",
        "outputId": "8fca83a5-8667-4005-af43-a07b8a4091da"
      },
      "execution_count": 19,
      "outputs": [
        {
          "output_type": "execute_result",
          "data": {
            "text/plain": [
              "<surprise.prediction_algorithms.matrix_factorization.SVD at 0x7f0da8487610>"
            ]
          },
          "metadata": {},
          "execution_count": 19
        }
      ]
    },
    {
      "cell_type": "markdown",
      "source": [
        "> - 특정 사용자는 userId = 9인 사용자로 지정"
      ],
      "metadata": {
        "id": "Yzxt-PD3N_wK"
      }
    },
    {
      "cell_type": "code",
      "source": [
        "# 영화에 대한 상세 속성 정보 DataFrame 로딩\n",
        "movies = pd.read_csv('movies.csv')\n",
        "\n",
        "# userId=9의 movieId 데이터를 추출해 movieId=42 데이터가 있는지 확인\n",
        "movieIds = ratings[ratings['userId']==9]['movieId']\n",
        "\n",
        "if movieIds[movieIds==42].count()==0:\n",
        "  print('사용자 아이디 9는 영화 아이디 42의 평점 없음')\n",
        "\n",
        "print(movies[movies['movieId']==42])"
      ],
      "metadata": {
        "colab": {
          "base_uri": "https://localhost:8080/"
        },
        "id": "-6xLWC1q2dDs",
        "outputId": "a8eea2dd-2c65-418f-aa5f-9823f6f30799"
      },
      "execution_count": 20,
      "outputs": [
        {
          "output_type": "stream",
          "name": "stdout",
          "text": [
            "사용자 아이디 9는 영화 아이디 42의 평점 없음\n",
            "    movieId                   title              genres\n",
            "38       42  Dead Presidents (1995)  Action|Crime|Drama\n"
          ]
        }
      ]
    },
    {
      "cell_type": "markdown",
      "source": [
        "> - predict() 메서드를 이용해 userId9 사용자의 추천 예상 평점 계산\n",
        "    + userId, movieId 값 입력"
      ],
      "metadata": {
        "id": "otPhBdrEPm-L"
      }
    },
    {
      "cell_type": "code",
      "source": [
        "uid = str(9)\n",
        "iid = str(42)\n",
        "\n",
        "pred = algo.predict(uid, iid, verbose=True)"
      ],
      "metadata": {
        "colab": {
          "base_uri": "https://localhost:8080/"
        },
        "id": "aV3LqWVr2ev9",
        "outputId": "718ef2e7-1faa-4eb1-9c3f-b1213d480d19"
      },
      "execution_count": 21,
      "outputs": [
        {
          "output_type": "stream",
          "name": "stdout",
          "text": [
            "user: 9          item: 42         r_ui = None   est = 3.13   {'was_impossible': False}\n"
          ]
        }
      ]
    },
    {
      "cell_type": "markdown",
      "source": [
        "> - 추천 예측 평점: 3.13\n",
        "\n",
        "\n",
        "\n",
        "- get_unseen_surprise() 함수를 생성해 아직 평점을 매기지 않은 영화 정보 반환 "
      ],
      "metadata": {
        "id": "OQUK_fE9P7vt"
      }
    },
    {
      "cell_type": "code",
      "source": [
        "def get_unseen_surprise(ratings, movies, userId):\n",
        "  # 입력값으로 들어온 userId에 해당하는 사용자가 평점을 매긴 모든 영화를 리스트로 생성\n",
        "  seen_movies = ratings[ratings['userId']==userId]['movieId'].tolist()\n",
        "\n",
        "  # 모든 영화의 movieId를 리스트로 생성\n",
        "  total_movies = movies['movieId'].tolist()\n",
        "\n",
        "  # 모든 영화의 movieId 중 이미 평점을 매긴 영화의 movieId를 제외한 후 리스트로 생성\n",
        "  unseen_movies = [movie for movie in total_movies if movie not in seen_movies]\n",
        "  print('평점 매긴 영화 수:', len(seen_movies), '추천 대상 영화 수:', len(unseen_movies), '전체 영화 수:', len(total_movies))\n",
        "\n",
        "  return unseen_movies\n",
        "\n",
        "unseen_movies = get_unseen_surprise(ratings, movies, 9)"
      ],
      "metadata": {
        "colab": {
          "base_uri": "https://localhost:8080/"
        },
        "id": "FOTRdaAN2gZY",
        "outputId": "cf148ba8-bbc0-48a5-cbc4-1a55d7f6aa05"
      },
      "execution_count": 22,
      "outputs": [
        {
          "output_type": "stream",
          "name": "stdout",
          "text": [
            "평점 매긴 영화 수: 46 추천 대상 영화 수: 9696 전체 영화 수: 9742\n"
          ]
        }
      ]
    },
    {
      "cell_type": "markdown",
      "source": [
        "- SVD를 이용해 높은 예측 평점을 가진 순으로 영화 추천\n",
        "  + recomm_movie_by_surprise() 함수 생성"
      ],
      "metadata": {
        "id": "Xlihv2BLQNbn"
      }
    },
    {
      "cell_type": "code",
      "source": [
        "def recomm_movie_by_surprise(algo, userId, unseen_movies, top_n=10):\n",
        "  # 알고리즘 객체의 predict() 메서드를 평점이 없는 영화에 반복 수행한 후 결과를 list로 저장\n",
        "  predictions = [algo.predict(str(userId), str(movieId)) for movieId in unseen_movies]\n",
        "\n",
        "  # predictions list 객체는 surprise의 predictions 객체를 원소로 갖고 있음\n",
        "  # [Prediction(uid='9', iid='1', est=3.69), Predictions(uid='9', iid='2', est=2.98),,,]\n",
        "\n",
        "  # 이를 est 값으로 정렬하기 위해 아리애 sortkey_est 함수 정의함\n",
        "  # sortdey_est 함수는 list 객체의 sort() 함수의 키 값으로 사용되어 정렬 수행\n",
        "  def sortkey_est(pred):\n",
        "    return pred.est\n",
        "\n",
        "  # sortkey_est() 반환값의 내림차순으로 정렬 수행하고 top_n개의 최상위 값 추출\n",
        "  predictions.sort(key=sortkey_est, reverse=True)\n",
        "  top_predictions = predictions[:top_n]\n",
        "\n",
        "  # top_n 으로 추출된 영화의 정보 추출. 영화 아이디, 추천 예상 평점, 제목 추출\n",
        "  top_movie_ids = [int(pred.iid) for pred in top_predictions]\n",
        "  top_movie_rating = [pred.est for pred in top_predictions]\n",
        "  top_movie_titles = movies[movies.movieId.isin(top_movie_ids)]['title']\n",
        "  top_movie_preds = [ (id, title, rating) for id, title, rating in zip(top_movie_ids, top_movie_titles, top_movie_rating)]\n",
        "\n",
        "  return top_movie_preds\n",
        "\n",
        "unseen_movies = get_unseen_surprise(ratings, movies, 9)\n",
        "top_movie_preds = recomm_movie_by_surprise(algo, 9, unseen_movies, top_n=10)\n",
        "\n",
        "print('### top-10 추천 영화 리스트 ###')\n",
        "for top_movie in top_movie_preds:\n",
        "  print(top_movie[1], ':', top_movie[2])"
      ],
      "metadata": {
        "colab": {
          "base_uri": "https://localhost:8080/"
        },
        "id": "JqNbPeiS2iAM",
        "outputId": "bb05678c-faf2-432b-b224-a98cc8b5ed10"
      },
      "execution_count": 23,
      "outputs": [
        {
          "output_type": "stream",
          "name": "stdout",
          "text": [
            "평점 매긴 영화 수: 46 추천 대상 영화 수: 9696 전체 영화 수: 9742\n",
            "### top-10 추천 영화 리스트 ###\n",
            "Usual Suspects, The (1995) : 4.306302135700814\n",
            "Star Wars: Episode IV - A New Hope (1977) : 4.281663842987387\n",
            "Pulp Fiction (1994) : 4.278152632122759\n",
            "Silence of the Lambs, The (1991) : 4.226073566460876\n",
            "Godfather, The (1972) : 4.1918097904381995\n",
            "Streetcar Named Desire, A (1951) : 4.154746591122657\n",
            "Star Wars: Episode V - The Empire Strikes Back (1980) : 4.122016128534504\n",
            "Star Wars: Episode VI - Return of the Jedi (1983) : 4.108009609093436\n",
            "Goodfellas (1990) : 4.083464936588478\n",
            "Glory (1989) : 4.07887165526957\n"
          ]
        }
      ]
    },
    {
      "cell_type": "markdown",
      "source": [
        "> - 세븐, 유주얼 서스펙트, 대부, 좋은 친구들 같은 서스펜드/스릴러/범죄 영화 및 스타워즈 같은 액션 영화 위주로 추천됨 "
      ],
      "metadata": {
        "id": "bG96xX7RQmLr"
      }
    }
  ]
}