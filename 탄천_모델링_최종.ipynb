{
  "nbformat": 4,
  "nbformat_minor": 0,
  "metadata": {
    "colab": {
      "provenance": [],
      "collapsed_sections": [
        "ewlGVizier9m",
        "oHDxT5nger9p",
        "ThmmnVpta2sJ",
        "CwlNG3rGa2sV",
        "BRlbUuUha2sY"
      ],
      "include_colab_link": true
    },
    "kernelspec": {
      "name": "python3",
      "display_name": "Python 3"
    },
    "language_info": {
      "name": "python"
    }
  },
  "cells": [
    {
      "cell_type": "markdown",
      "metadata": {
        "id": "view-in-github",
        "colab_type": "text"
      },
      "source": [
        "<a href=\"https://colab.research.google.com/github/min207/2023-1-ESAA/blob/main/%ED%83%84%EC%B2%9C_%EB%AA%A8%EB%8D%B8%EB%A7%81_%EC%B5%9C%EC%A2%85.ipynb\" target=\"_parent\"><img src=\"https://colab.research.google.com/assets/colab-badge.svg\" alt=\"Open In Colab\"/></a>"
      ]
    },
    {
      "cell_type": "code",
      "source": [
        "# !sudo apt-get install -y fonts-nanum\n",
        "# !sudo fc-cache -fv\n",
        "# !rm ~/.cache/matplotlib -rf"
      ],
      "metadata": {
        "id": "jDzs1NXZGesb"
      },
      "execution_count": 2,
      "outputs": []
    },
    {
      "cell_type": "code",
      "execution_count": 3,
      "metadata": {
        "id": "fLqn31CmEUba"
      },
      "outputs": [],
      "source": [
        "#필요 패키지 로드\n",
        "import warnings\n",
        "warnings.filterwarnings(action='ignore')\n",
        "import pandas as pd\n",
        "import numpy as np\n",
        "import matplotlib.pyplot as plt\n",
        "import seaborn as sns\n",
        "import datetime\n",
        "from matplotlib import pyplot as plt\n",
        "import seaborn as sns"
      ]
    },
    {
      "cell_type": "code",
      "source": [
        "plt.rcParams['font.family'] = 'NanumGothic'"
      ],
      "metadata": {
        "id": "5tYvPY4WGhbq"
      },
      "execution_count": 4,
      "outputs": []
    },
    {
      "cell_type": "code",
      "source": [
        "#드라이브 마운트\n",
        "from google.colab import drive\n",
        "drive.mount('/content/drive')"
      ],
      "metadata": {
        "colab": {
          "base_uri": "https://localhost:8080/"
        },
        "id": "3BBfKURIEcd0",
        "outputId": "b2009220-7c3b-408f-f4c7-bf5e49a4a780"
      },
      "execution_count": 5,
      "outputs": [
        {
          "output_type": "stream",
          "name": "stdout",
          "text": [
            "Mounted at /content/drive\n"
          ]
        }
      ]
    },
    {
      "cell_type": "markdown",
      "source": [
        "##데이터 불러오기"
      ],
      "metadata": {
        "id": "zx44dJ-rC7vF"
      }
    },
    {
      "cell_type": "markdown",
      "source": [
        "###학습 데이터 불러오기"
      ],
      "metadata": {
        "id": "r-Es_ogPC9O1"
      }
    },
    {
      "cell_type": "code",
      "source": [
        "# 탄천 데이터 불러오기\n",
        "tan = pd.read_csv('/content/drive/MyDrive/water/탄천수질데이터_전처리완료.csv', encoding='cp949')\n",
        "tan.drop('Unnamed: 0', axis=1, inplace=True)\n",
        "\n",
        "# 결측치 처리 방법1 - 결측치 행 삭제\n",
        "tan1 = tan.dropna(axis=0)\n",
        "\n",
        "# 결측치 처리 방법2 - 이전값으로 대체\n",
        "from scipy import interpolate\n",
        "tan2 = tan.interpolate(method='pad')\n",
        "tan2 = tan2.interpolate(method='bfill')"
      ],
      "metadata": {
        "id": "jCIQuMCOHDMV"
      },
      "execution_count": 6,
      "outputs": []
    },
    {
      "cell_type": "markdown",
      "source": [
        "##테스트 데이터 불러오기"
      ],
      "metadata": {
        "id": "VGxZbb5EDVxY"
      }
    },
    {
      "cell_type": "markdown",
      "source": [
        "###테스트 데이터 불러오기"
      ],
      "metadata": {
        "id": "vhdVFNzZHpVB"
      }
    },
    {
      "cell_type": "code",
      "source": [
        "# 탄천 데이터 불러오기\n",
        "test2023 = pd.read_csv('/content/drive/MyDrive/water/탄천데이터2023_전처리완료.csv', encoding='cp949')\n",
        "test2023.drop('Unnamed: 0', axis=1, inplace=True)\n",
        "\n",
        "# 결측치 처리 방법1 - 결측치 행 삭제\n",
        "test1 = test2023.dropna(axis=0)\n",
        "\n",
        "# 결측치 처리 방법2 - 이전값으로 대체\n",
        "from scipy import interpolate\n",
        "test2 = test2023.interpolate(method='pad')\n",
        "test2 = test2.interpolate(method='bfill')"
      ],
      "metadata": {
        "id": "CACGY0DAE5IH"
      },
      "execution_count": 7,
      "outputs": []
    },
    {
      "cell_type": "markdown",
      "source": [
        "##수질 등급 칼럼 생성"
      ],
      "metadata": {
        "id": "Ywn-tj2_J49W"
      }
    },
    {
      "cell_type": "markdown",
      "source": [
        "###1) 총질소 포함"
      ],
      "metadata": {
        "id": "9qCW4A9EJ607"
      }
    },
    {
      "cell_type": "code",
      "source": [
        "# 함수 생성\n",
        "def water_quality(a,b,c,d,e):\n",
        "  if (a>=6.5) & (a<=8.5) & (b>=7.5) & (c<=2) & (d<=0.01) & (e<=2):\n",
        "    return 1\n",
        "  elif (a>=6.5) & (a<=8.5) & (b>=5) & (c<=3) & (d<=0.02) & (e<=3):\n",
        "    return 2\n",
        "  elif (a>=6.5) & (a<=8.5) & (b>=5) & (c<=4) & (d<=0.03) & (e<=4):\n",
        "    return 3\n",
        "  elif (a>=6.5) & (a<=8.5) & (b>=5) & (c<=6) & (d<=0.05) & (e<=5):\n",
        "    return 4\n",
        "  elif (a>=6.0) & (a<=8.5) & (b>=2) & (c<=10) & (d<=0.1) & (e<=8):\n",
        "    return 5\n",
        "  elif (a>=6.0) & (a<=8.5) & (b>=2) & (c<=15) & (d<=0.15) & (e<=10):\n",
        "    return 6\n",
        "  else:\n",
        "    return 7\n",
        "\n",
        "# 함수 적용\n",
        "tan2['수질등급'] = tan2.apply(lambda x: water_quality(x['pH'],x['용존산소(㎎/L)'],x['총질소(㎎/L)'],x['총인(㎎/L)'],x['총유기탄소']), axis=1)\n",
        "test2['수질등급'] = test2.apply(lambda x: water_quality(x['pH'],x['용존산소(㎎/L)'],x['총질소(㎎/L)'],x['총인(㎎/L)'],x['총유기탄소']), axis=1)"
      ],
      "metadata": {
        "id": "3MpECvE2E42O"
      },
      "execution_count": 8,
      "outputs": []
    },
    {
      "cell_type": "code",
      "source": [
        "# 분포 확인\n",
        "print(tan2['수질등급'].value_counts())\n",
        "print('\\n')\n",
        "print(test2['수질등급'].value_counts())"
      ],
      "metadata": {
        "colab": {
          "base_uri": "https://localhost:8080/"
        },
        "id": "Hx4SdlnYJyab",
        "outputId": "eee5fb34-78c0-4b95-c4b6-e5efb8f6e1bd"
      },
      "execution_count": 9,
      "outputs": [
        {
          "output_type": "stream",
          "name": "stdout",
          "text": [
            "6    6434\n",
            "5    6388\n",
            "7    4197\n",
            "4     501\n",
            "Name: 수질등급, dtype: int64\n",
            "\n",
            "\n",
            "5    2688\n",
            "7    1456\n",
            "6     942\n",
            "4       2\n",
            "Name: 수질등급, dtype: int64\n"
          ]
        }
      ]
    },
    {
      "cell_type": "markdown",
      "source": [
        "###2) 총질소 제외"
      ],
      "metadata": {
        "id": "OhzTBm-FJ9g-"
      }
    },
    {
      "cell_type": "code",
      "source": [
        "# 함수 생성\n",
        "def water_quality2(a,b,d,e):\n",
        "  if (a>=6.5) & (a<=8.5) & (b>=7.5) & (d<=0.01) & (e<=2):\n",
        "    return 1\n",
        "  elif (a>=6.5) & (a<=8.5) & (b>=5) & (d<=0.02) & (e<=3):\n",
        "    return 2\n",
        "  elif (a>=6.5) & (a<=8.5) & (b>=5) & (d<=0.03) & (e<=4):\n",
        "    return 3\n",
        "  elif (a>=6.5) & (a<=8.5) & (b>=5) & (d<=0.05) & (e<=5):\n",
        "    return 4\n",
        "  elif (a>=6.0) & (a<=8.5) & (b>=2) & (d<=0.1) & (e<=8):\n",
        "    return 5\n",
        "  elif (a>=6.0) & (a<=8.5) & (b>=2) & (d<=0.15) & (e<=10):\n",
        "    return 6\n",
        "  else:\n",
        "    return 7\n",
        "\n",
        "# 함수 적용\n",
        "tan2['수질등급2'] = tan2.apply(lambda x: water_quality2(x['pH'],x['용존산소(㎎/L)'],x['총인(㎎/L)'],x['총유기탄소']), axis=1)\n",
        "test2['수질등급2'] = test2.apply(lambda x: water_quality2(x['pH'],x['용존산소(㎎/L)'],x['총인(㎎/L)'],x['총유기탄소']), axis=1)"
      ],
      "metadata": {
        "id": "zKB3Rz_4JyWq"
      },
      "execution_count": 10,
      "outputs": []
    },
    {
      "cell_type": "code",
      "source": [
        "# 분포 확인\n",
        "print(tan2['수질등급2'].value_counts())\n",
        "print('\\n')\n",
        "print(test2['수질등급2'].value_counts())"
      ],
      "metadata": {
        "colab": {
          "base_uri": "https://localhost:8080/"
        },
        "id": "P1WKzCppJyTd",
        "outputId": "3be21d75-06b7-4124-9c18-1a821372e29e"
      },
      "execution_count": 11,
      "outputs": [
        {
          "output_type": "stream",
          "name": "stdout",
          "text": [
            "5    6405\n",
            "6    4790\n",
            "7    4197\n",
            "4    1946\n",
            "3     182\n",
            "Name: 수질등급2, dtype: int64\n",
            "\n",
            "\n",
            "5    2337\n",
            "7    1456\n",
            "6     942\n",
            "4     353\n",
            "Name: 수질등급2, dtype: int64\n"
          ]
        }
      ]
    },
    {
      "cell_type": "markdown",
      "source": [
        "###4) 25퍼센트 단위로 수질등급 생성 - 4등급"
      ],
      "metadata": {
        "id": "bsm9k9OkHNzg"
      }
    },
    {
      "cell_type": "code",
      "source": [
        "#pH 점수 구하는 함수\n",
        "def get_pH(data):\n",
        "  data['pH점수'] = np.where(abs(data['pH']-7.5)<0.25, 4,\n",
        "                          np.where(abs(data['pH']-7.5)<0.5,3,\n",
        "                                       np.where(abs(data['pH']-7.5)<0.75,2,1)))"
      ],
      "metadata": {
        "id": "5wOgd0lFFbt4"
      },
      "execution_count": 12,
      "outputs": []
    },
    {
      "cell_type": "code",
      "source": [
        "#용존산소 점수 구하는 함수\n",
        "def get_do(data):\n",
        "  #용존산소 분위수 구하기\n",
        "  yong1 = np.percentile(data['용존산소(㎎/L)'], 25)\n",
        "  yong2 = np.percentile(data['용존산소(㎎/L)'], 50)\n",
        "  yong3 = np.percentile(data['용존산소(㎎/L)'], 75)\n",
        "\n",
        "  data['용존산소점수'] = np.where(data['용존산소(㎎/L)']<yong1, 1,\n",
        "                          np.where(data['용존산소(㎎/L)']<yong2, 2,\n",
        "                                       np.where(data['용존산소(㎎/L)']<yong3,3,4)))"
      ],
      "metadata": {
        "id": "xekTkNFWFbt5"
      },
      "execution_count": 13,
      "outputs": []
    },
    {
      "cell_type": "code",
      "source": [
        "#총인 점수 구하는 함수\n",
        "def get_tp(data):\n",
        "  #총인 분위수 구하기\n",
        "  pho1 = np.percentile(data['총인(㎎/L)'], 25)\n",
        "  pho2 = np.percentile(data['총인(㎎/L)'], 50)\n",
        "  pho3 = np.percentile(data['총인(㎎/L)'], 75)\n",
        "\n",
        "  data['총인점수'] = np.where(data['총인(㎎/L)']<pho1, 4,\n",
        "                          np.where(data['총인(㎎/L)']<pho2, 3,\n",
        "                                       np.where(data['총인(㎎/L)']<pho3,2,1)))"
      ],
      "metadata": {
        "id": "M4xka615Fbt6"
      },
      "execution_count": 14,
      "outputs": []
    },
    {
      "cell_type": "code",
      "source": [
        "#총유기탄소 점수 구하는 함수\n",
        "def get_toc(data):\n",
        "  #총유기탄소 분위수 구하기\n",
        "  carb1 = np.percentile(data['총유기탄소'], 25)\n",
        "  carb2 = np.percentile(data['총유기탄소'], 50)\n",
        "  carb3 = np.percentile(data['총유기탄소'], 75)\n",
        "\n",
        "  data['총유기탄소점수'] = np.where(data['총유기탄소']<carb1, 4,\n",
        "                          np.where(data['총유기탄소']<carb2, 3,\n",
        "                                       np.where(data['총유기탄소']<carb3,2,1)))"
      ],
      "metadata": {
        "id": "JNkT0pKsFbt7"
      },
      "execution_count": 15,
      "outputs": []
    },
    {
      "cell_type": "code",
      "source": [
        "#수질등급 구하는 함수\n",
        "def get_grade25(data):\n",
        "  data['수질등급'] = np.where((data['pH점수']+data['용존산소점수']+data['총인점수']+data['총유기탄소점수'])<5, 4,\n",
        "                          np.where((data['pH점수']+data['용존산소점수']+data['총인점수']+data['총유기탄소점수'])<10,3,\n",
        "                                       np.where((data['pH점수']+data['용존산소점수']+data['총인점수']+data['총유기탄소점수'])<15,2,1)))"
      ],
      "metadata": {
        "id": "c32uwQgPFbt8"
      },
      "execution_count": 193,
      "outputs": []
    },
    {
      "cell_type": "code",
      "source": [
        "#함수적용\n",
        "get_pH(tan2)\n",
        "get_do(tan2)\n",
        "get_tp(tan2)\n",
        "get_toc(tan2)\n",
        "get_grade25(tan2)"
      ],
      "metadata": {
        "id": "ccE_mzYXFq9n"
      },
      "execution_count": 194,
      "outputs": []
    },
    {
      "cell_type": "code",
      "source": [
        "tan2['수질등급'].value_counts()"
      ],
      "metadata": {
        "colab": {
          "base_uri": "https://localhost:8080/"
        },
        "id": "iPperTDEGOxm",
        "outputId": "e87f5cd7-8208-4d0f-f773-3528183f26d1"
      },
      "execution_count": 195,
      "outputs": [
        {
          "output_type": "execute_result",
          "data": {
            "text/plain": [
              "2    8384\n",
              "3    8234\n",
              "1     825\n",
              "4      77\n",
              "Name: 수질등급, dtype: int64"
            ]
          },
          "metadata": {},
          "execution_count": 195
        }
      ]
    },
    {
      "cell_type": "markdown",
      "source": [
        "#tan2 data"
      ],
      "metadata": {
        "id": "8_DEaBsTeDV8"
      }
    },
    {
      "cell_type": "code",
      "source": [
        "!pip3 install bayesian-optimization"
      ],
      "metadata": {
        "colab": {
          "base_uri": "https://localhost:8080/"
        },
        "id": "jSb3Nb8vYAUs",
        "outputId": "220975f6-a9a5-4b78-84ab-072c42ddce8e"
      },
      "execution_count": 19,
      "outputs": [
        {
          "output_type": "stream",
          "name": "stdout",
          "text": [
            "Collecting bayesian-optimization\n",
            "  Downloading bayesian_optimization-1.4.3-py3-none-any.whl (18 kB)\n",
            "Requirement already satisfied: numpy>=1.9.0 in /usr/local/lib/python3.10/dist-packages (from bayesian-optimization) (1.23.5)\n",
            "Requirement already satisfied: scipy>=1.0.0 in /usr/local/lib/python3.10/dist-packages (from bayesian-optimization) (1.10.1)\n",
            "Requirement already satisfied: scikit-learn>=0.18.0 in /usr/local/lib/python3.10/dist-packages (from bayesian-optimization) (1.2.2)\n",
            "Collecting colorama>=0.4.6 (from bayesian-optimization)\n",
            "  Downloading colorama-0.4.6-py2.py3-none-any.whl (25 kB)\n",
            "Requirement already satisfied: joblib>=1.1.1 in /usr/local/lib/python3.10/dist-packages (from scikit-learn>=0.18.0->bayesian-optimization) (1.3.2)\n",
            "Requirement already satisfied: threadpoolctl>=2.0.0 in /usr/local/lib/python3.10/dist-packages (from scikit-learn>=0.18.0->bayesian-optimization) (3.2.0)\n",
            "Installing collected packages: colorama, bayesian-optimization\n",
            "Successfully installed bayesian-optimization-1.4.3 colorama-0.4.6\n"
          ]
        }
      ]
    },
    {
      "cell_type": "markdown",
      "source": [
        "##4개 등급 모델링"
      ],
      "metadata": {
        "id": "QgFAz4vEawW5"
      }
    },
    {
      "cell_type": "markdown",
      "source": [
        "###train/test 데이터셋 생성하기"
      ],
      "metadata": {
        "id": "iZWkGl9sbSaX"
      }
    },
    {
      "cell_type": "code",
      "source": [
        "#함수적용 _ train\n",
        "get_pH(tan2)\n",
        "get_do(tan2)\n",
        "get_tp(tan2)\n",
        "get_toc(tan2)\n",
        "get_grade25(tan2)\n",
        "\n",
        "#함수적용 _ test\n",
        "get_pH(test2)\n",
        "get_do(test2)\n",
        "get_tp(test2)\n",
        "get_toc(test2)\n",
        "get_grade25(test2)"
      ],
      "metadata": {
        "id": "c4uCnzIlbSaX"
      },
      "execution_count": 211,
      "outputs": []
    },
    {
      "cell_type": "markdown",
      "source": [
        "###1-1. DT - 수온, 강우량 - 0.6284"
      ],
      "metadata": {
        "id": "ScgqUkHOer9N"
      }
    },
    {
      "cell_type": "code",
      "source": [
        "# train/test dataset 생성\n",
        "\n",
        "train=tan2.loc[:,[\"날짜\",\"수온\",\"강우량\",\"수질등급\"]]\n",
        "test=test2.loc[:,[\"날짜\",\"수온\",\"강우량\",\"수질등급\"]]"
      ],
      "metadata": {
        "id": "JyxCOf0IfAY2"
      },
      "execution_count": null,
      "outputs": []
    },
    {
      "cell_type": "code",
      "source": [
        "X_train=train[['수온','강우량']]\n",
        "y_train=train[['수질등급']]\n",
        "\n",
        "X_test=test[['수온','강우량']]\n",
        "y_test=test[['수질등급']]"
      ],
      "metadata": {
        "id": "eXkXfZGter9i"
      },
      "execution_count": null,
      "outputs": []
    },
    {
      "cell_type": "code",
      "source": [
        "!pip3 install bayesian-optimization"
      ],
      "metadata": {
        "id": "JdFd5tztNkni"
      },
      "execution_count": null,
      "outputs": []
    },
    {
      "cell_type": "code",
      "source": [
        "from bayes_opt import BayesianOptimization\n",
        "from sklearn.tree import DecisionTreeClassifier\n",
        "from sklearn.metrics import accuracy_score\n",
        "from sklearn.metrics import confusion_matrix"
      ],
      "metadata": {
        "id": "DAo3Oabter9i"
      },
      "execution_count": null,
      "outputs": []
    },
    {
      "cell_type": "code",
      "source": [
        "def tree_bo1(max_depth, min_samples_split, min_samples_leaf, max_features):\n",
        "  tree_params = {\n",
        "      'max_depth' : int(round(max_depth)),\n",
        "      'min_samples_split' : int(round(min_samples_split)),\n",
        "      'min_samples_leaf' : int(round(min_samples_leaf)),\n",
        "      'max_features' : int(round(max_features))\n",
        "      }\n",
        "\n",
        "  tree = DecisionTreeClassifier(**tree_params)\n",
        "  tree.fit(X_train,y_train[\"수질등급\"])\n",
        "\n",
        "  score = accuracy_score(y_test[\"수질등급\"], tree.predict(X_test))\n",
        "\n",
        "  return score"
      ],
      "metadata": {
        "id": "ZqHEKimFer9j"
      },
      "execution_count": null,
      "outputs": []
    },
    {
      "cell_type": "code",
      "source": [
        "tree_parameter_bounds = {\n",
        "                      'max_depth' : (1,10),\n",
        "                      'min_samples_split' : (5,10),\n",
        "                      'min_samples_leaf' : (5,15),\n",
        "                      'max_features' : (2,20)\n",
        "                      }"
      ],
      "metadata": {
        "id": "MnorS5lqer9j"
      },
      "execution_count": null,
      "outputs": []
    },
    {
      "cell_type": "code",
      "source": [
        "BO_tree1 = BayesianOptimization(f = tree_bo1, pbounds = tree_parameter_bounds,random_state = 2023)"
      ],
      "metadata": {
        "id": "6OtrneJjer9j"
      },
      "execution_count": null,
      "outputs": []
    },
    {
      "cell_type": "code",
      "source": [
        "BO_tree1.maximize(init_points = 50, n_iter = 5)"
      ],
      "metadata": {
        "colab": {
          "base_uri": "https://localhost:8080/"
        },
        "outputId": "43297e0e-48f9-40b7-975c-5f9c28cf713b",
        "id": "rnF8tcAxer9k"
      },
      "execution_count": null,
      "outputs": [
        {
          "output_type": "stream",
          "name": "stdout",
          "text": [
            "|   iter    |  target   | max_depth | max_fe... | min_sa... | min_sa... |\n",
            "-------------------------------------------------------------------------\n",
            "| \u001b[0m1        \u001b[0m | \u001b[0m0.7714   \u001b[0m | \u001b[0m3.898    \u001b[0m | \u001b[0m18.03    \u001b[0m | \u001b[0m10.88    \u001b[0m | \u001b[0m5.633    \u001b[0m |\n",
            "| \u001b[0m2        \u001b[0m | \u001b[0m0.7634   \u001b[0m | \u001b[0m2.272    \u001b[0m | \u001b[0m10.42    \u001b[0m | \u001b[0m5.221    \u001b[0m | \u001b[0m8.636    \u001b[0m |\n",
            "| \u001b[0m3        \u001b[0m | \u001b[0m0.7026   \u001b[0m | \u001b[0m5.719    \u001b[0m | \u001b[0m11.81    \u001b[0m | \u001b[0m9.564    \u001b[0m | \u001b[0m7.507    \u001b[0m |\n",
            "| \u001b[95m4        \u001b[0m | \u001b[95m0.772    \u001b[0m | \u001b[95m4.55     \u001b[0m | \u001b[95m4.721    \u001b[0m | \u001b[95m8.609    \u001b[0m | \u001b[95m5.81     \u001b[0m |\n",
            "| \u001b[0m5        \u001b[0m | \u001b[0m0.7714   \u001b[0m | \u001b[0m4.042    \u001b[0m | \u001b[0m5.246    \u001b[0m | \u001b[0m8.91     \u001b[0m | \u001b[0m5.178    \u001b[0m |\n",
            "| \u001b[0m6        \u001b[0m | \u001b[0m0.7026   \u001b[0m | \u001b[0m6.084    \u001b[0m | \u001b[0m5.662    \u001b[0m | \u001b[0m8.206    \u001b[0m | \u001b[0m6.883    \u001b[0m |\n",
            "| \u001b[0m7        \u001b[0m | \u001b[0m0.7714   \u001b[0m | \u001b[0m2.656    \u001b[0m | \u001b[0m3.871    \u001b[0m | \u001b[0m9.549    \u001b[0m | \u001b[0m5.979    \u001b[0m |\n",
            "| \u001b[95m8        \u001b[0m | \u001b[95m0.7724   \u001b[0m | \u001b[95m4.407    \u001b[0m | \u001b[95m18.75    \u001b[0m | \u001b[95m12.6     \u001b[0m | \u001b[95m8.854    \u001b[0m |\n",
            "| \u001b[0m9        \u001b[0m | \u001b[0m0.7026   \u001b[0m | \u001b[0m6.37     \u001b[0m | \u001b[0m16.25    \u001b[0m | \u001b[0m13.1     \u001b[0m | \u001b[0m9.903    \u001b[0m |\n",
            "| \u001b[0m10       \u001b[0m | \u001b[0m0.7213   \u001b[0m | \u001b[0m8.963    \u001b[0m | \u001b[0m3.976    \u001b[0m | \u001b[0m13.2     \u001b[0m | \u001b[0m6.538    \u001b[0m |\n",
            "| \u001b[0m11       \u001b[0m | \u001b[0m0.7714   \u001b[0m | \u001b[0m3.353    \u001b[0m | \u001b[0m9.303    \u001b[0m | \u001b[0m10.53    \u001b[0m | \u001b[0m8.128    \u001b[0m |\n",
            "| \u001b[0m12       \u001b[0m | \u001b[0m0.7634   \u001b[0m | \u001b[0m1.709    \u001b[0m | \u001b[0m19.5     \u001b[0m | \u001b[0m9.113    \u001b[0m | \u001b[0m8.608    \u001b[0m |\n",
            "| \u001b[0m13       \u001b[0m | \u001b[0m0.7058   \u001b[0m | \u001b[0m6.97     \u001b[0m | \u001b[0m5.928    \u001b[0m | \u001b[0m6.872    \u001b[0m | \u001b[0m8.649    \u001b[0m |\n",
            "| \u001b[0m14       \u001b[0m | \u001b[0m0.7176   \u001b[0m | \u001b[0m8.77     \u001b[0m | \u001b[0m9.051    \u001b[0m | \u001b[0m6.1      \u001b[0m | \u001b[0m9.564    \u001b[0m |\n",
            "| \u001b[0m15       \u001b[0m | \u001b[0m0.7716   \u001b[0m | \u001b[0m4.213    \u001b[0m | \u001b[0m9.433    \u001b[0m | \u001b[0m6.835    \u001b[0m | \u001b[0m7.93     \u001b[0m |\n",
            "| \u001b[0m16       \u001b[0m | \u001b[0m0.7176   \u001b[0m | \u001b[0m8.701    \u001b[0m | \u001b[0m16.21    \u001b[0m | \u001b[0m5.878    \u001b[0m | \u001b[0m9.665    \u001b[0m |\n",
            "| \u001b[0m17       \u001b[0m | \u001b[0m0.772    \u001b[0m | \u001b[0m5.5      \u001b[0m | \u001b[0m8.557    \u001b[0m | \u001b[0m9.836    \u001b[0m | \u001b[0m7.576    \u001b[0m |\n",
            "| \u001b[0m18       \u001b[0m | \u001b[0m0.7313   \u001b[0m | \u001b[0m9.952    \u001b[0m | \u001b[0m15.56    \u001b[0m | \u001b[0m8.658    \u001b[0m | \u001b[0m8.057    \u001b[0m |\n",
            "| \u001b[0m19       \u001b[0m | \u001b[0m0.772    \u001b[0m | \u001b[0m4.777    \u001b[0m | \u001b[0m3.65     \u001b[0m | \u001b[0m10.35    \u001b[0m | \u001b[0m6.704    \u001b[0m |\n",
            "| \u001b[0m20       \u001b[0m | \u001b[0m0.7634   \u001b[0m | \u001b[0m1.165    \u001b[0m | \u001b[0m12.86    \u001b[0m | \u001b[0m14.22    \u001b[0m | \u001b[0m6.407    \u001b[0m |\n",
            "| \u001b[0m21       \u001b[0m | \u001b[0m0.7176   \u001b[0m | \u001b[0m8.513    \u001b[0m | \u001b[0m11.89    \u001b[0m | \u001b[0m5.218    \u001b[0m | \u001b[0m6.735    \u001b[0m |\n",
            "| \u001b[0m22       \u001b[0m | \u001b[0m0.7026   \u001b[0m | \u001b[0m5.95     \u001b[0m | \u001b[0m2.238    \u001b[0m | \u001b[0m12.16    \u001b[0m | \u001b[0m5.949    \u001b[0m |\n",
            "| \u001b[0m23       \u001b[0m | \u001b[0m0.7132   \u001b[0m | \u001b[0m7.682    \u001b[0m | \u001b[0m13.33    \u001b[0m | \u001b[0m8.622    \u001b[0m | \u001b[0m8.135    \u001b[0m |\n",
            "| \u001b[0m24       \u001b[0m | \u001b[0m0.7026   \u001b[0m | \u001b[0m5.634    \u001b[0m | \u001b[0m18.11    \u001b[0m | \u001b[0m10.19    \u001b[0m | \u001b[0m8.037    \u001b[0m |\n",
            "| \u001b[0m25       \u001b[0m | \u001b[0m0.7722   \u001b[0m | \u001b[0m5.273    \u001b[0m | \u001b[0m14.77    \u001b[0m | \u001b[0m6.152    \u001b[0m | \u001b[0m8.664    \u001b[0m |\n",
            "| \u001b[0m26       \u001b[0m | \u001b[0m0.7213   \u001b[0m | \u001b[0m8.902    \u001b[0m | \u001b[0m11.34    \u001b[0m | \u001b[0m11.8     \u001b[0m | \u001b[0m7.178    \u001b[0m |\n",
            "| \u001b[0m27       \u001b[0m | \u001b[0m0.7301   \u001b[0m | \u001b[0m9.746    \u001b[0m | \u001b[0m8.573    \u001b[0m | \u001b[0m11.23    \u001b[0m | \u001b[0m6.291    \u001b[0m |\n",
            "| \u001b[0m28       \u001b[0m | \u001b[0m0.7058   \u001b[0m | \u001b[0m7.132    \u001b[0m | \u001b[0m17.78    \u001b[0m | \u001b[0m7.423    \u001b[0m | \u001b[0m5.713    \u001b[0m |\n",
            "| \u001b[0m29       \u001b[0m | \u001b[0m0.7138   \u001b[0m | \u001b[0m8.429    \u001b[0m | \u001b[0m10.38    \u001b[0m | \u001b[0m8.382    \u001b[0m | \u001b[0m9.668    \u001b[0m |\n",
            "| \u001b[0m30       \u001b[0m | \u001b[0m0.7722   \u001b[0m | \u001b[0m5.09     \u001b[0m | \u001b[0m10.9     \u001b[0m | \u001b[0m5.459    \u001b[0m | \u001b[0m5.595    \u001b[0m |\n",
            "| \u001b[0m31       \u001b[0m | \u001b[0m0.7026   \u001b[0m | \u001b[0m5.842    \u001b[0m | \u001b[0m2.986    \u001b[0m | \u001b[0m8.005    \u001b[0m | \u001b[0m6.89     \u001b[0m |\n",
            "| \u001b[0m32       \u001b[0m | \u001b[0m0.7028   \u001b[0m | \u001b[0m6.481    \u001b[0m | \u001b[0m16.83    \u001b[0m | \u001b[0m6.829    \u001b[0m | \u001b[0m8.934    \u001b[0m |\n",
            "| \u001b[0m33       \u001b[0m | \u001b[0m0.7724   \u001b[0m | \u001b[0m3.802    \u001b[0m | \u001b[0m15.89    \u001b[0m | \u001b[0m14.15    \u001b[0m | \u001b[0m6.131    \u001b[0m |\n",
            "| \u001b[0m34       \u001b[0m | \u001b[0m0.7337   \u001b[0m | \u001b[0m9.92     \u001b[0m | \u001b[0m7.606    \u001b[0m | \u001b[0m13.86    \u001b[0m | \u001b[0m8.468    \u001b[0m |\n",
            "| \u001b[0m35       \u001b[0m | \u001b[0m0.7634   \u001b[0m | \u001b[0m1.491    \u001b[0m | \u001b[0m5.633    \u001b[0m | \u001b[0m13.59    \u001b[0m | \u001b[0m8.304    \u001b[0m |\n",
            "| \u001b[0m36       \u001b[0m | \u001b[0m0.7176   \u001b[0m | \u001b[0m8.855    \u001b[0m | \u001b[0m15.03    \u001b[0m | \u001b[0m5.919    \u001b[0m | \u001b[0m5.11     \u001b[0m |\n",
            "| \u001b[0m37       \u001b[0m | \u001b[0m0.7704   \u001b[0m | \u001b[0m2.638    \u001b[0m | \u001b[0m6.97     \u001b[0m | \u001b[0m11.73    \u001b[0m | \u001b[0m7.852    \u001b[0m |\n",
            "| \u001b[0m38       \u001b[0m | \u001b[0m0.7716   \u001b[0m | \u001b[0m4.396    \u001b[0m | \u001b[0m7.121    \u001b[0m | \u001b[0m7.027    \u001b[0m | \u001b[0m6.655    \u001b[0m |\n",
            "| \u001b[0m39       \u001b[0m | \u001b[0m0.7714   \u001b[0m | \u001b[0m4.281    \u001b[0m | \u001b[0m5.647    \u001b[0m | \u001b[0m11.03    \u001b[0m | \u001b[0m5.315    \u001b[0m |\n",
            "| \u001b[0m40       \u001b[0m | \u001b[0m0.7123   \u001b[0m | \u001b[0m7.583    \u001b[0m | \u001b[0m15.21    \u001b[0m | \u001b[0m10.9     \u001b[0m | \u001b[0m8.585    \u001b[0m |\n",
            "| \u001b[0m41       \u001b[0m | \u001b[0m0.707    \u001b[0m | \u001b[0m7.418    \u001b[0m | \u001b[0m15.97    \u001b[0m | \u001b[0m11.84    \u001b[0m | \u001b[0m8.989    \u001b[0m |\n",
            "| \u001b[0m42       \u001b[0m | \u001b[0m0.7026   \u001b[0m | \u001b[0m6.301    \u001b[0m | \u001b[0m17.47    \u001b[0m | \u001b[0m9.422    \u001b[0m | \u001b[0m6.94     \u001b[0m |\n",
            "| \u001b[0m43       \u001b[0m | \u001b[0m0.7714   \u001b[0m | \u001b[0m3.53     \u001b[0m | \u001b[0m3.716    \u001b[0m | \u001b[0m9.334    \u001b[0m | \u001b[0m8.381    \u001b[0m |\n",
            "| \u001b[0m44       \u001b[0m | \u001b[0m0.7714   \u001b[0m | \u001b[0m3.256    \u001b[0m | \u001b[0m8.114    \u001b[0m | \u001b[0m11.35    \u001b[0m | \u001b[0m8.405    \u001b[0m |\n",
            "| \u001b[0m45       \u001b[0m | \u001b[0m0.7714   \u001b[0m | \u001b[0m4.152    \u001b[0m | \u001b[0m11.11    \u001b[0m | \u001b[0m9.119    \u001b[0m | \u001b[0m8.711    \u001b[0m |\n",
            "| \u001b[0m46       \u001b[0m | \u001b[0m0.7634   \u001b[0m | \u001b[0m2.305    \u001b[0m | \u001b[0m15.16    \u001b[0m | \u001b[0m10.15    \u001b[0m | \u001b[0m6.663    \u001b[0m |\n",
            "| \u001b[0m47       \u001b[0m | \u001b[0m0.7178   \u001b[0m | \u001b[0m9.331    \u001b[0m | \u001b[0m19.52    \u001b[0m | \u001b[0m10.6     \u001b[0m | \u001b[0m5.509    \u001b[0m |\n",
            "| \u001b[0m48       \u001b[0m | \u001b[0m0.705    \u001b[0m | \u001b[0m7.049    \u001b[0m | \u001b[0m18.75    \u001b[0m | \u001b[0m7.852    \u001b[0m | \u001b[0m5.589    \u001b[0m |\n",
            "| \u001b[0m49       \u001b[0m | \u001b[0m0.7213   \u001b[0m | \u001b[0m8.653    \u001b[0m | \u001b[0m14.52    \u001b[0m | \u001b[0m14.0     \u001b[0m | \u001b[0m9.709    \u001b[0m |\n",
            "| \u001b[0m50       \u001b[0m | \u001b[0m0.7026   \u001b[0m | \u001b[0m5.647    \u001b[0m | \u001b[0m14.51    \u001b[0m | \u001b[0m9.315    \u001b[0m | \u001b[0m9.37     \u001b[0m |\n",
            "| \u001b[0m51       \u001b[0m | \u001b[0m0.7634   \u001b[0m | \u001b[0m1.96     \u001b[0m | \u001b[0m18.48    \u001b[0m | \u001b[0m12.93    \u001b[0m | \u001b[0m7.042    \u001b[0m |\n",
            "| \u001b[0m52       \u001b[0m | \u001b[0m0.7714   \u001b[0m | \u001b[0m3.16     \u001b[0m | \u001b[0m13.66    \u001b[0m | \u001b[0m5.422    \u001b[0m | \u001b[0m7.6      \u001b[0m |\n",
            "| \u001b[0m53       \u001b[0m | \u001b[0m0.7634   \u001b[0m | \u001b[0m1.998    \u001b[0m | \u001b[0m7.307    \u001b[0m | \u001b[0m7.703    \u001b[0m | \u001b[0m7.435    \u001b[0m |\n",
            "| \u001b[0m54       \u001b[0m | \u001b[0m0.7634   \u001b[0m | \u001b[0m1.885    \u001b[0m | \u001b[0m11.24    \u001b[0m | \u001b[0m8.418    \u001b[0m | \u001b[0m10.0     \u001b[0m |\n",
            "| \u001b[0m55       \u001b[0m | \u001b[0m0.7714   \u001b[0m | \u001b[0m2.949    \u001b[0m | \u001b[0m8.954    \u001b[0m | \u001b[0m5.784    \u001b[0m | \u001b[0m5.0      \u001b[0m |\n",
            "=========================================================================\n"
          ]
        }
      ]
    },
    {
      "cell_type": "code",
      "source": [
        "BO_tree1.max"
      ],
      "metadata": {
        "colab": {
          "base_uri": "https://localhost:8080/"
        },
        "outputId": "39480984-7632-4c89-81af-ceb5d698458e",
        "id": "biN1BI8ger9k"
      },
      "execution_count": null,
      "outputs": [
        {
          "output_type": "execute_result",
          "data": {
            "text/plain": [
              "{'target': 0.7724056603773585,\n",
              " 'params': {'max_depth': 4.406728802978893,\n",
              "  'max_features': 18.74957526706793,\n",
              "  'min_samples_leaf': 12.60159713202054,\n",
              "  'min_samples_split': 8.853821188293969}}"
            ]
          },
          "metadata": {},
          "execution_count": 27
        }
      ]
    },
    {
      "cell_type": "code",
      "source": [
        "tree_clf = DecisionTreeClassifier(random_state=2023,max_depth=4,max_features=19,\n",
        "                                min_samples_leaf=13,min_samples_split=9)\n",
        "tree_clf.fit(X_train, y_train[\"수질등급\"])\n",
        "accuracy_train = accuracy_score(y_train[\"수질등급\"], tree_clf.predict(X_train))\n",
        "accuracy_test = accuracy_score(y_test[\"수질등급\"], tree_clf.predict(X_test))\n",
        "print('결정트리 학습 정확도: {:.4f}'.format(accuracy_train))\n",
        "print(confusion_matrix(y_train[\"수질등급\"], tree_clf.predict(X_train)),'\\n')\n",
        "print('결정트리 예측 정확도: {:.4f}'.format(accuracy_test))\n",
        "print(confusion_matrix(y_test[\"수질등급\"], tree_clf.predict(X_test)))"
      ],
      "metadata": {
        "colab": {
          "base_uri": "https://localhost:8080/"
        },
        "outputId": "85310414-50bf-452b-d4cb-c03ed5c369a0",
        "id": "_k8903bder9k"
      },
      "execution_count": null,
      "outputs": [
        {
          "output_type": "stream",
          "name": "stdout",
          "text": [
            "결정트리 학습 정확도: 0.6237\n",
            "[[   0  308  517    0]\n",
            " [   0 3501 4883    0]\n",
            " [   0  807 7427    0]\n",
            " [   0    0   77    0]] \n",
            "\n",
            "결정트리 예측 정확도: 0.7724\n",
            "[[   0   25    1    0]\n",
            " [   0 1276  893    0]\n",
            " [   0  204 2654    0]\n",
            " [   0    0   35    0]]\n"
          ]
        }
      ]
    },
    {
      "cell_type": "markdown",
      "source": [
        "###2-1. RF- 수온, 강우량 - 0.6388"
      ],
      "metadata": {
        "id": "6PVLCFMDer9k"
      }
    },
    {
      "cell_type": "code",
      "source": [
        "# train/test dataset 생성\n",
        "\n",
        "train=tan2.loc[:,[\"날짜\",\"수온\",\"강우량\",\"수질등급\"]]\n",
        "test=test2.loc[:,[\"날짜\",\"수온\",\"강우량\",\"수질등급\"]]"
      ],
      "metadata": {
        "id": "2l7oNiarfE-H"
      },
      "execution_count": null,
      "outputs": []
    },
    {
      "cell_type": "code",
      "source": [
        "X_train=train[['수온','강우량']]\n",
        "y_train=train[['수질등급']]\n",
        "\n",
        "X_test=test[['수온','강우량']]\n",
        "y_test=test[['수질등급']]"
      ],
      "metadata": {
        "id": "KhDx_RwJer9l"
      },
      "execution_count": null,
      "outputs": []
    },
    {
      "cell_type": "code",
      "source": [
        "from bayes_opt import BayesianOptimization\n",
        "from sklearn.ensemble import RandomForestClassifier\n",
        "from sklearn.metrics import accuracy_score\n",
        "from sklearn.metrics import confusion_matrix"
      ],
      "metadata": {
        "id": "N43bx67ker9l"
      },
      "execution_count": null,
      "outputs": []
    },
    {
      "cell_type": "code",
      "source": [
        "def rf_bo1(max_depth, min_samples_split, min_samples_leaf, n_estimators):\n",
        "  rf_params = {\n",
        "      'max_depth' : int(round(max_depth)),\n",
        "      'min_samples_split' : int(round(min_samples_split)),\n",
        "      'min_samples_leaf' : int(round(min_samples_leaf)),\n",
        "      'n_estimators' : int(round(n_estimators))\n",
        "      }\n",
        "\n",
        "  rf = RandomForestClassifier(**rf_params)\n",
        "  rf.fit(X_train,y_train[\"수질등급\"])\n",
        "\n",
        "  score = accuracy_score(y_test[\"수질등급\"], rf.predict(X_test))\n",
        "\n",
        "  return score"
      ],
      "metadata": {
        "id": "BrTi6y-cer9l"
      },
      "execution_count": null,
      "outputs": []
    },
    {
      "cell_type": "code",
      "source": [
        "rf_parameter_bounds = {\n",
        "                      'max_depth' : (1,10),\n",
        "                      'min_samples_split' : (5,10),\n",
        "                      'min_samples_leaf' : (5,15),\n",
        "                      'n_estimators' : (50,200)\n",
        "                      }"
      ],
      "metadata": {
        "id": "I3N5vriber9l"
      },
      "execution_count": null,
      "outputs": []
    },
    {
      "cell_type": "code",
      "source": [
        "BO_rf1 = BayesianOptimization(f = rf_bo1, pbounds = rf_parameter_bounds,random_state = 2023)"
      ],
      "metadata": {
        "id": "t0pcXhVHer9l"
      },
      "execution_count": null,
      "outputs": []
    },
    {
      "cell_type": "code",
      "source": [
        "BO_rf1.maximize(init_points = 50, n_iter = 5)"
      ],
      "metadata": {
        "colab": {
          "base_uri": "https://localhost:8080/"
        },
        "outputId": "fa7d9f3e-b0bf-4d00-a0d1-69a54fb6ad3d",
        "id": "dALLz9iPer9m"
      },
      "execution_count": null,
      "outputs": [
        {
          "output_type": "stream",
          "name": "stdout",
          "text": [
            "|   iter    |  target   | max_depth | min_sa... | min_sa... | n_esti... |\n",
            "-------------------------------------------------------------------------\n",
            "| \u001b[0m1        \u001b[0m | \u001b[0m0.7738   \u001b[0m | \u001b[0m3.898    \u001b[0m | \u001b[0m13.9     \u001b[0m | \u001b[0m7.94     \u001b[0m | \u001b[0m68.99    \u001b[0m |\n",
            "| \u001b[0m2        \u001b[0m | \u001b[0m0.7628   \u001b[0m | \u001b[0m2.272    \u001b[0m | \u001b[0m9.679    \u001b[0m | \u001b[0m5.11     \u001b[0m | \u001b[0m159.1    \u001b[0m |\n",
            "| \u001b[95m3        \u001b[0m | \u001b[95m0.7742   \u001b[0m | \u001b[95m5.719    \u001b[0m | \u001b[95m10.45    \u001b[0m | \u001b[95m7.282    \u001b[0m | \u001b[95m125.2    \u001b[0m |\n",
            "| \u001b[95m4        \u001b[0m | \u001b[95m0.7763   \u001b[0m | \u001b[95m4.55     \u001b[0m | \u001b[95m6.512    \u001b[0m | \u001b[95m6.804    \u001b[0m | \u001b[95m74.31    \u001b[0m |\n",
            "| \u001b[0m5        \u001b[0m | \u001b[0m0.7756   \u001b[0m | \u001b[0m4.042    \u001b[0m | \u001b[0m6.803    \u001b[0m | \u001b[0m6.955    \u001b[0m | \u001b[0m55.35    \u001b[0m |\n",
            "| \u001b[0m6        \u001b[0m | \u001b[0m0.7742   \u001b[0m | \u001b[0m6.084    \u001b[0m | \u001b[0m7.035    \u001b[0m | \u001b[0m6.603    \u001b[0m | \u001b[0m106.5    \u001b[0m |\n",
            "| \u001b[0m7        \u001b[0m | \u001b[0m0.7718   \u001b[0m | \u001b[0m2.656    \u001b[0m | \u001b[0m6.04     \u001b[0m | \u001b[0m7.275    \u001b[0m | \u001b[0m79.38    \u001b[0m |\n",
            "| \u001b[0m8        \u001b[0m | \u001b[0m0.774    \u001b[0m | \u001b[0m4.407    \u001b[0m | \u001b[0m14.31    \u001b[0m | \u001b[0m8.801    \u001b[0m | \u001b[0m165.6    \u001b[0m |\n",
            "| \u001b[0m9        \u001b[0m | \u001b[0m0.773    \u001b[0m | \u001b[0m6.37     \u001b[0m | \u001b[0m12.92    \u001b[0m | \u001b[0m9.052    \u001b[0m | \u001b[0m197.1    \u001b[0m |\n",
            "| \u001b[0m10       \u001b[0m | \u001b[0m0.7335   \u001b[0m | \u001b[0m8.963    \u001b[0m | \u001b[0m6.098    \u001b[0m | \u001b[0m9.099    \u001b[0m | \u001b[0m96.14    \u001b[0m |\n",
            "| \u001b[0m11       \u001b[0m | \u001b[0m0.7718   \u001b[0m | \u001b[0m3.353    \u001b[0m | \u001b[0m9.057    \u001b[0m | \u001b[0m7.767    \u001b[0m | \u001b[0m143.8    \u001b[0m |\n",
            "| \u001b[0m12       \u001b[0m | \u001b[0m0.7636   \u001b[0m | \u001b[0m1.709    \u001b[0m | \u001b[0m14.72    \u001b[0m | \u001b[0m7.057    \u001b[0m | \u001b[0m158.2    \u001b[0m |\n",
            "| \u001b[0m13       \u001b[0m | \u001b[0m0.7382   \u001b[0m | \u001b[0m6.97     \u001b[0m | \u001b[0m7.182    \u001b[0m | \u001b[0m5.936    \u001b[0m | \u001b[0m159.5    \u001b[0m |\n",
            "| \u001b[0m14       \u001b[0m | \u001b[0m0.7288   \u001b[0m | \u001b[0m8.77     \u001b[0m | \u001b[0m8.917    \u001b[0m | \u001b[0m5.55     \u001b[0m | \u001b[0m186.9    \u001b[0m |\n",
            "| \u001b[0m15       \u001b[0m | \u001b[0m0.7718   \u001b[0m | \u001b[0m4.213    \u001b[0m | \u001b[0m9.13     \u001b[0m | \u001b[0m5.918    \u001b[0m | \u001b[0m137.9    \u001b[0m |\n",
            "| \u001b[0m16       \u001b[0m | \u001b[0m0.73     \u001b[0m | \u001b[0m8.701    \u001b[0m | \u001b[0m12.9     \u001b[0m | \u001b[0m5.439    \u001b[0m | \u001b[0m189.9    \u001b[0m |\n",
            "| \u001b[0m17       \u001b[0m | \u001b[0m0.7763   \u001b[0m | \u001b[0m5.5      \u001b[0m | \u001b[0m8.643    \u001b[0m | \u001b[0m7.418    \u001b[0m | \u001b[0m127.3    \u001b[0m |\n",
            "| \u001b[0m18       \u001b[0m | \u001b[0m0.7233   \u001b[0m | \u001b[0m9.952    \u001b[0m | \u001b[0m12.53    \u001b[0m | \u001b[0m6.829    \u001b[0m | \u001b[0m141.7    \u001b[0m |\n",
            "| \u001b[95m19       \u001b[0m | \u001b[95m0.7765   \u001b[0m | \u001b[95m4.777    \u001b[0m | \u001b[95m5.917    \u001b[0m | \u001b[95m7.674    \u001b[0m | \u001b[95m101.1    \u001b[0m |\n",
            "| \u001b[0m20       \u001b[0m | \u001b[0m0.7634   \u001b[0m | \u001b[0m1.165    \u001b[0m | \u001b[0m11.03    \u001b[0m | \u001b[0m9.609    \u001b[0m | \u001b[0m92.2     \u001b[0m |\n",
            "| \u001b[0m21       \u001b[0m | \u001b[0m0.728    \u001b[0m | \u001b[0m8.513    \u001b[0m | \u001b[0m10.5     \u001b[0m | \u001b[0m5.109    \u001b[0m | \u001b[0m102.1    \u001b[0m |\n",
            "| \u001b[0m22       \u001b[0m | \u001b[0m0.7738   \u001b[0m | \u001b[0m5.95     \u001b[0m | \u001b[0m5.132    \u001b[0m | \u001b[0m8.579    \u001b[0m | \u001b[0m78.47    \u001b[0m |\n",
            "| \u001b[0m23       \u001b[0m | \u001b[0m0.7384   \u001b[0m | \u001b[0m7.682    \u001b[0m | \u001b[0m11.29    \u001b[0m | \u001b[0m6.811    \u001b[0m | \u001b[0m144.1    \u001b[0m |\n",
            "| \u001b[0m24       \u001b[0m | \u001b[0m0.7742   \u001b[0m | \u001b[0m5.634    \u001b[0m | \u001b[0m13.95    \u001b[0m | \u001b[0m7.593    \u001b[0m | \u001b[0m141.1    \u001b[0m |\n",
            "| \u001b[0m25       \u001b[0m | \u001b[0m0.7763   \u001b[0m | \u001b[0m5.273    \u001b[0m | \u001b[0m12.1     \u001b[0m | \u001b[0m5.576    \u001b[0m | \u001b[0m159.9    \u001b[0m |\n",
            "| \u001b[0m26       \u001b[0m | \u001b[0m0.7303   \u001b[0m | \u001b[0m8.902    \u001b[0m | \u001b[0m10.19    \u001b[0m | \u001b[0m8.402    \u001b[0m | \u001b[0m115.3    \u001b[0m |\n",
            "| \u001b[0m27       \u001b[0m | \u001b[0m0.729    \u001b[0m | \u001b[0m9.746    \u001b[0m | \u001b[0m8.652    \u001b[0m | \u001b[0m8.114    \u001b[0m | \u001b[0m88.74    \u001b[0m |\n",
            "| \u001b[0m28       \u001b[0m | \u001b[0m0.7608   \u001b[0m | \u001b[0m7.132    \u001b[0m | \u001b[0m13.77    \u001b[0m | \u001b[0m6.211    \u001b[0m | \u001b[0m71.39    \u001b[0m |\n",
            "| \u001b[0m29       \u001b[0m | \u001b[0m0.74     \u001b[0m | \u001b[0m8.429    \u001b[0m | \u001b[0m9.654    \u001b[0m | \u001b[0m6.691    \u001b[0m | \u001b[0m190.0    \u001b[0m |\n",
            "| \u001b[0m30       \u001b[0m | \u001b[0m0.7763   \u001b[0m | \u001b[0m5.09     \u001b[0m | \u001b[0m9.943    \u001b[0m | \u001b[0m5.23     \u001b[0m | \u001b[0m67.85    \u001b[0m |\n",
            "| \u001b[0m31       \u001b[0m | \u001b[0m0.7742   \u001b[0m | \u001b[0m5.842    \u001b[0m | \u001b[0m5.548    \u001b[0m | \u001b[0m6.503    \u001b[0m | \u001b[0m106.7    \u001b[0m |\n",
            "| \u001b[0m32       \u001b[0m | \u001b[0m0.7738   \u001b[0m | \u001b[0m6.481    \u001b[0m | \u001b[0m13.24    \u001b[0m | \u001b[0m5.914    \u001b[0m | \u001b[0m168.0    \u001b[0m |\n",
            "| \u001b[0m33       \u001b[0m | \u001b[0m0.7736   \u001b[0m | \u001b[0m3.802    \u001b[0m | \u001b[0m12.72    \u001b[0m | \u001b[0m9.575    \u001b[0m | \u001b[0m83.94    \u001b[0m |\n",
            "| \u001b[0m34       \u001b[0m | \u001b[0m0.7254   \u001b[0m | \u001b[0m9.92     \u001b[0m | \u001b[0m8.115    \u001b[0m | \u001b[0m9.428    \u001b[0m | \u001b[0m154.0    \u001b[0m |\n",
            "| \u001b[0m35       \u001b[0m | \u001b[0m0.7634   \u001b[0m | \u001b[0m1.491    \u001b[0m | \u001b[0m7.018    \u001b[0m | \u001b[0m9.296    \u001b[0m | \u001b[0m149.1    \u001b[0m |\n",
            "| \u001b[0m36       \u001b[0m | \u001b[0m0.7349   \u001b[0m | \u001b[0m8.855    \u001b[0m | \u001b[0m12.24    \u001b[0m | \u001b[0m5.46     \u001b[0m | \u001b[0m53.29    \u001b[0m |\n",
            "| \u001b[0m37       \u001b[0m | \u001b[0m0.7718   \u001b[0m | \u001b[0m2.638    \u001b[0m | \u001b[0m7.761    \u001b[0m | \u001b[0m8.367    \u001b[0m | \u001b[0m135.6    \u001b[0m |\n",
            "| \u001b[0m38       \u001b[0m | \u001b[0m0.7718   \u001b[0m | \u001b[0m4.396    \u001b[0m | \u001b[0m7.845    \u001b[0m | \u001b[0m6.013    \u001b[0m | \u001b[0m99.64    \u001b[0m |\n",
            "| \u001b[0m39       \u001b[0m | \u001b[0m0.7718   \u001b[0m | \u001b[0m4.281    \u001b[0m | \u001b[0m7.026    \u001b[0m | \u001b[0m8.015    \u001b[0m | \u001b[0m59.44    \u001b[0m |\n",
            "| \u001b[0m40       \u001b[0m | \u001b[0m0.7301   \u001b[0m | \u001b[0m7.583    \u001b[0m | \u001b[0m12.34    \u001b[0m | \u001b[0m7.951    \u001b[0m | \u001b[0m157.5    \u001b[0m |\n",
            "| \u001b[0m41       \u001b[0m | \u001b[0m0.7577   \u001b[0m | \u001b[0m7.418    \u001b[0m | \u001b[0m12.76    \u001b[0m | \u001b[0m8.42     \u001b[0m | \u001b[0m169.7    \u001b[0m |\n",
            "| \u001b[0m42       \u001b[0m | \u001b[0m0.774    \u001b[0m | \u001b[0m6.301    \u001b[0m | \u001b[0m13.6     \u001b[0m | \u001b[0m7.211    \u001b[0m | \u001b[0m108.2    \u001b[0m |\n",
            "| \u001b[0m43       \u001b[0m | \u001b[0m0.7718   \u001b[0m | \u001b[0m3.53     \u001b[0m | \u001b[0m5.953    \u001b[0m | \u001b[0m7.167    \u001b[0m | \u001b[0m151.4    \u001b[0m |\n",
            "| \u001b[0m44       \u001b[0m | \u001b[0m0.7716   \u001b[0m | \u001b[0m3.256    \u001b[0m | \u001b[0m8.396    \u001b[0m | \u001b[0m8.177    \u001b[0m | \u001b[0m152.1    \u001b[0m |\n",
            "| \u001b[0m45       \u001b[0m | \u001b[0m0.7752   \u001b[0m | \u001b[0m4.152    \u001b[0m | \u001b[0m10.06    \u001b[0m | \u001b[0m7.059    \u001b[0m | \u001b[0m161.3    \u001b[0m |\n",
            "| \u001b[0m46       \u001b[0m | \u001b[0m0.7634   \u001b[0m | \u001b[0m2.305    \u001b[0m | \u001b[0m12.31    \u001b[0m | \u001b[0m7.577    \u001b[0m | \u001b[0m99.89    \u001b[0m |\n",
            "| \u001b[0m47       \u001b[0m | \u001b[0m0.7296   \u001b[0m | \u001b[0m9.331    \u001b[0m | \u001b[0m14.73    \u001b[0m | \u001b[0m7.798    \u001b[0m | \u001b[0m65.28    \u001b[0m |\n",
            "| \u001b[0m48       \u001b[0m | \u001b[0m0.7484   \u001b[0m | \u001b[0m7.049    \u001b[0m | \u001b[0m14.31    \u001b[0m | \u001b[0m6.426    \u001b[0m | \u001b[0m67.68    \u001b[0m |\n",
            "| \u001b[0m49       \u001b[0m | \u001b[0m0.7303   \u001b[0m | \u001b[0m8.653    \u001b[0m | \u001b[0m11.96    \u001b[0m | \u001b[0m9.498    \u001b[0m | \u001b[0m191.3    \u001b[0m |\n",
            "| \u001b[0m50       \u001b[0m | \u001b[0m0.774    \u001b[0m | \u001b[0m5.647    \u001b[0m | \u001b[0m11.95    \u001b[0m | \u001b[0m7.157    \u001b[0m | \u001b[0m181.1    \u001b[0m |\n",
            "| \u001b[0m51       \u001b[0m | \u001b[0m0.7634   \u001b[0m | \u001b[0m1.0      \u001b[0m | \u001b[0m13.73    \u001b[0m | \u001b[0m8.433    \u001b[0m | \u001b[0m139.9    \u001b[0m |\n",
            "| \u001b[0m52       \u001b[0m | \u001b[0m0.7716   \u001b[0m | \u001b[0m3.384    \u001b[0m | \u001b[0m13.12    \u001b[0m | \u001b[0m5.0      \u001b[0m | \u001b[0m163.7    \u001b[0m |\n",
            "| \u001b[0m53       \u001b[0m | \u001b[0m0.7624   \u001b[0m | \u001b[0m1.0      \u001b[0m | \u001b[0m9.63     \u001b[0m | \u001b[0m7.281    \u001b[0m | \u001b[0m70.48    \u001b[0m |\n",
            "| \u001b[0m54       \u001b[0m | \u001b[0m0.7634   \u001b[0m | \u001b[0m1.0      \u001b[0m | \u001b[0m6.526    \u001b[0m | \u001b[0m6.679    \u001b[0m | \u001b[0m103.8    \u001b[0m |\n",
            "| \u001b[95m55       \u001b[0m | \u001b[95m0.7767   \u001b[0m | \u001b[95m4.636    \u001b[0m | \u001b[95m10.79    \u001b[0m | \u001b[95m9.59     \u001b[0m | \u001b[95m77.7     \u001b[0m |\n",
            "=========================================================================\n"
          ]
        }
      ]
    },
    {
      "cell_type": "code",
      "source": [
        "BO_rf1.max"
      ],
      "metadata": {
        "colab": {
          "base_uri": "https://localhost:8080/"
        },
        "outputId": "b9c459a4-de98-4f73-9076-94b24be67288",
        "id": "bzOsIxuler9m"
      },
      "execution_count": null,
      "outputs": [
        {
          "output_type": "execute_result",
          "data": {
            "text/plain": [
              "{'target': 0.7767295597484277,\n",
              " 'params': {'max_depth': 4.635564437752466,\n",
              "  'min_samples_leaf': 10.791859683184384,\n",
              "  'min_samples_split': 9.589828696499449,\n",
              "  'n_estimators': 77.70218803482284}}"
            ]
          },
          "metadata": {},
          "execution_count": 36
        }
      ]
    },
    {
      "cell_type": "code",
      "source": [
        "rf_clf = RandomForestClassifier(random_state=2023,max_depth=5,\n",
        "                                min_samples_leaf=6,min_samples_split=8,\n",
        "                                n_estimators=101)\n",
        "rf_clf.fit(X_train, y_train[\"수질등급\"])\n",
        "accuracy_train = accuracy_score(y_train[\"수질등급\"], rf_clf.predict(X_train))\n",
        "accuracy_test = accuracy_score(y_test[\"수질등급\"], rf_clf.predict(X_test))\n",
        "print('랜덤 포레스트 학습 정확도: {:.4f}'.format(accuracy_train))\n",
        "print(confusion_matrix(y_train[\"수질등급\"], rf_clf.predict(X_train)),'\\n')\n",
        "print('랜덤 포레스트 예측 정확도: {:.4f}'.format(accuracy_test))\n",
        "print(confusion_matrix(y_test[\"수질등급\"], rf_clf.predict(X_test)))"
      ],
      "metadata": {
        "colab": {
          "base_uri": "https://localhost:8080/"
        },
        "outputId": "6d5a1276-4722-4ffb-903c-4e2478b6867b",
        "id": "3yHn_AP5er9m"
      },
      "execution_count": null,
      "outputs": [
        {
          "output_type": "stream",
          "name": "stdout",
          "text": [
            "랜덤 포레스트 학습 정확도: 0.6265\n",
            "[[   0  376  449    0]\n",
            " [   0 3793 4591    0]\n",
            " [   0 1051 7183    0]\n",
            " [   0    0   77    0]] \n",
            "\n",
            "랜덤 포레스트 예측 정확도: 0.7765\n",
            "[[   0   26    0    0]\n",
            " [   0 1372  797    0]\n",
            " [   0  279 2579    0]\n",
            " [   0    0   35    0]]\n"
          ]
        }
      ]
    },
    {
      "cell_type": "markdown",
      "source": [
        "###3-1. GBM - 수온, 강우량 - 0.6333"
      ],
      "metadata": {
        "id": "ewlGVizier9m"
      }
    },
    {
      "cell_type": "code",
      "source": [
        "# train/test dataset 생성\n",
        "\n",
        "train=tan2.loc[:,[\"날짜\",\"수온\",\"강우량\",\"수질등급\"]]\n",
        "test=test2.loc[:,[\"날짜\",\"수온\",\"강우량\",\"수질등급\"]]"
      ],
      "metadata": {
        "id": "6PKyHmmofGNl"
      },
      "execution_count": null,
      "outputs": []
    },
    {
      "cell_type": "code",
      "source": [
        "X_train=train[['수온','강우량']]\n",
        "y_train=train[['수질등급']]\n",
        "\n",
        "X_test=test[['수온','강우량']]\n",
        "y_test=test[['수질등급']]"
      ],
      "metadata": {
        "id": "D3gpSLober9m"
      },
      "execution_count": null,
      "outputs": []
    },
    {
      "cell_type": "code",
      "source": [
        "from sklearn.ensemble import GradientBoostingClassifier\n",
        "from bayes_opt import BayesianOptimization\n",
        "from sklearn.metrics import accuracy_score\n",
        "from sklearn.metrics import confusion_matrix"
      ],
      "metadata": {
        "id": "gC3REqqPer9n"
      },
      "execution_count": null,
      "outputs": []
    },
    {
      "cell_type": "code",
      "source": [
        "def gbm_bo1(learning_rate, n_estimators):\n",
        "  gbm_params = {\n",
        "      'learning_rate' : int(round(learning_rate)),\n",
        "      'n_estimators' : int(round(n_estimators))\n",
        "      }\n",
        "\n",
        "  gbm = GradientBoostingClassifier(**gbm_params)\n",
        "  gbm.fit(X_train,y_train[\"수질등급\"])\n",
        "\n",
        "  score = accuracy_score(y_test[\"수질등급\"], gbm.predict(X_test))\n",
        "\n",
        "  return score"
      ],
      "metadata": {
        "id": "FhPz-hqRer9n"
      },
      "execution_count": null,
      "outputs": []
    },
    {
      "cell_type": "code",
      "source": [
        "gbm_parameter_bounds = {\n",
        "                      'learning_rate' : (0.001,0.1),\n",
        "                      'n_estimators' : (10,100)\n",
        "                      }"
      ],
      "metadata": {
        "id": "GM3RVg9zer9n"
      },
      "execution_count": null,
      "outputs": []
    },
    {
      "cell_type": "code",
      "source": [
        "BO_gbm1 = BayesianOptimization(f = gbm_bo1, pbounds = gbm_parameter_bounds,random_state = 2023)"
      ],
      "metadata": {
        "id": "l5LAWU_eer9n"
      },
      "execution_count": null,
      "outputs": []
    },
    {
      "cell_type": "code",
      "source": [
        "BO_gbm1.maximize(init_points = 15, n_iter = 5)"
      ],
      "metadata": {
        "colab": {
          "base_uri": "https://localhost:8080/"
        },
        "outputId": "f79103bb-fc53-49a7-fc72-02641e845233",
        "id": "Wnw2xAxcer9n"
      },
      "execution_count": null,
      "outputs": [
        {
          "output_type": "stream",
          "name": "stdout",
          "text": [
            "|   iter    |  target   | learni... | n_esti... |\n",
            "-------------------------------------------------\n",
            "| \u001b[0m1        \u001b[0m | \u001b[0m0.4263   \u001b[0m | \u001b[0m0.03288  \u001b[0m | \u001b[0m90.14    \u001b[0m |\n",
            "| \u001b[0m2        \u001b[0m | \u001b[0m0.4263   \u001b[0m | \u001b[0m0.05922  \u001b[0m | \u001b[0m21.39    \u001b[0m |\n",
            "| \u001b[0m3        \u001b[0m | \u001b[0m0.4263   \u001b[0m | \u001b[0m0.01499  \u001b[0m | \u001b[0m52.11    \u001b[0m |\n",
            "| \u001b[0m4        \u001b[0m | \u001b[0m0.4263   \u001b[0m | \u001b[0m0.003187 \u001b[0m | \u001b[0m75.45    \u001b[0m |\n",
            "| \u001b[0m5        \u001b[0m | \u001b[0m0.4263   \u001b[0m | \u001b[0m0.05291  \u001b[0m | \u001b[0m59.04    \u001b[0m |\n",
            "| \u001b[0m6        \u001b[0m | \u001b[0m0.4263   \u001b[0m | \u001b[0m0.04618  \u001b[0m | \u001b[0m55.12    \u001b[0m |\n",
            "| \u001b[0m7        \u001b[0m | \u001b[0m0.4263   \u001b[0m | \u001b[0m0.04005  \u001b[0m | \u001b[0m23.61    \u001b[0m |\n",
            "| \u001b[0m8        \u001b[0m | \u001b[0m0.4263   \u001b[0m | \u001b[0m0.03673  \u001b[0m | \u001b[0m24.59    \u001b[0m |\n",
            "| \u001b[0m9        \u001b[0m | \u001b[0m0.4263   \u001b[0m | \u001b[0m0.03446  \u001b[0m | \u001b[0m26.23    \u001b[0m |\n",
            "| \u001b[0m10       \u001b[0m | \u001b[0m0.4263   \u001b[0m | \u001b[0m0.03971  \u001b[0m | \u001b[0m13.21    \u001b[0m |\n",
            "| \u001b[0m11       \u001b[0m | \u001b[0m0.4263   \u001b[0m | \u001b[0m0.05692  \u001b[0m | \u001b[0m28.31    \u001b[0m |\n",
            "| \u001b[0m12       \u001b[0m | \u001b[0m0.4263   \u001b[0m | \u001b[0m0.03274  \u001b[0m | \u001b[0m43.89    \u001b[0m |\n",
            "| \u001b[0m13       \u001b[0m | \u001b[0m0.4263   \u001b[0m | \u001b[0m0.01922  \u001b[0m | \u001b[0m19.36    \u001b[0m |\n",
            "| \u001b[0m14       \u001b[0m | \u001b[0m0.4263   \u001b[0m | \u001b[0m0.04604  \u001b[0m | \u001b[0m27.63    \u001b[0m |\n",
            "| \u001b[0m15       \u001b[0m | \u001b[0m0.4263   \u001b[0m | \u001b[0m0.03847  \u001b[0m | \u001b[0m93.75    \u001b[0m |\n",
            "| \u001b[0m16       \u001b[0m | \u001b[0m0.4263   \u001b[0m | \u001b[0m0.0775   \u001b[0m | \u001b[0m68.07    \u001b[0m |\n",
            "| \u001b[0m17       \u001b[0m | \u001b[0m0.4263   \u001b[0m | \u001b[0m0.06465  \u001b[0m | \u001b[0m100.0    \u001b[0m |\n",
            "| \u001b[0m18       \u001b[0m | \u001b[0m0.4263   \u001b[0m | \u001b[0m0.002829 \u001b[0m | \u001b[0m99.99    \u001b[0m |\n",
            "| \u001b[0m19       \u001b[0m | \u001b[0m0.4263   \u001b[0m | \u001b[0m0.03955  \u001b[0m | \u001b[0m18.11    \u001b[0m |\n",
            "| \u001b[0m20       \u001b[0m | \u001b[0m0.4263   \u001b[0m | \u001b[0m0.06096  \u001b[0m | \u001b[0m99.99    \u001b[0m |\n",
            "=================================================\n"
          ]
        }
      ]
    },
    {
      "cell_type": "code",
      "source": [
        "BO_gbm1.max"
      ],
      "metadata": {
        "colab": {
          "base_uri": "https://localhost:8080/"
        },
        "outputId": "177b1068-337f-4cba-fde3-b5febdd88f89",
        "id": "LhUF92XPer9o"
      },
      "execution_count": null,
      "outputs": [
        {
          "output_type": "execute_result",
          "data": {
            "text/plain": [
              "{'target': 0.42629716981132076,\n",
              " 'params': {'learning_rate': 0.03287684209520481,\n",
              "  'n_estimators': 90.13802066105328}}"
            ]
          },
          "metadata": {},
          "execution_count": 45
        }
      ]
    },
    {
      "cell_type": "code",
      "source": [
        "gbm_clf = GradientBoostingClassifier(random_state=2023,learning_rate=0.033,\n",
        "                                n_estimators=90)\n",
        "gbm_clf.fit(X_train, y_train[\"수질등급\"])\n",
        "accuracy_train = accuracy_score(y_train[\"수질등급\"], gbm_clf.predict(X_train))\n",
        "accuracy_test = accuracy_score(y_test[\"수질등급\"], gbm_clf.predict(X_test))\n",
        "print('GBM 학습 정확도: {:.4f}'.format(accuracy_train))\n",
        "print(confusion_matrix(y_train[\"수질등급\"], gbm_clf.predict(X_train)),'\\n')\n",
        "print('GBM 정확도: {:.4f}'.format(accuracy_test))\n",
        "print(confusion_matrix(y_test[\"수질등급\"], gbm_clf.predict(X_test)))"
      ],
      "metadata": {
        "colab": {
          "base_uri": "https://localhost:8080/"
        },
        "outputId": "d314ee9d-dc96-4cc8-cd56-9e3ec0200aec",
        "id": "fvTwtFZher9p"
      },
      "execution_count": null,
      "outputs": [
        {
          "output_type": "stream",
          "name": "stdout",
          "text": [
            "GBM 학습 정확도: 0.6295\n",
            "[[  73  377  375    0]\n",
            " [  38 3803 4543    0]\n",
            " [  25 1056 7153    0]\n",
            " [   0    0   77    0]] \n",
            "\n",
            "GBM 정확도: 0.7738\n",
            "[[   0   26    0    0]\n",
            " [   4 1368  797    0]\n",
            " [  17  272 2569    0]\n",
            " [   0    0   35    0]]\n"
          ]
        }
      ]
    },
    {
      "cell_type": "markdown",
      "source": [
        "###4-1.LGBM - 수온, 강우량 - 0.6207"
      ],
      "metadata": {
        "id": "oHDxT5nger9p"
      }
    },
    {
      "cell_type": "code",
      "source": [
        "# train/test dataset 생성\n",
        "\n",
        "train=tan2.loc[:,[\"날짜\",\"수온\",\"강우량\",\"수질등급\"]]\n",
        "test=test2.loc[:,[\"날짜\",\"수온\",\"강우량\",\"수질등급\"]]"
      ],
      "metadata": {
        "id": "-pqfoa6QfHTC"
      },
      "execution_count": null,
      "outputs": []
    },
    {
      "cell_type": "code",
      "source": [
        "X_train=train[['수온','강우량']]\n",
        "y_train=train[['수질등급']]\n",
        "\n",
        "X_test=test[['수온','강우량']]\n",
        "y_test=test[['수질등급']]"
      ],
      "metadata": {
        "id": "UA8L4B75er9q"
      },
      "execution_count": null,
      "outputs": []
    },
    {
      "cell_type": "code",
      "source": [
        "import lightgbm as lgb\n",
        "from bayes_opt import BayesianOptimization\n",
        "from sklearn.metrics import accuracy_score\n",
        "from sklearn.metrics import confusion_matrix"
      ],
      "metadata": {
        "id": "9TBOLkqCer9q"
      },
      "execution_count": null,
      "outputs": []
    },
    {
      "cell_type": "code",
      "source": [
        "def lgbm_bo1(learning_rate, n_estimators):\n",
        "  lgbm_params = {\n",
        "      'learning_rate' : int(round(learning_rate)),\n",
        "      'n_estimators' : int(round(n_estimators))\n",
        "      }\n",
        "\n",
        "  lgbm = GradientBoostingClassifier(**lgbm_params)\n",
        "  lgbm.fit(X_train,y_train)\n",
        "\n",
        "  score = accuracy_score(y_test, lgbm.predict(X_test))\n",
        "\n",
        "  return score"
      ],
      "metadata": {
        "id": "DSd0NhCcer9q"
      },
      "execution_count": null,
      "outputs": []
    },
    {
      "cell_type": "code",
      "source": [
        "lgbm_parameter_bounds = {\n",
        "                      'learning_rate' : (0.01,0.5),\n",
        "                      'n_estimators' : (50,250)\n",
        "                      }"
      ],
      "metadata": {
        "id": "DL7p15GSer9q"
      },
      "execution_count": null,
      "outputs": []
    },
    {
      "cell_type": "code",
      "source": [
        "BO_lgbm1 = BayesianOptimization(f = lgbm_bo1, pbounds = lgbm_parameter_bounds,random_state = 2023)"
      ],
      "metadata": {
        "id": "vlePbl8ver9r"
      },
      "execution_count": null,
      "outputs": []
    },
    {
      "cell_type": "code",
      "source": [
        "BO_lgbm1.maximize(init_points = 15, n_iter = 5)"
      ],
      "metadata": {
        "colab": {
          "base_uri": "https://localhost:8080/"
        },
        "outputId": "926e4114-349e-460d-be7d-de25c22db501",
        "id": "q3it5chMer9r"
      },
      "execution_count": null,
      "outputs": [
        {
          "output_type": "stream",
          "name": "stdout",
          "text": [
            "|   iter    |  target   | learni... | n_esti... |\n",
            "-------------------------------------------------\n",
            "| \u001b[0m1        \u001b[0m | \u001b[0m0.4263   \u001b[0m | \u001b[0m0.1678   \u001b[0m | \u001b[0m228.1    \u001b[0m |\n",
            "| \u001b[0m2        \u001b[0m | \u001b[0m0.4263   \u001b[0m | \u001b[0m0.2981   \u001b[0m | \u001b[0m75.32    \u001b[0m |\n",
            "| \u001b[0m3        \u001b[0m | \u001b[0m0.4263   \u001b[0m | \u001b[0m0.07926  \u001b[0m | \u001b[0m143.6    \u001b[0m |\n",
            "| \u001b[0m4        \u001b[0m | \u001b[0m0.4263   \u001b[0m | \u001b[0m0.02082  \u001b[0m | \u001b[0m195.5    \u001b[0m |\n",
            "| \u001b[0m5        \u001b[0m | \u001b[0m0.4263   \u001b[0m | \u001b[0m0.2669   \u001b[0m | \u001b[0m159.0    \u001b[0m |\n",
            "| \u001b[0m6        \u001b[0m | \u001b[0m0.4263   \u001b[0m | \u001b[0m0.2336   \u001b[0m | \u001b[0m150.3    \u001b[0m |\n",
            "| \u001b[0m7        \u001b[0m | \u001b[0m0.4263   \u001b[0m | \u001b[0m0.2033   \u001b[0m | \u001b[0m80.23    \u001b[0m |\n",
            "| \u001b[0m8        \u001b[0m | \u001b[0m0.4263   \u001b[0m | \u001b[0m0.1868   \u001b[0m | \u001b[0m82.42    \u001b[0m |\n",
            "| \u001b[0m9        \u001b[0m | \u001b[0m0.4263   \u001b[0m | \u001b[0m0.1756   \u001b[0m | \u001b[0m86.06    \u001b[0m |\n",
            "| \u001b[0m10       \u001b[0m | \u001b[0m0.4263   \u001b[0m | \u001b[0m0.2016   \u001b[0m | \u001b[0m57.13    \u001b[0m |\n",
            "| \u001b[0m11       \u001b[0m | \u001b[0m0.4263   \u001b[0m | \u001b[0m0.2868   \u001b[0m | \u001b[0m90.69    \u001b[0m |\n",
            "| \u001b[0m12       \u001b[0m | \u001b[0m0.4263   \u001b[0m | \u001b[0m0.1671   \u001b[0m | \u001b[0m125.3    \u001b[0m |\n",
            "| \u001b[0m13       \u001b[0m | \u001b[0m0.4263   \u001b[0m | \u001b[0m0.1002   \u001b[0m | \u001b[0m70.79    \u001b[0m |\n",
            "| \u001b[0m14       \u001b[0m | \u001b[0m0.4263   \u001b[0m | \u001b[0m0.2329   \u001b[0m | \u001b[0m89.17    \u001b[0m |\n",
            "| \u001b[0m15       \u001b[0m | \u001b[0m0.4263   \u001b[0m | \u001b[0m0.1955   \u001b[0m | \u001b[0m236.1    \u001b[0m |\n",
            "| \u001b[0m16       \u001b[0m | \u001b[0m0.4263   \u001b[0m | \u001b[0m0.3886   \u001b[0m | \u001b[0m179.0    \u001b[0m |\n",
            "| \u001b[0m17       \u001b[0m | \u001b[0m0.4263   \u001b[0m | \u001b[0m0.325    \u001b[0m | \u001b[0m250.0    \u001b[0m |\n",
            "| \u001b[0m18       \u001b[0m | \u001b[0m0.4263   \u001b[0m | \u001b[0m0.01905  \u001b[0m | \u001b[0m250.0    \u001b[0m |\n",
            "| \u001b[0m19       \u001b[0m | \u001b[0m0.4263   \u001b[0m | \u001b[0m0.2008   \u001b[0m | \u001b[0m68.01    \u001b[0m |\n",
            "| \u001b[0m20       \u001b[0m | \u001b[0m0.4263   \u001b[0m | \u001b[0m0.3068   \u001b[0m | \u001b[0m250.0    \u001b[0m |\n",
            "=================================================\n"
          ]
        }
      ]
    },
    {
      "cell_type": "code",
      "source": [
        "BO_lgbm1.max"
      ],
      "metadata": {
        "colab": {
          "base_uri": "https://localhost:8080/"
        },
        "outputId": "d739f779-2760-40ee-c7f3-5f5c6f13372f",
        "id": "KWeOWbELer9r"
      },
      "execution_count": null,
      "outputs": [
        {
          "output_type": "execute_result",
          "data": {
            "text/plain": [
              "{'target': 0.42629716981132076,\n",
              " 'params': {'learning_rate': 0.1677742689560642,\n",
              "  'n_estimators': 228.08449035789616}}"
            ]
          },
          "metadata": {},
          "execution_count": 54
        }
      ]
    },
    {
      "cell_type": "code",
      "source": [
        "lgbm_clf = GradientBoostingClassifier(random_state=2023,learning_rate=0.17,\n",
        "                                n_estimators=228)\n",
        "lgbm_clf.fit(X_train, y_train[\"수질등급\"])\n",
        "accuracy_train = accuracy_score(y_train[\"수질등급\"], lgbm_clf.predict(X_train))\n",
        "accuracy_test = accuracy_score(y_test[\"수질등급\"], lgbm_clf.predict(X_test))\n",
        "print('LGBM 학습 정확도: {:.4f}'.format(accuracy_train))\n",
        "print(confusion_matrix(y_train[\"수질등급\"], lgbm_clf.predict(X_train)),'\\n')\n",
        "print('LGBM 정확도: {:.4f}'.format(accuracy_test))\n",
        "print(confusion_matrix(y_test[\"수질등급\"], lgbm_clf.predict(X_test)))"
      ],
      "metadata": {
        "colab": {
          "base_uri": "https://localhost:8080/"
        },
        "outputId": "b298606c-fe2f-4034-dbbd-ef57b8146c7c",
        "id": "Q7spMQVLer9r"
      },
      "execution_count": null,
      "outputs": [
        {
          "output_type": "stream",
          "name": "stdout",
          "text": [
            "LGBM 학습 정확도: 0.6416\n",
            "[[  77  459  289    0]\n",
            " [  38 4544 3801    1]\n",
            " [  25 1603 6606    0]\n",
            " [   0    7   56   14]] \n",
            "\n",
            "LGBM 정확도: 0.7252\n",
            "[[   0   26    0    0]\n",
            " [   7 1464  698    0]\n",
            " [  17  615 2225    1]\n",
            " [   0    2   32    1]]\n"
          ]
        }
      ]
    },
    {
      "cell_type": "markdown",
      "source": [
        "###5-1. XGB - 0.6223"
      ],
      "metadata": {
        "id": "ThmmnVpta2sJ"
      }
    },
    {
      "cell_type": "code",
      "source": [
        "# train/test dataset 생성\n",
        "\n",
        "train=tan2.loc[:,[\"날짜\",\"수온\",\"강우량\",\"수질등급\"]]\n",
        "test=test2.loc[:,[\"날짜\",\"수온\",\"강우량\",\"수질등급\"]]"
      ],
      "metadata": {
        "id": "WVue8RP9bE6n"
      },
      "execution_count": null,
      "outputs": []
    },
    {
      "cell_type": "code",
      "source": [
        "X_train=train[['수온','강우량']]\n",
        "y_train=train[['수질등급']]\n",
        "\n",
        "X_test=test[['수온','강우량']]\n",
        "y_test=test[['수질등급']]"
      ],
      "metadata": {
        "id": "eE4fv1Zua2sR"
      },
      "execution_count": null,
      "outputs": []
    },
    {
      "cell_type": "code",
      "source": [
        "y_tr_xgb=y_train.copy()\n",
        "y_ts_xgb=y_test.copy()"
      ],
      "metadata": {
        "id": "_UGzaHSda2sR"
      },
      "execution_count": null,
      "outputs": []
    },
    {
      "cell_type": "code",
      "source": [
        "for i in range(y_tr_xgb.shape[0]):\n",
        "  a=y_tr_xgb.iloc[i]['수질등급']\n",
        "\n",
        "  if a==1:\n",
        "    y_tr_xgb.iloc[i]['수질등급']=0\n",
        "  elif a==2:\n",
        "    y_tr_xgb.iloc[i]['수질등급']=1\n",
        "  elif a==3:\n",
        "    y_tr_xgb.iloc[i]['수질등급']=2\n",
        "  else:\n",
        "    y_tr_xgb.iloc[i]['수질등급']=3"
      ],
      "metadata": {
        "id": "1om2GfrXa2sS"
      },
      "execution_count": null,
      "outputs": []
    },
    {
      "cell_type": "code",
      "source": [
        "for i in range(y_ts_xgb.shape[0]):\n",
        "  a=y_ts_xgb.iloc[i]['수질등급']\n",
        "\n",
        "  if a==1:\n",
        "    y_ts_xgb.iloc[i]['수질등급']=0\n",
        "  elif a==2:\n",
        "    y_ts_xgb.iloc[i]['수질등급']=1\n",
        "  elif a==3:\n",
        "    y_ts_xgb.iloc[i]['수질등급']=2\n",
        "  else:\n",
        "    y_ts_xgb.iloc[i]['수질등급']=3"
      ],
      "metadata": {
        "id": "qSXzXKUga2sS"
      },
      "execution_count": null,
      "outputs": []
    },
    {
      "cell_type": "code",
      "source": [
        "from xgboost import XGBClassifier\n",
        "from bayes_opt import BayesianOptimization\n",
        "from sklearn.metrics import accuracy_score\n",
        "from sklearn.metrics import confusion_matrix"
      ],
      "metadata": {
        "id": "8Y3Ts9Ema2sS"
      },
      "execution_count": null,
      "outputs": []
    },
    {
      "cell_type": "code",
      "source": [
        "def xgb_bo1(max_depth, learning_rate, n_estimators):\n",
        "  xgb_params = {\n",
        "      'max_depth' : int(round(max_depth)),\n",
        "      'learning_rate' : learning_rate,\n",
        "      'n_estimators' : int(round(n_estimators))\n",
        "      }\n",
        "\n",
        "  xgb = XGBClassifier(**xgb_params)\n",
        "  xgb.fit(X_train,y_tr_xgb)\n",
        "\n",
        "  score = accuracy_score(y_ts_xgb, xgb.predict(X_test))\n",
        "\n",
        "  return score"
      ],
      "metadata": {
        "id": "R-Qj1ht5a2sT"
      },
      "execution_count": null,
      "outputs": []
    },
    {
      "cell_type": "code",
      "source": [
        "xgb_parameter_bounds = {\n",
        "                      'max_depth' : (3,7),\n",
        "                      'learning_rate' : (0.01,1),\n",
        "                      'n_estimators' : (90,200)\n",
        "                      }"
      ],
      "metadata": {
        "id": "tGjRHsdca2sT"
      },
      "execution_count": null,
      "outputs": []
    },
    {
      "cell_type": "code",
      "source": [
        "BO_xgb1 = BayesianOptimization(f = xgb_bo1, pbounds = xgb_parameter_bounds,random_state = 2023)"
      ],
      "metadata": {
        "id": "2410nKspa2sT"
      },
      "execution_count": null,
      "outputs": []
    },
    {
      "cell_type": "code",
      "source": [
        "BO_xgb1.maximize(init_points = 20, n_iter = 5)"
      ],
      "metadata": {
        "colab": {
          "base_uri": "https://localhost:8080/"
        },
        "outputId": "6537d648-bed9-4a3a-f91f-c978fee6c92a",
        "id": "zoectyTha2sT"
      },
      "execution_count": null,
      "outputs": [
        {
          "output_type": "stream",
          "name": "stdout",
          "text": [
            "|   iter    |  target   | learni... | max_depth | n_esti... |\n",
            "-------------------------------------------------------------\n",
            "| \u001b[0m1        \u001b[0m | \u001b[0m0.7199   \u001b[0m | \u001b[0m0.3288   \u001b[0m | \u001b[0m6.562    \u001b[0m | \u001b[0m154.7    \u001b[0m |\n",
            "| \u001b[95m2        \u001b[0m | \u001b[95m0.741    \u001b[0m | \u001b[95m0.1353   \u001b[0m | \u001b[95m3.565    \u001b[0m | \u001b[95m141.5    \u001b[0m |\n",
            "| \u001b[0m3        \u001b[0m | \u001b[0m0.7362   \u001b[0m | \u001b[0m0.03187  \u001b[0m | \u001b[0m5.909    \u001b[0m | \u001b[0m147.7    \u001b[0m |\n",
            "| \u001b[0m4        \u001b[0m | \u001b[0m0.7131   \u001b[0m | \u001b[0m0.5495   \u001b[0m | \u001b[0m4.825    \u001b[0m | \u001b[0m145.2    \u001b[0m |\n",
            "| \u001b[0m5        \u001b[0m | \u001b[0m0.7152   \u001b[0m | \u001b[0m0.4005   \u001b[0m | \u001b[0m3.605    \u001b[0m | \u001b[0m129.7    \u001b[0m |\n",
            "| \u001b[95m6        \u001b[0m | \u001b[95m0.7415   \u001b[0m | \u001b[95m0.1705   \u001b[0m | \u001b[95m4.352    \u001b[0m | \u001b[95m109.8    \u001b[0m |\n",
            "| \u001b[95m7        \u001b[0m | \u001b[95m0.7437   \u001b[0m | \u001b[95m0.3971   \u001b[0m | \u001b[95m3.143    \u001b[0m | \u001b[95m152.1    \u001b[0m |\n",
            "| \u001b[0m8        \u001b[0m | \u001b[0m0.738    \u001b[0m | \u001b[0m0.2114   \u001b[0m | \u001b[0m4.282    \u001b[0m | \u001b[0m131.4    \u001b[0m |\n",
            "| \u001b[0m9        \u001b[0m | \u001b[0m0.7408   \u001b[0m | \u001b[0m0.1922   \u001b[0m | \u001b[0m3.416    \u001b[0m | \u001b[0m140.0    \u001b[0m |\n",
            "| \u001b[0m10       \u001b[0m | \u001b[0m0.7154   \u001b[0m | \u001b[0m0.2039   \u001b[0m | \u001b[0m4.514    \u001b[0m | \u001b[0m192.4    \u001b[0m |\n",
            "| \u001b[0m11       \u001b[0m | \u001b[0m0.704    \u001b[0m | \u001b[0m0.7626   \u001b[0m | \u001b[0m6.083    \u001b[0m | \u001b[0m155.6    \u001b[0m |\n",
            "| \u001b[0m12       \u001b[0m | \u001b[0m0.7056   \u001b[0m | \u001b[0m0.7937   \u001b[0m | \u001b[0m6.241    \u001b[0m | \u001b[0m197.9    \u001b[0m |\n",
            "| \u001b[0m13       \u001b[0m | \u001b[0m0.7129   \u001b[0m | \u001b[0m0.8859   \u001b[0m | \u001b[0m3.439    \u001b[0m | \u001b[0m180.2    \u001b[0m |\n",
            "| \u001b[0m14       \u001b[0m | \u001b[0m0.717    \u001b[0m | \u001b[0m0.3145   \u001b[0m | \u001b[0m4.046    \u001b[0m | \u001b[0m134.6    \u001b[0m |\n",
            "| \u001b[0m15       \u001b[0m | \u001b[0m0.7119   \u001b[0m | \u001b[0m0.5579   \u001b[0m | \u001b[0m5.502    \u001b[0m | \u001b[0m98.66    \u001b[0m |\n",
            "| \u001b[0m16       \u001b[0m | \u001b[0m0.7083   \u001b[0m | \u001b[0m0.9726   \u001b[0m | \u001b[0m4.645    \u001b[0m | \u001b[0m169.4    \u001b[0m |\n",
            "| \u001b[0m17       \u001b[0m | \u001b[0m0.7123   \u001b[0m | \u001b[0m0.6667   \u001b[0m | \u001b[0m3.873    \u001b[0m | \u001b[0m110.6    \u001b[0m |\n",
            "| \u001b[0m18       \u001b[0m | \u001b[0m0.7107   \u001b[0m | \u001b[0m0.7325   \u001b[0m | \u001b[0m6.453    \u001b[0m | \u001b[0m133.1    \u001b[0m |\n",
            "| \u001b[0m19       \u001b[0m | \u001b[0m0.7256   \u001b[0m | \u001b[0m0.1189   \u001b[0m | \u001b[0m6.651    \u001b[0m | \u001b[0m129.3    \u001b[0m |\n",
            "| \u001b[0m20       \u001b[0m | \u001b[0m0.7146   \u001b[0m | \u001b[0m0.4188   \u001b[0m | \u001b[0m3.734    \u001b[0m | \u001b[0m154.5    \u001b[0m |\n",
            "| \u001b[0m21       \u001b[0m | \u001b[0m0.7412   \u001b[0m | \u001b[0m0.1864   \u001b[0m | \u001b[0m4.396    \u001b[0m | \u001b[0m109.9    \u001b[0m |\n",
            "| \u001b[0m22       \u001b[0m | \u001b[0m0.7172   \u001b[0m | \u001b[0m0.5979   \u001b[0m | \u001b[0m3.775    \u001b[0m | \u001b[0m140.7    \u001b[0m |\n",
            "| \u001b[0m23       \u001b[0m | \u001b[0m0.737    \u001b[0m | \u001b[0m0.2916   \u001b[0m | \u001b[0m3.407    \u001b[0m | \u001b[0m151.8    \u001b[0m |\n",
            "| \u001b[0m24       \u001b[0m | \u001b[0m0.7134   \u001b[0m | \u001b[0m0.5949   \u001b[0m | \u001b[0m3.555    \u001b[0m | \u001b[0m152.4    \u001b[0m |\n",
            "| \u001b[0m25       \u001b[0m | \u001b[0m0.7099   \u001b[0m | \u001b[0m0.9995   \u001b[0m | \u001b[0m3.994    \u001b[0m | \u001b[0m105.4    \u001b[0m |\n",
            "=============================================================\n"
          ]
        }
      ]
    },
    {
      "cell_type": "code",
      "source": [
        "BO_xgb1.max"
      ],
      "metadata": {
        "id": "HJ4fanEsa2sU",
        "colab": {
          "base_uri": "https://localhost:8080/"
        },
        "outputId": "c0e23a14-8ec1-49c9-a344-4b1ec41e1def"
      },
      "execution_count": null,
      "outputs": [
        {
          "output_type": "execute_result",
          "data": {
            "text/plain": [
              "{'target': 0.7437106918238994,\n",
              " 'params': {'learning_rate': 0.39708148712852204,\n",
              "  'max_depth': 3.1425928416163527,\n",
              "  'n_estimators': 152.13478138103207}}"
            ]
          },
          "metadata": {},
          "execution_count": 66
        }
      ]
    },
    {
      "cell_type": "code",
      "source": [
        "xgb_clf = XGBClassifier(n_estimators=131, learning_rate=0.12,\n",
        "                        max_depth=5,random_state = 2023)\n",
        "xgb_clf.fit(X_train, y_tr_xgb)\n",
        "accuracy_train = accuracy_score(y_tr_xgb, xgb_clf.predict(X_train))\n",
        "accuracy_test = accuracy_score(y_ts_xgb, xgb_clf.predict(X_test))\n",
        "print('xgboost 학습 정확도: {:.4f}'.format(accuracy_train))\n",
        "print(confusion_matrix(y_tr_xgb, xgb_clf.predict(X_train)),'\\n')\n",
        "print('xgboost 예측 정확도: {:.4f}'.format(accuracy_test))\n",
        "print(confusion_matrix(y_ts_xgb, xgb_clf.predict(X_test)))"
      ],
      "metadata": {
        "id": "0Te7QSSfa2sU",
        "colab": {
          "base_uri": "https://localhost:8080/"
        },
        "outputId": "3e662ed8-695e-4016-d397-789ac61caa5e"
      },
      "execution_count": null,
      "outputs": [
        {
          "output_type": "stream",
          "name": "stdout",
          "text": [
            "xgboost 학습 정확도: 0.6367\n",
            "[[  73  456  296    0]\n",
            " [  38 4327 4019    0]\n",
            " [  25 1455 6754    0]\n",
            " [   0    2   74    1]] \n",
            "\n",
            "xgboost 예측 정확도: 0.7388\n",
            "[[   0   26    0    0]\n",
            " [   4 1444  721    0]\n",
            " [  17  526 2315    0]\n",
            " [   0    0   35    0]]\n"
          ]
        }
      ]
    },
    {
      "cell_type": "markdown",
      "source": [
        "###5-2 - 날짜 제외 모든 변수 - 0.8456"
      ],
      "metadata": {
        "id": "CwlNG3rGa2sV"
      }
    },
    {
      "cell_type": "code",
      "source": [
        "# train/test dataset 생성\n",
        "\n",
        "train=tan2.drop(columns=['날짜','pH','용존산소(㎎/L)','총인(㎎/L)','총유기탄소','pH점수','용존산소점수','총인점수','총유기탄소점수'], axis=1)\n",
        "test=test2.drop(columns=['날짜','pH','용존산소(㎎/L)','총인(㎎/L)','총유기탄소','pH점수','용존산소점수','총인점수','총유기탄소점수'], axis=1)"
      ],
      "metadata": {
        "id": "zMLjW_iPa2sV"
      },
      "execution_count": null,
      "outputs": []
    },
    {
      "cell_type": "code",
      "source": [
        "X_train=train.drop('수질등급', axis=1)\n",
        "y_train=train[['수질등급']]\n",
        "\n",
        "X_test=test.drop('수질등급', axis=1)\n",
        "y_test=test[['수질등급']]"
      ],
      "metadata": {
        "id": "k9dc7na1a2sV"
      },
      "execution_count": null,
      "outputs": []
    },
    {
      "cell_type": "code",
      "source": [
        "y_tr_xgb=y_train.copy()\n",
        "y_ts_xgb=y_test.copy()"
      ],
      "metadata": {
        "id": "7x27IG-Pa2sW"
      },
      "execution_count": null,
      "outputs": []
    },
    {
      "cell_type": "code",
      "source": [
        "for i in range(y_tr_xgb.shape[0]):\n",
        "  a=y_tr_xgb.iloc[i]['수질등급']\n",
        "\n",
        "  if a==1:\n",
        "    y_tr_xgb.iloc[i]['수질등급']=0\n",
        "  elif a==2:\n",
        "    y_tr_xgb.iloc[i]['수질등급']=1\n",
        "  elif a==3:\n",
        "    y_tr_xgb.iloc[i]['수질등급']=2\n",
        "  else:\n",
        "    y_tr_xgb.iloc[i]['수질등급']=3"
      ],
      "metadata": {
        "id": "5KSwhiXvcjwe"
      },
      "execution_count": null,
      "outputs": []
    },
    {
      "cell_type": "code",
      "source": [
        "for i in range(y_ts_xgb.shape[0]):\n",
        "  a=y_ts_xgb.iloc[i]['수질등급']\n",
        "\n",
        "  if a==1:\n",
        "    y_ts_xgb.iloc[i]['수질등급']=0\n",
        "  elif a==2:\n",
        "    y_ts_xgb.iloc[i]['수질등급']=1\n",
        "  elif a==3:\n",
        "    y_ts_xgb.iloc[i]['수질등급']=2\n",
        "  else:\n",
        "    y_ts_xgb.iloc[i]['수질등급']=3"
      ],
      "metadata": {
        "id": "-A3z4i2ocjwf"
      },
      "execution_count": null,
      "outputs": []
    },
    {
      "cell_type": "code",
      "source": [
        "from xgboost import XGBClassifier\n",
        "from bayes_opt import BayesianOptimization\n",
        "from sklearn.metrics import accuracy_score\n",
        "from sklearn.metrics import confusion_matrix"
      ],
      "metadata": {
        "id": "hwMkBl12a2sX"
      },
      "execution_count": null,
      "outputs": []
    },
    {
      "cell_type": "code",
      "source": [
        "def xgb_bo2(max_depth, learning_rate, n_estimators):\n",
        "  xgb_params = {\n",
        "      'max_depth' : int(round(max_depth)),\n",
        "      'learning_rate' : learning_rate,\n",
        "      'n_estimators' : int(round(n_estimators))\n",
        "      }\n",
        "\n",
        "  xgb = XGBClassifier(**xgb_params)\n",
        "  xgb.fit(X_train,y_tr_xgb)\n",
        "\n",
        "  score = accuracy_score(y_ts_xgb, xgb.predict(X_test))\n",
        "\n",
        "  return score"
      ],
      "metadata": {
        "id": "FQQTuWkca2sX"
      },
      "execution_count": null,
      "outputs": []
    },
    {
      "cell_type": "code",
      "source": [
        "xgb_parameter_bounds = {\n",
        "                      'max_depth' : (3,7),\n",
        "                      'learning_rate' : (0.01,1),\n",
        "                      'n_estimators' : (90,200)\n",
        "                      }"
      ],
      "metadata": {
        "id": "Xdjlxmppa2sX"
      },
      "execution_count": null,
      "outputs": []
    },
    {
      "cell_type": "code",
      "source": [
        "BO_xgb2 = BayesianOptimization(f = xgb_bo2, pbounds = xgb_parameter_bounds,random_state = 2023)"
      ],
      "metadata": {
        "id": "Tu3wqRN-a2sX"
      },
      "execution_count": null,
      "outputs": []
    },
    {
      "cell_type": "code",
      "source": [
        "BO_xgb2.maximize(init_points = 20, n_iter = 5)"
      ],
      "metadata": {
        "id": "oBo20ppHa2sY",
        "colab": {
          "base_uri": "https://localhost:8080/"
        },
        "outputId": "a6ae5221-340a-408c-ce2d-68ca4001b11f"
      },
      "execution_count": null,
      "outputs": [
        {
          "output_type": "stream",
          "name": "stdout",
          "text": [
            "|   iter    |  target   | learni... | max_depth | n_esti... |\n",
            "-------------------------------------------------------------\n",
            "| \u001b[0m1        \u001b[0m | \u001b[0m0.7864   \u001b[0m | \u001b[0m0.3288   \u001b[0m | \u001b[0m6.562    \u001b[0m | \u001b[0m154.7    \u001b[0m |\n",
            "| \u001b[95m2        \u001b[0m | \u001b[95m0.7893   \u001b[0m | \u001b[95m0.1353   \u001b[0m | \u001b[95m3.565    \u001b[0m | \u001b[95m141.5    \u001b[0m |\n",
            "| \u001b[95m3        \u001b[0m | \u001b[95m0.7934   \u001b[0m | \u001b[95m0.03187  \u001b[0m | \u001b[95m5.909    \u001b[0m | \u001b[95m147.7    \u001b[0m |\n",
            "| \u001b[0m4        \u001b[0m | \u001b[0m0.7917   \u001b[0m | \u001b[0m0.5495   \u001b[0m | \u001b[0m4.825    \u001b[0m | \u001b[0m145.2    \u001b[0m |\n",
            "| \u001b[0m5        \u001b[0m | \u001b[0m0.7838   \u001b[0m | \u001b[0m0.4005   \u001b[0m | \u001b[0m3.605    \u001b[0m | \u001b[0m129.7    \u001b[0m |\n",
            "| \u001b[0m6        \u001b[0m | \u001b[0m0.7862   \u001b[0m | \u001b[0m0.1705   \u001b[0m | \u001b[0m4.352    \u001b[0m | \u001b[0m109.8    \u001b[0m |\n",
            "| \u001b[0m7        \u001b[0m | \u001b[0m0.7911   \u001b[0m | \u001b[0m0.3971   \u001b[0m | \u001b[0m3.143    \u001b[0m | \u001b[0m152.1    \u001b[0m |\n",
            "| \u001b[0m8        \u001b[0m | \u001b[0m0.7877   \u001b[0m | \u001b[0m0.2114   \u001b[0m | \u001b[0m4.282    \u001b[0m | \u001b[0m131.4    \u001b[0m |\n",
            "| \u001b[0m9        \u001b[0m | \u001b[0m0.7901   \u001b[0m | \u001b[0m0.1922   \u001b[0m | \u001b[0m3.416    \u001b[0m | \u001b[0m140.0    \u001b[0m |\n",
            "| \u001b[0m10       \u001b[0m | \u001b[0m0.7877   \u001b[0m | \u001b[0m0.2039   \u001b[0m | \u001b[0m4.514    \u001b[0m | \u001b[0m192.4    \u001b[0m |\n",
            "| \u001b[0m11       \u001b[0m | \u001b[0m0.7773   \u001b[0m | \u001b[0m0.7626   \u001b[0m | \u001b[0m6.083    \u001b[0m | \u001b[0m155.6    \u001b[0m |\n",
            "| \u001b[0m12       \u001b[0m | \u001b[0m0.7852   \u001b[0m | \u001b[0m0.7937   \u001b[0m | \u001b[0m6.241    \u001b[0m | \u001b[0m197.9    \u001b[0m |\n",
            "| \u001b[0m13       \u001b[0m | \u001b[0m0.7773   \u001b[0m | \u001b[0m0.8859   \u001b[0m | \u001b[0m3.439    \u001b[0m | \u001b[0m180.2    \u001b[0m |\n",
            "| \u001b[0m14       \u001b[0m | \u001b[0m0.7911   \u001b[0m | \u001b[0m0.3145   \u001b[0m | \u001b[0m4.046    \u001b[0m | \u001b[0m134.6    \u001b[0m |\n",
            "| \u001b[0m15       \u001b[0m | \u001b[0m0.782    \u001b[0m | \u001b[0m0.5579   \u001b[0m | \u001b[0m5.502    \u001b[0m | \u001b[0m98.66    \u001b[0m |\n",
            "| \u001b[0m16       \u001b[0m | \u001b[0m0.7814   \u001b[0m | \u001b[0m0.9726   \u001b[0m | \u001b[0m4.645    \u001b[0m | \u001b[0m169.4    \u001b[0m |\n",
            "| \u001b[0m17       \u001b[0m | \u001b[0m0.7736   \u001b[0m | \u001b[0m0.6667   \u001b[0m | \u001b[0m3.873    \u001b[0m | \u001b[0m110.6    \u001b[0m |\n",
            "| \u001b[0m18       \u001b[0m | \u001b[0m0.7834   \u001b[0m | \u001b[0m0.7325   \u001b[0m | \u001b[0m6.453    \u001b[0m | \u001b[0m133.1    \u001b[0m |\n",
            "| \u001b[0m19       \u001b[0m | \u001b[0m0.7901   \u001b[0m | \u001b[0m0.1189   \u001b[0m | \u001b[0m6.651    \u001b[0m | \u001b[0m129.3    \u001b[0m |\n",
            "| \u001b[0m20       \u001b[0m | \u001b[0m0.7801   \u001b[0m | \u001b[0m0.4188   \u001b[0m | \u001b[0m3.734    \u001b[0m | \u001b[0m154.5    \u001b[0m |\n",
            "| \u001b[95m21       \u001b[0m | \u001b[95m0.7958   \u001b[0m | \u001b[95m0.04326  \u001b[0m | \u001b[95m5.913    \u001b[0m | \u001b[95m147.8    \u001b[0m |\n",
            "| \u001b[0m22       \u001b[0m | \u001b[0m0.7871   \u001b[0m | \u001b[0m0.07599  \u001b[0m | \u001b[0m6.11     \u001b[0m | \u001b[0m148.0    \u001b[0m |\n",
            "| \u001b[0m23       \u001b[0m | \u001b[0m0.7842   \u001b[0m | \u001b[0m0.4357   \u001b[0m | \u001b[0m5.832    \u001b[0m | \u001b[0m147.7    \u001b[0m |\n",
            "| \u001b[0m24       \u001b[0m | \u001b[0m0.7848   \u001b[0m | \u001b[0m0.3957   \u001b[0m | \u001b[0m4.716    \u001b[0m | \u001b[0m149.9    \u001b[0m |\n",
            "| \u001b[0m25       \u001b[0m | \u001b[0m0.7824   \u001b[0m | \u001b[0m0.9995   \u001b[0m | \u001b[0m3.994    \u001b[0m | \u001b[0m105.4    \u001b[0m |\n",
            "=============================================================\n"
          ]
        }
      ]
    },
    {
      "cell_type": "code",
      "source": [
        "BO_xgb2.max"
      ],
      "metadata": {
        "id": "0ViShSfqa2sY",
        "colab": {
          "base_uri": "https://localhost:8080/"
        },
        "outputId": "bb91af49-2145-465e-9224-170c1e7dd07f"
      },
      "execution_count": null,
      "outputs": [
        {
          "output_type": "execute_result",
          "data": {
            "text/plain": [
              "{'target': 0.7957940251572327,\n",
              " 'params': {'learning_rate': 0.043263515100744686,\n",
              "  'max_depth': 5.912930668731218,\n",
              "  'n_estimators': 147.77878535401612}}"
            ]
          },
          "metadata": {},
          "execution_count": 78
        }
      ]
    },
    {
      "cell_type": "code",
      "source": [
        "xgb_clf = XGBClassifier(n_estimators=148, learning_rate=0.043,\n",
        "                        max_depth=6,random_state = 2023)\n",
        "xgb_clf.fit(X_train, y_tr_xgb)\n",
        "accuracy_train = accuracy_score(y_tr_xgb, xgb_clf.predict(X_train))\n",
        "accuracy_test = accuracy_score(y_ts_xgb, xgb_clf.predict(X_test))\n",
        "print('xgboost 학습 정확도: {:.4f}'.format(accuracy_train))\n",
        "print(confusion_matrix(y_tr_xgb, xgb_clf.predict(X_train)),'\\n')\n",
        "print('xgboost 예측 정확도: {:.4f}'.format(accuracy_test))\n",
        "print(confusion_matrix(y_ts_xgb, xgb_clf.predict(X_test)))"
      ],
      "metadata": {
        "id": "R39YebwNa2sY",
        "colab": {
          "base_uri": "https://localhost:8080/"
        },
        "outputId": "f9e3eb3d-8b62-40c3-8dd6-87e98d4b10bd"
      },
      "execution_count": null,
      "outputs": [
        {
          "output_type": "stream",
          "name": "stdout",
          "text": [
            "xgboost 학습 정확도: 0.9312\n",
            "[[ 659  166    0    0]\n",
            " [  64 7869  451    0]\n",
            " [   0  479 7754    1]\n",
            " [   0    0   44   33]] \n",
            "\n",
            "xgboost 예측 정확도: 0.7928\n",
            "[[   0   26    0    0]\n",
            " [   0 1365  804    0]\n",
            " [   0  189 2669    0]\n",
            " [   0    0   35    0]]\n"
          ]
        }
      ]
    },
    {
      "cell_type": "markdown",
      "source": [
        "###5-3 - 날짜, 연, 월, 일, 시 제외 - 0.8452"
      ],
      "metadata": {
        "id": "BRlbUuUha2sY"
      }
    },
    {
      "cell_type": "code",
      "source": [
        "tan2.info()"
      ],
      "metadata": {
        "id": "H5OIXNgZa2sY",
        "colab": {
          "base_uri": "https://localhost:8080/"
        },
        "outputId": "6ceb7a66-e19e-43c6-f962-aba04a4abcb8"
      },
      "execution_count": null,
      "outputs": [
        {
          "output_type": "stream",
          "name": "stdout",
          "text": [
            "<class 'pandas.core.frame.DataFrame'>\n",
            "RangeIndex: 17520 entries, 0 to 17519\n",
            "Data columns (total 18 columns):\n",
            " #   Column     Non-Null Count  Dtype  \n",
            "---  ------     --------------  -----  \n",
            " 0   날짜         17520 non-null  object \n",
            " 1   연          17520 non-null  int64  \n",
            " 2   월          17520 non-null  int64  \n",
            " 3   일          17520 non-null  int64  \n",
            " 4   시          17520 non-null  int64  \n",
            " 5   수온         17520 non-null  float64\n",
            " 6   pH         17520 non-null  float64\n",
            " 7   용존산소(㎎/L)  17520 non-null  float64\n",
            " 8   총질소(㎎/L)   17520 non-null  float64\n",
            " 9   총인(㎎/L)    17520 non-null  float64\n",
            " 10  총유기탄소      17520 non-null  float64\n",
            " 11  강우량        17520 non-null  float64\n",
            " 12  수질등급       17520 non-null  int64  \n",
            " 13  수질등급2      17520 non-null  int64  \n",
            " 14  pH점수       17520 non-null  int64  \n",
            " 15  용존산소점수     17520 non-null  int64  \n",
            " 16  총인점수       17520 non-null  int64  \n",
            " 17  총유기탄소점수    17520 non-null  int64  \n",
            "dtypes: float64(7), int64(10), object(1)\n",
            "memory usage: 2.4+ MB\n"
          ]
        }
      ]
    },
    {
      "cell_type": "code",
      "source": [
        "# train/test dataset 생성\n",
        "\n",
        "train=tan2.drop(columns=['날짜','연','월','일','시','pH점수','용존산소점수','총인점수','총유기탄소점수'], axis=1)\n",
        "test=test2.drop(columns=['날짜','연','월','일','시','pH점수','용존산소점수','총인점수','총유기탄소점수'], axis=1)"
      ],
      "metadata": {
        "id": "_URGb30ra2sZ"
      },
      "execution_count": null,
      "outputs": []
    },
    {
      "cell_type": "code",
      "source": [
        "X_train=train.drop('수질등급', axis=1)\n",
        "y_train=train[['수질등급']]\n",
        "\n",
        "X_test=test.drop('수질등급', axis=1)\n",
        "y_test=test[['수질등급']]"
      ],
      "metadata": {
        "id": "Wxtjb2NIa2sZ"
      },
      "execution_count": null,
      "outputs": []
    },
    {
      "cell_type": "code",
      "source": [
        "y_tr_xgb=y_train.copy()\n",
        "y_ts_xgb=y_test.copy()"
      ],
      "metadata": {
        "id": "o1jX9-3Ma2sZ"
      },
      "execution_count": null,
      "outputs": []
    },
    {
      "cell_type": "code",
      "source": [
        "for i in range(y_tr_xgb.shape[0]):\n",
        "  a=y_tr_xgb.iloc[i]['수질등급']\n",
        "\n",
        "  if a==1:\n",
        "    y_tr_xgb.iloc[i]['수질등급']=0\n",
        "  elif a==2:\n",
        "    y_tr_xgb.iloc[i]['수질등급']=1\n",
        "  elif a==3:\n",
        "    y_tr_xgb.iloc[i]['수질등급']=2\n",
        "  else:\n",
        "    y_tr_xgb.iloc[i]['수질등급']=3"
      ],
      "metadata": {
        "id": "HGUpo2aAdk9o"
      },
      "execution_count": null,
      "outputs": []
    },
    {
      "cell_type": "code",
      "source": [
        "for i in range(y_ts_xgb.shape[0]):\n",
        "  a=y_ts_xgb.iloc[i]['수질등급']\n",
        "\n",
        "  if a==1:\n",
        "    y_ts_xgb.iloc[i]['수질등급']=0\n",
        "  elif a==2:\n",
        "    y_ts_xgb.iloc[i]['수질등급']=1\n",
        "  elif a==3:\n",
        "    y_ts_xgb.iloc[i]['수질등급']=2\n",
        "  else:\n",
        "    y_ts_xgb.iloc[i]['수질등급']=3"
      ],
      "metadata": {
        "id": "V_wwTnvVdk9o"
      },
      "execution_count": null,
      "outputs": []
    },
    {
      "cell_type": "code",
      "source": [
        "from xgboost import XGBClassifier\n",
        "from bayes_opt import BayesianOptimization\n",
        "from sklearn.metrics import accuracy_score\n",
        "from sklearn.metrics import confusion_matrix"
      ],
      "metadata": {
        "id": "9cERjK3va2sa"
      },
      "execution_count": null,
      "outputs": []
    },
    {
      "cell_type": "code",
      "source": [
        "def xgb_bo3(max_depth, learning_rate, n_estimators):\n",
        "  xgb_params = {\n",
        "      'max_depth' : int(round(max_depth)),\n",
        "      'learning_rate' : learning_rate,\n",
        "      'n_estimators' : int(round(n_estimators))\n",
        "      }\n",
        "\n",
        "  xgb = XGBClassifier(**xgb_params)\n",
        "  xgb.fit(X_train,y_tr_xgb)\n",
        "\n",
        "  score = accuracy_score(y_ts_xgb, xgb.predict(X_test))\n",
        "\n",
        "  return score"
      ],
      "metadata": {
        "id": "rubEqYuDa2sb"
      },
      "execution_count": null,
      "outputs": []
    },
    {
      "cell_type": "code",
      "source": [
        "xgb_parameter_bounds = {\n",
        "                      'max_depth' : (3,7),\n",
        "                      'learning_rate' : (0.01,1),\n",
        "                      'n_estimators' : (90,200)\n",
        "                      }"
      ],
      "metadata": {
        "id": "li7vBPCKa2sb"
      },
      "execution_count": null,
      "outputs": []
    },
    {
      "cell_type": "code",
      "source": [
        "BO_xgb3 = BayesianOptimization(f = xgb_bo3, pbounds = xgb_parameter_bounds,random_state = 2023)"
      ],
      "metadata": {
        "id": "f_MMChhIa2sb"
      },
      "execution_count": null,
      "outputs": []
    },
    {
      "cell_type": "code",
      "source": [
        "BO_xgb3.maximize(init_points = 20, n_iter = 5)"
      ],
      "metadata": {
        "id": "-uxbma_Ia2sb",
        "colab": {
          "base_uri": "https://localhost:8080/"
        },
        "outputId": "8633f21f-9ee2-4f4e-c660-a6060abeab64"
      },
      "execution_count": null,
      "outputs": [
        {
          "output_type": "stream",
          "name": "stdout",
          "text": [
            "|   iter    |  target   | learni... | max_depth | n_esti... |\n",
            "-------------------------------------------------------------\n",
            "| \u001b[0m1        \u001b[0m | \u001b[0m0.7691   \u001b[0m | \u001b[0m0.3288   \u001b[0m | \u001b[0m6.562    \u001b[0m | \u001b[0m154.7    \u001b[0m |\n",
            "| \u001b[95m2        \u001b[0m | \u001b[95m0.7693   \u001b[0m | \u001b[95m0.1353   \u001b[0m | \u001b[95m3.565    \u001b[0m | \u001b[95m141.5    \u001b[0m |\n",
            "| \u001b[95m3        \u001b[0m | \u001b[95m0.7697   \u001b[0m | \u001b[95m0.03187  \u001b[0m | \u001b[95m5.909    \u001b[0m | \u001b[95m147.7    \u001b[0m |\n",
            "| \u001b[0m4        \u001b[0m | \u001b[0m0.7691   \u001b[0m | \u001b[0m0.5495   \u001b[0m | \u001b[0m4.825    \u001b[0m | \u001b[0m145.2    \u001b[0m |\n",
            "| \u001b[0m5        \u001b[0m | \u001b[0m0.7689   \u001b[0m | \u001b[0m0.4005   \u001b[0m | \u001b[0m3.605    \u001b[0m | \u001b[0m129.7    \u001b[0m |\n",
            "| \u001b[0m6        \u001b[0m | \u001b[0m0.7697   \u001b[0m | \u001b[0m0.1705   \u001b[0m | \u001b[0m4.352    \u001b[0m | \u001b[0m109.8    \u001b[0m |\n",
            "| \u001b[0m7        \u001b[0m | \u001b[0m0.7691   \u001b[0m | \u001b[0m0.3971   \u001b[0m | \u001b[0m3.143    \u001b[0m | \u001b[0m152.1    \u001b[0m |\n",
            "| \u001b[0m8        \u001b[0m | \u001b[0m0.7691   \u001b[0m | \u001b[0m0.2114   \u001b[0m | \u001b[0m4.282    \u001b[0m | \u001b[0m131.4    \u001b[0m |\n",
            "| \u001b[95m9        \u001b[0m | \u001b[95m0.7702   \u001b[0m | \u001b[95m0.1922   \u001b[0m | \u001b[95m3.416    \u001b[0m | \u001b[95m140.0    \u001b[0m |\n",
            "| \u001b[0m10       \u001b[0m | \u001b[0m0.7689   \u001b[0m | \u001b[0m0.2039   \u001b[0m | \u001b[0m4.514    \u001b[0m | \u001b[0m192.4    \u001b[0m |\n",
            "| \u001b[0m11       \u001b[0m | \u001b[0m0.7691   \u001b[0m | \u001b[0m0.7626   \u001b[0m | \u001b[0m6.083    \u001b[0m | \u001b[0m155.6    \u001b[0m |\n",
            "| \u001b[0m12       \u001b[0m | \u001b[0m0.7691   \u001b[0m | \u001b[0m0.7937   \u001b[0m | \u001b[0m6.241    \u001b[0m | \u001b[0m197.9    \u001b[0m |\n",
            "| \u001b[0m13       \u001b[0m | \u001b[0m0.7691   \u001b[0m | \u001b[0m0.8859   \u001b[0m | \u001b[0m3.439    \u001b[0m | \u001b[0m180.2    \u001b[0m |\n",
            "| \u001b[0m14       \u001b[0m | \u001b[0m0.7689   \u001b[0m | \u001b[0m0.3145   \u001b[0m | \u001b[0m4.046    \u001b[0m | \u001b[0m134.6    \u001b[0m |\n",
            "| \u001b[0m15       \u001b[0m | \u001b[0m0.7695   \u001b[0m | \u001b[0m0.5579   \u001b[0m | \u001b[0m5.502    \u001b[0m | \u001b[0m98.66    \u001b[0m |\n",
            "| \u001b[0m16       \u001b[0m | \u001b[0m0.7691   \u001b[0m | \u001b[0m0.9726   \u001b[0m | \u001b[0m4.645    \u001b[0m | \u001b[0m169.4    \u001b[0m |\n",
            "| \u001b[0m17       \u001b[0m | \u001b[0m0.7689   \u001b[0m | \u001b[0m0.6667   \u001b[0m | \u001b[0m3.873    \u001b[0m | \u001b[0m110.6    \u001b[0m |\n",
            "| \u001b[0m18       \u001b[0m | \u001b[0m0.7691   \u001b[0m | \u001b[0m0.7325   \u001b[0m | \u001b[0m6.453    \u001b[0m | \u001b[0m133.1    \u001b[0m |\n",
            "| \u001b[0m19       \u001b[0m | \u001b[0m0.7693   \u001b[0m | \u001b[0m0.1189   \u001b[0m | \u001b[0m6.651    \u001b[0m | \u001b[0m129.3    \u001b[0m |\n",
            "| \u001b[0m20       \u001b[0m | \u001b[0m0.7689   \u001b[0m | \u001b[0m0.4188   \u001b[0m | \u001b[0m3.734    \u001b[0m | \u001b[0m154.5    \u001b[0m |\n",
            "| \u001b[0m21       \u001b[0m | \u001b[0m0.7693   \u001b[0m | \u001b[0m0.1864   \u001b[0m | \u001b[0m4.396    \u001b[0m | \u001b[0m109.9    \u001b[0m |\n",
            "| \u001b[0m22       \u001b[0m | \u001b[0m0.7693   \u001b[0m | \u001b[0m0.5424   \u001b[0m | \u001b[0m5.356    \u001b[0m | \u001b[0m98.73    \u001b[0m |\n",
            "| \u001b[0m23       \u001b[0m | \u001b[0m0.7695   \u001b[0m | \u001b[0m0.1184   \u001b[0m | \u001b[0m3.573    \u001b[0m | \u001b[0m140.1    \u001b[0m |\n",
            "| \u001b[0m24       \u001b[0m | \u001b[0m0.7693   \u001b[0m | \u001b[0m0.2266   \u001b[0m | \u001b[0m4.384    \u001b[0m | \u001b[0m109.9    \u001b[0m |\n",
            "| \u001b[0m25       \u001b[0m | \u001b[0m0.7689   \u001b[0m | \u001b[0m0.9995   \u001b[0m | \u001b[0m3.994    \u001b[0m | \u001b[0m105.4    \u001b[0m |\n",
            "=============================================================\n"
          ]
        }
      ]
    },
    {
      "cell_type": "code",
      "source": [
        "BO_xgb3.max"
      ],
      "metadata": {
        "id": "i3d8fWLsa2sc",
        "colab": {
          "base_uri": "https://localhost:8080/"
        },
        "outputId": "406dbc27-d8b0-4687-8db1-6b4c7ede66f1"
      },
      "execution_count": null,
      "outputs": [
        {
          "output_type": "execute_result",
          "data": {
            "text/plain": [
              "{'target': 0.7702437106918238,\n",
              " 'params': {'learning_rate': 0.19221360040929075,\n",
              "  'max_depth': 3.415807345411713,\n",
              "  'n_estimators': 140.04199470019825}}"
            ]
          },
          "metadata": {},
          "execution_count": 91
        }
      ]
    },
    {
      "cell_type": "code",
      "source": [
        "xgb_clf = XGBClassifier(n_estimators=148, learning_rate=0.032,\n",
        "                        max_depth=6,random_state = 2023)\n",
        "xgb_clf.fit(X_train, y_tr_xgb)\n",
        "accuracy_train = accuracy_score(y_tr_xgb, xgb_clf.predict(X_train))\n",
        "accuracy_test = accuracy_score(y_ts_xgb, xgb_clf.predict(X_test))\n",
        "print('xgboost 학습 정확도: {:.4f}'.format(accuracy_train))\n",
        "print(confusion_matrix(y_tr_xgb, xgb_clf.predict(X_train)),'\\n')\n",
        "print('xgboost 예측 정확도: {:.4f}'.format(accuracy_test))\n",
        "print(confusion_matrix(y_ts_xgb, xgb_clf.predict(X_test)))"
      ],
      "metadata": {
        "id": "VNhqfIGWa2sc",
        "colab": {
          "base_uri": "https://localhost:8080/"
        },
        "outputId": "fd3ba0ed-7cd6-45cf-e841-8be34572f354"
      },
      "execution_count": null,
      "outputs": [
        {
          "output_type": "stream",
          "name": "stdout",
          "text": [
            "xgboost 학습 정확도: 1.0000\n",
            "[[ 825    0    0    0]\n",
            " [   0 8384    0    0]\n",
            " [   0    0 8234    0]\n",
            " [   0    0    0   77]] \n",
            "\n",
            "xgboost 예측 정확도: 0.7697\n",
            "[[  26    0    0    0]\n",
            " [  37 2106   26    0]\n",
            " [   0 1092 1766    0]\n",
            " [   0    0   17   18]]\n"
          ]
        }
      ]
    },
    {
      "cell_type": "markdown",
      "source": [
        "# **파생변수 만들기**"
      ],
      "metadata": {
        "id": "zGCES598Z2Ju"
      }
    },
    {
      "cell_type": "markdown",
      "source": [
        "### 1. 과거 강우량 변수"
      ],
      "metadata": {
        "id": "MJCu8s1J_oZd"
      }
    },
    {
      "cell_type": "code",
      "source": [
        "tan2.info()"
      ],
      "metadata": {
        "colab": {
          "base_uri": "https://localhost:8080/"
        },
        "id": "NNzQwhC9aCE5",
        "outputId": "b7af2492-296e-429f-9123-f0e96efb4b06"
      },
      "execution_count": 215,
      "outputs": [
        {
          "output_type": "stream",
          "name": "stdout",
          "text": [
            "<class 'pandas.core.frame.DataFrame'>\n",
            "RangeIndex: 17520 entries, 0 to 17519\n",
            "Data columns (total 18 columns):\n",
            " #   Column     Non-Null Count  Dtype         \n",
            "---  ------     --------------  -----         \n",
            " 0   날짜         17520 non-null  datetime64[ns]\n",
            " 1   연          17520 non-null  int64         \n",
            " 2   월          17520 non-null  int64         \n",
            " 3   일          17520 non-null  int64         \n",
            " 4   시          17520 non-null  int64         \n",
            " 5   수온         17520 non-null  float64       \n",
            " 6   pH         17520 non-null  float64       \n",
            " 7   용존산소(㎎/L)  17520 non-null  float64       \n",
            " 8   총질소(㎎/L)   17520 non-null  float64       \n",
            " 9   총인(㎎/L)    17520 non-null  float64       \n",
            " 10  총유기탄소      17520 non-null  float64       \n",
            " 11  강우량        17520 non-null  float64       \n",
            " 12  수질등급       17520 non-null  int64         \n",
            " 13  수질등급2      17520 non-null  int64         \n",
            " 14  pH점수       17520 non-null  int64         \n",
            " 15  용존산소점수     17520 non-null  int64         \n",
            " 16  총인점수       17520 non-null  int64         \n",
            " 17  총유기탄소점수    17520 non-null  int64         \n",
            "dtypes: datetime64[ns](1), float64(7), int64(10)\n",
            "memory usage: 2.4 MB\n"
          ]
        }
      ]
    },
    {
      "cell_type": "code",
      "source": [
        "tan2['날짜']=pd.to_datetime(tan2['날짜'], format='%Y/%m/%d %H:%M')"
      ],
      "metadata": {
        "id": "kIH2HTCWaVEO"
      },
      "execution_count": 216,
      "outputs": []
    },
    {
      "cell_type": "code",
      "source": [
        "from datetime import timedelta\n",
        "\n",
        "hour4 = tan2[['날짜','강우량']]\n",
        "hour4['날짜'] = hour4['날짜'] + timedelta(hours=4)\n",
        "hour4.columns=['날짜','4시간 전 강우량']\n",
        "\n",
        "hour8 = tan2[['날짜','강우량']]\n",
        "hour8['날짜'] = hour8['날짜'] + timedelta(hours=8)\n",
        "hour8.columns=['날짜','8시간 전 강우량']\n",
        "\n",
        "hour16 = tan2[['날짜','강우량']]\n",
        "hour16['날짜'] = hour16['날짜'] + timedelta(hours=16)\n",
        "hour16.columns=['날짜','16시간 전 강우량']\n",
        "\n",
        "day1 = tan2[['날짜','강우량']]\n",
        "day1['날짜'] = day1['날짜'] + timedelta(days=1)\n",
        "day1.columns=['날짜','1일 전 강우량']\n",
        "\n",
        "day3 = tan2[['날짜','강우량']]\n",
        "day3['날짜'] = day3['날짜'] + timedelta(days=3)\n",
        "day3.columns=['날짜','3일 전 강우량']\n",
        "\n",
        "day5 = tan2[['날짜','강우량']]\n",
        "day5['날짜'] = day5['날짜'] + timedelta(days=5)\n",
        "day5.columns=['날짜','5일 전 강우량']\n",
        "\n",
        "day7 = tan2[['날짜','강우량']]\n",
        "day7['날짜'] = day7['날짜'] + timedelta(days=7)\n",
        "day7.columns=['날짜','7일 전 강우량']\n",
        "\n",
        "week2 = tan2[['날짜','강우량']]\n",
        "week2['날짜'] = week2['날짜'] + timedelta(weeks=2)\n",
        "week2.columns=['날짜','2주 전 강우량']\n",
        "\n",
        "week3 = tan2[['날짜','강우량']]\n",
        "week3['날짜'] = week3['날짜'] + timedelta(weeks=3)\n",
        "week3.columns=['날짜','3주 전 강우량']\n",
        "\n",
        "week4 = tan2[['날짜','강우량']]\n",
        "week4['날짜'] = week4['날짜'] + timedelta(weeks=4)\n",
        "week4.columns=['날짜','4주 전 강우량']"
      ],
      "metadata": {
        "id": "iX6f9cm3aEkn"
      },
      "execution_count": 217,
      "outputs": []
    },
    {
      "cell_type": "code",
      "source": [
        "from functools import reduce\n",
        "\n",
        "# dfs = [tan2, hour8, hour16, day1, day3, day5, day7, week2, week3, week4]\n",
        "dfs = [tan2,hour4, hour8, hour16, day1, day3, day5, day7, week2]\n",
        "df_merge = reduce(lambda left, right: pd.merge(left, right, how='left',on='날짜'), dfs)"
      ],
      "metadata": {
        "id": "8oGTpqODaYbm"
      },
      "execution_count": 218,
      "outputs": []
    },
    {
      "cell_type": "code",
      "source": [
        "tan3 = df_merge.loc[336:,:]\n",
        "\n",
        "tan3 = tan3[['날짜','연','월','일','시','수온','강우량','4시간 전 강우량','8시간 전 강우량','16시간 전 강우량','1일 전 강우량','3일 전 강우량','5일 전 강우량','7일 전 강우량','2주 전 강우량','pH','용존산소(㎎/L)','총질소(㎎/L)','총인(㎎/L)','총유기탄소','pH점수','용존산소점수','총인점수','총유기탄소점수','수질등급']]\n",
        "\n",
        "tan3.drop('총질소(㎎/L)',axis=1,inplace=True)"
      ],
      "metadata": {
        "id": "PBtvTCM_acsz"
      },
      "execution_count": 219,
      "outputs": []
    },
    {
      "cell_type": "code",
      "source": [
        "# test 데이터도 똑같이 전처리\n",
        "\n",
        "# 과거 강우량 데이터 생성\n",
        "test2['날짜']=pd.to_datetime(test2['날짜'], format='%Y/%m/%d %H:%M')\n",
        "\n",
        "hour4 = test2[['날짜','강우량']]\n",
        "hour4['날짜'] = hour4['날짜'] + timedelta(hours=4)\n",
        "hour4.columns=['날짜','4시간 전 강우량']\n",
        "\n",
        "hour8 = test2[['날짜','강우량']]\n",
        "hour8['날짜'] = hour8['날짜'] + timedelta(hours=8)\n",
        "hour8.columns=['날짜','8시간 전 강우량']\n",
        "\n",
        "hour16 = test2[['날짜','강우량']]\n",
        "hour16['날짜'] = hour16['날짜'] + timedelta(hours=16)\n",
        "hour16.columns=['날짜','16시간 전 강우량']\n",
        "\n",
        "day1 = test2[['날짜','강우량']]\n",
        "day1['날짜'] = day1['날짜'] + timedelta(days=1)\n",
        "day1.columns=['날짜','1일 전 강우량']\n",
        "\n",
        "day3 = test2[['날짜','강우량']]\n",
        "day3['날짜'] = day3['날짜'] + timedelta(days=3)\n",
        "day3.columns=['날짜','3일 전 강우량']\n",
        "\n",
        "day5 = test2[['날짜','강우량']]\n",
        "day5['날짜'] = day5['날짜'] + timedelta(days=5)\n",
        "day5.columns=['날짜','5일 전 강우량']\n",
        "\n",
        "day7 = test2[['날짜','강우량']]\n",
        "day7['날짜'] = day7['날짜'] + timedelta(days=7)\n",
        "day7.columns=['날짜','7일 전 강우량']\n",
        "\n",
        "week2 = test2[['날짜','강우량']]\n",
        "week2['날짜'] = week2['날짜'] + timedelta(weeks=2)\n",
        "week2.columns=['날짜','2주 전 강우량']\n",
        "\n",
        "# 데이터프레임 병합\n",
        "dfs = [test2,hour4, hour8, hour16, day1, day3, day5, day7, week2]\n",
        "test_merge = reduce(lambda left, right: pd.merge(left, right, how='left',on='날짜'), dfs)\n",
        "\n",
        "# 결측일자 제거\n",
        "test3 = test_merge.loc[336:,:]\n",
        "\n",
        "# 칼럼 재정렬\n",
        "test3 = test3[['날짜','연','월','일','시','수온','강우량','4시간 전 강우량','8시간 전 강우량','16시간 전 강우량','1일 전 강우량','3일 전 강우량','5일 전 강우량','7일 전 강우량','2주 전 강우량','pH','용존산소(㎎/L)','총질소(㎎/L)','총인(㎎/L)','총유기탄소','pH점수','용존산소점수','총인점수','총유기탄소점수','수질등급']]\n",
        "# 불필요칼럼 제거\n",
        "test3.drop('총질소(㎎/L)',axis=1,inplace=True)\n",
        "\n",
        "# 확인\n",
        "test3.info()"
      ],
      "metadata": {
        "colab": {
          "base_uri": "https://localhost:8080/"
        },
        "id": "DCAQvV5garA2",
        "outputId": "3302b039-21bc-43b8-8982-bafe60be2020"
      },
      "execution_count": 220,
      "outputs": [
        {
          "output_type": "stream",
          "name": "stdout",
          "text": [
            "<class 'pandas.core.frame.DataFrame'>\n",
            "Int64Index: 4752 entries, 336 to 5087\n",
            "Data columns (total 24 columns):\n",
            " #   Column      Non-Null Count  Dtype         \n",
            "---  ------      --------------  -----         \n",
            " 0   날짜          4752 non-null   datetime64[ns]\n",
            " 1   연           4752 non-null   int64         \n",
            " 2   월           4752 non-null   int64         \n",
            " 3   일           4752 non-null   int64         \n",
            " 4   시           4752 non-null   int64         \n",
            " 5   수온          4752 non-null   float64       \n",
            " 6   강우량         4752 non-null   float64       \n",
            " 7   4시간 전 강우량   4752 non-null   float64       \n",
            " 8   8시간 전 강우량   4752 non-null   float64       \n",
            " 9   16시간 전 강우량  4752 non-null   float64       \n",
            " 10  1일 전 강우량    4752 non-null   float64       \n",
            " 11  3일 전 강우량    4752 non-null   float64       \n",
            " 12  5일 전 강우량    4752 non-null   float64       \n",
            " 13  7일 전 강우량    4752 non-null   float64       \n",
            " 14  2주 전 강우량    4752 non-null   float64       \n",
            " 15  pH          4752 non-null   float64       \n",
            " 16  용존산소(㎎/L)   4752 non-null   float64       \n",
            " 17  총인(㎎/L)     4752 non-null   float64       \n",
            " 18  총유기탄소       4752 non-null   float64       \n",
            " 19  pH점수        4752 non-null   int64         \n",
            " 20  용존산소점수      4752 non-null   int64         \n",
            " 21  총인점수        4752 non-null   int64         \n",
            " 22  총유기탄소점수     4752 non-null   int64         \n",
            " 23  수질등급        4752 non-null   int64         \n",
            "dtypes: datetime64[ns](1), float64(14), int64(9)\n",
            "memory usage: 928.1 KB\n"
          ]
        }
      ]
    },
    {
      "cell_type": "markdown",
      "source": [
        "### 2. 범주형 변수"
      ],
      "metadata": {
        "id": "ExtQpaHPAJ-S"
      }
    },
    {
      "cell_type": "code",
      "source": [
        "def season(x):\n",
        "  if ((x>=3) & (x<=5)):\n",
        "    return 'spring'\n",
        "  elif ((x>=6) & (x<=8)):\n",
        "    return 'summer'\n",
        "  elif ((x>=9) & (x<=11)):\n",
        "    return 'fall'\n",
        "  else:\n",
        "    return 'winter'\n",
        "\n",
        "tan3['계절'] = tan3['월'].apply(season)\n",
        "test3['계절'] = test3['월'].apply(season)"
      ],
      "metadata": {
        "id": "wafbxQMMAMPf"
      },
      "execution_count": 221,
      "outputs": []
    },
    {
      "cell_type": "code",
      "source": [
        "tan3['홍수기']=0\n",
        "test3['홍수기']=0\n",
        "\n",
        "for i in range(tan3.shape[0]):\n",
        "  M=tan3.iloc[i][\"월\"]\n",
        "  D=tan3.iloc[i][\"일\"]\n",
        "  if M==7 or M==8:\n",
        "    tan3.iloc[i][\"홍수기\"]=\"홍수기\"\n",
        "  elif M==6 and D>=21:\n",
        "    tan3.iloc[i][\"홍수기\"]=\"홍수기\"\n",
        "  elif M==9 and D<21:\n",
        "    tan3.iloc[i][\"홍수기\"]=\"홍수기\"\n",
        "  else:\n",
        "    tan3.iloc[i][\"홍수기\"]=\"갈수기\"\n",
        "\n",
        "for i in range(test3.shape[0]):\n",
        "  M=test3.iloc[i][\"월\"]\n",
        "  D=test3.iloc[i][\"일\"]\n",
        "  if M==7 or M==8:\n",
        "    test3.iloc[i][\"홍수기\"]=\"홍수기\"\n",
        "  elif M==6 and D>=21:\n",
        "    test3.iloc[i][\"홍수기\"]=\"홍수기\"\n",
        "  elif M==9 and D<21:\n",
        "    test3.iloc[i][\"홍수기\"]=\"홍수기\"\n",
        "  else:\n",
        "    test3.iloc[i][\"홍수기\"]=\"갈수기\""
      ],
      "metadata": {
        "id": "bHEYPwt1ANzb"
      },
      "execution_count": 222,
      "outputs": []
    },
    {
      "cell_type": "markdown",
      "source": [
        "# **다시 모델링 - 4개 등급으로**"
      ],
      "metadata": {
        "id": "OMaERuvWa93B"
      }
    },
    {
      "cell_type": "code",
      "source": [
        "tan3.info()"
      ],
      "metadata": {
        "colab": {
          "base_uri": "https://localhost:8080/"
        },
        "id": "dRyAtsJ5tjGt",
        "outputId": "9f105bce-2ab6-451b-8052-43afa3c50f92"
      },
      "execution_count": 223,
      "outputs": [
        {
          "output_type": "stream",
          "name": "stdout",
          "text": [
            "<class 'pandas.core.frame.DataFrame'>\n",
            "Int64Index: 17184 entries, 336 to 17519\n",
            "Data columns (total 26 columns):\n",
            " #   Column      Non-Null Count  Dtype         \n",
            "---  ------      --------------  -----         \n",
            " 0   날짜          17184 non-null  datetime64[ns]\n",
            " 1   연           17184 non-null  int64         \n",
            " 2   월           17184 non-null  int64         \n",
            " 3   일           17184 non-null  int64         \n",
            " 4   시           17184 non-null  int64         \n",
            " 5   수온          17184 non-null  float64       \n",
            " 6   강우량         17184 non-null  float64       \n",
            " 7   4시간 전 강우량   17184 non-null  float64       \n",
            " 8   8시간 전 강우량   17184 non-null  float64       \n",
            " 9   16시간 전 강우량  17184 non-null  float64       \n",
            " 10  1일 전 강우량    17184 non-null  float64       \n",
            " 11  3일 전 강우량    17184 non-null  float64       \n",
            " 12  5일 전 강우량    17184 non-null  float64       \n",
            " 13  7일 전 강우량    17184 non-null  float64       \n",
            " 14  2주 전 강우량    17184 non-null  float64       \n",
            " 15  pH          17184 non-null  float64       \n",
            " 16  용존산소(㎎/L)   17184 non-null  float64       \n",
            " 17  총인(㎎/L)     17184 non-null  float64       \n",
            " 18  총유기탄소       17184 non-null  float64       \n",
            " 19  pH점수        17184 non-null  int64         \n",
            " 20  용존산소점수      17184 non-null  int64         \n",
            " 21  총인점수        17184 non-null  int64         \n",
            " 22  총유기탄소점수     17184 non-null  int64         \n",
            " 23  수질등급        17184 non-null  int64         \n",
            " 24  계절          17184 non-null  object        \n",
            " 25  홍수기         17184 non-null  int64         \n",
            "dtypes: datetime64[ns](1), float64(14), int64(10), object(1)\n",
            "memory usage: 3.5+ MB\n"
          ]
        }
      ]
    },
    {
      "cell_type": "code",
      "source": [
        "#함수적용 _ train\n",
        "get_pH(tan3)\n",
        "get_do(tan3)\n",
        "get_tp(tan3)\n",
        "get_toc(tan3)\n",
        "get_grade25(tan3)\n",
        "\n",
        "#함수적용 _ test\n",
        "get_pH(test3)\n",
        "get_do(test3)\n",
        "get_tp(test3)\n",
        "get_toc(test3)\n",
        "get_grade25(test3)"
      ],
      "metadata": {
        "id": "33VejUYvdDwL"
      },
      "execution_count": 224,
      "outputs": []
    },
    {
      "cell_type": "code",
      "source": [
        "# train/test dataset 생성\n",
        "\n",
        "# train=tan3.drop(columns=['날짜','계절','연','4시간 전 강우량','8시간 전 강우량','16시간 전 강우량','1일 전 강우량','3일 전 강우량','5일 전 강우량','7일 전 강우량','2주 전 강우량','pH','용존산소(㎎/L)','총인(㎎/L)','총유기탄소','pH점수','용존산소점수','총인점수','총유기탄소점수'], axis=1)\n",
        "# test=test3.drop(columns=['날짜','계절','연','4시간 전 강우량','8시간 전 강우량','16시간 전 강우량','1일 전 강우량','3일 전 강우량','5일 전 강우량','7일 전 강우량','2주 전 강우량','pH','용존산소(㎎/L)','총인(㎎/L)','총유기탄소','pH점수','용존산소점수','총인점수','총유기탄소점수'], axis=1)\n",
        "train=tan3.drop(columns=['날짜','계절','홍수기','연','2주 전 강우량','pH','용존산소(㎎/L)','총인(㎎/L)','총유기탄소','pH점수','용존산소점수','총인점수','총유기탄소점수'], axis=1)\n",
        "test=test3.drop(columns=['날짜','계절','홍수기','연','2주 전 강우량','pH','용존산소(㎎/L)','총인(㎎/L)','총유기탄소','pH점수','용존산소점수','총인점수','총유기탄소점수'], axis=1)"
      ],
      "metadata": {
        "id": "Cako2lAfa1tW"
      },
      "execution_count": 225,
      "outputs": []
    },
    {
      "cell_type": "code",
      "source": [
        "X_train=train.drop('수질등급', axis=1)\n",
        "y_train=train[['수질등급']]\n",
        "\n",
        "X_test=test.drop('수질등급', axis=1)\n",
        "y_test=test[['수질등급']]"
      ],
      "metadata": {
        "id": "qTue_YTebMay"
      },
      "execution_count": 226,
      "outputs": []
    },
    {
      "cell_type": "code",
      "source": [
        "y_tr_xgb=y_train.copy()\n",
        "y_ts_xgb=y_test.copy()"
      ],
      "metadata": {
        "id": "0vk4DBrzbQTD"
      },
      "execution_count": 227,
      "outputs": []
    },
    {
      "cell_type": "code",
      "source": [
        "for i in range(y_tr_xgb.shape[0]):\n",
        "  a=y_tr_xgb.iloc[i]['수질등급']\n",
        "\n",
        "  if a==1:\n",
        "    y_tr_xgb.iloc[i]['수질등급']=0\n",
        "  elif a==2:\n",
        "    y_tr_xgb.iloc[i]['수질등급']=1\n",
        "  elif a==3:\n",
        "    y_tr_xgb.iloc[i]['수질등급']=2\n",
        "  else:\n",
        "    y_tr_xgb.iloc[i]['수질등급']=3"
      ],
      "metadata": {
        "id": "bPP_U7SubSGv"
      },
      "execution_count": 228,
      "outputs": []
    },
    {
      "cell_type": "code",
      "source": [
        "for i in range(y_ts_xgb.shape[0]):\n",
        "  a=y_ts_xgb.iloc[i]['수질등급']\n",
        "\n",
        "  if a==1:\n",
        "    y_ts_xgb.iloc[i]['수질등급']=0\n",
        "  elif a==2:\n",
        "    y_ts_xgb.iloc[i]['수질등급']=1\n",
        "  elif a==3:\n",
        "    y_ts_xgb.iloc[i]['수질등급']=2\n",
        "  else:\n",
        "    y_ts_xgb.iloc[i]['수질등급']=3"
      ],
      "metadata": {
        "id": "x-mGSBAzbVuH"
      },
      "execution_count": 229,
      "outputs": []
    },
    {
      "cell_type": "code",
      "source": [
        "from xgboost import XGBClassifier\n",
        "from bayes_opt import BayesianOptimization\n",
        "from sklearn.metrics import accuracy_score\n",
        "from sklearn.metrics import confusion_matrix"
      ],
      "metadata": {
        "id": "7vSsbp35bXzy"
      },
      "execution_count": 230,
      "outputs": []
    },
    {
      "cell_type": "code",
      "source": [
        "def xgb_bo2(max_depth, learning_rate, n_estimators):\n",
        "  xgb_params = {\n",
        "      'max_depth' : int(round(max_depth)),\n",
        "      'learning_rate' : learning_rate,\n",
        "      'n_estimators' : int(round(n_estimators))\n",
        "      }\n",
        "\n",
        "  xgb = XGBClassifier(**xgb_params)\n",
        "  xgb.fit(X_train,y_tr_xgb)\n",
        "\n",
        "  score = accuracy_score(y_ts_xgb, xgb.predict(X_test))\n",
        "\n",
        "  return score"
      ],
      "metadata": {
        "id": "h1M-yhDubZpo"
      },
      "execution_count": 231,
      "outputs": []
    },
    {
      "cell_type": "code",
      "source": [
        "xgb_parameter_bounds = {\n",
        "                      'max_depth' : (3,7),\n",
        "                      'learning_rate' : (0.01,1),\n",
        "                      'n_estimators' : (90,200)\n",
        "                      }"
      ],
      "metadata": {
        "id": "OnyCxYy2bbhD"
      },
      "execution_count": 232,
      "outputs": []
    },
    {
      "cell_type": "code",
      "source": [
        "BO_xgb2 = BayesianOptimization(f = xgb_bo2, pbounds = xgb_parameter_bounds,random_state = 2023)"
      ],
      "metadata": {
        "id": "VE2T8u2ebdkf"
      },
      "execution_count": 233,
      "outputs": []
    },
    {
      "cell_type": "code",
      "source": [
        "BO_xgb2.maximize(init_points = 20, n_iter = 5)"
      ],
      "metadata": {
        "id": "tV8EXj7Dkmce",
        "colab": {
          "base_uri": "https://localhost:8080/"
        },
        "outputId": "674bba4d-cfa7-43f5-9b40-7029f6594029"
      },
      "execution_count": 234,
      "outputs": [
        {
          "output_type": "stream",
          "name": "stdout",
          "text": [
            "|   iter    |  target   | learni... | max_depth | n_esti... |\n",
            "-------------------------------------------------------------\n",
            "| \u001b[0m1        \u001b[0m | \u001b[0m0.6898   \u001b[0m | \u001b[0m0.3288   \u001b[0m | \u001b[0m6.562    \u001b[0m | \u001b[0m154.7    \u001b[0m |\n",
            "| \u001b[95m2        \u001b[0m | \u001b[95m0.7256   \u001b[0m | \u001b[95m0.1353   \u001b[0m | \u001b[95m3.565    \u001b[0m | \u001b[95m141.5    \u001b[0m |\n",
            "| \u001b[0m3        \u001b[0m | \u001b[0m0.7229   \u001b[0m | \u001b[0m0.03187  \u001b[0m | \u001b[0m5.909    \u001b[0m | \u001b[0m147.7    \u001b[0m |\n",
            "| \u001b[0m4        \u001b[0m | \u001b[0m0.6913   \u001b[0m | \u001b[0m0.5495   \u001b[0m | \u001b[0m4.825    \u001b[0m | \u001b[0m145.2    \u001b[0m |\n",
            "| \u001b[0m5        \u001b[0m | \u001b[0m0.6959   \u001b[0m | \u001b[0m0.4005   \u001b[0m | \u001b[0m3.605    \u001b[0m | \u001b[0m129.7    \u001b[0m |\n",
            "| \u001b[0m6        \u001b[0m | \u001b[0m0.7252   \u001b[0m | \u001b[0m0.1705   \u001b[0m | \u001b[0m4.352    \u001b[0m | \u001b[0m109.8    \u001b[0m |\n",
            "| \u001b[0m7        \u001b[0m | \u001b[0m0.7052   \u001b[0m | \u001b[0m0.3971   \u001b[0m | \u001b[0m3.143    \u001b[0m | \u001b[0m152.1    \u001b[0m |\n",
            "| \u001b[0m8        \u001b[0m | \u001b[0m0.7155   \u001b[0m | \u001b[0m0.2114   \u001b[0m | \u001b[0m4.282    \u001b[0m | \u001b[0m131.4    \u001b[0m |\n",
            "| \u001b[0m9        \u001b[0m | \u001b[0m0.7256   \u001b[0m | \u001b[0m0.1922   \u001b[0m | \u001b[0m3.416    \u001b[0m | \u001b[0m140.0    \u001b[0m |\n",
            "| \u001b[0m10       \u001b[0m | \u001b[0m0.6949   \u001b[0m | \u001b[0m0.2039   \u001b[0m | \u001b[0m4.514    \u001b[0m | \u001b[0m192.4    \u001b[0m |\n",
            "| \u001b[0m11       \u001b[0m | \u001b[0m0.6738   \u001b[0m | \u001b[0m0.7626   \u001b[0m | \u001b[0m6.083    \u001b[0m | \u001b[0m155.6    \u001b[0m |\n",
            "| \u001b[0m12       \u001b[0m | \u001b[0m0.6782   \u001b[0m | \u001b[0m0.7937   \u001b[0m | \u001b[0m6.241    \u001b[0m | \u001b[0m197.9    \u001b[0m |\n",
            "| \u001b[0m13       \u001b[0m | \u001b[0m0.6858   \u001b[0m | \u001b[0m0.8859   \u001b[0m | \u001b[0m3.439    \u001b[0m | \u001b[0m180.2    \u001b[0m |\n",
            "| \u001b[0m14       \u001b[0m | \u001b[0m0.7018   \u001b[0m | \u001b[0m0.3145   \u001b[0m | \u001b[0m4.046    \u001b[0m | \u001b[0m134.6    \u001b[0m |\n",
            "| \u001b[0m15       \u001b[0m | \u001b[0m0.6833   \u001b[0m | \u001b[0m0.5579   \u001b[0m | \u001b[0m5.502    \u001b[0m | \u001b[0m98.66    \u001b[0m |\n",
            "| \u001b[0m16       \u001b[0m | \u001b[0m0.6835   \u001b[0m | \u001b[0m0.9726   \u001b[0m | \u001b[0m4.645    \u001b[0m | \u001b[0m169.4    \u001b[0m |\n",
            "| \u001b[0m17       \u001b[0m | \u001b[0m0.6963   \u001b[0m | \u001b[0m0.6667   \u001b[0m | \u001b[0m3.873    \u001b[0m | \u001b[0m110.6    \u001b[0m |\n",
            "| \u001b[0m18       \u001b[0m | \u001b[0m0.681    \u001b[0m | \u001b[0m0.7325   \u001b[0m | \u001b[0m6.453    \u001b[0m | \u001b[0m133.1    \u001b[0m |\n",
            "| \u001b[0m19       \u001b[0m | \u001b[0m0.6982   \u001b[0m | \u001b[0m0.1189   \u001b[0m | \u001b[0m6.651    \u001b[0m | \u001b[0m129.3    \u001b[0m |\n",
            "| \u001b[0m20       \u001b[0m | \u001b[0m0.6936   \u001b[0m | \u001b[0m0.4188   \u001b[0m | \u001b[0m3.734    \u001b[0m | \u001b[0m154.5    \u001b[0m |\n",
            "| \u001b[0m21       \u001b[0m | \u001b[0m0.7111   \u001b[0m | \u001b[0m0.2623   \u001b[0m | \u001b[0m4.076    \u001b[0m | \u001b[0m140.7    \u001b[0m |\n",
            "| \u001b[0m22       \u001b[0m | \u001b[0m0.721    \u001b[0m | \u001b[0m0.065    \u001b[0m | \u001b[0m3.0      \u001b[0m | \u001b[0m140.8    \u001b[0m |\n",
            "| \u001b[95m23       \u001b[0m | \u001b[95m0.7355   \u001b[0m | \u001b[95m0.01     \u001b[0m | \u001b[95m4.808    \u001b[0m | \u001b[95m109.1    \u001b[0m |\n",
            "| \u001b[0m24       \u001b[0m | \u001b[0m0.7344   \u001b[0m | \u001b[0m0.01     \u001b[0m | \u001b[0m3.969    \u001b[0m | \u001b[0m108.6    \u001b[0m |\n",
            "| \u001b[0m25       \u001b[0m | \u001b[0m0.682    \u001b[0m | \u001b[0m1.0      \u001b[0m | \u001b[0m4.647    \u001b[0m | \u001b[0m108.4    \u001b[0m |\n",
            "=============================================================\n"
          ]
        }
      ]
    },
    {
      "cell_type": "code",
      "source": [
        "BO_xgb2.max"
      ],
      "metadata": {
        "id": "UVPObuU1bhUr",
        "colab": {
          "base_uri": "https://localhost:8080/"
        },
        "outputId": "d66170db-c520-4db2-f2e5-401abfc850ff"
      },
      "execution_count": 235,
      "outputs": [
        {
          "output_type": "execute_result",
          "data": {
            "text/plain": [
              "{'target': 0.735479797979798,\n",
              " 'params': {'learning_rate': 0.01,\n",
              "  'max_depth': 4.808306812339451,\n",
              "  'n_estimators': 109.1180224549561}}"
            ]
          },
          "metadata": {},
          "execution_count": 235
        }
      ]
    },
    {
      "cell_type": "code",
      "source": [
        "xgb_clf = XGBClassifier(n_estimators=142, learning_rate=0.2207,\n",
        "                        max_depth=3,random_state = 2023)\n",
        "xgb_clf.fit(X_train, y_tr_xgb)\n",
        "accuracy_train = accuracy_score(y_tr_xgb, xgb_clf.predict(X_train))\n",
        "accuracy_test = accuracy_score(y_ts_xgb, xgb_clf.predict(X_test))\n",
        "print('xgboost 학습 정확도: {:.4f}'.format(accuracy_train))\n",
        "print(confusion_matrix(y_tr_xgb, xgb_clf.predict(X_train)),'\\n')\n",
        "print('xgboost 예측 정확도: {:.4f}'.format(accuracy_test))\n",
        "print(confusion_matrix(y_ts_xgb, xgb_clf.predict(X_test)))"
      ],
      "metadata": {
        "id": "fcGiq38objMK",
        "colab": {
          "base_uri": "https://localhost:8080/"
        },
        "outputId": "664f3f71-bb01-4ce4-aeb9-4c43ef778ce3"
      },
      "execution_count": 236,
      "outputs": [
        {
          "output_type": "stream",
          "name": "stdout",
          "text": [
            "xgboost 학습 정확도: 0.8536\n",
            "[[ 426  404    0    0]\n",
            " [  92 6896 1083    0]\n",
            " [   1  892 7309    3]\n",
            " [   0    2   39   37]] \n",
            "\n",
            "xgboost 예측 정확도: 0.7258\n",
            "[[   0   15    0    0]\n",
            " [   0  999 1007    0]\n",
            " [   0  244 2448    5]\n",
            " [   0    0   32    2]]\n"
          ]
        }
      ]
    },
    {
      "cell_type": "markdown",
      "source": [
        "0. 몇시간전 강우량 없는거 -> 0.7295\n",
        "1. 날짜만 제외 -> 0.7298\n",
        "2. 날짜,연 제외 -> 0.7336\n",
        "3. 날짜,연,2주전 제외 -> 0.7355\n",
        "\n",
        "- 17520개 있는거는 날짜만 없는게 0.7928정도였는데 이거 행이 몇개 없어진것 때문에 그런듯,\n",
        "    - 데이터 긁어올때 과거 데이터 2주치 더 긁어와서 대입 후에 하면 성능 더 오를지도"
      ],
      "metadata": {
        "id": "JpDga-h2lUro"
      }
    },
    {
      "cell_type": "code",
      "source": [
        "tan2.head()"
      ],
      "metadata": {
        "id": "NqxB7cm3a4sM",
        "colab": {
          "base_uri": "https://localhost:8080/",
          "height": 328
        },
        "outputId": "3432abad-8fc1-47ed-ca3a-3255a5d7c1fd"
      },
      "execution_count": 238,
      "outputs": [
        {
          "output_type": "execute_result",
          "data": {
            "text/plain": [
              "                   날짜     연  월  일  시   수온   pH  용존산소(㎎/L)  총질소(㎎/L)  총인(㎎/L)  \\\n",
              "0 2021-01-01 00:00:00  2021  1  1  0  7.0  7.2       10.0     10.34    0.080   \n",
              "1 2021-01-01 01:00:00  2021  1  1  1  7.0  7.2       10.0     10.34    0.080   \n",
              "2 2021-01-01 02:00:00  2021  1  1  2  6.9  7.2       10.0     10.32    0.085   \n",
              "3 2021-01-01 03:00:00  2021  1  1  3  6.9  7.2        9.9     10.16    0.100   \n",
              "4 2021-01-01 04:00:00  2021  1  1  4  6.8  7.2        9.9     10.32    0.095   \n",
              "\n",
              "   총유기탄소  강우량  수질등급  수질등급2  pH점수  용존산소점수  총인점수  총유기탄소점수  \n",
              "0    8.1  0.0     2      6     3       4     3        1  \n",
              "1    8.1  0.0     2      6     3       4     3        1  \n",
              "2    7.1  0.0     2      5     3       4     3        1  \n",
              "3    7.4  0.0     2      5     3       4     3        1  \n",
              "4    8.0  0.0     2      5     3       4     3        1  "
            ],
            "text/html": [
              "\n",
              "  <div id=\"df-a9aa5e7d-9d07-4e41-a0fa-46acfd6295d2\" class=\"colab-df-container\">\n",
              "    <div>\n",
              "<style scoped>\n",
              "    .dataframe tbody tr th:only-of-type {\n",
              "        vertical-align: middle;\n",
              "    }\n",
              "\n",
              "    .dataframe tbody tr th {\n",
              "        vertical-align: top;\n",
              "    }\n",
              "\n",
              "    .dataframe thead th {\n",
              "        text-align: right;\n",
              "    }\n",
              "</style>\n",
              "<table border=\"1\" class=\"dataframe\">\n",
              "  <thead>\n",
              "    <tr style=\"text-align: right;\">\n",
              "      <th></th>\n",
              "      <th>날짜</th>\n",
              "      <th>연</th>\n",
              "      <th>월</th>\n",
              "      <th>일</th>\n",
              "      <th>시</th>\n",
              "      <th>수온</th>\n",
              "      <th>pH</th>\n",
              "      <th>용존산소(㎎/L)</th>\n",
              "      <th>총질소(㎎/L)</th>\n",
              "      <th>총인(㎎/L)</th>\n",
              "      <th>총유기탄소</th>\n",
              "      <th>강우량</th>\n",
              "      <th>수질등급</th>\n",
              "      <th>수질등급2</th>\n",
              "      <th>pH점수</th>\n",
              "      <th>용존산소점수</th>\n",
              "      <th>총인점수</th>\n",
              "      <th>총유기탄소점수</th>\n",
              "    </tr>\n",
              "  </thead>\n",
              "  <tbody>\n",
              "    <tr>\n",
              "      <th>0</th>\n",
              "      <td>2021-01-01 00:00:00</td>\n",
              "      <td>2021</td>\n",
              "      <td>1</td>\n",
              "      <td>1</td>\n",
              "      <td>0</td>\n",
              "      <td>7.0</td>\n",
              "      <td>7.2</td>\n",
              "      <td>10.0</td>\n",
              "      <td>10.34</td>\n",
              "      <td>0.080</td>\n",
              "      <td>8.1</td>\n",
              "      <td>0.0</td>\n",
              "      <td>2</td>\n",
              "      <td>6</td>\n",
              "      <td>3</td>\n",
              "      <td>4</td>\n",
              "      <td>3</td>\n",
              "      <td>1</td>\n",
              "    </tr>\n",
              "    <tr>\n",
              "      <th>1</th>\n",
              "      <td>2021-01-01 01:00:00</td>\n",
              "      <td>2021</td>\n",
              "      <td>1</td>\n",
              "      <td>1</td>\n",
              "      <td>1</td>\n",
              "      <td>7.0</td>\n",
              "      <td>7.2</td>\n",
              "      <td>10.0</td>\n",
              "      <td>10.34</td>\n",
              "      <td>0.080</td>\n",
              "      <td>8.1</td>\n",
              "      <td>0.0</td>\n",
              "      <td>2</td>\n",
              "      <td>6</td>\n",
              "      <td>3</td>\n",
              "      <td>4</td>\n",
              "      <td>3</td>\n",
              "      <td>1</td>\n",
              "    </tr>\n",
              "    <tr>\n",
              "      <th>2</th>\n",
              "      <td>2021-01-01 02:00:00</td>\n",
              "      <td>2021</td>\n",
              "      <td>1</td>\n",
              "      <td>1</td>\n",
              "      <td>2</td>\n",
              "      <td>6.9</td>\n",
              "      <td>7.2</td>\n",
              "      <td>10.0</td>\n",
              "      <td>10.32</td>\n",
              "      <td>0.085</td>\n",
              "      <td>7.1</td>\n",
              "      <td>0.0</td>\n",
              "      <td>2</td>\n",
              "      <td>5</td>\n",
              "      <td>3</td>\n",
              "      <td>4</td>\n",
              "      <td>3</td>\n",
              "      <td>1</td>\n",
              "    </tr>\n",
              "    <tr>\n",
              "      <th>3</th>\n",
              "      <td>2021-01-01 03:00:00</td>\n",
              "      <td>2021</td>\n",
              "      <td>1</td>\n",
              "      <td>1</td>\n",
              "      <td>3</td>\n",
              "      <td>6.9</td>\n",
              "      <td>7.2</td>\n",
              "      <td>9.9</td>\n",
              "      <td>10.16</td>\n",
              "      <td>0.100</td>\n",
              "      <td>7.4</td>\n",
              "      <td>0.0</td>\n",
              "      <td>2</td>\n",
              "      <td>5</td>\n",
              "      <td>3</td>\n",
              "      <td>4</td>\n",
              "      <td>3</td>\n",
              "      <td>1</td>\n",
              "    </tr>\n",
              "    <tr>\n",
              "      <th>4</th>\n",
              "      <td>2021-01-01 04:00:00</td>\n",
              "      <td>2021</td>\n",
              "      <td>1</td>\n",
              "      <td>1</td>\n",
              "      <td>4</td>\n",
              "      <td>6.8</td>\n",
              "      <td>7.2</td>\n",
              "      <td>9.9</td>\n",
              "      <td>10.32</td>\n",
              "      <td>0.095</td>\n",
              "      <td>8.0</td>\n",
              "      <td>0.0</td>\n",
              "      <td>2</td>\n",
              "      <td>5</td>\n",
              "      <td>3</td>\n",
              "      <td>4</td>\n",
              "      <td>3</td>\n",
              "      <td>1</td>\n",
              "    </tr>\n",
              "  </tbody>\n",
              "</table>\n",
              "</div>\n",
              "    <div class=\"colab-df-buttons\">\n",
              "\n",
              "  <div class=\"colab-df-container\">\n",
              "    <button class=\"colab-df-convert\" onclick=\"convertToInteractive('df-a9aa5e7d-9d07-4e41-a0fa-46acfd6295d2')\"\n",
              "            title=\"Convert this dataframe to an interactive table.\"\n",
              "            style=\"display:none;\">\n",
              "\n",
              "  <svg xmlns=\"http://www.w3.org/2000/svg\" height=\"24px\" viewBox=\"0 -960 960 960\">\n",
              "    <path d=\"M120-120v-720h720v720H120Zm60-500h600v-160H180v160Zm220 220h160v-160H400v160Zm0 220h160v-160H400v160ZM180-400h160v-160H180v160Zm440 0h160v-160H620v160ZM180-180h160v-160H180v160Zm440 0h160v-160H620v160Z\"/>\n",
              "  </svg>\n",
              "    </button>\n",
              "\n",
              "  <style>\n",
              "    .colab-df-container {\n",
              "      display:flex;\n",
              "      gap: 12px;\n",
              "    }\n",
              "\n",
              "    .colab-df-convert {\n",
              "      background-color: #E8F0FE;\n",
              "      border: none;\n",
              "      border-radius: 50%;\n",
              "      cursor: pointer;\n",
              "      display: none;\n",
              "      fill: #1967D2;\n",
              "      height: 32px;\n",
              "      padding: 0 0 0 0;\n",
              "      width: 32px;\n",
              "    }\n",
              "\n",
              "    .colab-df-convert:hover {\n",
              "      background-color: #E2EBFA;\n",
              "      box-shadow: 0px 1px 2px rgba(60, 64, 67, 0.3), 0px 1px 3px 1px rgba(60, 64, 67, 0.15);\n",
              "      fill: #174EA6;\n",
              "    }\n",
              "\n",
              "    .colab-df-buttons div {\n",
              "      margin-bottom: 4px;\n",
              "    }\n",
              "\n",
              "    [theme=dark] .colab-df-convert {\n",
              "      background-color: #3B4455;\n",
              "      fill: #D2E3FC;\n",
              "    }\n",
              "\n",
              "    [theme=dark] .colab-df-convert:hover {\n",
              "      background-color: #434B5C;\n",
              "      box-shadow: 0px 1px 3px 1px rgba(0, 0, 0, 0.15);\n",
              "      filter: drop-shadow(0px 1px 2px rgba(0, 0, 0, 0.3));\n",
              "      fill: #FFFFFF;\n",
              "    }\n",
              "  </style>\n",
              "\n",
              "    <script>\n",
              "      const buttonEl =\n",
              "        document.querySelector('#df-a9aa5e7d-9d07-4e41-a0fa-46acfd6295d2 button.colab-df-convert');\n",
              "      buttonEl.style.display =\n",
              "        google.colab.kernel.accessAllowed ? 'block' : 'none';\n",
              "\n",
              "      async function convertToInteractive(key) {\n",
              "        const element = document.querySelector('#df-a9aa5e7d-9d07-4e41-a0fa-46acfd6295d2');\n",
              "        const dataTable =\n",
              "          await google.colab.kernel.invokeFunction('convertToInteractive',\n",
              "                                                    [key], {});\n",
              "        if (!dataTable) return;\n",
              "\n",
              "        const docLinkHtml = 'Like what you see? Visit the ' +\n",
              "          '<a target=\"_blank\" href=https://colab.research.google.com/notebooks/data_table.ipynb>data table notebook</a>'\n",
              "          + ' to learn more about interactive tables.';\n",
              "        element.innerHTML = '';\n",
              "        dataTable['output_type'] = 'display_data';\n",
              "        await google.colab.output.renderOutput(dataTable, element);\n",
              "        const docLink = document.createElement('div');\n",
              "        docLink.innerHTML = docLinkHtml;\n",
              "        element.appendChild(docLink);\n",
              "      }\n",
              "    </script>\n",
              "  </div>\n",
              "\n",
              "\n",
              "<div id=\"df-5bd19c11-04ba-4adb-90b5-50390723f1f7\">\n",
              "  <button class=\"colab-df-quickchart\" onclick=\"quickchart('df-5bd19c11-04ba-4adb-90b5-50390723f1f7')\"\n",
              "            title=\"Suggest charts.\"\n",
              "            style=\"display:none;\">\n",
              "\n",
              "<svg xmlns=\"http://www.w3.org/2000/svg\" height=\"24px\"viewBox=\"0 0 24 24\"\n",
              "     width=\"24px\">\n",
              "    <g>\n",
              "        <path d=\"M19 3H5c-1.1 0-2 .9-2 2v14c0 1.1.9 2 2 2h14c1.1 0 2-.9 2-2V5c0-1.1-.9-2-2-2zM9 17H7v-7h2v7zm4 0h-2V7h2v10zm4 0h-2v-4h2v4z\"/>\n",
              "    </g>\n",
              "</svg>\n",
              "  </button>\n",
              "\n",
              "<style>\n",
              "  .colab-df-quickchart {\n",
              "    background-color: #E8F0FE;\n",
              "    border: none;\n",
              "    border-radius: 50%;\n",
              "    cursor: pointer;\n",
              "    display: none;\n",
              "    fill: #1967D2;\n",
              "    height: 32px;\n",
              "    padding: 0 0 0 0;\n",
              "    width: 32px;\n",
              "  }\n",
              "\n",
              "  .colab-df-quickchart:hover {\n",
              "    background-color: #E2EBFA;\n",
              "    box-shadow: 0px 1px 2px rgba(60, 64, 67, 0.3), 0px 1px 3px 1px rgba(60, 64, 67, 0.15);\n",
              "    fill: #174EA6;\n",
              "  }\n",
              "\n",
              "  [theme=dark] .colab-df-quickchart {\n",
              "    background-color: #3B4455;\n",
              "    fill: #D2E3FC;\n",
              "  }\n",
              "\n",
              "  [theme=dark] .colab-df-quickchart:hover {\n",
              "    background-color: #434B5C;\n",
              "    box-shadow: 0px 1px 3px 1px rgba(0, 0, 0, 0.15);\n",
              "    filter: drop-shadow(0px 1px 2px rgba(0, 0, 0, 0.3));\n",
              "    fill: #FFFFFF;\n",
              "  }\n",
              "</style>\n",
              "\n",
              "  <script>\n",
              "    async function quickchart(key) {\n",
              "      const charts = await google.colab.kernel.invokeFunction(\n",
              "          'suggestCharts', [key], {});\n",
              "    }\n",
              "    (() => {\n",
              "      let quickchartButtonEl =\n",
              "        document.querySelector('#df-5bd19c11-04ba-4adb-90b5-50390723f1f7 button');\n",
              "      quickchartButtonEl.style.display =\n",
              "        google.colab.kernel.accessAllowed ? 'block' : 'none';\n",
              "    })();\n",
              "  </script>\n",
              "</div>\n",
              "    </div>\n",
              "  </div>\n"
            ]
          },
          "metadata": {},
          "execution_count": 238
        }
      ]
    },
    {
      "cell_type": "markdown",
      "source": [
        "# **2020년 12월 데이터 보충**"
      ],
      "metadata": {
        "id": "2fVW9cGrcRtE"
      }
    },
    {
      "cell_type": "markdown",
      "source": [
        "### 일단 12월 데이터 다시 전처리"
      ],
      "metadata": {
        "id": "UavsahWOc-Ol"
      }
    },
    {
      "cell_type": "code",
      "source": [
        "water20 = pd.read_csv('2020수질.csv', encoding='cp949')\n",
        "rain20 = pd.read_csv('2020강우량.csv', encoding='cp949')"
      ],
      "metadata": {
        "id": "q6Mq97NJcXTg"
      },
      "execution_count": 239,
      "outputs": []
    },
    {
      "cell_type": "code",
      "source": [
        "rain20 = rain20[rain20['구청명']=='송파구']"
      ],
      "metadata": {
        "id": "viJAaTOjc2Q8"
      },
      "execution_count": 240,
      "outputs": []
    },
    {
      "cell_type": "code",
      "source": [
        "# 수질 칼럼명 적용\n",
        "water20.columns = water20.iloc[0]\n",
        "water20.drop(0,axis=0,inplace=True)\n",
        "\n",
        "# 페놀, 시안 칼럼 제거(모든 값 0)\n",
        "water20.drop(['페놀','시안'], axis=1, inplace=True)\n",
        "\n",
        "water20.head()"
      ],
      "metadata": {
        "colab": {
          "base_uri": "https://localhost:8080/",
          "height": 206
        },
        "id": "z0YOZrHQc9GO",
        "outputId": "d81e7324-9b13-427f-f155-fc6cf358414b"
      },
      "execution_count": 241,
      "outputs": [
        {
          "output_type": "execute_result",
          "data": {
            "text/plain": [
              "0        날짜        시간   측정소명   수온   pH 용존산소(㎎/L) 총질소(㎎/L) 총인(㎎/L) 총유기탄소\n",
              "1  20210101  24:00:00  탄천_자동  8.4  7.2       9.7    10.48   0.085     8\n",
              "2  20210101     23:00  탄천_자동    9  7.1       9.6    10.76   0.085   7.4\n",
              "3  20210101     22:00  탄천_자동  9.3  7.1       9.4    10.44    0.08   8.4\n",
              "4  20210101     21:00  탄천_자동  9.4  7.2       9.4    10.18    0.08   7.6\n",
              "5  20210101     20:00  탄천_자동  9.5  7.2       9.6     9.96    0.08   7.1"
            ],
            "text/html": [
              "\n",
              "  <div id=\"df-eb317184-7e55-4762-8cfc-b2fe77c80f62\" class=\"colab-df-container\">\n",
              "    <div>\n",
              "<style scoped>\n",
              "    .dataframe tbody tr th:only-of-type {\n",
              "        vertical-align: middle;\n",
              "    }\n",
              "\n",
              "    .dataframe tbody tr th {\n",
              "        vertical-align: top;\n",
              "    }\n",
              "\n",
              "    .dataframe thead th {\n",
              "        text-align: right;\n",
              "    }\n",
              "</style>\n",
              "<table border=\"1\" class=\"dataframe\">\n",
              "  <thead>\n",
              "    <tr style=\"text-align: right;\">\n",
              "      <th></th>\n",
              "      <th>날짜</th>\n",
              "      <th>시간</th>\n",
              "      <th>측정소명</th>\n",
              "      <th>수온</th>\n",
              "      <th>pH</th>\n",
              "      <th>용존산소(㎎/L)</th>\n",
              "      <th>총질소(㎎/L)</th>\n",
              "      <th>총인(㎎/L)</th>\n",
              "      <th>총유기탄소</th>\n",
              "    </tr>\n",
              "  </thead>\n",
              "  <tbody>\n",
              "    <tr>\n",
              "      <th>1</th>\n",
              "      <td>20210101</td>\n",
              "      <td>24:00:00</td>\n",
              "      <td>탄천_자동</td>\n",
              "      <td>8.4</td>\n",
              "      <td>7.2</td>\n",
              "      <td>9.7</td>\n",
              "      <td>10.48</td>\n",
              "      <td>0.085</td>\n",
              "      <td>8</td>\n",
              "    </tr>\n",
              "    <tr>\n",
              "      <th>2</th>\n",
              "      <td>20210101</td>\n",
              "      <td>23:00</td>\n",
              "      <td>탄천_자동</td>\n",
              "      <td>9</td>\n",
              "      <td>7.1</td>\n",
              "      <td>9.6</td>\n",
              "      <td>10.76</td>\n",
              "      <td>0.085</td>\n",
              "      <td>7.4</td>\n",
              "    </tr>\n",
              "    <tr>\n",
              "      <th>3</th>\n",
              "      <td>20210101</td>\n",
              "      <td>22:00</td>\n",
              "      <td>탄천_자동</td>\n",
              "      <td>9.3</td>\n",
              "      <td>7.1</td>\n",
              "      <td>9.4</td>\n",
              "      <td>10.44</td>\n",
              "      <td>0.08</td>\n",
              "      <td>8.4</td>\n",
              "    </tr>\n",
              "    <tr>\n",
              "      <th>4</th>\n",
              "      <td>20210101</td>\n",
              "      <td>21:00</td>\n",
              "      <td>탄천_자동</td>\n",
              "      <td>9.4</td>\n",
              "      <td>7.2</td>\n",
              "      <td>9.4</td>\n",
              "      <td>10.18</td>\n",
              "      <td>0.08</td>\n",
              "      <td>7.6</td>\n",
              "    </tr>\n",
              "    <tr>\n",
              "      <th>5</th>\n",
              "      <td>20210101</td>\n",
              "      <td>20:00</td>\n",
              "      <td>탄천_자동</td>\n",
              "      <td>9.5</td>\n",
              "      <td>7.2</td>\n",
              "      <td>9.6</td>\n",
              "      <td>9.96</td>\n",
              "      <td>0.08</td>\n",
              "      <td>7.1</td>\n",
              "    </tr>\n",
              "  </tbody>\n",
              "</table>\n",
              "</div>\n",
              "    <div class=\"colab-df-buttons\">\n",
              "\n",
              "  <div class=\"colab-df-container\">\n",
              "    <button class=\"colab-df-convert\" onclick=\"convertToInteractive('df-eb317184-7e55-4762-8cfc-b2fe77c80f62')\"\n",
              "            title=\"Convert this dataframe to an interactive table.\"\n",
              "            style=\"display:none;\">\n",
              "\n",
              "  <svg xmlns=\"http://www.w3.org/2000/svg\" height=\"24px\" viewBox=\"0 -960 960 960\">\n",
              "    <path d=\"M120-120v-720h720v720H120Zm60-500h600v-160H180v160Zm220 220h160v-160H400v160Zm0 220h160v-160H400v160ZM180-400h160v-160H180v160Zm440 0h160v-160H620v160ZM180-180h160v-160H180v160Zm440 0h160v-160H620v160Z\"/>\n",
              "  </svg>\n",
              "    </button>\n",
              "\n",
              "  <style>\n",
              "    .colab-df-container {\n",
              "      display:flex;\n",
              "      gap: 12px;\n",
              "    }\n",
              "\n",
              "    .colab-df-convert {\n",
              "      background-color: #E8F0FE;\n",
              "      border: none;\n",
              "      border-radius: 50%;\n",
              "      cursor: pointer;\n",
              "      display: none;\n",
              "      fill: #1967D2;\n",
              "      height: 32px;\n",
              "      padding: 0 0 0 0;\n",
              "      width: 32px;\n",
              "    }\n",
              "\n",
              "    .colab-df-convert:hover {\n",
              "      background-color: #E2EBFA;\n",
              "      box-shadow: 0px 1px 2px rgba(60, 64, 67, 0.3), 0px 1px 3px 1px rgba(60, 64, 67, 0.15);\n",
              "      fill: #174EA6;\n",
              "    }\n",
              "\n",
              "    .colab-df-buttons div {\n",
              "      margin-bottom: 4px;\n",
              "    }\n",
              "\n",
              "    [theme=dark] .colab-df-convert {\n",
              "      background-color: #3B4455;\n",
              "      fill: #D2E3FC;\n",
              "    }\n",
              "\n",
              "    [theme=dark] .colab-df-convert:hover {\n",
              "      background-color: #434B5C;\n",
              "      box-shadow: 0px 1px 3px 1px rgba(0, 0, 0, 0.15);\n",
              "      filter: drop-shadow(0px 1px 2px rgba(0, 0, 0, 0.3));\n",
              "      fill: #FFFFFF;\n",
              "    }\n",
              "  </style>\n",
              "\n",
              "    <script>\n",
              "      const buttonEl =\n",
              "        document.querySelector('#df-eb317184-7e55-4762-8cfc-b2fe77c80f62 button.colab-df-convert');\n",
              "      buttonEl.style.display =\n",
              "        google.colab.kernel.accessAllowed ? 'block' : 'none';\n",
              "\n",
              "      async function convertToInteractive(key) {\n",
              "        const element = document.querySelector('#df-eb317184-7e55-4762-8cfc-b2fe77c80f62');\n",
              "        const dataTable =\n",
              "          await google.colab.kernel.invokeFunction('convertToInteractive',\n",
              "                                                    [key], {});\n",
              "        if (!dataTable) return;\n",
              "\n",
              "        const docLinkHtml = 'Like what you see? Visit the ' +\n",
              "          '<a target=\"_blank\" href=https://colab.research.google.com/notebooks/data_table.ipynb>data table notebook</a>'\n",
              "          + ' to learn more about interactive tables.';\n",
              "        element.innerHTML = '';\n",
              "        dataTable['output_type'] = 'display_data';\n",
              "        await google.colab.output.renderOutput(dataTable, element);\n",
              "        const docLink = document.createElement('div');\n",
              "        docLink.innerHTML = docLinkHtml;\n",
              "        element.appendChild(docLink);\n",
              "      }\n",
              "    </script>\n",
              "  </div>\n",
              "\n",
              "\n",
              "<div id=\"df-c527bee2-1ea2-4ad8-93cd-f23a1ef1c453\">\n",
              "  <button class=\"colab-df-quickchart\" onclick=\"quickchart('df-c527bee2-1ea2-4ad8-93cd-f23a1ef1c453')\"\n",
              "            title=\"Suggest charts.\"\n",
              "            style=\"display:none;\">\n",
              "\n",
              "<svg xmlns=\"http://www.w3.org/2000/svg\" height=\"24px\"viewBox=\"0 0 24 24\"\n",
              "     width=\"24px\">\n",
              "    <g>\n",
              "        <path d=\"M19 3H5c-1.1 0-2 .9-2 2v14c0 1.1.9 2 2 2h14c1.1 0 2-.9 2-2V5c0-1.1-.9-2-2-2zM9 17H7v-7h2v7zm4 0h-2V7h2v10zm4 0h-2v-4h2v4z\"/>\n",
              "    </g>\n",
              "</svg>\n",
              "  </button>\n",
              "\n",
              "<style>\n",
              "  .colab-df-quickchart {\n",
              "    background-color: #E8F0FE;\n",
              "    border: none;\n",
              "    border-radius: 50%;\n",
              "    cursor: pointer;\n",
              "    display: none;\n",
              "    fill: #1967D2;\n",
              "    height: 32px;\n",
              "    padding: 0 0 0 0;\n",
              "    width: 32px;\n",
              "  }\n",
              "\n",
              "  .colab-df-quickchart:hover {\n",
              "    background-color: #E2EBFA;\n",
              "    box-shadow: 0px 1px 2px rgba(60, 64, 67, 0.3), 0px 1px 3px 1px rgba(60, 64, 67, 0.15);\n",
              "    fill: #174EA6;\n",
              "  }\n",
              "\n",
              "  [theme=dark] .colab-df-quickchart {\n",
              "    background-color: #3B4455;\n",
              "    fill: #D2E3FC;\n",
              "  }\n",
              "\n",
              "  [theme=dark] .colab-df-quickchart:hover {\n",
              "    background-color: #434B5C;\n",
              "    box-shadow: 0px 1px 3px 1px rgba(0, 0, 0, 0.15);\n",
              "    filter: drop-shadow(0px 1px 2px rgba(0, 0, 0, 0.3));\n",
              "    fill: #FFFFFF;\n",
              "  }\n",
              "</style>\n",
              "\n",
              "  <script>\n",
              "    async function quickchart(key) {\n",
              "      const charts = await google.colab.kernel.invokeFunction(\n",
              "          'suggestCharts', [key], {});\n",
              "    }\n",
              "    (() => {\n",
              "      let quickchartButtonEl =\n",
              "        document.querySelector('#df-c527bee2-1ea2-4ad8-93cd-f23a1ef1c453 button');\n",
              "      quickchartButtonEl.style.display =\n",
              "        google.colab.kernel.accessAllowed ? 'block' : 'none';\n",
              "    })();\n",
              "  </script>\n",
              "</div>\n",
              "    </div>\n",
              "  </div>\n"
            ]
          },
          "metadata": {},
          "execution_count": 241
        }
      ]
    },
    {
      "cell_type": "code",
      "source": [
        "# 수질 데이터 datetime 형변환\n",
        "water20.loc[water20[\"시간\"]==\"24:00:00\",\"시간\"]=\"00:00\"\n",
        "\n",
        "water20['Date'] = water20[\"날짜\"].map(str) + \" \" + water20[\"시간\"] # 년/월/일/시/분 통합\n",
        "\n",
        "water20['Date']=pd.to_datetime(water20['Date'], format='%Y%m%d %H:%M')\n",
        "water20['날짜']=pd.to_datetime(water20['날짜'], format='%Y%m%d')\n",
        "\n",
        "water20.loc[water20[\"시간\"]==\"00:00\",\"날짜\"]=water20.loc[water20[\"시간\"]==\"00:00\",\"날짜\"]+pd.Timedelta(days=1)\n",
        "water20.loc[water20[\"시간\"]==\"00:00\",\"Date\"]=water20.loc[water20[\"시간\"]==\"00:00\",\"Date\"]+pd.Timedelta(days=1)\n",
        "\n",
        "# 연,월,일,시,분 칼럼 생성\n",
        "water20['year'] = water20['Date'].dt.year\n",
        "water20['month'] = water20['Date'].dt.month\n",
        "water20['day'] = water20['Date'].dt.day\n",
        "water20['hour'] = water20['Date'].dt.hour\n",
        "water20['minute'] = water20['Date'].dt.minute"
      ],
      "metadata": {
        "id": "-7eZCw0ddDyO"
      },
      "execution_count": 242,
      "outputs": []
    },
    {
      "cell_type": "code",
      "source": [
        "# 강우량 데이터 datetime 형변환\n",
        "rain20['자료수집 시각']=pd.to_datetime(rain20['자료수집 시각'])\n",
        "\n",
        "# 연,월,일,시,분 칼럼 생성\n",
        "rain20['year'] = rain20['자료수집 시각'].dt.year # 년도\n",
        "rain20['month'] = rain20['자료수집 시각'].dt.month # 월\n",
        "rain20['day'] = rain20['자료수집 시각'].dt.day     # 일\n",
        "rain20['hour'] = rain20['자료수집 시각'].dt.hour   # 시\n",
        "rain20['minute'] = rain20['자료수집 시각'].dt.minute   # 분"
      ],
      "metadata": {
        "id": "UBPYcmemdIQQ"
      },
      "execution_count": 243,
      "outputs": []
    },
    {
      "cell_type": "code",
      "source": [
        "# 이전 값으로 결측치 대체\n",
        "\n",
        "from scipy import interpolate\n",
        "water20 = water20.interpolate(method='pad')"
      ],
      "metadata": {
        "id": "Dq5Oain7dKiT"
      },
      "execution_count": 244,
      "outputs": []
    },
    {
      "cell_type": "code",
      "source": [
        "rain20.isna().sum()"
      ],
      "metadata": {
        "colab": {
          "base_uri": "https://localhost:8080/"
        },
        "id": "ySIhgDOTdRaA",
        "outputId": "0f94ccbc-ebc0-4e2d-ca28-8708f12bde1f"
      },
      "execution_count": 245,
      "outputs": [
        {
          "output_type": "execute_result",
          "data": {
            "text/plain": [
              "강우량계 코드    0\n",
              "강우량계명      0\n",
              "구청 코드      0\n",
              "구청명        0\n",
              "10분우량      0\n",
              "자료수집 시각    0\n",
              "year       0\n",
              "month      0\n",
              "day        0\n",
              "hour       0\n",
              "minute     0\n",
              "dtype: int64"
            ]
          },
          "metadata": {},
          "execution_count": 245
        }
      ]
    },
    {
      "cell_type": "code",
      "source": [
        "water20.isna().sum()"
      ],
      "metadata": {
        "colab": {
          "base_uri": "https://localhost:8080/"
        },
        "id": "yG9wv3BcdTY8",
        "outputId": "c2a0485a-134a-411a-dd54-df3bc2779ca6"
      },
      "execution_count": 246,
      "outputs": [
        {
          "output_type": "execute_result",
          "data": {
            "text/plain": [
              "0\n",
              "날짜           0\n",
              "시간           0\n",
              "측정소명         0\n",
              "수온           0\n",
              "pH           0\n",
              "용존산소(㎎/L)    0\n",
              "총질소(㎎/L)     0\n",
              "총인(㎎/L)      0\n",
              "총유기탄소        0\n",
              "Date         0\n",
              "year         0\n",
              "month        0\n",
              "day          0\n",
              "hour         0\n",
              "minute       0\n",
              "dtype: int64"
            ]
          },
          "metadata": {},
          "execution_count": 246
        }
      ]
    },
    {
      "cell_type": "code",
      "source": [
        "# 2020-12-18 00:00 ~ 2020-12-31 23:00 데이터 프레임 생성\n",
        "\n",
        "calendar = pd.date_range(start='2020-12-18',end='2021-1-1',freq='H')\n",
        "cal20 = pd.DataFrame({'날짜':calendar})\n",
        "cal20.drop(336,axis=0,inplace=True) #잘못생성된 2023년 데이터 제거\n",
        "\n",
        "# 연, 월, 일, 시 칼럼 생성\n",
        "cal20['연'] = cal20['날짜'].dt.year\n",
        "cal20['월'] = cal20['날짜'].dt.month\n",
        "cal20['일'] = cal20['날짜'].dt.day\n",
        "cal20['시'] = cal20['날짜'].dt.hour"
      ],
      "metadata": {
        "id": "Xu2i21K6dU1l"
      },
      "execution_count": 247,
      "outputs": []
    },
    {
      "cell_type": "code",
      "source": [
        "cal20.shape # 총 336개 행인지 확인"
      ],
      "metadata": {
        "colab": {
          "base_uri": "https://localhost:8080/"
        },
        "id": "V-LmgSAAdikp",
        "outputId": "0b1b1ca2-f1a1-4838-e63d-bdd5e70a04d6"
      },
      "execution_count": 248,
      "outputs": [
        {
          "output_type": "execute_result",
          "data": {
            "text/plain": [
              "(336, 5)"
            ]
          },
          "metadata": {},
          "execution_count": 248
        }
      ]
    },
    {
      "cell_type": "code",
      "source": [
        "# 불필요한 칼럼 제거\n",
        "water20.drop(['날짜','시간','측정소명'],axis=1,inplace=True)\n",
        "\n",
        "# 날짜 기준으로 데이터 병합\n",
        "df = pd.merge(cal20,water20,how='left',left_on='날짜',right_on='Date')\n",
        "\n",
        "# 중복되는 칼럼 제거\n",
        "df.drop(['Date','year','month','day','hour','minute'],axis=1,inplace=True)"
      ],
      "metadata": {
        "id": "5ewI622Zdsns"
      },
      "execution_count": 249,
      "outputs": []
    },
    {
      "cell_type": "code",
      "source": [
        "# 강우량계에 따라 데이터프레임 분리\n",
        "rain_1_20 = rain20[rain20['강우량계명']=='마천2동']\n",
        "rain_2_20 = rain20[rain20['강우량계명']=='송파구청']"
      ],
      "metadata": {
        "id": "r8bolaB8d0Hk"
      },
      "execution_count": 250,
      "outputs": []
    },
    {
      "cell_type": "code",
      "source": [
        "# 10분마다 측정된 강우량을 시간당 누적 강우량 값으로 변경\n",
        "\n",
        "# 마천2동\n",
        "rain_1_20 = rain_1_20.groupby(['year','month','day','hour']).agg({'10분우량':'sum'}).reset_index()\n",
        "rain_1_20.rename(columns={'10분우량':'강우량1'},inplace=True)\n",
        "\n",
        "# 송파구\n",
        "rain_2_20 = rain_2_20.groupby(['year','month','day','hour']).agg({'10분우량':'sum'}).reset_index()\n",
        "rain_2_20.rename(columns={'10분우량':'강우량2'},inplace=True)"
      ],
      "metadata": {
        "id": "LYNp9nqzd3SF"
      },
      "execution_count": 251,
      "outputs": []
    },
    {
      "cell_type": "code",
      "source": [
        "# 날짜 기준으로 데이터 병합을 위해 datetime형 칼럼 생성\n",
        "\n",
        "# 문자열로 변환\n",
        "rain_1_20['year'] = rain_1_20['year'].apply(str)\n",
        "rain_1_20['month'] = rain_1_20['month'].apply(str)\n",
        "rain_1_20['day'] = rain_1_20['day'].apply(str)\n",
        "rain_1_20['hour'] = rain_1_20['hour'].apply(str)\n",
        "# 월, 일 2자리수로 변환\n",
        "rain_1_20['month'] = rain_1_20.apply(lambda x: x['month'].zfill(2),axis=1)\n",
        "rain_1_20['day'] = rain_1_20.apply(lambda x: x['day'].zfill(2),axis=1)\n",
        "# 날짜 형태로 문자열 재배치 후 형변환\n",
        "rain_1_20['date'] = rain_1_20['year']+rain_1_20['month']+rain_1_20['day']+' '+rain_1_20['hour']+':00'\n",
        "rain_1_20['date'] = pd.to_datetime(rain_1_20['date'], format='%Y%m%d %H:%M')\n",
        "\n",
        "# 위와 동일한 과정 적용\n",
        "rain_2_20['year'] = rain_2_20['year'].apply(str)\n",
        "rain_2_20['month'] = rain_2_20['month'].apply(str)\n",
        "rain_2_20['day'] = rain_2_20['day'].apply(str)\n",
        "rain_2_20['hour'] = rain_2_20['hour'].apply(str)\n",
        "\n",
        "rain_2_20['month'] = rain_2_20.apply(lambda x: x['month'].zfill(2),axis=1)\n",
        "rain_2_20['day'] = rain_2_20.apply(lambda x: x['day'].zfill(2),axis=1)\n",
        "\n",
        "rain_2_20['date'] = rain_2_20['year']+rain_2_20['month']+rain_2_20['day']+' '+rain_2_20['hour']+':00'\n",
        "rain_2_20['date'] = pd.to_datetime(rain_2_20['date'], format='%Y%m%d %H:%M')"
      ],
      "metadata": {
        "id": "RczFaOnGd-D0"
      },
      "execution_count": 252,
      "outputs": []
    },
    {
      "cell_type": "code",
      "source": [
        "# 앞서 처리한 수질 데이터와 날짜 기준으로 병합 - 강우량1\n",
        "df1 = pd.merge(df,rain_1_20,how='left',left_on='날짜',right_on='date')\n",
        "\n",
        "# 중복되는 칼럼 제거\n",
        "df1.drop(['year','month','day','hour','date'],axis=1,inplace=True)\n",
        "\n",
        "# 날짜 기준으로 데이터 병합 - 강우량2\n",
        "df2 = pd.merge(df1,rain_2_20,how='left',left_on='날짜',right_on='date')\n",
        "\n",
        "# 중복되는 칼럼 제거\n",
        "df2.drop(['year','month','day','hour','date'],axis=1,inplace=True)\n",
        "\n",
        "# 중복 행 제거\n",
        "df2.drop_duplicates(inplace=True)"
      ],
      "metadata": {
        "id": "D-rfMqHreBXF"
      },
      "execution_count": 253,
      "outputs": []
    },
    {
      "cell_type": "code",
      "source": [
        "# 강우량 값 평균 계산 후 칼럼 생성\n",
        "\n",
        "# 함수 생성\n",
        "def rain_mean(x,y):\n",
        "  if (pd.isna(x)==True) & (pd.isna(y)==True):\n",
        "    return np.NaN\n",
        "  elif (pd.isna(x)!=True) & (pd.isna(y)==True):\n",
        "    return x\n",
        "  elif (pd.isna(x)==True) & (pd.isna(y)!=True):\n",
        "    return y\n",
        "  else:\n",
        "    return (x+y)/2\n",
        "\n",
        "# 함수 적용\n",
        "df2['강우량'] = df2.apply(lambda x: rain_mean(x['강우량1'],x['강우량2']),axis=1)\n",
        "\n",
        "# 강우량1, 강우량2 칼럼 제거\n",
        "df3 = df2.drop(['강우량1','강우량2'],axis=1)"
      ],
      "metadata": {
        "id": "NVurclgkeIaL"
      },
      "execution_count": 254,
      "outputs": []
    },
    {
      "cell_type": "code",
      "source": [
        "# 강우량 제외한 수질 관련 데이터는 전값으로 대체\n",
        "df3['수온'] = df3['수온'].interpolate(method='pad')\n",
        "df3['pH'] = df3['pH'].interpolate(method='pad')\n",
        "df3['용존산소(㎎/L)'] = df3['용존산소(㎎/L)'].interpolate(method='pad')\n",
        "df3['총질소(㎎/L)'] = df3['총질소(㎎/L)'].interpolate(method='pad')\n",
        "df3['총인(㎎/L)'] = df3['총인(㎎/L)'].interpolate(method='pad')\n",
        "df3['총유기탄소'] = df3['총유기탄소'].interpolate(method='pad')\n",
        "\n",
        "# 제일 첫 데이터는 이전 값으로 대체 불가능 -> 이후 값으로 대체\n",
        "df3['수온'] = df3['수온'].interpolate(method='bfill')\n",
        "df3['pH'] = df3['pH'].interpolate(method='bfill')\n",
        "df3['용존산소(㎎/L)'] = df3['용존산소(㎎/L)'].interpolate(method='bfill')\n",
        "df3['총질소(㎎/L)'] = df3['총질소(㎎/L)'].interpolate(method='bfill')\n",
        "df3['총인(㎎/L)'] = df3['총인(㎎/L)'].interpolate(method='bfill')\n",
        "df3['총유기탄소'] = df3['총유기탄소'].interpolate(method='bfill')"
      ],
      "metadata": {
        "id": "ZLIe_a_MeMif"
      },
      "execution_count": 255,
      "outputs": []
    },
    {
      "cell_type": "code",
      "source": [
        "df3.fillna(0, inplace=True)"
      ],
      "metadata": {
        "id": "GPBhh4oBePW2"
      },
      "execution_count": 256,
      "outputs": []
    },
    {
      "cell_type": "code",
      "source": [
        "tan20 = df3.copy()"
      ],
      "metadata": {
        "id": "-kCIar-ne_Vv"
      },
      "execution_count": 257,
      "outputs": []
    },
    {
      "cell_type": "code",
      "source": [
        "test20 = tan2.loc[17184:17519,:]"
      ],
      "metadata": {
        "id": "kydwoYXQetAl"
      },
      "execution_count": 258,
      "outputs": []
    },
    {
      "cell_type": "code",
      "source": [
        "test20 = test20.reset_index()\n",
        "test20.drop(columns='index',axis=1,inplace=True)"
      ],
      "metadata": {
        "id": "0P7S0Y0fe61q"
      },
      "execution_count": 259,
      "outputs": []
    },
    {
      "cell_type": "markdown",
      "source": [
        "### 합치기"
      ],
      "metadata": {
        "id": "ABBYjC7KgMu2"
      }
    },
    {
      "cell_type": "code",
      "source": [
        "tan20['수온'] = tan20['수온'].astype(float)\n",
        "tan20['pH'] = tan20['pH'].astype(float)\n",
        "tan20['용존산소(㎎/L)'] = tan20['용존산소(㎎/L)'].astype(float)\n",
        "tan20['총질소(㎎/L)'] = tan20['총질소(㎎/L)'].astype(float)\n",
        "tan20['총인(㎎/L)'] = tan20['총인(㎎/L)'].astype(float)\n",
        "tan20['총유기탄소'] = tan20['총유기탄소'].astype(float)"
      ],
      "metadata": {
        "id": "ZZKZEp4DgttW"
      },
      "execution_count": 260,
      "outputs": []
    },
    {
      "cell_type": "code",
      "source": [
        "# 함수 생성\n",
        "def water_quality2(a,b,d,e):\n",
        "  if (a>=6.5) & (a<=8.5) & (b>=7.5) & (d<=0.01) & (e<=2):\n",
        "    return 1\n",
        "  elif (a>=6.5) & (a<=8.5) & (b>=5) & (d<=0.02) & (e<=3):\n",
        "    return 2\n",
        "  elif (a>=6.5) & (a<=8.5) & (b>=5) & (d<=0.03) & (e<=4):\n",
        "    return 3\n",
        "  elif (a>=6.5) & (a<=8.5) & (b>=5) & (d<=0.05) & (e<=5):\n",
        "    return 4\n",
        "  elif (a>=6.0) & (a<=8.5) & (b>=2) & (d<=0.1) & (e<=8):\n",
        "    return 5\n",
        "  elif (a>=6.0) & (a<=8.5) & (b>=2) & (d<=0.15) & (e<=10):\n",
        "    return 6\n",
        "  else:\n",
        "    return 7\n",
        "\n",
        "# 함수 적용\n",
        "tan20['수질등급2'] = tan20.apply(lambda x: water_quality2(x['pH'],x['용존산소(㎎/L)'],x['총인(㎎/L)'],x['총유기탄소']), axis=1)"
      ],
      "metadata": {
        "id": "nINdyiGbgYMe"
      },
      "execution_count": 261,
      "outputs": []
    },
    {
      "cell_type": "code",
      "source": [
        "#함수적용\n",
        "get_pH(tan20)\n",
        "get_do(tan20)\n",
        "get_tp(tan20)\n",
        "get_toc(tan20)\n",
        "get_grade25(tan20)"
      ],
      "metadata": {
        "id": "BFPGIl7lhk3F"
      },
      "execution_count": 262,
      "outputs": []
    },
    {
      "cell_type": "code",
      "source": [
        "test20.info()"
      ],
      "metadata": {
        "colab": {
          "base_uri": "https://localhost:8080/"
        },
        "id": "6kWmN6FEfcee",
        "outputId": "1bdbf43d-edbe-4ee2-e6c9-17b34d220133"
      },
      "execution_count": 263,
      "outputs": [
        {
          "output_type": "stream",
          "name": "stdout",
          "text": [
            "<class 'pandas.core.frame.DataFrame'>\n",
            "RangeIndex: 336 entries, 0 to 335\n",
            "Data columns (total 18 columns):\n",
            " #   Column     Non-Null Count  Dtype         \n",
            "---  ------     --------------  -----         \n",
            " 0   날짜         336 non-null    datetime64[ns]\n",
            " 1   연          336 non-null    int64         \n",
            " 2   월          336 non-null    int64         \n",
            " 3   일          336 non-null    int64         \n",
            " 4   시          336 non-null    int64         \n",
            " 5   수온         336 non-null    float64       \n",
            " 6   pH         336 non-null    float64       \n",
            " 7   용존산소(㎎/L)  336 non-null    float64       \n",
            " 8   총질소(㎎/L)   336 non-null    float64       \n",
            " 9   총인(㎎/L)    336 non-null    float64       \n",
            " 10  총유기탄소      336 non-null    float64       \n",
            " 11  강우량        336 non-null    float64       \n",
            " 12  수질등급       336 non-null    int64         \n",
            " 13  수질등급2      336 non-null    int64         \n",
            " 14  pH점수       336 non-null    int64         \n",
            " 15  용존산소점수     336 non-null    int64         \n",
            " 16  총인점수       336 non-null    int64         \n",
            " 17  총유기탄소점수    336 non-null    int64         \n",
            "dtypes: datetime64[ns](1), float64(7), int64(10)\n",
            "memory usage: 47.4 KB\n"
          ]
        }
      ]
    },
    {
      "cell_type": "code",
      "source": [
        "tan20 = tan20[['날짜','연','월','일','시','수온','pH','용존산소(㎎/L)','총질소(㎎/L)','총인(㎎/L)','총유기탄소','강우량','수질등급','수질등급2','pH점수','용존산소점수','총인점수','총유기탄소점수']]"
      ],
      "metadata": {
        "id": "VYZd47P5h_Xz"
      },
      "execution_count": 264,
      "outputs": []
    },
    {
      "cell_type": "code",
      "source": [
        "tan20.info()"
      ],
      "metadata": {
        "colab": {
          "base_uri": "https://localhost:8080/"
        },
        "id": "tD87S7fZfn4O",
        "outputId": "ce29dcc2-ed6e-463c-d894-9301fe11fc74"
      },
      "execution_count": 265,
      "outputs": [
        {
          "output_type": "stream",
          "name": "stdout",
          "text": [
            "<class 'pandas.core.frame.DataFrame'>\n",
            "Int64Index: 336 entries, 0 to 335\n",
            "Data columns (total 18 columns):\n",
            " #   Column     Non-Null Count  Dtype         \n",
            "---  ------     --------------  -----         \n",
            " 0   날짜         336 non-null    datetime64[ns]\n",
            " 1   연          336 non-null    int64         \n",
            " 2   월          336 non-null    int64         \n",
            " 3   일          336 non-null    int64         \n",
            " 4   시          336 non-null    int64         \n",
            " 5   수온         336 non-null    float64       \n",
            " 6   pH         336 non-null    float64       \n",
            " 7   용존산소(㎎/L)  336 non-null    float64       \n",
            " 8   총질소(㎎/L)   336 non-null    float64       \n",
            " 9   총인(㎎/L)    336 non-null    float64       \n",
            " 10  총유기탄소      336 non-null    float64       \n",
            " 11  강우량        336 non-null    float64       \n",
            " 12  수질등급       336 non-null    int64         \n",
            " 13  수질등급2      336 non-null    int64         \n",
            " 14  pH점수       336 non-null    int64         \n",
            " 15  용존산소점수     336 non-null    int64         \n",
            " 16  총인점수       336 non-null    int64         \n",
            " 17  총유기탄소점수    336 non-null    int64         \n",
            "dtypes: datetime64[ns](1), float64(7), int64(10)\n",
            "memory usage: 49.9 KB\n"
          ]
        }
      ]
    },
    {
      "cell_type": "code",
      "source": [
        "tan4 = pd.concat([tan20,tan2])\n",
        "test4 = pd.concat([test20,test2])"
      ],
      "metadata": {
        "id": "YSKOeiL3gFy1"
      },
      "execution_count": 266,
      "outputs": []
    },
    {
      "cell_type": "code",
      "source": [
        "tan4.info()"
      ],
      "metadata": {
        "colab": {
          "base_uri": "https://localhost:8080/"
        },
        "id": "rxAUIVARiklN",
        "outputId": "5bd26355-f64f-4dd5-946f-c186f9bdbf53"
      },
      "execution_count": 267,
      "outputs": [
        {
          "output_type": "stream",
          "name": "stdout",
          "text": [
            "<class 'pandas.core.frame.DataFrame'>\n",
            "Int64Index: 17856 entries, 0 to 17519\n",
            "Data columns (total 18 columns):\n",
            " #   Column     Non-Null Count  Dtype         \n",
            "---  ------     --------------  -----         \n",
            " 0   날짜         17856 non-null  datetime64[ns]\n",
            " 1   연          17856 non-null  int64         \n",
            " 2   월          17856 non-null  int64         \n",
            " 3   일          17856 non-null  int64         \n",
            " 4   시          17856 non-null  int64         \n",
            " 5   수온         17856 non-null  float64       \n",
            " 6   pH         17856 non-null  float64       \n",
            " 7   용존산소(㎎/L)  17856 non-null  float64       \n",
            " 8   총질소(㎎/L)   17856 non-null  float64       \n",
            " 9   총인(㎎/L)    17856 non-null  float64       \n",
            " 10  총유기탄소      17856 non-null  float64       \n",
            " 11  강우량        17856 non-null  float64       \n",
            " 12  수질등급       17856 non-null  int64         \n",
            " 13  수질등급2      17856 non-null  int64         \n",
            " 14  pH점수       17856 non-null  int64         \n",
            " 15  용존산소점수     17856 non-null  int64         \n",
            " 16  총인점수       17856 non-null  int64         \n",
            " 17  총유기탄소점수    17856 non-null  int64         \n",
            "dtypes: datetime64[ns](1), float64(7), int64(10)\n",
            "memory usage: 2.6 MB\n"
          ]
        }
      ]
    },
    {
      "cell_type": "code",
      "source": [
        "test4.info()"
      ],
      "metadata": {
        "colab": {
          "base_uri": "https://localhost:8080/"
        },
        "id": "3e3GUBvAinOl",
        "outputId": "02987995-7f00-44f6-b1d8-b805cfb80095"
      },
      "execution_count": 268,
      "outputs": [
        {
          "output_type": "stream",
          "name": "stdout",
          "text": [
            "<class 'pandas.core.frame.DataFrame'>\n",
            "Int64Index: 5424 entries, 0 to 5087\n",
            "Data columns (total 18 columns):\n",
            " #   Column     Non-Null Count  Dtype         \n",
            "---  ------     --------------  -----         \n",
            " 0   날짜         5424 non-null   datetime64[ns]\n",
            " 1   연          5424 non-null   int64         \n",
            " 2   월          5424 non-null   int64         \n",
            " 3   일          5424 non-null   int64         \n",
            " 4   시          5424 non-null   int64         \n",
            " 5   수온         5424 non-null   float64       \n",
            " 6   pH         5424 non-null   float64       \n",
            " 7   용존산소(㎎/L)  5424 non-null   float64       \n",
            " 8   총질소(㎎/L)   5424 non-null   float64       \n",
            " 9   총인(㎎/L)    5424 non-null   float64       \n",
            " 10  총유기탄소      5424 non-null   float64       \n",
            " 11  강우량        5424 non-null   float64       \n",
            " 12  수질등급       5424 non-null   int64         \n",
            " 13  수질등급2      5424 non-null   int64         \n",
            " 14  pH점수       5424 non-null   int64         \n",
            " 15  용존산소점수     5424 non-null   int64         \n",
            " 16  총인점수       5424 non-null   int64         \n",
            " 17  총유기탄소점수    5424 non-null   int64         \n",
            "dtypes: datetime64[ns](1), float64(7), int64(10)\n",
            "memory usage: 805.1 KB\n"
          ]
        }
      ]
    },
    {
      "cell_type": "markdown",
      "source": [
        "### 파생변수 생성"
      ],
      "metadata": {
        "id": "KKL-cAiGirk_"
      }
    },
    {
      "cell_type": "code",
      "source": [
        "# 과거 강우량 데이터 생성\n",
        "tan4['날짜']=pd.to_datetime(tan4['날짜'], format='%Y/%m/%d %H:%M')\n",
        "\n",
        "hour4 = tan4[['날짜','강우량']]\n",
        "hour4['날짜'] = hour4['날짜'] + timedelta(hours=4)\n",
        "hour4.columns=['날짜','4시간 전 강우량']\n",
        "\n",
        "hour8 = tan4[['날짜','강우량']]\n",
        "hour8['날짜'] = hour8['날짜'] + timedelta(hours=8)\n",
        "hour8.columns=['날짜','8시간 전 강우량']\n",
        "\n",
        "hour16 = tan4[['날짜','강우량']]\n",
        "hour16['날짜'] = hour16['날짜'] + timedelta(hours=16)\n",
        "hour16.columns=['날짜','16시간 전 강우량']\n",
        "\n",
        "day1 = tan4[['날짜','강우량']]\n",
        "day1['날짜'] = day1['날짜'] + timedelta(days=1)\n",
        "day1.columns=['날짜','1일 전 강우량']\n",
        "\n",
        "day3 = tan4[['날짜','강우량']]\n",
        "day3['날짜'] = day3['날짜'] + timedelta(days=3)\n",
        "day3.columns=['날짜','3일 전 강우량']\n",
        "\n",
        "day5 = tan4[['날짜','강우량']]\n",
        "day5['날짜'] = day5['날짜'] + timedelta(days=5)\n",
        "day5.columns=['날짜','5일 전 강우량']\n",
        "\n",
        "day7 = tan4[['날짜','강우량']]\n",
        "day7['날짜'] = day7['날짜'] + timedelta(days=7)\n",
        "day7.columns=['날짜','7일 전 강우량']\n",
        "\n",
        "week2 = tan4[['날짜','강우량']]\n",
        "week2['날짜'] = week2['날짜'] + timedelta(weeks=2)\n",
        "week2.columns=['날짜','2주 전 강우량']\n",
        "\n",
        "# 데이터프레임 병합\n",
        "dfs4 = [tan4,hour4, hour8, hour16, day1, day3, day5, day7, week2]\n",
        "test4_merge = reduce(lambda left, right: pd.merge(left, right, how='left',on='날짜'), dfs4)\n",
        "\n",
        "# 결측일자 제거\n",
        "tan5 = test4_merge.loc[336:,:]\n",
        "\n",
        "# 칼럼 재정렬\n",
        "tan5 = tan5[['날짜','연','월','일','시','수온','강우량','4시간 전 강우량','8시간 전 강우량','16시간 전 강우량','1일 전 강우량','3일 전 강우량','5일 전 강우량','7일 전 강우량','2주 전 강우량','pH','용존산소(㎎/L)','총질소(㎎/L)','총인(㎎/L)','총유기탄소','pH점수','용존산소점수','총인점수','총유기탄소점수','수질등급']]\n",
        "# 불필요칼럼 제거\n",
        "tan5.drop('총질소(㎎/L)',axis=1,inplace=True)\n",
        "\n",
        "# 확인\n",
        "tan5.info()"
      ],
      "metadata": {
        "colab": {
          "base_uri": "https://localhost:8080/"
        },
        "id": "LyVKXOTljSAk",
        "outputId": "9b924068-dcf9-4ebc-f772-f00972eb51ac"
      },
      "execution_count": 269,
      "outputs": [
        {
          "output_type": "stream",
          "name": "stdout",
          "text": [
            "<class 'pandas.core.frame.DataFrame'>\n",
            "Int64Index: 17520 entries, 336 to 17855\n",
            "Data columns (total 24 columns):\n",
            " #   Column      Non-Null Count  Dtype         \n",
            "---  ------      --------------  -----         \n",
            " 0   날짜          17520 non-null  datetime64[ns]\n",
            " 1   연           17520 non-null  int64         \n",
            " 2   월           17520 non-null  int64         \n",
            " 3   일           17520 non-null  int64         \n",
            " 4   시           17520 non-null  int64         \n",
            " 5   수온          17520 non-null  float64       \n",
            " 6   강우량         17520 non-null  float64       \n",
            " 7   4시간 전 강우량   17520 non-null  float64       \n",
            " 8   8시간 전 강우량   17520 non-null  float64       \n",
            " 9   16시간 전 강우량  17520 non-null  float64       \n",
            " 10  1일 전 강우량    17520 non-null  float64       \n",
            " 11  3일 전 강우량    17520 non-null  float64       \n",
            " 12  5일 전 강우량    17520 non-null  float64       \n",
            " 13  7일 전 강우량    17520 non-null  float64       \n",
            " 14  2주 전 강우량    17520 non-null  float64       \n",
            " 15  pH          17520 non-null  float64       \n",
            " 16  용존산소(㎎/L)   17520 non-null  float64       \n",
            " 17  총인(㎎/L)     17520 non-null  float64       \n",
            " 18  총유기탄소       17520 non-null  float64       \n",
            " 19  pH점수        17520 non-null  int64         \n",
            " 20  용존산소점수      17520 non-null  int64         \n",
            " 21  총인점수        17520 non-null  int64         \n",
            " 22  총유기탄소점수     17520 non-null  int64         \n",
            " 23  수질등급        17520 non-null  int64         \n",
            "dtypes: datetime64[ns](1), float64(14), int64(9)\n",
            "memory usage: 3.3 MB\n"
          ]
        }
      ]
    },
    {
      "cell_type": "code",
      "source": [
        "tan5['수질등급'].value_counts()"
      ],
      "metadata": {
        "colab": {
          "base_uri": "https://localhost:8080/"
        },
        "id": "ECNM5HfTWiEd",
        "outputId": "60e6adc9-195b-4b4d-f708-93e50e24a364"
      },
      "execution_count": 270,
      "outputs": [
        {
          "output_type": "execute_result",
          "data": {
            "text/plain": [
              "2    8384\n",
              "3    8234\n",
              "1     825\n",
              "4      77\n",
              "Name: 수질등급, dtype: int64"
            ]
          },
          "metadata": {},
          "execution_count": 270
        }
      ]
    },
    {
      "cell_type": "code",
      "source": [
        "# 과거 강우량 데이터 생성\n",
        "test4['날짜']=pd.to_datetime(test4['날짜'], format='%Y/%m/%d %H:%M')\n",
        "\n",
        "hour4 = test4[['날짜','강우량']]\n",
        "hour4['날짜'] = hour4['날짜'] + timedelta(hours=4)\n",
        "hour4.columns=['날짜','4시간 전 강우량']\n",
        "\n",
        "hour8 = test4[['날짜','강우량']]\n",
        "hour8['날짜'] = hour8['날짜'] + timedelta(hours=8)\n",
        "hour8.columns=['날짜','8시간 전 강우량']\n",
        "\n",
        "hour16 = test4[['날짜','강우량']]\n",
        "hour16['날짜'] = hour16['날짜'] + timedelta(hours=16)\n",
        "hour16.columns=['날짜','16시간 전 강우량']\n",
        "\n",
        "day1 = test4[['날짜','강우량']]\n",
        "day1['날짜'] = day1['날짜'] + timedelta(days=1)\n",
        "day1.columns=['날짜','1일 전 강우량']\n",
        "\n",
        "day3 = test4[['날짜','강우량']]\n",
        "day3['날짜'] = day3['날짜'] + timedelta(days=3)\n",
        "day3.columns=['날짜','3일 전 강우량']\n",
        "\n",
        "day5 = test4[['날짜','강우량']]\n",
        "day5['날짜'] = day5['날짜'] + timedelta(days=5)\n",
        "day5.columns=['날짜','5일 전 강우량']\n",
        "\n",
        "day7 = test4[['날짜','강우량']]\n",
        "day7['날짜'] = day7['날짜'] + timedelta(days=7)\n",
        "day7.columns=['날짜','7일 전 강우량']\n",
        "\n",
        "week2 = test4[['날짜','강우량']]\n",
        "week2['날짜'] = week2['날짜'] + timedelta(weeks=2)\n",
        "week2.columns=['날짜','2주 전 강우량']\n",
        "\n",
        "# 데이터프레임 병합\n",
        "dfs4 = [test4,hour4, hour8, hour16, day1, day3, day5, day7, week2]\n",
        "test4_merge = reduce(lambda left, right: pd.merge(left, right, how='left',on='날짜'), dfs4)\n",
        "\n",
        "# 결측일자 제거\n",
        "test5 = test4_merge.loc[336:,:]\n",
        "\n",
        "# 칼럼 재정렬\n",
        "test5 = test5[['날짜','연','월','일','시','수온','강우량','4시간 전 강우량','8시간 전 강우량','16시간 전 강우량','1일 전 강우량','3일 전 강우량','5일 전 강우량','7일 전 강우량','2주 전 강우량','pH','용존산소(㎎/L)','총질소(㎎/L)','총인(㎎/L)','총유기탄소','pH점수','용존산소점수','총인점수','총유기탄소점수','수질등급']]\n",
        "# 불필요칼럼 제거\n",
        "test5.drop('총질소(㎎/L)',axis=1,inplace=True)\n",
        "\n",
        "# 확인\n",
        "test5.info()"
      ],
      "metadata": {
        "colab": {
          "base_uri": "https://localhost:8080/"
        },
        "id": "Bu3-lXGTi6t6",
        "outputId": "bca41946-cc8d-45d2-e567-bfd4c323b0a1"
      },
      "execution_count": 271,
      "outputs": [
        {
          "output_type": "stream",
          "name": "stdout",
          "text": [
            "<class 'pandas.core.frame.DataFrame'>\n",
            "Int64Index: 5088 entries, 336 to 5423\n",
            "Data columns (total 24 columns):\n",
            " #   Column      Non-Null Count  Dtype         \n",
            "---  ------      --------------  -----         \n",
            " 0   날짜          5088 non-null   datetime64[ns]\n",
            " 1   연           5088 non-null   int64         \n",
            " 2   월           5088 non-null   int64         \n",
            " 3   일           5088 non-null   int64         \n",
            " 4   시           5088 non-null   int64         \n",
            " 5   수온          5088 non-null   float64       \n",
            " 6   강우량         5088 non-null   float64       \n",
            " 7   4시간 전 강우량   5088 non-null   float64       \n",
            " 8   8시간 전 강우량   5088 non-null   float64       \n",
            " 9   16시간 전 강우량  5088 non-null   float64       \n",
            " 10  1일 전 강우량    5088 non-null   float64       \n",
            " 11  3일 전 강우량    5088 non-null   float64       \n",
            " 12  5일 전 강우량    5088 non-null   float64       \n",
            " 13  7일 전 강우량    5088 non-null   float64       \n",
            " 14  2주 전 강우량    5088 non-null   float64       \n",
            " 15  pH          5088 non-null   float64       \n",
            " 16  용존산소(㎎/L)   5088 non-null   float64       \n",
            " 17  총인(㎎/L)     5088 non-null   float64       \n",
            " 18  총유기탄소       5088 non-null   float64       \n",
            " 19  pH점수        5088 non-null   int64         \n",
            " 20  용존산소점수      5088 non-null   int64         \n",
            " 21  총인점수        5088 non-null   int64         \n",
            " 22  총유기탄소점수     5088 non-null   int64         \n",
            " 23  수질등급        5088 non-null   int64         \n",
            "dtypes: datetime64[ns](1), float64(14), int64(9)\n",
            "memory usage: 993.8 KB\n"
          ]
        }
      ]
    },
    {
      "cell_type": "markdown",
      "source": [
        "### 모델링"
      ],
      "metadata": {
        "id": "qZsq9qOEjjPT"
      }
    },
    {
      "cell_type": "code",
      "source": [
        "tan5.info()"
      ],
      "metadata": {
        "colab": {
          "base_uri": "https://localhost:8080/"
        },
        "id": "4O6PBOa-kTcp",
        "outputId": "1e6611d0-a57b-429c-e82e-26774ba85f2c"
      },
      "execution_count": 272,
      "outputs": [
        {
          "output_type": "stream",
          "name": "stdout",
          "text": [
            "<class 'pandas.core.frame.DataFrame'>\n",
            "Int64Index: 17520 entries, 336 to 17855\n",
            "Data columns (total 24 columns):\n",
            " #   Column      Non-Null Count  Dtype         \n",
            "---  ------      --------------  -----         \n",
            " 0   날짜          17520 non-null  datetime64[ns]\n",
            " 1   연           17520 non-null  int64         \n",
            " 2   월           17520 non-null  int64         \n",
            " 3   일           17520 non-null  int64         \n",
            " 4   시           17520 non-null  int64         \n",
            " 5   수온          17520 non-null  float64       \n",
            " 6   강우량         17520 non-null  float64       \n",
            " 7   4시간 전 강우량   17520 non-null  float64       \n",
            " 8   8시간 전 강우량   17520 non-null  float64       \n",
            " 9   16시간 전 강우량  17520 non-null  float64       \n",
            " 10  1일 전 강우량    17520 non-null  float64       \n",
            " 11  3일 전 강우량    17520 non-null  float64       \n",
            " 12  5일 전 강우량    17520 non-null  float64       \n",
            " 13  7일 전 강우량    17520 non-null  float64       \n",
            " 14  2주 전 강우량    17520 non-null  float64       \n",
            " 15  pH          17520 non-null  float64       \n",
            " 16  용존산소(㎎/L)   17520 non-null  float64       \n",
            " 17  총인(㎎/L)     17520 non-null  float64       \n",
            " 18  총유기탄소       17520 non-null  float64       \n",
            " 19  pH점수        17520 non-null  int64         \n",
            " 20  용존산소점수      17520 non-null  int64         \n",
            " 21  총인점수        17520 non-null  int64         \n",
            " 22  총유기탄소점수     17520 non-null  int64         \n",
            " 23  수질등급        17520 non-null  int64         \n",
            "dtypes: datetime64[ns](1), float64(14), int64(9)\n",
            "memory usage: 3.3 MB\n"
          ]
        }
      ]
    },
    {
      "cell_type": "code",
      "source": [
        "# train/test dataset 생성\n",
        "\n",
        "# train=tan5.drop(columns=['날짜','연','4시간 전 강우량','8시간 전 강우량','16시간 전 강우량','1일 전 강우량','3일 전 강우량','5일 전 강우량','7일 전 강우량','2주 전 강우량','pH','용존산소(㎎/L)','총인(㎎/L)','총유기탄소','pH점수','용존산소점수','총인점수','총유기탄소점수'], axis=1)\n",
        "# test=test5.drop(columns=['날짜','연','4시간 전 강우량','8시간 전 강우량','16시간 전 강우량','1일 전 강우량','3일 전 강우량','5일 전 강우량','7일 전 강우량','2주 전 강우량','pH','용존산소(㎎/L)','총인(㎎/L)','총유기탄소','pH점수','용존산소점수','총인점수','총유기탄소점수'], axis=1)\n",
        "train=tan5.drop(columns=['날짜','연','2주 전 강우량','pH','용존산소(㎎/L)','총인(㎎/L)','총유기탄소','pH점수','용존산소점수','총인점수','총유기탄소점수'], axis=1)\n",
        "test=test5.drop(columns=['날짜','연','2주 전 강우량','pH','용존산소(㎎/L)','총인(㎎/L)','총유기탄소','pH점수','용존산소점수','총인점수','총유기탄소점수'], axis=1)"
      ],
      "metadata": {
        "id": "E4iRj--hjlMy"
      },
      "execution_count": 273,
      "outputs": []
    },
    {
      "cell_type": "code",
      "source": [
        "X_train=train.drop('수질등급', axis=1)\n",
        "y_train=train[['수질등급']]\n",
        "\n",
        "X_test=test.drop('수질등급', axis=1)\n",
        "y_test=test[['수질등급']]"
      ],
      "metadata": {
        "id": "lxsmoySGjsv2"
      },
      "execution_count": 274,
      "outputs": []
    },
    {
      "cell_type": "code",
      "source": [
        "y_tr_xgb=y_train.copy()\n",
        "y_ts_xgb=y_test.copy()"
      ],
      "metadata": {
        "id": "DO5_psc6ju97"
      },
      "execution_count": 275,
      "outputs": []
    },
    {
      "cell_type": "code",
      "source": [
        "for i in range(y_tr_xgb.shape[0]):\n",
        "  a=y_tr_xgb.iloc[i]['수질등급']\n",
        "\n",
        "  if a==1:\n",
        "    y_tr_xgb.iloc[i]['수질등급']=0\n",
        "  elif a==2:\n",
        "    y_tr_xgb.iloc[i]['수질등급']=1\n",
        "  elif a==3:\n",
        "    y_tr_xgb.iloc[i]['수질등급']=2\n",
        "  else:\n",
        "    y_tr_xgb.iloc[i]['수질등급']=3"
      ],
      "metadata": {
        "id": "zgssOnC_jxU0"
      },
      "execution_count": 276,
      "outputs": []
    },
    {
      "cell_type": "code",
      "source": [
        "for i in range(y_ts_xgb.shape[0]):\n",
        "  a=y_ts_xgb.iloc[i]['수질등급']\n",
        "\n",
        "  if a==1:\n",
        "    y_ts_xgb.iloc[i]['수질등급']=0\n",
        "  elif a==2:\n",
        "    y_ts_xgb.iloc[i]['수질등급']=1\n",
        "  elif a==3:\n",
        "    y_ts_xgb.iloc[i]['수질등급']=2\n",
        "  else:\n",
        "    y_ts_xgb.iloc[i]['수질등급']=3"
      ],
      "metadata": {
        "id": "yCjC17eqjzan"
      },
      "execution_count": 277,
      "outputs": []
    },
    {
      "cell_type": "code",
      "source": [
        "y_train.value_counts()"
      ],
      "metadata": {
        "colab": {
          "base_uri": "https://localhost:8080/"
        },
        "id": "g5aCDRryV-fm",
        "outputId": "0a5fd93f-9f2d-43d6-ad34-9831cc6c7486"
      },
      "execution_count": 278,
      "outputs": [
        {
          "output_type": "execute_result",
          "data": {
            "text/plain": [
              "수질등급\n",
              "2       8384\n",
              "3       8234\n",
              "1        825\n",
              "4         77\n",
              "dtype: int64"
            ]
          },
          "metadata": {},
          "execution_count": 278
        }
      ]
    },
    {
      "cell_type": "code",
      "source": [
        "from xgboost import XGBClassifier\n",
        "from bayes_opt import BayesianOptimization\n",
        "from sklearn.metrics import accuracy_score\n",
        "from sklearn.metrics import confusion_matrix"
      ],
      "metadata": {
        "id": "vwZc1SZqj3rb"
      },
      "execution_count": 279,
      "outputs": []
    },
    {
      "cell_type": "code",
      "source": [
        "def xgb_bo2(max_depth, learning_rate, n_estimators):\n",
        "  xgb_params = {\n",
        "      'max_depth' : int(round(max_depth)),\n",
        "      'learning_rate' : learning_rate,\n",
        "      'n_estimators' : int(round(n_estimators))\n",
        "      }\n",
        "\n",
        "  xgb = XGBClassifier(**xgb_params)\n",
        "  xgb.fit(X_train,y_tr_xgb)\n",
        "\n",
        "  score = accuracy_score(y_ts_xgb, xgb.predict(X_test))\n",
        "\n",
        "  return score"
      ],
      "metadata": {
        "id": "MnOoDujUj5iI"
      },
      "execution_count": 280,
      "outputs": []
    },
    {
      "cell_type": "code",
      "source": [
        "xgb_parameter_bounds = {\n",
        "                      'max_depth' : (3,7),\n",
        "                      'learning_rate' : (0.01,1),\n",
        "                      'n_estimators' : (90,200)\n",
        "                      }"
      ],
      "metadata": {
        "id": "S6k67fZ0j7Vn"
      },
      "execution_count": 281,
      "outputs": []
    },
    {
      "cell_type": "code",
      "source": [
        "BO_xgb2 = BayesianOptimization(f = xgb_bo2, pbounds = xgb_parameter_bounds,random_state = 2023)"
      ],
      "metadata": {
        "id": "w2_i8vQoj9I-"
      },
      "execution_count": 282,
      "outputs": []
    },
    {
      "cell_type": "code",
      "source": [
        "BO_xgb2.maximize(init_points = 20, n_iter = 5)"
      ],
      "metadata": {
        "colab": {
          "base_uri": "https://localhost:8080/"
        },
        "id": "kc6bQM3-kn2S",
        "outputId": "ed7a377b-df3e-44a5-d1b9-e7556899b7e2"
      },
      "execution_count": 286,
      "outputs": [
        {
          "output_type": "stream",
          "name": "stdout",
          "text": [
            "|   iter    |  target   | learni... | max_depth | n_esti... |\n",
            "-------------------------------------------------------------\n",
            "| \u001b[0m26       \u001b[0m | \u001b[0m0.7164   \u001b[0m | \u001b[0m0.8571   \u001b[0m | \u001b[0m6.159    \u001b[0m | \u001b[0m99.66    \u001b[0m |\n",
            "| \u001b[0m27       \u001b[0m | \u001b[0m0.7144   \u001b[0m | \u001b[0m0.9337   \u001b[0m | \u001b[0m5.0      \u001b[0m | \u001b[0m130.1    \u001b[0m |\n",
            "| \u001b[0m28       \u001b[0m | \u001b[0m0.7136   \u001b[0m | \u001b[0m0.4888   \u001b[0m | \u001b[0m5.061    \u001b[0m | \u001b[0m199.4    \u001b[0m |\n",
            "| \u001b[0m29       \u001b[0m | \u001b[0m0.717    \u001b[0m | \u001b[0m0.7559   \u001b[0m | \u001b[0m4.463    \u001b[0m | \u001b[0m157.3    \u001b[0m |\n",
            "| \u001b[0m30       \u001b[0m | \u001b[0m0.739    \u001b[0m | \u001b[0m0.4254   \u001b[0m | \u001b[0m3.367    \u001b[0m | \u001b[0m148.8    \u001b[0m |\n",
            "| \u001b[0m31       \u001b[0m | \u001b[0m0.7376   \u001b[0m | \u001b[0m0.3474   \u001b[0m | \u001b[0m3.073    \u001b[0m | \u001b[0m156.4    \u001b[0m |\n",
            "| \u001b[0m32       \u001b[0m | \u001b[0m0.7105   \u001b[0m | \u001b[0m0.9226   \u001b[0m | \u001b[0m4.125    \u001b[0m | \u001b[0m181.8    \u001b[0m |\n",
            "| \u001b[0m33       \u001b[0m | \u001b[0m0.7335   \u001b[0m | \u001b[0m0.5541   \u001b[0m | \u001b[0m3.087    \u001b[0m | \u001b[0m128.2    \u001b[0m |\n",
            "| \u001b[0m34       \u001b[0m | \u001b[0m0.7323   \u001b[0m | \u001b[0m0.5545   \u001b[0m | \u001b[0m3.053    \u001b[0m | \u001b[0m168.7    \u001b[0m |\n",
            "| \u001b[0m35       \u001b[0m | \u001b[0m0.7264   \u001b[0m | \u001b[0m0.1979   \u001b[0m | \u001b[0m5.97     \u001b[0m | \u001b[0m159.2    \u001b[0m |\n",
            "| \u001b[0m36       \u001b[0m | \u001b[0m0.7156   \u001b[0m | \u001b[0m0.3686   \u001b[0m | \u001b[0m5.508    \u001b[0m | \u001b[0m146.6    \u001b[0m |\n",
            "| \u001b[0m37       \u001b[0m | \u001b[0m0.7101   \u001b[0m | \u001b[0m0.896    \u001b[0m | \u001b[0m5.075    \u001b[0m | \u001b[0m156.8    \u001b[0m |\n",
            "| \u001b[0m38       \u001b[0m | \u001b[0m0.7189   \u001b[0m | \u001b[0m0.4801   \u001b[0m | \u001b[0m5.838    \u001b[0m | \u001b[0m102.7    \u001b[0m |\n",
            "| \u001b[0m39       \u001b[0m | \u001b[0m0.7042   \u001b[0m | \u001b[0m0.7355   \u001b[0m | \u001b[0m6.512    \u001b[0m | \u001b[0m147.1    \u001b[0m |\n",
            "| \u001b[0m40       \u001b[0m | \u001b[0m0.7136   \u001b[0m | \u001b[0m0.6837   \u001b[0m | \u001b[0m4.742    \u001b[0m | \u001b[0m196.9    \u001b[0m |\n",
            "| \u001b[0m41       \u001b[0m | \u001b[0m0.7256   \u001b[0m | \u001b[0m0.3715   \u001b[0m | \u001b[0m5.491    \u001b[0m | \u001b[0m118.4    \u001b[0m |\n",
            "| \u001b[0m42       \u001b[0m | \u001b[0m0.7075   \u001b[0m | \u001b[0m0.6845   \u001b[0m | \u001b[0m6.506    \u001b[0m | \u001b[0m116.6    \u001b[0m |\n",
            "| \u001b[0m43       \u001b[0m | \u001b[0m0.7311   \u001b[0m | \u001b[0m0.1512   \u001b[0m | \u001b[0m6.302    \u001b[0m | \u001b[0m141.2    \u001b[0m |\n",
            "| \u001b[0m44       \u001b[0m | \u001b[0m0.7182   \u001b[0m | \u001b[0m0.3448   \u001b[0m | \u001b[0m6.735    \u001b[0m | \u001b[0m140.0    \u001b[0m |\n",
            "| \u001b[0m45       \u001b[0m | \u001b[0m0.7341   \u001b[0m | \u001b[0m0.4993   \u001b[0m | \u001b[0m3.184    \u001b[0m | \u001b[0m103.1    \u001b[0m |\n",
            "| \u001b[0m46       \u001b[0m | \u001b[0m0.7565   \u001b[0m | \u001b[0m0.03599  \u001b[0m | \u001b[0m6.187    \u001b[0m | \u001b[0m147.8    \u001b[0m |\n",
            "| \u001b[95m47       \u001b[0m | \u001b[95m0.7622   \u001b[0m | \u001b[95m0.0338   \u001b[0m | \u001b[95m3.391    \u001b[0m | \u001b[95m140.7    \u001b[0m |\n",
            "| \u001b[0m48       \u001b[0m | \u001b[0m0.7575   \u001b[0m | \u001b[0m0.1281   \u001b[0m | \u001b[0m3.001    \u001b[0m | \u001b[0m141.0    \u001b[0m |\n",
            "| \u001b[95m49       \u001b[0m | \u001b[95m0.7645   \u001b[0m | \u001b[95m0.01     \u001b[0m | \u001b[95m3.0      \u001b[0m | \u001b[95m140.4    \u001b[0m |\n",
            "| \u001b[95m50       \u001b[0m | \u001b[95m0.7663   \u001b[0m | \u001b[95m0.01     \u001b[0m | \u001b[95m4.809    \u001b[0m | \u001b[95m109.1    \u001b[0m |\n",
            "=============================================================\n"
          ]
        }
      ]
    },
    {
      "cell_type": "code",
      "source": [
        "BO_xgb2.max"
      ],
      "metadata": {
        "colab": {
          "base_uri": "https://localhost:8080/"
        },
        "id": "wtUynAeIj-vs",
        "outputId": "ebda7e0d-5a11-460c-f451-06337343eea9"
      },
      "execution_count": 287,
      "outputs": [
        {
          "output_type": "execute_result",
          "data": {
            "text/plain": [
              "{'target': 0.766312893081761,\n",
              " 'params': {'learning_rate': 0.01,\n",
              "  'max_depth': 4.808624380237392,\n",
              "  'n_estimators': 109.11683135062572}}"
            ]
          },
          "metadata": {},
          "execution_count": 287
        }
      ]
    },
    {
      "cell_type": "code",
      "source": [
        "xgb_clf = XGBClassifier(n_estimators=109, learning_rate=0.01,\n",
        "                        max_depth=5,random_state = 2023)\n",
        "xgb_clf.fit(X_train, y_tr_xgb)\n",
        "accuracy_train = accuracy_score(y_tr_xgb, xgb_clf.predict(X_train))\n",
        "accuracy_test = accuracy_score(y_ts_xgb, xgb_clf.predict(X_test))\n",
        "print('xgboost 학습 정확도: {:.4f}'.format(accuracy_train))\n",
        "print(confusion_matrix(y_tr_xgb, xgb_clf.predict(X_train)),'\\n')\n",
        "print('xgboost 예측 정확도: {:.4f}'.format(accuracy_test))\n",
        "print(confusion_matrix(y_ts_xgb, xgb_clf.predict(X_test)))"
      ],
      "metadata": {
        "colab": {
          "base_uri": "https://localhost:8080/"
        },
        "id": "2JTVfC-WkAqV",
        "outputId": "8e2eb5fb-3752-4674-9654-6660c70bd68f"
      },
      "execution_count": 288,
      "outputs": [
        {
          "output_type": "stream",
          "name": "stdout",
          "text": [
            "xgboost 학습 정확도: 0.8056\n",
            "[[  43  781    1    0]\n",
            " [   8 6846 1530    0]\n",
            " [   0 1019 7215    0]\n",
            " [   0    1   66   10]] \n",
            "\n",
            "xgboost 예측 정확도: 0.7663\n",
            "[[   0   26    0    0]\n",
            " [   0 1229  940    0]\n",
            " [   0  188 2670    0]\n",
            " [   0    0   35    0]]\n"
          ]
        }
      ]
    },
    {
      "cell_type": "markdown",
      "source": [
        "0. 파생변수(과거강우량),날짜 제외 -> 0.7295\n",
        "1. 날짜만 제외 -> 0.7298\n",
        "2. 날짜,연 제외 -> 0.7336\n",
        "3. 날짜,연,2주전 제외 -> 0.7355\n",
        "-------------------------------------------- 행 제거되는거 보충해서 17520개 채움\n",
        "4. 날짜,연,2주전 제외 -> 0.7622(왜 다시하니까 0.7585 됐지)(또하니까 0.7663 됨)\n",
        "\n",
        "- 17520개 있는거는 날짜만 없는게 0.7928정도였는데 이거 행이 몇개 없어진것 때문에 그런듯,\n",
        "    - 데이터 긁어올때 과거 데이터 2주치 더 긁어와서 대입 후에 하면 성능 더 오를지도"
      ],
      "metadata": {
        "id": "bmMFrIMYlZsq"
      }
    },
    {
      "cell_type": "markdown",
      "source": [
        "### pH점수 예측 후 train에 포함해서 수질등급 예측"
      ],
      "metadata": {
        "id": "MpjKqafWhBKL"
      }
    },
    {
      "cell_type": "markdown",
      "source": [
        "### pH점수 예측 모델링"
      ],
      "metadata": {
        "id": "gqHmBvplkkhr"
      }
    },
    {
      "cell_type": "code",
      "source": [
        "tan5.info()"
      ],
      "metadata": {
        "colab": {
          "base_uri": "https://localhost:8080/"
        },
        "id": "Y1ZgdtQ5hE8p",
        "outputId": "04f75ae7-af95-4649-9a57-4e157aadbfa1"
      },
      "execution_count": 289,
      "outputs": [
        {
          "output_type": "stream",
          "name": "stdout",
          "text": [
            "<class 'pandas.core.frame.DataFrame'>\n",
            "Int64Index: 17520 entries, 336 to 17855\n",
            "Data columns (total 24 columns):\n",
            " #   Column      Non-Null Count  Dtype         \n",
            "---  ------      --------------  -----         \n",
            " 0   날짜          17520 non-null  datetime64[ns]\n",
            " 1   연           17520 non-null  int64         \n",
            " 2   월           17520 non-null  int64         \n",
            " 3   일           17520 non-null  int64         \n",
            " 4   시           17520 non-null  int64         \n",
            " 5   수온          17520 non-null  float64       \n",
            " 6   강우량         17520 non-null  float64       \n",
            " 7   4시간 전 강우량   17520 non-null  float64       \n",
            " 8   8시간 전 강우량   17520 non-null  float64       \n",
            " 9   16시간 전 강우량  17520 non-null  float64       \n",
            " 10  1일 전 강우량    17520 non-null  float64       \n",
            " 11  3일 전 강우량    17520 non-null  float64       \n",
            " 12  5일 전 강우량    17520 non-null  float64       \n",
            " 13  7일 전 강우량    17520 non-null  float64       \n",
            " 14  2주 전 강우량    17520 non-null  float64       \n",
            " 15  pH          17520 non-null  float64       \n",
            " 16  용존산소(㎎/L)   17520 non-null  float64       \n",
            " 17  총인(㎎/L)     17520 non-null  float64       \n",
            " 18  총유기탄소       17520 non-null  float64       \n",
            " 19  pH점수        17520 non-null  int64         \n",
            " 20  용존산소점수      17520 non-null  int64         \n",
            " 21  총인점수        17520 non-null  int64         \n",
            " 22  총유기탄소점수     17520 non-null  int64         \n",
            " 23  수질등급        17520 non-null  int64         \n",
            "dtypes: datetime64[ns](1), float64(14), int64(9)\n",
            "memory usage: 3.3 MB\n"
          ]
        }
      ]
    },
    {
      "cell_type": "code",
      "source": [
        "train=tan5.drop(columns=['날짜','연','월','일','3일 전 강우량','5일 전 강우량','7일 전 강우량','2주 전 강우량','pH','용존산소(㎎/L)','총인(㎎/L)','총유기탄소','수질등급','용존산소점수','총인점수','총유기탄소점수'], axis=1)\n",
        "test=test5.drop(columns=['날짜','연','월','일','3일 전 강우량','5일 전 강우량','7일 전 강우량','2주 전 강우량','pH','용존산소(㎎/L)','총인(㎎/L)','총유기탄소','수질등급','용존산소점수','총인점수','총유기탄소점수'], axis=1)"
      ],
      "metadata": {
        "id": "by3gC66fhRF1"
      },
      "execution_count": 291,
      "outputs": []
    },
    {
      "cell_type": "code",
      "source": [
        "X_train=train.drop('pH점수', axis=1)\n",
        "y_train=train[['pH점수']]\n",
        "\n",
        "X_test=test.drop('pH점수', axis=1)\n",
        "y_test=test[['pH점수']]"
      ],
      "metadata": {
        "id": "IjdHNp3thmYN"
      },
      "execution_count": 292,
      "outputs": []
    },
    {
      "cell_type": "code",
      "source": [
        "y_tr_xgb=y_train.copy()\n",
        "y_ts_xgb=y_test.copy()"
      ],
      "metadata": {
        "id": "y3vt7-t8hogZ"
      },
      "execution_count": 293,
      "outputs": []
    },
    {
      "cell_type": "code",
      "source": [
        "for i in range(y_tr_xgb.shape[0]):\n",
        "  a=y_tr_xgb.iloc[i]['pH점수']\n",
        "\n",
        "  if a==1:\n",
        "    y_tr_xgb.iloc[i]['pH점수']=0\n",
        "  elif a==2:\n",
        "    y_tr_xgb.iloc[i]['pH점수']=1\n",
        "  elif a==3:\n",
        "    y_tr_xgb.iloc[i]['pH점수']=2\n",
        "  else:\n",
        "    y_tr_xgb.iloc[i]['pH점수']=3"
      ],
      "metadata": {
        "id": "AXBWr7nfhqu2"
      },
      "execution_count": 294,
      "outputs": []
    },
    {
      "cell_type": "code",
      "source": [
        "for i in range(y_ts_xgb.shape[0]):\n",
        "  a=y_ts_xgb.iloc[i]['pH점수']\n",
        "\n",
        "  if a==1:\n",
        "    y_ts_xgb.iloc[i]['pH점수']=0\n",
        "  elif a==2:\n",
        "    y_ts_xgb.iloc[i]['pH점수']=1\n",
        "  elif a==3:\n",
        "    y_ts_xgb.iloc[i]['pH점수']=2\n",
        "  else:\n",
        "    y_ts_xgb.iloc[i]['pH점수']=3"
      ],
      "metadata": {
        "id": "fMWZJ6LGhstz"
      },
      "execution_count": 295,
      "outputs": []
    },
    {
      "cell_type": "code",
      "source": [
        "def xgb_bo2(max_depth, learning_rate, n_estimators):\n",
        "  xgb_params = {\n",
        "      'max_depth' : int(round(max_depth)),\n",
        "      'learning_rate' : learning_rate,\n",
        "      'n_estimators' : int(round(n_estimators))\n",
        "      }\n",
        "\n",
        "  xgb = XGBClassifier(**xgb_params)\n",
        "  xgb.fit(X_train,y_tr_xgb)\n",
        "\n",
        "  score = accuracy_score(y_ts_xgb, xgb.predict(X_test))\n",
        "\n",
        "  return score"
      ],
      "metadata": {
        "id": "e4Dq76GXhvRt"
      },
      "execution_count": 296,
      "outputs": []
    },
    {
      "cell_type": "code",
      "source": [
        "xgb_parameter_bounds = {\n",
        "                      'max_depth' : (3,7),\n",
        "                      'learning_rate' : (0.01,1),\n",
        "                      'n_estimators' : (90,200)\n",
        "                      }"
      ],
      "metadata": {
        "id": "3hx60HaWhyHW"
      },
      "execution_count": 297,
      "outputs": []
    },
    {
      "cell_type": "code",
      "source": [
        "BO_xgb2 = BayesianOptimization(f = xgb_bo2, pbounds = xgb_parameter_bounds,random_state = 2023)"
      ],
      "metadata": {
        "id": "9vJd1T8Yh0GQ"
      },
      "execution_count": 298,
      "outputs": []
    },
    {
      "cell_type": "code",
      "source": [
        "BO_xgb2.maximize(init_points = 20, n_iter = 5)"
      ],
      "metadata": {
        "colab": {
          "base_uri": "https://localhost:8080/"
        },
        "id": "OFqNtq7Bh2Gk",
        "outputId": "414434be-6637-4f0d-f757-6eb3dc7120da"
      },
      "execution_count": 299,
      "outputs": [
        {
          "output_type": "stream",
          "name": "stdout",
          "text": [
            "|   iter    |  target   | learni... | max_depth | n_esti... |\n",
            "-------------------------------------------------------------\n",
            "| \u001b[0m1        \u001b[0m | \u001b[0m0.749    \u001b[0m | \u001b[0m0.3288   \u001b[0m | \u001b[0m6.562    \u001b[0m | \u001b[0m154.7    \u001b[0m |\n",
            "| \u001b[95m2        \u001b[0m | \u001b[95m0.775    \u001b[0m | \u001b[95m0.1353   \u001b[0m | \u001b[95m3.565    \u001b[0m | \u001b[95m141.5    \u001b[0m |\n",
            "| \u001b[95m3        \u001b[0m | \u001b[95m0.7893   \u001b[0m | \u001b[95m0.03187  \u001b[0m | \u001b[95m5.909    \u001b[0m | \u001b[95m147.7    \u001b[0m |\n",
            "| \u001b[0m4        \u001b[0m | \u001b[0m0.7514   \u001b[0m | \u001b[0m0.5495   \u001b[0m | \u001b[0m4.825    \u001b[0m | \u001b[0m145.2    \u001b[0m |\n",
            "| \u001b[0m5        \u001b[0m | \u001b[0m0.7583   \u001b[0m | \u001b[0m0.4005   \u001b[0m | \u001b[0m3.605    \u001b[0m | \u001b[0m129.7    \u001b[0m |\n",
            "| \u001b[0m6        \u001b[0m | \u001b[0m0.7726   \u001b[0m | \u001b[0m0.1705   \u001b[0m | \u001b[0m4.352    \u001b[0m | \u001b[0m109.8    \u001b[0m |\n",
            "| \u001b[0m7        \u001b[0m | \u001b[0m0.7642   \u001b[0m | \u001b[0m0.3971   \u001b[0m | \u001b[0m3.143    \u001b[0m | \u001b[0m152.1    \u001b[0m |\n",
            "| \u001b[0m8        \u001b[0m | \u001b[0m0.7573   \u001b[0m | \u001b[0m0.2114   \u001b[0m | \u001b[0m4.282    \u001b[0m | \u001b[0m131.4    \u001b[0m |\n",
            "| \u001b[0m9        \u001b[0m | \u001b[0m0.7761   \u001b[0m | \u001b[0m0.1922   \u001b[0m | \u001b[0m3.416    \u001b[0m | \u001b[0m140.0    \u001b[0m |\n",
            "| \u001b[0m10       \u001b[0m | \u001b[0m0.7567   \u001b[0m | \u001b[0m0.2039   \u001b[0m | \u001b[0m4.514    \u001b[0m | \u001b[0m192.4    \u001b[0m |\n",
            "| \u001b[0m11       \u001b[0m | \u001b[0m0.7439   \u001b[0m | \u001b[0m0.7626   \u001b[0m | \u001b[0m6.083    \u001b[0m | \u001b[0m155.6    \u001b[0m |\n",
            "| \u001b[0m12       \u001b[0m | \u001b[0m0.736    \u001b[0m | \u001b[0m0.7937   \u001b[0m | \u001b[0m6.241    \u001b[0m | \u001b[0m197.9    \u001b[0m |\n",
            "| \u001b[0m13       \u001b[0m | \u001b[0m0.7563   \u001b[0m | \u001b[0m0.8859   \u001b[0m | \u001b[0m3.439    \u001b[0m | \u001b[0m180.2    \u001b[0m |\n",
            "| \u001b[0m14       \u001b[0m | \u001b[0m0.762    \u001b[0m | \u001b[0m0.3145   \u001b[0m | \u001b[0m4.046    \u001b[0m | \u001b[0m134.6    \u001b[0m |\n",
            "| \u001b[0m15       \u001b[0m | \u001b[0m0.7469   \u001b[0m | \u001b[0m0.5579   \u001b[0m | \u001b[0m5.502    \u001b[0m | \u001b[0m98.66    \u001b[0m |\n",
            "| \u001b[0m16       \u001b[0m | \u001b[0m0.7408   \u001b[0m | \u001b[0m0.9726   \u001b[0m | \u001b[0m4.645    \u001b[0m | \u001b[0m169.4    \u001b[0m |\n",
            "| \u001b[0m17       \u001b[0m | \u001b[0m0.7583   \u001b[0m | \u001b[0m0.6667   \u001b[0m | \u001b[0m3.873    \u001b[0m | \u001b[0m110.6    \u001b[0m |\n",
            "| \u001b[0m18       \u001b[0m | \u001b[0m0.7435   \u001b[0m | \u001b[0m0.7325   \u001b[0m | \u001b[0m6.453    \u001b[0m | \u001b[0m133.1    \u001b[0m |\n",
            "| \u001b[0m19       \u001b[0m | \u001b[0m0.7559   \u001b[0m | \u001b[0m0.1189   \u001b[0m | \u001b[0m6.651    \u001b[0m | \u001b[0m129.3    \u001b[0m |\n",
            "| \u001b[0m20       \u001b[0m | \u001b[0m0.76     \u001b[0m | \u001b[0m0.4188   \u001b[0m | \u001b[0m3.734    \u001b[0m | \u001b[0m154.5    \u001b[0m |\n",
            "| \u001b[95m21       \u001b[0m | \u001b[95m0.8125   \u001b[0m | \u001b[95m0.01     \u001b[0m | \u001b[95m6.063    \u001b[0m | \u001b[95m148.7    \u001b[0m |\n",
            "| \u001b[0m22       \u001b[0m | \u001b[0m0.7421   \u001b[0m | \u001b[0m0.3811   \u001b[0m | \u001b[0m6.801    \u001b[0m | \u001b[0m149.3    \u001b[0m |\n",
            "| \u001b[0m23       \u001b[0m | \u001b[0m0.7659   \u001b[0m | \u001b[0m0.08606  \u001b[0m | \u001b[0m6.088    \u001b[0m | \u001b[0m147.7    \u001b[0m |\n",
            "| \u001b[0m24       \u001b[0m | \u001b[0m0.7571   \u001b[0m | \u001b[0m0.3957   \u001b[0m | \u001b[0m4.716    \u001b[0m | \u001b[0m149.9    \u001b[0m |\n",
            "| \u001b[0m25       \u001b[0m | \u001b[0m0.7553   \u001b[0m | \u001b[0m0.9995   \u001b[0m | \u001b[0m3.994    \u001b[0m | \u001b[0m105.4    \u001b[0m |\n",
            "=============================================================\n"
          ]
        }
      ]
    },
    {
      "cell_type": "code",
      "source": [
        "BO_xgb2.max"
      ],
      "metadata": {
        "colab": {
          "base_uri": "https://localhost:8080/"
        },
        "id": "FIHmgFZ9h4BQ",
        "outputId": "3c0fbd72-a040-49d7-8a12-56863dccc003"
      },
      "execution_count": 300,
      "outputs": [
        {
          "output_type": "execute_result",
          "data": {
            "text/plain": [
              "{'target': 0.8125,\n",
              " 'params': {'learning_rate': 0.01,\n",
              "  'max_depth': 6.063046176976464,\n",
              "  'n_estimators': 148.67551163923096}}"
            ]
          },
          "metadata": {},
          "execution_count": 300
        }
      ]
    },
    {
      "cell_type": "code",
      "source": [
        "xgb_clf = XGBClassifier(n_estimators=149, learning_rate=0.01,\n",
        "                        max_depth=6, random_state = 2023)\n",
        "xgb_clf.fit(X_train, y_tr_xgb)\n",
        "accuracy_train = accuracy_score(y_tr_xgb, xgb_clf.predict(X_train))\n",
        "accuracy_test = accuracy_score(y_ts_xgb, xgb_clf.predict(X_test))\n",
        "print('xgboost 학습 정확도: {:.4f}'.format(accuracy_train))\n",
        "print(confusion_matrix(y_tr_xgb, xgb_clf.predict(X_train)),'\\n')\n",
        "print('xgboost 예측 정확도: {:.4f}'.format(accuracy_test))\n",
        "print(confusion_matrix(y_ts_xgb, xgb_clf.predict(X_test)))"
      ],
      "metadata": {
        "colab": {
          "base_uri": "https://localhost:8080/"
        },
        "id": "Su-aTj-ih536",
        "outputId": "d9e95175-e4c3-4340-ab6a-70e564b0ff33"
      },
      "execution_count": 301,
      "outputs": [
        {
          "output_type": "stream",
          "name": "stdout",
          "text": [
            "xgboost 학습 정확도: 0.7654\n",
            "[[   31   184     1     0]\n",
            " [    3 10783   653    20]\n",
            " [    0  2527  2466    44]\n",
            " [    0   364   314   130]] \n",
            "\n",
            "xgboost 예측 정확도: 0.8125\n",
            "[[   4  147    3    0]\n",
            " [   1 3753  596    6]\n",
            " [   0  133  371   51]\n",
            " [   0    7   10    6]]\n"
          ]
        }
      ]
    },
    {
      "cell_type": "markdown",
      "source": [
        "- pH점수 정확도 0.8125, pred를 학습자료로 사용"
      ],
      "metadata": {
        "id": "V0LpD8JNjNRI"
      }
    },
    {
      "cell_type": "markdown",
      "source": [
        "### 수질등급 예측 모델링"
      ],
      "metadata": {
        "id": "VRTnAFvCknq_"
      }
    },
    {
      "cell_type": "code",
      "source": [
        "tan5['pH등급'] = xgb_clf.predict(X_train)\n",
        "test5['pH등급'] = xgb_clf.predict(X_test)"
      ],
      "metadata": {
        "id": "SbbZLYjZjIwF"
      },
      "execution_count": 302,
      "outputs": []
    },
    {
      "cell_type": "code",
      "source": [
        "train=tan5.drop(columns=['날짜','연','2주 전 강우량','pH','용존산소(㎎/L)','총인(㎎/L)','총유기탄소','pH점수','용존산소점수','총인점수','총유기탄소점수'], axis=1)\n",
        "test=test5.drop(columns=['날짜','연','2주 전 강우량','pH','용존산소(㎎/L)','총인(㎎/L)','총유기탄소','pH점수','용존산소점수','총인점수','총유기탄소점수'], axis=1)"
      ],
      "metadata": {
        "id": "wcEyzfcekyHO"
      },
      "execution_count": 303,
      "outputs": []
    },
    {
      "cell_type": "code",
      "source": [
        "X_train=train.drop('수질등급', axis=1)\n",
        "y_train=train[['수질등급']]\n",
        "\n",
        "X_test=test.drop('수질등급', axis=1)\n",
        "y_test=test[['수질등급']]"
      ],
      "metadata": {
        "id": "OXr_zwNSlARE"
      },
      "execution_count": 304,
      "outputs": []
    },
    {
      "cell_type": "code",
      "source": [
        "y_tr_xgb=y_train.copy()\n",
        "y_ts_xgb=y_test.copy()"
      ],
      "metadata": {
        "id": "0Eg5lM0wlBt5"
      },
      "execution_count": 305,
      "outputs": []
    },
    {
      "cell_type": "code",
      "source": [
        "for i in range(y_tr_xgb.shape[0]):\n",
        "  a=y_tr_xgb.iloc[i]['수질등급']\n",
        "\n",
        "  if a==1:\n",
        "    y_tr_xgb.iloc[i]['수질등급']=0\n",
        "  elif a==2:\n",
        "    y_tr_xgb.iloc[i]['수질등급']=1\n",
        "  elif a==3:\n",
        "    y_tr_xgb.iloc[i]['수질등급']=2\n",
        "  else:\n",
        "    y_tr_xgb.iloc[i]['수질등급']=3"
      ],
      "metadata": {
        "id": "DtjaivFwlKLH"
      },
      "execution_count": 306,
      "outputs": []
    },
    {
      "cell_type": "code",
      "source": [
        "for i in range(y_ts_xgb.shape[0]):\n",
        "  a=y_ts_xgb.iloc[i]['수질등급']\n",
        "\n",
        "  if a==1:\n",
        "    y_ts_xgb.iloc[i]['수질등급']=0\n",
        "  elif a==2:\n",
        "    y_ts_xgb.iloc[i]['수질등급']=1\n",
        "  elif a==3:\n",
        "    y_ts_xgb.iloc[i]['수질등급']=2\n",
        "  else:\n",
        "    y_ts_xgb.iloc[i]['수질등급']=3"
      ],
      "metadata": {
        "id": "nOyOrEE3lL3e"
      },
      "execution_count": 307,
      "outputs": []
    },
    {
      "cell_type": "code",
      "source": [
        "def xgb_bo2(max_depth, learning_rate, n_estimators):\n",
        "  xgb_params = {\n",
        "      'max_depth' : int(round(max_depth)),\n",
        "      'learning_rate' : learning_rate,\n",
        "      'n_estimators' : int(round(n_estimators))\n",
        "      }\n",
        "\n",
        "  xgb = XGBClassifier(**xgb_params)\n",
        "  xgb.fit(X_train,y_tr_xgb)\n",
        "\n",
        "  score = accuracy_score(y_ts_xgb, xgb.predict(X_test))\n",
        "\n",
        "  return score"
      ],
      "metadata": {
        "id": "6JMKBjkmlQYz"
      },
      "execution_count": 308,
      "outputs": []
    },
    {
      "cell_type": "code",
      "source": [
        "xgb_parameter_bounds = {\n",
        "                      'max_depth' : (3,7),\n",
        "                      'learning_rate' : (0.01,1),\n",
        "                      'n_estimators' : (90,200)\n",
        "                      }"
      ],
      "metadata": {
        "id": "Qisc2wKclSH5"
      },
      "execution_count": 309,
      "outputs": []
    },
    {
      "cell_type": "code",
      "source": [
        "BO_xgb2 = BayesianOptimization(f = xgb_bo2, pbounds = xgb_parameter_bounds,random_state = 2023)"
      ],
      "metadata": {
        "id": "rwPZIVellTt4"
      },
      "execution_count": 310,
      "outputs": []
    },
    {
      "cell_type": "code",
      "source": [
        "BO_xgb2.maximize(init_points = 20, n_iter = 5)"
      ],
      "metadata": {
        "colab": {
          "base_uri": "https://localhost:8080/"
        },
        "id": "0z7QLfpwlVwf",
        "outputId": "4ddb1029-efbc-46bc-f3f7-f949f9261e98"
      },
      "execution_count": 313,
      "outputs": [
        {
          "output_type": "stream",
          "name": "stdout",
          "text": [
            "|   iter    |  target   | learni... | max_depth | n_esti... |\n",
            "-------------------------------------------------------------\n",
            "| \u001b[0m26       \u001b[0m | \u001b[0m0.7132   \u001b[0m | \u001b[0m0.8571   \u001b[0m | \u001b[0m6.159    \u001b[0m | \u001b[0m99.66    \u001b[0m |\n",
            "| \u001b[0m27       \u001b[0m | \u001b[0m0.7085   \u001b[0m | \u001b[0m0.9337   \u001b[0m | \u001b[0m5.0      \u001b[0m | \u001b[0m130.1    \u001b[0m |\n",
            "| \u001b[0m28       \u001b[0m | \u001b[0m0.7223   \u001b[0m | \u001b[0m0.4888   \u001b[0m | \u001b[0m5.061    \u001b[0m | \u001b[0m199.4    \u001b[0m |\n",
            "| \u001b[0m29       \u001b[0m | \u001b[0m0.7195   \u001b[0m | \u001b[0m0.7559   \u001b[0m | \u001b[0m4.463    \u001b[0m | \u001b[0m157.3    \u001b[0m |\n",
            "| \u001b[0m30       \u001b[0m | \u001b[0m0.7423   \u001b[0m | \u001b[0m0.4254   \u001b[0m | \u001b[0m3.367    \u001b[0m | \u001b[0m148.8    \u001b[0m |\n",
            "| \u001b[0m31       \u001b[0m | \u001b[0m0.7429   \u001b[0m | \u001b[0m0.3474   \u001b[0m | \u001b[0m3.073    \u001b[0m | \u001b[0m156.4    \u001b[0m |\n",
            "| \u001b[0m32       \u001b[0m | \u001b[0m0.7083   \u001b[0m | \u001b[0m0.9226   \u001b[0m | \u001b[0m4.125    \u001b[0m | \u001b[0m181.8    \u001b[0m |\n",
            "| \u001b[0m33       \u001b[0m | \u001b[0m0.7364   \u001b[0m | \u001b[0m0.5541   \u001b[0m | \u001b[0m3.087    \u001b[0m | \u001b[0m128.2    \u001b[0m |\n",
            "| \u001b[0m34       \u001b[0m | \u001b[0m0.7333   \u001b[0m | \u001b[0m0.5545   \u001b[0m | \u001b[0m3.053    \u001b[0m | \u001b[0m168.7    \u001b[0m |\n",
            "| \u001b[0m35       \u001b[0m | \u001b[0m0.7256   \u001b[0m | \u001b[0m0.1979   \u001b[0m | \u001b[0m5.97     \u001b[0m | \u001b[0m159.2    \u001b[0m |\n",
            "| \u001b[0m36       \u001b[0m | \u001b[0m0.7217   \u001b[0m | \u001b[0m0.3686   \u001b[0m | \u001b[0m5.508    \u001b[0m | \u001b[0m146.6    \u001b[0m |\n",
            "| \u001b[0m37       \u001b[0m | \u001b[0m0.7142   \u001b[0m | \u001b[0m0.896    \u001b[0m | \u001b[0m5.075    \u001b[0m | \u001b[0m156.8    \u001b[0m |\n",
            "| \u001b[0m38       \u001b[0m | \u001b[0m0.7223   \u001b[0m | \u001b[0m0.4801   \u001b[0m | \u001b[0m5.838    \u001b[0m | \u001b[0m102.7    \u001b[0m |\n",
            "| \u001b[0m39       \u001b[0m | \u001b[0m0.7099   \u001b[0m | \u001b[0m0.7355   \u001b[0m | \u001b[0m6.512    \u001b[0m | \u001b[0m147.1    \u001b[0m |\n",
            "| \u001b[0m40       \u001b[0m | \u001b[0m0.7134   \u001b[0m | \u001b[0m0.6837   \u001b[0m | \u001b[0m4.742    \u001b[0m | \u001b[0m196.9    \u001b[0m |\n",
            "| \u001b[0m41       \u001b[0m | \u001b[0m0.7203   \u001b[0m | \u001b[0m0.3715   \u001b[0m | \u001b[0m5.491    \u001b[0m | \u001b[0m118.4    \u001b[0m |\n",
            "| \u001b[0m42       \u001b[0m | \u001b[0m0.7101   \u001b[0m | \u001b[0m0.6845   \u001b[0m | \u001b[0m6.506    \u001b[0m | \u001b[0m116.6    \u001b[0m |\n",
            "| \u001b[0m43       \u001b[0m | \u001b[0m0.7329   \u001b[0m | \u001b[0m0.1512   \u001b[0m | \u001b[0m6.302    \u001b[0m | \u001b[0m141.2    \u001b[0m |\n",
            "| \u001b[0m44       \u001b[0m | \u001b[0m0.7203   \u001b[0m | \u001b[0m0.3448   \u001b[0m | \u001b[0m6.735    \u001b[0m | \u001b[0m140.0    \u001b[0m |\n",
            "| \u001b[0m45       \u001b[0m | \u001b[0m0.7435   \u001b[0m | \u001b[0m0.4993   \u001b[0m | \u001b[0m3.184    \u001b[0m | \u001b[0m103.1    \u001b[0m |\n",
            "| \u001b[0m46       \u001b[0m | \u001b[0m0.736    \u001b[0m | \u001b[0m0.1412   \u001b[0m | \u001b[0m5.979    \u001b[0m | \u001b[0m147.6    \u001b[0m |\n",
            "| \u001b[95m47       \u001b[0m | \u001b[95m0.7687   \u001b[0m | \u001b[95m0.07622  \u001b[0m | \u001b[95m3.361    \u001b[0m | \u001b[95m140.0    \u001b[0m |\n",
            "| \u001b[0m48       \u001b[0m | \u001b[0m0.7661   \u001b[0m | \u001b[0m0.07861  \u001b[0m | \u001b[0m3.526    \u001b[0m | \u001b[0m140.0    \u001b[0m |\n",
            "| \u001b[0m49       \u001b[0m | \u001b[0m0.7301   \u001b[0m | \u001b[0m0.5573   \u001b[0m | \u001b[0m3.069    \u001b[0m | \u001b[0m168.8    \u001b[0m |\n",
            "| \u001b[0m50       \u001b[0m | \u001b[0m0.7506   \u001b[0m | \u001b[0m0.1911   \u001b[0m | \u001b[0m3.628    \u001b[0m | \u001b[0m141.7    \u001b[0m |\n",
            "=============================================================\n"
          ]
        }
      ]
    },
    {
      "cell_type": "code",
      "source": [
        "BO_xgb2.max"
      ],
      "metadata": {
        "colab": {
          "base_uri": "https://localhost:8080/"
        },
        "id": "13R0Jw7tlX-S",
        "outputId": "75f98c98-cfe0-4286-dc24-4307e85965a3"
      },
      "execution_count": 314,
      "outputs": [
        {
          "output_type": "execute_result",
          "data": {
            "text/plain": [
              "{'target': 0.7686713836477987,\n",
              " 'params': {'learning_rate': 0.07621641711792349,\n",
              "  'max_depth': 3.3611934321753334,\n",
              "  'n_estimators': 139.9896190669906}}"
            ]
          },
          "metadata": {},
          "execution_count": 314
        }
      ]
    },
    {
      "cell_type": "code",
      "source": [
        "xgb_clf = XGBClassifier(n_estimators=140, learning_rate=0.0762,\n",
        "                        max_depth=3,random_state = 2023)\n",
        "xgb_clf.fit(X_train, y_tr_xgb)\n",
        "accuracy_train = accuracy_score(y_tr_xgb, xgb_clf.predict(X_train))\n",
        "accuracy_test = accuracy_score(y_ts_xgb, xgb_clf.predict(X_test))\n",
        "print('xgboost 학습 정확도: {:.4f}'.format(accuracy_train))\n",
        "print(confusion_matrix(y_tr_xgb, xgb_clf.predict(X_train)),'\\n')\n",
        "print('xgboost 예측 정확도: {:.4f}'.format(accuracy_test))\n",
        "print(confusion_matrix(y_ts_xgb, xgb_clf.predict(X_test)))"
      ],
      "metadata": {
        "colab": {
          "base_uri": "https://localhost:8080/"
        },
        "id": "0Vh2ZIJ2lZ9g",
        "outputId": "1f06bfed-5a46-429b-fbd5-803517b022d0"
      },
      "execution_count": 315,
      "outputs": [
        {
          "output_type": "stream",
          "name": "stdout",
          "text": [
            "xgboost 학습 정확도: 0.8186\n",
            "[[ 197  627    1    0]\n",
            " [  80 6838 1466    0]\n",
            " [   1  936 7297    0]\n",
            " [   0    3   64   10]] \n",
            "\n",
            "xgboost 예측 정확도: 0.7695\n",
            "[[   0   26    0    0]\n",
            " [   0 1233  936    0]\n",
            " [   0  176 2682    0]\n",
            " [   0    0   35    0]]\n"
          ]
        }
      ]
    }
  ]
}