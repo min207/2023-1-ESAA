{
  "nbformat": 4,
  "nbformat_minor": 0,
  "metadata": {
    "colab": {
      "provenance": [],
      "authorship_tag": "ABX9TyM95xx+jzd/9SYpbZRnObsO",
      "include_colab_link": true
    },
    "kernelspec": {
      "name": "python3",
      "display_name": "Python 3"
    },
    "language_info": {
      "name": "python"
    }
  },
  "cells": [
    {
      "cell_type": "markdown",
      "metadata": {
        "id": "view-in-github",
        "colab_type": "text"
      },
      "source": [
        "<a href=\"https://colab.research.google.com/github/min207/2023-1-ESAA/blob/main/ESAA230526.ipynb\" target=\"_parent\"><img src=\"https://colab.research.google.com/assets/colab-badge.svg\" alt=\"Open In Colab\"/></a>"
      ]
    },
    {
      "cell_type": "markdown",
      "source": [
        "## **04. 모델 세부 설정**"
      ],
      "metadata": {
        "id": "hKP2yI4vPPdo"
      }
    },
    {
      "cell_type": "code",
      "execution_count": 1,
      "metadata": {
        "id": "T90GYzCeP5BM",
        "colab": {
          "base_uri": "https://localhost:8080/"
        },
        "outputId": "05ce33af-8737-4cf5-eff6-486f1e8a3356"
      },
      "outputs": [
        {
          "output_type": "stream",
          "name": "stdout",
          "text": [
            "Downloading data from https://storage.googleapis.com/tensorflow/tf-keras-datasets/mnist.npz\n",
            "11490434/11490434 [==============================] - 0s 0us/step\n",
            "train set: (60000, 28, 28) (60000,)\n",
            "test set: (10000, 28, 28) (10000,)\n"
          ]
        }
      ],
      "source": [
        "# 입력 데이터 준비\n",
        "\n",
        "import tensorflow as tf\n",
        "\n",
        "# 케라스의 내장 데이터셋에서 mnist 데이터 로드\n",
        "mnist = tf.keras.datasets.mnist\n",
        "\n",
        "# load_data()로 데이터 로드\n",
        "(x_train, y_train), (x_test, y_test)=mnist.load_data()\n",
        "\n",
        "# 로드된 데이터셋 확인\n",
        "print('train set:', x_train.shape, y_train.shape)\n",
        "print('test set:', x_test.shape, y_test.shape)\n",
        "\n",
        "# 데이터 정규화\n",
        "x_train = x_train/x_train.max()\n",
        "x_test = x_test/x_test.max()"
      ]
    },
    {
      "cell_type": "markdown",
      "source": [
        "### **4-1. 초기값 설정**\n",
        "- Dense 레이어는 기본 초기화 방법으로 Glorot Uniform 초기화 방법이 설정되어있음\n",
        "  + kernel_initializer 매개변수 설정을 통해 다르게 설정 가능\n",
        "  + 문자열로 지정하거나 클래스 인스턴스로 지정 "
      ],
      "metadata": {
        "id": "BuD148ihPfSM"
      }
    },
    {
      "cell_type": "code",
      "source": [
        "dense = tf.keras.layers.Dense(256, activation='relu')\n",
        "dense.get_config()['kernel_initializer']"
      ],
      "metadata": {
        "id": "tcZuMa0bQEyE",
        "colab": {
          "base_uri": "https://localhost:8080/"
        },
        "outputId": "074b64e1-a1e5-44a4-d41a-92b1bed4be04"
      },
      "execution_count": 2,
      "outputs": [
        {
          "output_type": "execute_result",
          "data": {
            "text/plain": [
              "{'class_name': 'GlorotUniform', 'config': {'seed': None}}"
            ]
          },
          "metadata": {},
          "execution_count": 2
        }
      ]
    },
    {
      "cell_type": "code",
      "source": [
        "# 문자열 초기화\n",
        "dense = tf.keras.layers.Dense(256, kernel_initializer='he_normal', activation='relu')\n",
        "print(dense.get_config()['kernel_initializer'])\n",
        "\n",
        "# 클래스 인스턴스 초기화\n",
        "he_normal = tf.keras.initializers.HeNormal()\n",
        "dense = tf.keras.layers.Dense(256, kernel_initializer=he_normal, activation='relu')\n",
        "print(dense.get_config()['kernel_initializer'])"
      ],
      "metadata": {
        "id": "_I7Fs45MQGtn",
        "colab": {
          "base_uri": "https://localhost:8080/"
        },
        "outputId": "ce86174a-6410-4c5c-bd36-d6227612fa0b"
      },
      "execution_count": 3,
      "outputs": [
        {
          "output_type": "stream",
          "name": "stdout",
          "text": [
            "{'class_name': 'HeNormal', 'config': {'seed': None}}\n",
            "{'class_name': 'HeNormal', 'config': {'seed': None}}\n"
          ]
        }
      ]
    },
    {
      "cell_type": "markdown",
      "source": [
        "> - 글로럿 초기화\n",
        "- Yann Lecun 초기화\n",
        "- He 초기화\n",
        "- 정규분포, 연속균등 분포 초기화\n",
        "\n",
        "\n",
        "\n",
        "\n",
        "\n",
        "\n",
        "-----\n",
        "### **4-2. 규제**\n",
        "- 모델의 과대적합을 해소하기 위해 L1, L2 규제 적용 가능\n",
        "- 기본값은 규제 적용 x: kernel_regularizer = None\n",
        "  + 즉, 레이어에 규제 적용을 위해서는 별도의 설정 필요 "
      ],
      "metadata": {
        "id": "8omHGIHIP322"
      }
    },
    {
      "cell_type": "code",
      "source": [
        "# 기본값\n",
        "dense = tf.keras.layers.Dense(256, activation='relu')\n",
        "dense.get_config()"
      ],
      "metadata": {
        "id": "g2nqaZkQQIU5",
        "colab": {
          "base_uri": "https://localhost:8080/"
        },
        "outputId": "90107b08-35cb-4e2c-8061-f48ed1892206"
      },
      "execution_count": 4,
      "outputs": [
        {
          "output_type": "execute_result",
          "data": {
            "text/plain": [
              "{'name': 'dense_3',\n",
              " 'trainable': True,\n",
              " 'dtype': 'float32',\n",
              " 'units': 256,\n",
              " 'activation': 'relu',\n",
              " 'use_bias': True,\n",
              " 'kernel_initializer': {'class_name': 'GlorotUniform',\n",
              "  'config': {'seed': None}},\n",
              " 'bias_initializer': {'class_name': 'Zeros', 'config': {}},\n",
              " 'kernel_regularizer': None,\n",
              " 'bias_regularizer': None,\n",
              " 'activity_regularizer': None,\n",
              " 'kernel_constraint': None,\n",
              " 'bias_constraint': None}"
            ]
          },
          "metadata": {},
          "execution_count": 4
        }
      ]
    },
    {
      "cell_type": "markdown",
      "source": [
        "> - 모델을 구성하는 레이어마다 규제 적용 가능: kernel_regularizer에 L1, L2 규제 지정  "
      ],
      "metadata": {
        "id": "hiWqG_jtQWNW"
      }
    },
    {
      "cell_type": "code",
      "source": [
        "# L1 규제 적용\n",
        "dense = tf.keras.layers.Dense(256, kernel_regularizer='l1', activation='relu')\n",
        "print(dense.get_config()['kernel_regularizer'])\n",
        "\n",
        "# 클래스 인스턴스 적용, alpha=0.1 변경\n",
        "regularizer = tf.keras.regularizers.l1(l1=0.1)\n",
        "dense = tf.keras.layers.Dense(256, kernel_regularizer=regularizer, activation='relu')\n",
        "print(dense.get_config()['kernel_regularizer'])"
      ],
      "metadata": {
        "id": "b2ncWmE2QJTr",
        "colab": {
          "base_uri": "https://localhost:8080/"
        },
        "outputId": "9c5e0a2c-013c-49ca-cd74-b58647578d59"
      },
      "execution_count": 5,
      "outputs": [
        {
          "output_type": "stream",
          "name": "stdout",
          "text": [
            "{'class_name': 'L1', 'config': {'l1': 0.009999999776482582}}\n",
            "{'class_name': 'L1', 'config': {'l1': 0.10000000149011612}}\n"
          ]
        }
      ]
    },
    {
      "cell_type": "markdown",
      "source": [
        "### **4-3. 드롭아웃**\n",
        "- 드롭아웃: 딥러닝 모델의 과대적합 문제를 해결하기 위해 제안된 아이디어로, 실무적으로 효과가 좋음 \n",
        "  + 모든 노드를 연결하지 않고 확률적으로 노드의 일부 신호를 임의로 삭제하여 가중치 파라미터의 개수를 줄이는 방법으로 과대적합 방지\n",
        "  + 모델 훈련 시에는 드롭아웃이 적용되지만, 예측 시에는 모든 노드를 활용 "
      ],
      "metadata": {
        "id": "-_UB-5NWQdUK"
      }
    },
    {
      "cell_type": "code",
      "source": [
        "# dropout 25% 비율 적용 (25% 노드가 삭제)\n",
        "tf.keras.layers.Dropout(0.25)"
      ],
      "metadata": {
        "id": "WP9xqEwjQL7g",
        "colab": {
          "base_uri": "https://localhost:8080/"
        },
        "outputId": "8bfd8700-dfac-49db-cd1a-450a670da989"
      },
      "execution_count": 6,
      "outputs": [
        {
          "output_type": "execute_result",
          "data": {
            "text/plain": [
              "<keras.layers.regularization.dropout.Dropout at 0x7fd20730c2b0>"
            ]
          },
          "metadata": {},
          "execution_count": 6
        }
      ]
    },
    {
      "cell_type": "markdown",
      "source": [
        "### **4-4. 배치 정규화**\n",
        "- 배치 정규화: 각 층에서 활성화 함수를 통과하기 전 미니 배치의 스케일을 정규화하는 것으로, 다음 층으로 데이터를 전달하기 전에 스케일을 조정하기 때문에 보다 안정적이고 성능이 뛰어난 모델을 훈련시킬 수 있음 \n",
        "\n",
        "- 케라스에서 클래스 함수로 지원하기 때문에 별도의 코드 구현이 필요하지 않고 클래스 인스턴스를 생성해 추가 가능 "
      ],
      "metadata": {
        "id": "nkx6PfqsQ9ml"
      }
    },
    {
      "cell_type": "code",
      "source": [
        "# model A: Dense+ReLu\n",
        "model_a = tf.keras.Sequential([\n",
        "    tf.keras.layers.Flatten(input_shape=(28, 28)),\n",
        "    tf.keras.layers.Dense(64, activation='relu'),\n",
        "    tf.keras.layers.Dense(32, activation='relu'),\n",
        "    tf.keras.layers.Dense(10, activation='softmax')\n",
        "])\n",
        "model_a.summary()"
      ],
      "metadata": {
        "id": "fMlQjn4yQM2B",
        "colab": {
          "base_uri": "https://localhost:8080/"
        },
        "outputId": "e09733e7-7511-41f0-c274-62533afddf98"
      },
      "execution_count": 9,
      "outputs": [
        {
          "output_type": "stream",
          "name": "stdout",
          "text": [
            "Model: \"sequential_2\"\n",
            "_________________________________________________________________\n",
            " Layer (type)                Output Shape              Param #   \n",
            "=================================================================\n",
            " flatten_2 (Flatten)         (None, 784)               0         \n",
            "                                                                 \n",
            " dense_12 (Dense)            (None, 64)                50240     \n",
            "                                                                 \n",
            " dense_13 (Dense)            (None, 32)                2080      \n",
            "                                                                 \n",
            " dense_14 (Dense)            (None, 10)                330       \n",
            "                                                                 \n",
            "=================================================================\n",
            "Total params: 52,650\n",
            "Trainable params: 52,650\n",
            "Non-trainable params: 0\n",
            "_________________________________________________________________\n"
          ]
        }
      ]
    },
    {
      "cell_type": "code",
      "source": [
        "# model B: Dense+BatchNorm+ReLU\n",
        "model_b = tf.keras.Sequential([\n",
        "    tf.keras.layers.Flatten(input_shape=(28, 28)),\n",
        "    tf.keras.layers.Dense(64),\n",
        "    # 배치 정규화 적용\n",
        "    tf.keras.layers.BatchNormalization(),\n",
        "    # 배치 정규화 후 활성화 함수 적용\n",
        "    tf.keras.layers.Activation('relu'),\n",
        "\n",
        "    tf.keras.layers.Dense(32),\n",
        "    # 배치 정규화 적용\n",
        "    tf.keras.layers.BatchNormalization(),\n",
        "    # 배치 정규화 후 활성화 함수 적용\n",
        "    tf.keras.layers.Activation('relu'),\n",
        "\n",
        "    tf.keras.layers.Dense(10, activation='softmax')\n",
        "])\n",
        "model_b.summary()"
      ],
      "metadata": {
        "id": "9yUQGErIQORY",
        "colab": {
          "base_uri": "https://localhost:8080/"
        },
        "outputId": "e1802fe8-aff0-41d0-eac3-00280b3eb24f"
      },
      "execution_count": 8,
      "outputs": [
        {
          "output_type": "stream",
          "name": "stdout",
          "text": [
            "Model: \"sequential_1\"\n",
            "_________________________________________________________________\n",
            " Layer (type)                Output Shape              Param #   \n",
            "=================================================================\n",
            " flatten_1 (Flatten)         (None, 784)               0         \n",
            "                                                                 \n",
            " dense_9 (Dense)             (None, 64)                50240     \n",
            "                                                                 \n",
            " batch_normalization (BatchN  (None, 64)               256       \n",
            " ormalization)                                                   \n",
            "                                                                 \n",
            " activation (Activation)     (None, 64)                0         \n",
            "                                                                 \n",
            " dense_10 (Dense)            (None, 32)                2080      \n",
            "                                                                 \n",
            " batch_normalization_1 (Batc  (None, 32)               128       \n",
            " hNormalization)                                                 \n",
            "                                                                 \n",
            " activation_1 (Activation)   (None, 32)                0         \n",
            "                                                                 \n",
            " dense_11 (Dense)            (None, 10)                330       \n",
            "                                                                 \n",
            "=================================================================\n",
            "Total params: 53,034\n",
            "Trainable params: 52,842\n",
            "Non-trainable params: 192\n",
            "_________________________________________________________________\n"
          ]
        }
      ]
    },
    {
      "cell_type": "markdown",
      "source": [
        "> - 결과를 살펴보면, 배치 정규화만 추가해도 손실이 이전 대비 안정적이고 빠르게 수렴하는 것을 확인 가능 \n",
        "\n",
        "\n",
        "----\n",
        "\n",
        "### **4-5. 활성화 함수**\n",
        "- 클래스 인스턴스로 선언하여 하이퍼파라미터 값을 변경하여 적용 가능 "
      ],
      "metadata": {
        "id": "nSXA6UXxR_ov"
      }
    },
    {
      "cell_type": "code",
      "source": [
        "# LeakyReLU 기본 설정\n",
        "tf.keras.layers.LeakyReLU()\n",
        "\n",
        "# LeakyReLU, alpha=0.2로 변경\n",
        "tf.keras.layers.LeakyReLU(alpha=0.2)"
      ],
      "metadata": {
        "id": "SlsUfb5UQP4n",
        "colab": {
          "base_uri": "https://localhost:8080/"
        },
        "outputId": "9b6043df-bb48-439f-c67d-1a602e00bbe4"
      },
      "execution_count": 10,
      "outputs": [
        {
          "output_type": "execute_result",
          "data": {
            "text/plain": [
              "<keras.layers.activation.leaky_relu.LeakyReLU at 0x7fd17caac6a0>"
            ]
          },
          "metadata": {},
          "execution_count": 10
        }
      ]
    },
    {
      "cell_type": "code",
      "source": [
        "# model C: Dense+BatchNorm+LeakyReLU(0,2)\n",
        "model_c = tf.keras.Sequential([\n",
        "    tf.keras.layers.Flatten(input_shape=(28, 28)),\n",
        "    tf.keras.layers.Dense(64),\n",
        "    # 배치 정규화 적용\n",
        "    tf.keras.layers.BatchNormalization(),\n",
        "    # LeakyReLU, alpha=0.2 적용\n",
        "    tf.keras.layers.LeakyReLU(alpha=0.2),\n",
        "\n",
        "    tf.keras.layers.Dense(32),\n",
        "    # 배치 정규화 적용\n",
        "    tf.keras.layers.BatchNormalization(),\n",
        "    # LeakyReLU, alpha=0.2 적용\n",
        "    tf.keras.layers.LeakyReLU(alpha=0.2),\n",
        "\n",
        "    tf.keras.layers.Dense(10, activation='softmax')\n",
        "])\n",
        "\n",
        "# 모델 요약\n",
        "model_c.summary()"
      ],
      "metadata": {
        "id": "He7fIUrIQSeD",
        "colab": {
          "base_uri": "https://localhost:8080/"
        },
        "outputId": "f584d274-b96a-4c76-e40a-8df2d2e4a3b8"
      },
      "execution_count": 11,
      "outputs": [
        {
          "output_type": "stream",
          "name": "stdout",
          "text": [
            "Model: \"sequential_3\"\n",
            "_________________________________________________________________\n",
            " Layer (type)                Output Shape              Param #   \n",
            "=================================================================\n",
            " flatten_3 (Flatten)         (None, 784)               0         \n",
            "                                                                 \n",
            " dense_15 (Dense)            (None, 64)                50240     \n",
            "                                                                 \n",
            " batch_normalization_2 (Batc  (None, 64)               256       \n",
            " hNormalization)                                                 \n",
            "                                                                 \n",
            " leaky_re_lu_2 (LeakyReLU)   (None, 64)                0         \n",
            "                                                                 \n",
            " dense_16 (Dense)            (None, 32)                2080      \n",
            "                                                                 \n",
            " batch_normalization_3 (Batc  (None, 32)               128       \n",
            " hNormalization)                                                 \n",
            "                                                                 \n",
            " leaky_re_lu_3 (LeakyReLU)   (None, 32)                0         \n",
            "                                                                 \n",
            " dense_17 (Dense)            (None, 10)                330       \n",
            "                                                                 \n",
            "=================================================================\n",
            "Total params: 53,034\n",
            "Trainable params: 52,842\n",
            "Non-trainable params: 192\n",
            "_________________________________________________________________\n"
          ]
        }
      ]
    },
    {
      "cell_type": "markdown",
      "source": [
        "> - 세 모델의 손실 수렴 속도 확인\n",
        "    + a: Dense 레이어 + ReLU 활성화 함수\n",
        "    + b: Dense 레이어 + 배치 정규화\n",
        "    + c: Dense 레이어 + 배치 정규화 + LeakyReLU(0.2) 활성화 함수 "
      ],
      "metadata": {
        "id": "Q0MQf5QfSnYZ"
      }
    },
    {
      "cell_type": "code",
      "source": [
        "model_a.compile(optimizer='adam', loss='sparse_categorical_crossentropy', metrics=['accuracy'])\n",
        "model_b.compile(optimizer='adam', loss='sparse_categorical_crossentropy', metrics=['accuracy'])\n",
        "model_c.compile(optimizer='adam', loss='sparse_categorical_crossentropy', metrics=['accuracy'])\n",
        "\n",
        "# Model A : Dense + ReLU\n",
        "history_a = model_a.fit(x_train, y_train,\n",
        "                      validation_data=(x_test, y_test), epochs=10)\n",
        "# Model B : Dense + BatchNorm + ReLU\n",
        "history_b = model_b.fit(x_train, y_train,\n",
        "                      validation_data=(x_test, y_test), epochs=10)\n",
        "# Model C : Dense + BatchNorm + LeakyReLU(0,2)\n",
        "history_c = model_c.fit(x_train, y_train,\n",
        "                      validation_data=(x_test, y_test), epochs=10)"
      ],
      "metadata": {
        "id": "BnVtWbRuQX1r",
        "colab": {
          "base_uri": "https://localhost:8080/"
        },
        "outputId": "4a2d9893-2aca-4c13-d728-44507a4029ba"
      },
      "execution_count": 14,
      "outputs": [
        {
          "output_type": "stream",
          "name": "stdout",
          "text": [
            "Epoch 1/10\n",
            "1875/1875 [==============================] - 15s 8ms/step - loss: 0.0295 - accuracy: 0.9902 - val_loss: 0.0979 - val_accuracy: 0.9737\n",
            "Epoch 2/10\n",
            "1875/1875 [==============================] - 18s 10ms/step - loss: 0.0236 - accuracy: 0.9924 - val_loss: 0.0965 - val_accuracy: 0.9766\n",
            "Epoch 3/10\n",
            "1875/1875 [==============================] - 12s 6ms/step - loss: 0.0225 - accuracy: 0.9924 - val_loss: 0.1144 - val_accuracy: 0.9752\n",
            "Epoch 4/10\n",
            "1875/1875 [==============================] - 8s 4ms/step - loss: 0.0203 - accuracy: 0.9930 - val_loss: 0.1028 - val_accuracy: 0.9763\n",
            "Epoch 5/10\n",
            "1875/1875 [==============================] - 9s 5ms/step - loss: 0.0179 - accuracy: 0.9939 - val_loss: 0.1114 - val_accuracy: 0.9751\n",
            "Epoch 6/10\n",
            "1875/1875 [==============================] - 7s 4ms/step - loss: 0.0160 - accuracy: 0.9943 - val_loss: 0.1201 - val_accuracy: 0.9722\n",
            "Epoch 7/10\n",
            "1875/1875 [==============================] - 8s 4ms/step - loss: 0.0170 - accuracy: 0.9938 - val_loss: 0.1090 - val_accuracy: 0.9750\n",
            "Epoch 8/10\n",
            "1875/1875 [==============================] - 8s 4ms/step - loss: 0.0161 - accuracy: 0.9947 - val_loss: 0.1263 - val_accuracy: 0.9739\n",
            "Epoch 9/10\n",
            "1875/1875 [==============================] - 8s 4ms/step - loss: 0.0133 - accuracy: 0.9952 - val_loss: 0.1230 - val_accuracy: 0.9750\n",
            "Epoch 10/10\n",
            "1875/1875 [==============================] - 8s 4ms/step - loss: 0.0130 - accuracy: 0.9955 - val_loss: 0.1301 - val_accuracy: 0.9770\n",
            "Epoch 1/10\n",
            "1875/1875 [==============================] - 13s 6ms/step - loss: 0.0502 - accuracy: 0.9834 - val_loss: 0.0750 - val_accuracy: 0.9789\n",
            "Epoch 2/10\n",
            "1875/1875 [==============================] - 10s 5ms/step - loss: 0.0483 - accuracy: 0.9840 - val_loss: 0.0712 - val_accuracy: 0.9805\n",
            "Epoch 3/10\n",
            "1875/1875 [==============================] - 10s 6ms/step - loss: 0.0448 - accuracy: 0.9849 - val_loss: 0.0752 - val_accuracy: 0.9787\n",
            "Epoch 4/10\n",
            "1875/1875 [==============================] - 10s 5ms/step - loss: 0.0443 - accuracy: 0.9849 - val_loss: 0.0800 - val_accuracy: 0.9774\n",
            "Epoch 5/10\n",
            "1875/1875 [==============================] - 10s 5ms/step - loss: 0.0400 - accuracy: 0.9869 - val_loss: 0.0774 - val_accuracy: 0.9783\n",
            "Epoch 6/10\n",
            "1875/1875 [==============================] - 8s 4ms/step - loss: 0.0403 - accuracy: 0.9861 - val_loss: 0.0773 - val_accuracy: 0.9791\n",
            "Epoch 7/10\n",
            "1875/1875 [==============================] - 9s 5ms/step - loss: 0.0358 - accuracy: 0.9877 - val_loss: 0.0765 - val_accuracy: 0.9782\n",
            "Epoch 8/10\n",
            "1875/1875 [==============================] - 10s 5ms/step - loss: 0.0362 - accuracy: 0.9878 - val_loss: 0.0760 - val_accuracy: 0.9796\n",
            "Epoch 9/10\n",
            "1875/1875 [==============================] - 8s 4ms/step - loss: 0.0361 - accuracy: 0.9878 - val_loss: 0.0715 - val_accuracy: 0.9804\n",
            "Epoch 10/10\n",
            "1875/1875 [==============================] - 17s 9ms/step - loss: 0.0325 - accuracy: 0.9890 - val_loss: 0.0787 - val_accuracy: 0.9793\n",
            "Epoch 1/10\n",
            "1875/1875 [==============================] - 17s 7ms/step - loss: 0.0624 - accuracy: 0.9794 - val_loss: 0.0768 - val_accuracy: 0.9775\n",
            "Epoch 2/10\n",
            "1875/1875 [==============================] - 14s 7ms/step - loss: 0.0590 - accuracy: 0.9801 - val_loss: 0.0853 - val_accuracy: 0.9750\n",
            "Epoch 3/10\n",
            "1875/1875 [==============================] - 18s 10ms/step - loss: 0.0545 - accuracy: 0.9818 - val_loss: 0.0852 - val_accuracy: 0.9762\n",
            "Epoch 4/10\n",
            "1875/1875 [==============================] - 18s 9ms/step - loss: 0.0538 - accuracy: 0.9823 - val_loss: 0.0851 - val_accuracy: 0.9746\n",
            "Epoch 5/10\n",
            "1875/1875 [==============================] - 14s 8ms/step - loss: 0.0513 - accuracy: 0.9829 - val_loss: 0.0845 - val_accuracy: 0.9759\n",
            "Epoch 6/10\n",
            "1875/1875 [==============================] - 14s 8ms/step - loss: 0.0498 - accuracy: 0.9832 - val_loss: 0.0805 - val_accuracy: 0.9771\n",
            "Epoch 7/10\n",
            "1875/1875 [==============================] - 10s 5ms/step - loss: 0.0463 - accuracy: 0.9846 - val_loss: 0.0858 - val_accuracy: 0.9767\n",
            "Epoch 8/10\n",
            "1875/1875 [==============================] - 15s 8ms/step - loss: 0.0468 - accuracy: 0.9844 - val_loss: 0.0850 - val_accuracy: 0.9758\n",
            "Epoch 9/10\n",
            "1875/1875 [==============================] - 14s 7ms/step - loss: 0.0434 - accuracy: 0.9854 - val_loss: 0.0912 - val_accuracy: 0.9747\n",
            "Epoch 10/10\n",
            "1875/1875 [==============================] - 14s 7ms/step - loss: 0.0444 - accuracy: 0.9849 - val_loss: 0.0860 - val_accuracy: 0.9763\n"
          ]
        }
      ]
    },
    {
      "cell_type": "markdown",
      "source": [
        "> - 시각화로 epoch별 검증 손실의 감소 추이 확인 "
      ],
      "metadata": {
        "id": "3sIWiGlIS9Od"
      }
    },
    {
      "cell_type": "code",
      "source": [
        "import matplotlib.pyplot as plt\n",
        "import numpy as np\n",
        "\n",
        "plt.figure(figsize=(12, 9))\n",
        "plt.plot(np.arange(1, 11), history_a.history['val_loss'], color='navy', linestyle=':')\n",
        "plt.plot(np.arange(1, 11), history_b.history['val_loss'], color='tomato', linestyle='-.')\n",
        "plt.plot(np.arange(1, 11), history_c.history['val_loss'], color='green', linestyle='-')\n",
        "\n",
        "plt.title('Losses', fontsize=20)\n",
        "plt.xlabel('epochs')\n",
        "plt.ylabel('Losses')\n",
        "plt.legend(['ReLU', 'BatchNorm+ReLU', 'BatchNorm+LeakyReLU'], fontsize=12)\n",
        "plt.show()"
      ],
      "metadata": {
        "colab": {
          "base_uri": "https://localhost:8080/",
          "height": 668
        },
        "id": "itU5FTrRTDNN",
        "outputId": "953a8f4d-0ebf-45d5-aa62-c04336fc351f"
      },
      "execution_count": 16,
      "outputs": [
        {
          "output_type": "display_data",
          "data": {
            "text/plain": [
              "<Figure size 1200x900 with 1 Axes>"
            ],
            "image/png": "[encoded data removed]"
          },
          "metadata": {}
        }
      ]
    },
    {
      "cell_type": "markdown",
      "source": [
        "## **06. 모델 저장 및 불러오기**\n",
        "\n",
        "----\n",
        "### **6-1. 모델을 파일로 저장**\n",
        "- 훈련을 종료하여 가중치가 업데이트된 모델 인스턴스 저장 가능: save() 메소드 이용\n",
        "  + HDF5 포맷과 SavedModel 포맷 방법\n",
        "  + HDF5: 대용량 데이터 저장"
      ],
      "metadata": {
        "id": "0o_XwLnJTOlh"
      }
    },
    {
      "cell_type": "code",
      "source": [
        "# 모델을 h5 포맷으로 저장\n",
        "model_b.save('h5-model.h5')"
      ],
      "metadata": {
        "id": "oUnOqFoXVvau"
      },
      "execution_count": 17,
      "outputs": []
    },
    {
      "cell_type": "markdown",
      "source": [
        "### **6-2. 저장된 모델 복원**\n",
        "- tensorflow.kerase.models.load_model() 메소드로 저장된 모델 복원 가능"
      ],
      "metadata": {
        "id": "modX1BlUVxP4"
      }
    },
    {
      "cell_type": "code",
      "source": [
        "# 모델 복원\n",
        "h5_model = tf.keras.models.load_model('h5-model.h5')\n",
        "h5_model.summary()"
      ],
      "metadata": {
        "id": "NO4Uq2q8QbpS",
        "colab": {
          "base_uri": "https://localhost:8080/"
        },
        "outputId": "0aebafcf-2ba6-465b-dacf-c023c4522a08"
      },
      "execution_count": 18,
      "outputs": [
        {
          "output_type": "stream",
          "name": "stdout",
          "text": [
            "Model: \"sequential_1\"\n",
            "_________________________________________________________________\n",
            " Layer (type)                Output Shape              Param #   \n",
            "=================================================================\n",
            " flatten_1 (Flatten)         (None, 784)               0         \n",
            "                                                                 \n",
            " dense_9 (Dense)             (None, 64)                50240     \n",
            "                                                                 \n",
            " batch_normalization (BatchN  (None, 64)               256       \n",
            " ormalization)                                                   \n",
            "                                                                 \n",
            " activation (Activation)     (None, 64)                0         \n",
            "                                                                 \n",
            " dense_10 (Dense)            (None, 32)                2080      \n",
            "                                                                 \n",
            " batch_normalization_1 (Batc  (None, 32)               128       \n",
            " hNormalization)                                                 \n",
            "                                                                 \n",
            " activation_1 (Activation)   (None, 32)                0         \n",
            "                                                                 \n",
            " dense_11 (Dense)            (None, 10)                330       \n",
            "                                                                 \n",
            "=================================================================\n",
            "Total params: 53,034\n",
            "Trainable params: 52,842\n",
            "Non-trainable params: 192\n",
            "_________________________________________________________________\n"
          ]
        }
      ]
    },
    {
      "cell_type": "markdown",
      "source": [
        "- 검증을 통해 모델이 잘 복원되었는지 확인 "
      ],
      "metadata": {
        "id": "UAwFpTOdV9Mk"
      }
    },
    {
      "cell_type": "code",
      "source": [
        "# 모델 검증\n",
        "loss, acc = h5_model.evaluate(x_test, y_test, verbose=0)\n",
        "print(f'h5_model] loss: {loss:.5f}, acc: {acc:.5f}')"
      ],
      "metadata": {
        "id": "X5JpjZ2gQcrK",
        "colab": {
          "base_uri": "https://localhost:8080/"
        },
        "outputId": "85027866-9e16-4661-bc02-293eaef35ca1"
      },
      "execution_count": 19,
      "outputs": [
        {
          "output_type": "stream",
          "name": "stdout",
          "text": [
            "h5_model] loss: 0.07866, acc: 0.97930\n"
          ]
        }
      ]
    },
    {
      "cell_type": "markdown",
      "source": [
        "- 확장자를 생략하면 텐서플로2에서 기본으로 지원하는 파일 포맷인 SavedModel 포맷으로 저장"
      ],
      "metadata": {
        "id": "S4jt5_qYWDOt"
      }
    },
    {
      "cell_type": "code",
      "source": [
        "# 모델을 SavedModel 포맷으로 저장\n",
        "model_b.save('saved-model')"
      ],
      "metadata": {
        "id": "8fH80NsXQdnU",
        "colab": {
          "base_uri": "https://localhost:8080/"
        },
        "outputId": "57ce414e-84d1-4eab-c767-bb725bd1993a"
      },
      "execution_count": 20,
      "outputs": [
        {
          "output_type": "stream",
          "name": "stderr",
          "text": [
            "WARNING:absl:Found untraced functions such as _update_step_xla while saving (showing 1 of 1). These functions will not be directly callable after loading.\n"
          ]
        }
      ]
    },
    {
      "cell_type": "code",
      "source": [
        "# 모델 복원\n",
        "saved_model = tf.keras.models.load_model('saved-model')\n",
        "saved_model.summary()"
      ],
      "metadata": {
        "id": "j0MdiyrWQe1m",
        "colab": {
          "base_uri": "https://localhost:8080/"
        },
        "outputId": "a25b85f1-6aa4-462b-b4c1-0f2717f7be82"
      },
      "execution_count": 21,
      "outputs": [
        {
          "output_type": "stream",
          "name": "stdout",
          "text": [
            "Model: \"sequential_1\"\n",
            "_________________________________________________________________\n",
            " Layer (type)                Output Shape              Param #   \n",
            "=================================================================\n",
            " flatten_1 (Flatten)         (None, 784)               0         \n",
            "                                                                 \n",
            " dense_9 (Dense)             (None, 64)                50240     \n",
            "                                                                 \n",
            " batch_normalization (BatchN  (None, 64)               256       \n",
            " ormalization)                                                   \n",
            "                                                                 \n",
            " activation (Activation)     (None, 64)                0         \n",
            "                                                                 \n",
            " dense_10 (Dense)            (None, 32)                2080      \n",
            "                                                                 \n",
            " batch_normalization_1 (Batc  (None, 32)               128       \n",
            " hNormalization)                                                 \n",
            "                                                                 \n",
            " activation_1 (Activation)   (None, 32)                0         \n",
            "                                                                 \n",
            " dense_11 (Dense)            (None, 10)                330       \n",
            "                                                                 \n",
            "=================================================================\n",
            "Total params: 53,034\n",
            "Trainable params: 52,842\n",
            "Non-trainable params: 192\n",
            "_________________________________________________________________\n"
          ]
        }
      ]
    },
    {
      "cell_type": "markdown",
      "source": [
        "- 두 형식 모두 동일한 성능을 보임 "
      ],
      "metadata": {
        "id": "Li7uodjSWWA9"
      }
    },
    {
      "cell_type": "code",
      "source": [
        "# 모델 검증(HDF5 포맷)\n",
        "loss, acc = h5_model.evaluate(x_test, y_test, verbose=0)\n",
        "print(f'h5_model] loss: {loss:.5f}, acc: {acc:.5f}')\n",
        "\n",
        "# 모델 검증(SavedModel 포맷)\n",
        "loss, acc = saved_model.evaluate(x_test, y_test, verbose= 0)\n",
        "print(f'saved_model] loss: {loss:.5f}, acc: {acc:.5f}')"
      ],
      "metadata": {
        "id": "Rn8vJicaQgC6",
        "colab": {
          "base_uri": "https://localhost:8080/"
        },
        "outputId": "3964fc0a-4a2c-4c59-a9d9-0379f8a9ffaf"
      },
      "execution_count": 22,
      "outputs": [
        {
          "output_type": "stream",
          "name": "stdout",
          "text": [
            "h5_model] loss: 0.07866, acc: 0.97930\n",
            "saved_model] loss: 0.07866, acc: 0.97930\n"
          ]
        }
      ]
    },
    {
      "cell_type": "markdown",
      "source": [
        "## **07. 복잡한 모델 생성**\n",
        "### **7-1. 함수형 API**\n",
        "- 다양하고 복잡한 모델 구조 구현 가능\n",
        "  + 다중입력, 다중출력, 여러 개의 층을 같은 레벨에 배치하는 구조"
      ],
      "metadata": {
        "id": "CVqP6okkWdLi"
      }
    },
    {
      "cell_type": "markdown",
      "source": [
        "- 먼저 input 레이어 정의\n",
        "  + 데이터의 입력 형태 정의 "
      ],
      "metadata": {
        "id": "JeutgBLvWwbN"
      }
    },
    {
      "cell_type": "code",
      "source": [
        "import tensorflow as tf\n",
        "\n",
        "# 모델의 레이어를 체인 구조로 연결 input 레이어 정의\n",
        "input_layer = tf.keras.Input(shape=(28, 28), name='InputLayer')\n",
        "\n",
        "# 모델의 레이어를 체인 구조로 연결\n",
        "x1 = tf.keras.layers.Flatten(name='Flatten')(input_layer)\n",
        "x2 = tf.keras.layers.Dense(256, activation='relu', name='Dense1')(x1)\n",
        "x3 = tf.keras.layers.Dense(64, activation='relu', name='Dense2')(x2)\n",
        "x4 = tf.keras.layers.Dense(10, activation='softmax', name='OutputLayer')(x3)"
      ],
      "metadata": {
        "id": "Kts3nhnOQhJf"
      },
      "execution_count": 23,
      "outputs": []
    },
    {
      "cell_type": "markdown",
      "source": [
        "- 레이어마다 name 매개변수로 이름 부여 가능\n",
        "  + summary()로 요약 출력 시 이름이 함께 출력\n",
        "- 체인 방식으로 연결 후 tf.keras.Model()에 입력 레이어와 출력 레이어 정의해 모델 생성 "
      ],
      "metadata": {
        "id": "3sGcovsBW73p"
      }
    },
    {
      "cell_type": "code",
      "source": [
        "# 모델 생성\n",
        "func_model = tf.keras.Model(inputs=input_layer, outputs=x4, name='FunctionalModel')\n",
        "\n",
        "# 모델 요약\n",
        "func_model.summary()"
      ],
      "metadata": {
        "id": "1p488fxHQiBf",
        "colab": {
          "base_uri": "https://localhost:8080/"
        },
        "outputId": "8ac86d6a-324e-43f9-9c1a-d9d5a3d093de"
      },
      "execution_count": 24,
      "outputs": [
        {
          "output_type": "stream",
          "name": "stdout",
          "text": [
            "Model: \"FunctionalModel\"\n",
            "_________________________________________________________________\n",
            " Layer (type)                Output Shape              Param #   \n",
            "=================================================================\n",
            " InputLayer (InputLayer)     [(None, 28, 28)]          0         \n",
            "                                                                 \n",
            " Flatten (Flatten)           (None, 784)               0         \n",
            "                                                                 \n",
            " Dense1 (Dense)              (None, 256)               200960    \n",
            "                                                                 \n",
            " Dense2 (Dense)              (None, 64)                16448     \n",
            "                                                                 \n",
            " OutputLayer (Dense)         (None, 10)                650       \n",
            "                                                                 \n",
            "=================================================================\n",
            "Total params: 218,058\n",
            "Trainable params: 218,058\n",
            "Non-trainable params: 0\n",
            "_________________________________________________________________\n"
          ]
        }
      ]
    },
    {
      "cell_type": "markdown",
      "source": [
        "- 케라스의 유틸 패기지에서 제공하는 plot_model 모듈을 활용해 모델의 구조도 시각화 "
      ],
      "metadata": {
        "id": "H8oXZXyNXIVX"
      }
    },
    {
      "cell_type": "code",
      "source": [
        "from tensorflow.keras.utils import plot_model\n",
        "\n",
        "# 구조도 시각화\n",
        "plot_model(func_model, show_shapes=True, show_layer_names=True, to_file='model.png')"
      ],
      "metadata": {
        "id": "MO1qICOqQjtd",
        "colab": {
          "base_uri": "https://localhost:8080/",
          "height": 533
        },
        "outputId": "53fd5f4f-b65c-4514-cf0e-3a49b355e55f"
      },
      "execution_count": 25,
      "outputs": [
        {
          "output_type": "execute_result",
          "data": {
            "image/png": "[encoded data removed]",
            "text/plain": [
              "<IPython.core.display.Image object>"
            ]
          },
          "metadata": {},
          "execution_count": 25
        }
      ]
    },
    {
      "cell_type": "markdown",
      "source": [
        "- 생성된 모델 인스턴스에 compile() 메소드로 모델을 컴파일하고 fit() 메소드로 훈련, evaluate() 메소드로 검증 수행 "
      ],
      "metadata": {
        "id": "FoOLA3gSXaV8"
      }
    },
    {
      "cell_type": "code",
      "source": [
        "# 컴파일\n",
        "func_model.compile(optimizer='adam', loss='sparse_categorical_crossentropy', metrics=['accuracy'])\n",
        "\n",
        "# 훈련\n",
        "func_model.fit(x_train, y_train, epochs=3)\n",
        "\n",
        "# 검증\n",
        "loss, acc = func_model.evaluate(x_test, y_test, verbose=0)\n",
        "print(f'Functional Model] loss: {loss:.5f}, acc: {acc:.5f}')"
      ],
      "metadata": {
        "id": "6x8-8MBJQkwu",
        "colab": {
          "base_uri": "https://localhost:8080/"
        },
        "outputId": "de88fb6b-6590-4c85-8a4a-bd7231c662a6"
      },
      "execution_count": 26,
      "outputs": [
        {
          "output_type": "stream",
          "name": "stdout",
          "text": [
            "Epoch 1/3\n",
            "1875/1875 [==============================] - 17s 9ms/step - loss: 0.2122 - accuracy: 0.9379\n",
            "Epoch 2/3\n",
            "1875/1875 [==============================] - 19s 10ms/step - loss: 0.0892 - accuracy: 0.9724\n",
            "Epoch 3/3\n",
            "1875/1875 [==============================] - 20s 11ms/step - loss: 0.0608 - accuracy: 0.9809\n",
            "Functional Model] loss: 0.07659, acc: 0.97800\n"
          ]
        }
      ]
    },
    {
      "cell_type": "markdown",
      "source": [
        "### **7-2. 모델 서브클래싱**\n",
        "- 클래스를 직접 상속받아 사용자가 직접 서브클래스로 딥러닝 모델 구현 가능\n",
        "- 함수형 API로 생성한 모델과의 성능 차이는 없음 \n",
        "\n",
        "\n",
        "- tf.keras.Model를 상속받아 생성하고자 하는 모델 클래스 구현\n",
        "- 모델의 `__init__()`함수에 레이어를 정의하고 레이어의 하이퍼파라미터 정의"
      ],
      "metadata": {
        "id": "Lrb_ruCsXn1W"
      }
    },
    {
      "cell_type": "code",
      "source": [
        "class MyModel(tf.keras.Model):\n",
        "  def __init__(self):\n",
        "    super(MyModel, self).__init__()\n",
        "    # 초기값 설정\n",
        "    self.flatten = tf.keras.layers.Flatten()\n",
        "    self.dense1 = tf.keras.layers.Dense(256, activation='relu')\n",
        "    self.dense2 = tf.keras.layers.Dense(64, activation='relu')\n",
        "    self.dense3 = tf.keras.layers.Dense(10, activation='softmax')\n",
        "\n",
        "  # method overiding\n",
        "  # 훈련용 함수 정의\n",
        "  # x는 input\n",
        "  def call(self, x):\n",
        "    x = self.flatten(x)\n",
        "    x = self.dense1(x)\n",
        "    x = self.dense2(x)\n",
        "    x = self.dense3(x)\n",
        "    return x"
      ],
      "metadata": {
        "id": "jI6hobg2Ql7v"
      },
      "execution_count": 27,
      "outputs": []
    },
    {
      "cell_type": "markdown",
      "source": [
        "- call() 함수를 메소드 오버라이딩으로 구현\n",
        "  + call() 메소드: fit() 메소드가 호출되어 훈련하는 경우 호출될 함수\n",
        "  + 모델의 입력부터 출력까지의 흐름, 순전파를 정의하고 모든 레이어를 체인처럼 연결 후 최종 출력 값을 return "
      ],
      "metadata": {
        "id": "XpzPaMPbYJ-E"
      }
    },
    {
      "cell_type": "code",
      "source": [
        "# 모델 생성\n",
        "mymodel = MyModel()\n",
        "\n",
        "# 모델의 이름 설정\n",
        "mymodel._name = 'subclass_model'\n",
        "\n",
        "# 모델 input 정의\n",
        "mymodel(tf.keras.layers.Input(shape=(28, 28)))\n",
        "\n",
        "# 모델 요약\n",
        "mymodel.summary()"
      ],
      "metadata": {
        "id": "cFbNb3CJQnTL",
        "colab": {
          "base_uri": "https://localhost:8080/"
        },
        "outputId": "f3595fc6-9654-4fa8-fc5e-8ac6a2d0443e"
      },
      "execution_count": 28,
      "outputs": [
        {
          "output_type": "stream",
          "name": "stdout",
          "text": [
            "Model: \"subclass_model\"\n",
            "_________________________________________________________________\n",
            " Layer (type)                Output Shape              Param #   \n",
            "=================================================================\n",
            " flatten_4 (Flatten)         multiple                  0         \n",
            "                                                                 \n",
            " dense_18 (Dense)            multiple                  200960    \n",
            "                                                                 \n",
            " dense_19 (Dense)            multiple                  16448     \n",
            "                                                                 \n",
            " dense_20 (Dense)            multiple                  650       \n",
            "                                                                 \n",
            "=================================================================\n",
            "Total params: 218,058\n",
            "Trainable params: 218,058\n",
            "Non-trainable params: 0\n",
            "_________________________________________________________________\n"
          ]
        }
      ]
    },
    {
      "cell_type": "markdown",
      "source": [
        "- MyModel을 생성자로 인스턴스 생성\n",
        "- 생성자로 객체를 생성해 저장한 mymodel 변수에 바로 summary()로 요약 출력하는 것은 불가능\n",
        "  + input_shape이 정의되지 않아 전체 모델의 구조를 생성하지 못하기 때문 "
      ],
      "metadata": {
        "id": "tZ8Nf8tXYZ_o"
      }
    },
    {
      "cell_type": "code",
      "source": [
        "# 컴파일\n",
        "mymodel.compile(optimizer='adam', loss='sparse_categorical_crossentropy', metrics=['accuracy'])\n",
        "\n",
        "# 훈련\n",
        "mymodel.fit(x_train, y_train, epochs=3)\n",
        "\n",
        "# 검증\n",
        "loss, acc = mymodel.evaluate(x_test, y_test, verbose=0)\n",
        "print(f'Subclassing Model] loss: {loss:.5f}, acc: {acc:.5f}')"
      ],
      "metadata": {
        "id": "dPjgddpKQpfW",
        "colab": {
          "base_uri": "https://localhost:8080/"
        },
        "outputId": "5a6fb05f-8cb0-4ae8-e882-f9dde52b26fc"
      },
      "execution_count": 29,
      "outputs": [
        {
          "output_type": "stream",
          "name": "stdout",
          "text": [
            "Epoch 1/3\n",
            "1875/1875 [==============================] - 14s 7ms/step - loss: 0.2152 - accuracy: 0.9355\n",
            "Epoch 2/3\n",
            "1875/1875 [==============================] - 12s 6ms/step - loss: 0.0895 - accuracy: 0.9723\n",
            "Epoch 3/3\n",
            "1875/1875 [==============================] - 12s 6ms/step - loss: 0.0597 - accuracy: 0.9816\n",
            "Subclassing Model] loss: 0.09081, acc: 0.97250\n"
          ]
        }
      ]
    },
    {
      "cell_type": "markdown",
      "source": [
        "### **7-3. 서브클래싱 모델 파라미터를 활용한 생성**\n",
        "- Model Subclassing은 장점으로 생성자 파라미터로 모델 내부 레이어의 하이퍼파라미터를 지정할 수 있음\n",
        "  + 모델의 생성자 파라미터를 추가하여 동적으로 레이어의 유닛 개수를 초기화하는 예제 "
      ],
      "metadata": {
        "id": "eGgoUf0OaKUQ"
      }
    },
    {
      "cell_type": "code",
      "source": [
        "class MyModel(tf.keras.Model):\n",
        "\n",
        "  # 생성자 파라미터 추가\n",
        "  def __init__(self, units, num_classes):\n",
        "    super(MyModel, self).__init__()\n",
        "    # 초기값 설정\n",
        "    self.flatten = tf.keras.layers.Flatten()\n",
        "    self.dense1 = tf.keras.layers.Dense(units, activation='relu')\n",
        "    self.dense2 = tf.keras.layers.Dense(units/4, activation='relu')\n",
        "    self.dense3 = tf.keras.layers.Dense(num_classes, activation='softmax')\n",
        "\n",
        "  # class overiding\n",
        "  # 훈련용 함수 정의\n",
        "  # x는 input\n",
        "  def call(self, x):\n",
        "    x = self.flatten(x)\n",
        "    x = self.dense1(x)\n",
        "    x = self.dense2(x)\n",
        "    x = self.dense3(x)\n",
        "    return x"
      ],
      "metadata": {
        "id": "oQ8qJqzxQqzf"
      },
      "execution_count": 30,
      "outputs": []
    },
    {
      "cell_type": "markdown",
      "source": [
        "- 모델의 생성자 파라미터로 기준이 되는 unit의 개수를 입력받아 Dense 레이어의 유닛 개수를 계산하여 결정 "
      ],
      "metadata": {
        "id": "mVCItYKnajzD"
      }
    },
    {
      "cell_type": "code",
      "source": [
        "# 모델 생성\n",
        "mymodel = MyModel(256, 10)\n",
        "\n",
        "# 모델 input 정의\n",
        "mymodel(tf.keras.layers.Input(shape=(28, 28)))\n",
        "\n",
        "# 모델 요약\n",
        "mymodel.summary()"
      ],
      "metadata": {
        "id": "x5huPxFTQr0I",
        "colab": {
          "base_uri": "https://localhost:8080/"
        },
        "outputId": "cd7e43a8-0f41-462e-bcf4-a2c8a98b8833"
      },
      "execution_count": 31,
      "outputs": [
        {
          "output_type": "stream",
          "name": "stdout",
          "text": [
            "Model: \"my_model_1\"\n",
            "_________________________________________________________________\n",
            " Layer (type)                Output Shape              Param #   \n",
            "=================================================================\n",
            " flatten_5 (Flatten)         multiple                  0         \n",
            "                                                                 \n",
            " dense_21 (Dense)            multiple                  200960    \n",
            "                                                                 \n",
            " dense_22 (Dense)            multiple                  16448     \n",
            "                                                                 \n",
            " dense_23 (Dense)            multiple                  650       \n",
            "                                                                 \n",
            "=================================================================\n",
            "Total params: 218,058\n",
            "Trainable params: 218,058\n",
            "Non-trainable params: 0\n",
            "_________________________________________________________________\n"
          ]
        }
      ]
    },
    {
      "cell_type": "markdown",
      "source": [
        "- 동적으로 설정한 레이어의 파라미터가 초기화된 것을 확인 "
      ],
      "metadata": {
        "id": "et1HqGaBascY"
      }
    },
    {
      "cell_type": "code",
      "source": [
        "# 컴파일\n",
        "mymodel.compile(optimizer='adam', loss='sparse_categorical_crossentropy', metrics=['accuracy'])\n",
        "\n",
        "# 훈련\n",
        "mymodel.fit(x_train, y_train, epochs=3)\n",
        "\n",
        "# 검증\n",
        "loss, acc = mymodel.evaluate(x_test, y_test, verbose=0)\n",
        "print(f'Subclassing Model w.parameters] loss: {loss:.5f}, acc: {acc:.5f}')"
      ],
      "metadata": {
        "id": "t0gGoQbBQszd",
        "colab": {
          "base_uri": "https://localhost:8080/"
        },
        "outputId": "20514080-d954-41a8-9c46-2e32185a9652"
      },
      "execution_count": 32,
      "outputs": [
        {
          "output_type": "stream",
          "name": "stdout",
          "text": [
            "Epoch 1/3\n",
            "1875/1875 [==============================] - 13s 6ms/step - loss: 0.2178 - accuracy: 0.9348\n",
            "Epoch 2/3\n",
            "1875/1875 [==============================] - 11s 6ms/step - loss: 0.0881 - accuracy: 0.9726\n",
            "Epoch 3/3\n",
            "1875/1875 [==============================] - 10s 6ms/step - loss: 0.0606 - accuracy: 0.9816\n",
            "Subclassing Model w.parameters] loss: 0.08282, acc: 0.97350\n"
          ]
        }
      ]
    }
  ]
}